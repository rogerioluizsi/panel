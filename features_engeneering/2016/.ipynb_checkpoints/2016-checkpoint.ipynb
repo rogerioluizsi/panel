{
 "cells": [
  {
   "cell_type": "code",
   "execution_count": 1,
   "metadata": {
    "ExecuteTime": {
     "end_time": "2020-07-05T17:43:48.520176Z",
     "start_time": "2020-07-05T17:43:43.535912Z"
    }
   },
   "outputs": [],
   "source": [
    "import time\n",
    "import pandas as pd\n",
    "import numpy as np\n",
    "import warnings\n",
    "import feather\n",
    "warnings.filterwarnings('ignore')\n",
    "from pandas.api.types import is_string_dtype\n",
    "from pandas.api.types import is_numeric_dtype\n",
    "pd.set_option('display.max_columns', None)"
   ]
  },
  {
   "cell_type": "markdown",
   "metadata": {},
   "source": [
    "There are many insignificant features to our work, like codes, PK, FK and out of context. \n",
    "Based on prior works and experience of especialists, will be taken off nonsense features. \n",
    "A study was carried out on the evolution and correspondence of these resources in the ENEM and Census\n",
    "data for the period 2009-2018. See (featuresOrganisaton.xls)"
   ]
  },
  {
   "cell_type": "code",
   "execution_count": 2,
   "metadata": {
    "ExecuteTime": {
     "end_time": "2020-07-05T17:43:48.544799Z",
     "start_time": "2020-07-05T17:43:48.525744Z"
    }
   },
   "outputs": [],
   "source": [
    "teacher = ['CO_PESSOA_FISICA', 'CO_ENTIDADE','IN_ESPECIALIZACAO','IN_MESTRADO','IN_DOUTORADO']\n",
    "school = ['NU_ANO_CENSO','CO_ENTIDADE', 'CO_MUNICIPIO','CO_UF','TP_DEPENDENCIA','IN_AGUA_INEXISTENTE',\n",
    "                  'IN_ESGOTO_INEXISTENTE','IN_ENERGIA_INEXISTENTE',\n",
    "                   'IN_LABORATORIO_INFORMATICA','IN_LABORATORIO_CIENCIAS','IN_SALA_ATENDIMENTO_ESPECIAL',\n",
    "                   'IN_BIBLIOTECA','IN_SALA_LEITURA','IN_BANHEIRO_FORA_PREDIO',\n",
    "                   'IN_BANHEIRO_PNE','IN_DEPENDENCIAS_PNE','NU_SALAS_UTILIZADAS','NU_EQUIP_TV',\n",
    "                   'NU_EQUIP_DVD','NU_EQUIP_COPIADORA','NU_EQUIP_IMPRESSORA','NU_COMP_ADMINISTRATIVO',\n",
    "                   'NU_COMP_ALUNO','IN_INTERNET','IN_BANDA_LARGA','NU_FUNCIONARIOS','IN_ALIMENTACAO']\n",
    "\n",
    "enem = ['NU_ANO','CO_ESCOLA','TP_ENSINO','NU_IDADE','TP_SEXO','TP_COR_RACA','TP_ST_CONCLUSAO','NU_NOTA_CN',\n",
    "        'NU_NOTA_CH','NU_NOTA_LC','NU_NOTA_MT','NU_NOTA_REDACAO','Q001','Q002','Q005','Q006'\n",
    "]\n"
   ]
  },
  {
   "cell_type": "code",
   "execution_count": 3,
   "metadata": {
    "ExecuteTime": {
     "end_time": "2020-07-05T17:50:44.737472Z",
     "start_time": "2020-07-05T17:43:48.550994Z"
    }
   },
   "outputs": [],
   "source": [
    "#Students of ENEM\n",
    "E = pd.read_csv('~/data/enem/2016/DADOS/microdados_enem_2016.csv', sep=';', encoding=\"iso-8859-2\", usecols=enem)"
   ]
  },
  {
   "cell_type": "code",
   "execution_count": 4,
   "metadata": {
    "ExecuteTime": {
     "end_time": "2020-07-05T17:50:51.182396Z",
     "start_time": "2020-07-05T17:50:44.744071Z"
    }
   },
   "outputs": [],
   "source": [
    "#School census data\n",
    "CE =pd.read_csv(\"~/data/censo/2016/DADOS/ESCOLAS.CSV\", sep='|', encoding=\"iso-8859-2\", usecols= school)"
   ]
  },
  {
   "cell_type": "code",
   "execution_count": 5,
   "metadata": {
    "ExecuteTime": {
     "end_time": "2020-07-05T17:54:48.022836Z",
     "start_time": "2020-07-05T17:50:51.188125Z"
    }
   },
   "outputs": [],
   "source": [
    "#Teacher census data by Braazilian mesoregion\n",
    "CD_CO = pd.read_csv(\"~/data/censo/2016/DADOS/DOCENTES_CO.CSV\", sep='|', encoding=\"iso-8859-2\", usecols = teacher)\n",
    "CD_NE = pd.read_csv(\"~/data/censo/2016/DADOS/DOCENTES_NORDESTE.CSV\", sep='|', encoding=\"iso-8859-2\", usecols = teacher)\n",
    "CD_N =  pd.read_csv(\"~/data/censo/2016/DADOS/DOCENTES_NORTE.CSV\", sep='|', encoding=\"iso-8859-2\",usecols = teacher)\n",
    "CD_SE = pd.read_csv(\"~/data/censo/2016/DADOS/DOCENTES_SUDESTE.CSV\", sep='|', encoding=\"iso-8859-2\", usecols = teacher)\n",
    "CD_S =  pd.read_csv(\"~/data/censo/2016/DADOS/DOCENTES_SUL.CSV\", sep='|', encoding=\"iso-8859-2\",usecols = teacher)\n",
    "\n",
    "#All teacher census data\n",
    "CT = pd.concat([CD_CO, CD_NE, CD_N, CD_SE, CD_S])"
   ]
  },
  {
   "cell_type": "code",
   "execution_count": 6,
   "metadata": {
    "ExecuteTime": {
     "end_time": "2020-07-05T17:54:50.601414Z",
     "start_time": "2020-07-05T17:54:48.028201Z"
    }
   },
   "outputs": [],
   "source": [
    "ENEM = E.copy()\n",
    "C_SCHOOL = CE.copy()\n",
    "C_TEACHER = CT.copy()"
   ]
  },
  {
   "cell_type": "code",
   "execution_count": 7,
   "metadata": {
    "ExecuteTime": {
     "end_time": "2020-07-05T17:54:52.252573Z",
     "start_time": "2020-07-05T17:54:50.606758Z"
    }
   },
   "outputs": [
    {
     "name": "stdout",
     "output_type": "stream",
     "text": [
      "checking year [2016]\n",
      "checking key float64\n"
     ]
    }
   ],
   "source": [
    "#ordering\n",
    "ENEM = ENEM[enem]\n",
    "\n",
    "newNames = [\n",
    "'CO_ANO',\n",
    "'CO_ESCOLA',\n",
    "'TP_ENSINO',\n",
    "'NU_IDADE',\n",
    "'TP_SEXO',\n",
    "'TP_COR_RACA',\n",
    "'TP_ST_CONCLUSAO',\n",
    "'NU_NOTA_CN',\n",
    "'NU_NOTA_CH',\n",
    "'NU_NOTA_LC',\n",
    "'NU_NOTA_MT',\n",
    "'NU_NOTA_REDACAO',\n",
    "'EDU_PAI',\n",
    "'EDU_MAE',\n",
    "'QT_PESSOAS_CASA',\n",
    "'RENDA_MENSAL'\n",
    "]\n",
    "\n",
    "#Rename\n",
    "ENEM.columns = newNames\n",
    "\n",
    "print('checking year',ENEM.CO_ANO.unique())\n",
    "print('checking key',ENEM.CO_ESCOLA.dtypes)"
   ]
  },
  {
   "cell_type": "code",
   "execution_count": 8,
   "metadata": {
    "ExecuteTime": {
     "end_time": "2020-07-05T17:54:52.372191Z",
     "start_time": "2020-07-05T17:54:52.266104Z"
    }
   },
   "outputs": [
    {
     "name": "stdout",
     "output_type": "stream",
     "text": [
      "Checking year of censo [2016]\n",
      "checking key int64\n"
     ]
    }
   ],
   "source": [
    "C_SCHOOL = C_SCHOOL[school]\n",
    "\n",
    "newNames = ['ANO_CENSO',\n",
    "'CO_ESCOLA',\n",
    " 'CO_MUNICIPIO',\n",
    " 'CO_UF',\n",
    " 'CO_DEPENDENCIA_ADM',\n",
    " 'IN_AGUA_INEXISTENTE',\n",
    " 'IN_ESGOTO_INEXISTENTE',\n",
    " 'IN_ENERGIA_INEXISTENTE',\n",
    " 'IN_LABORATORIO_INFORMATICA',\n",
    " 'IN_LABORATORIO_CIENCIAS',\n",
    " 'IN_SALA_ATENDIMENTO_ESPECIAL',\n",
    " 'IN_BIBLIOTECA',\n",
    " 'IN_SALA_LEITURA',\n",
    " 'IN_BANHEIRO_FORA_PREDIO',\n",
    " 'IN_BANHEIRO_PNE',\n",
    " 'IN_DEPENDENCIAS_PNE',\n",
    " 'QT_SALAS_UTILIZADAS',\n",
    " 'QT_EQUIP_TV',\n",
    " 'QT_EQUIP_DVD',\n",
    " 'QT_EQUIP_COPIADORA',\n",
    " 'QT_EQUIP_IMPRESSORA',\n",
    " 'QT_COM_ADMINISTRATIVO',\n",
    " 'QT_COMP_ALUNO',\n",
    " 'IN_INTERNET',\n",
    " 'IN_BANDA_LARGA',\n",
    " 'QT_FUNCIONARIOS',\n",
    " 'IN_ALIMENTACAO'\n",
    "]\n",
    "\n",
    "#Rename \n",
    "C_SCHOOL.columns =  newNames\n",
    "\n",
    "print('Checking year of censo',C_SCHOOL.ANO_CENSO.unique())\n",
    "C_SCHOOL.drop('ANO_CENSO', axis=1, inplace=True)\n",
    "print('checking key',C_SCHOOL.CO_ESCOLA.dtypes)"
   ]
  },
  {
   "cell_type": "code",
   "execution_count": 9,
   "metadata": {
    "ExecuteTime": {
     "end_time": "2020-07-05T17:54:56.415006Z",
     "start_time": "2020-07-05T17:54:52.382403Z"
    }
   },
   "outputs": [
    {
     "name": "stdout",
     "output_type": "stream",
     "text": [
      "checking key int64\n"
     ]
    }
   ],
   "source": [
    "C_TEACHER = C_TEACHER[teacher]\n",
    "\n",
    "# New default column names for all Datasets\n",
    "newNames = [\n",
    "'CO_PROFESSOR',\n",
    "'CO_ESCOLA',  \n",
    "'IN_ESPECIALIZACAO',\n",
    "'IN_MESTRADO',\n",
    "'IN_DOUTORADO'\n",
    "]\n",
    "#It's necessary drop duplicates whose are teachers in the same school but in different classes. \n",
    "#This way, the teacher appear just one time in each school. \n",
    "C_TEACHER.columns = newNames\n",
    "C_TEACHER.drop_duplicates(subset=['CO_PROFESSOR', 'CO_ESCOLA'], inplace=True)\n",
    "C_TEACHER.drop('CO_PROFESSOR', axis=1, inplace = True)\n",
    "\n",
    "print('checking key',C_TEACHER.CO_ESCOLA.dtypes)"
   ]
  },
  {
   "cell_type": "markdown",
   "metadata": {},
   "source": [
    "### Minimum Scope Definition"
   ]
  },
  {
   "cell_type": "code",
   "execution_count": 10,
   "metadata": {
    "ExecuteTime": {
     "end_time": "2020-07-05T17:54:57.033230Z",
     "start_time": "2020-07-05T17:54:56.417537Z"
    }
   },
   "outputs": [],
   "source": [
    "ENEM.dropna(inplace = True, axis=0, subset = ['CO_ESCOLA'])\n",
    "\n"
   ]
  },
  {
   "cell_type": "code",
   "execution_count": 11,
   "metadata": {
    "ExecuteTime": {
     "end_time": "2020-07-05T17:54:57.092277Z",
     "start_time": "2020-07-05T17:54:57.037383Z"
    }
   },
   "outputs": [
    {
     "data": {
      "text/plain": [
       "TP_ST_CONCLUSAO     0\n",
       "TP_ENSINO          22\n",
       "dtype: int64"
      ]
     },
     "execution_count": 11,
     "metadata": {},
     "output_type": "execute_result"
    }
   ],
   "source": [
    "#should care about the nulls into scope filter features?\n",
    "filters = (['TP_ST_CONCLUSAO', 'TP_ENSINO'])\n",
    "ENEM[filters].isnull().sum()\n",
    "#NO, IT'S LOWER"
   ]
  },
  {
   "cell_type": "code",
   "execution_count": 12,
   "metadata": {
    "ExecuteTime": {
     "end_time": "2020-07-05T17:54:57.776565Z",
     "start_time": "2020-07-05T17:54:57.097653Z"
    }
   },
   "outputs": [
    {
     "name": "stdout",
     "output_type": "stream",
     "text": [
      "drop out 1881282 who not attend regular and prof approachs schools\n"
     ]
    }
   ],
   "source": [
    "print('drop out',((ENEM.TP_ENSINO!= 1)|(ENEM.TP_ENSINO!= 3)).sum(), 'who not attend regular and prof approachs schools')\n",
    "ENEM = ENEM.loc[((ENEM.TP_ENSINO== 1)|(ENEM.TP_ENSINO== 3))]\n",
    "ENEM.drop('TP_ENSINO', inplace = True, axis =1)"
   ]
  },
  {
   "cell_type": "code",
   "execution_count": 13,
   "metadata": {
    "ExecuteTime": {
     "end_time": "2020-07-05T17:54:57.887499Z",
     "start_time": "2020-07-05T17:54:57.780973Z"
    }
   },
   "outputs": [
    {
     "name": "stdout",
     "output_type": "stream",
     "text": [
      "null: NU_NOTA_CN 329911\n",
      "zero: NU_NOTA_CN 591\n",
      "null: NU_NOTA_CH 329911\n",
      "zero: NU_NOTA_CH 277\n",
      "null: NU_NOTA_LC 354144\n",
      "zero: NU_NOTA_LC 709\n",
      "null: NU_NOTA_MT 354144\n",
      "zero: NU_NOTA_MT 1121\n",
      "null: NU_NOTA_REDACAO 354144\n",
      "zero: NU_NOTA_REDACAO 31080\n"
     ]
    }
   ],
   "source": [
    "fields = (['NU_NOTA_CN', 'NU_NOTA_CH','NU_NOTA_LC','NU_NOTA_MT', 'NU_NOTA_REDACAO'])\n",
    "for i in fields:\n",
    "    print ('null:', i, ENEM[i].isnull().sum())\n",
    "    print ('zero:', i, (ENEM[i]== 0).sum())\n",
    "\n",
    "    \n",
    "    #, \"and\", ENEM.I==0)\n"
   ]
  },
  {
   "cell_type": "code",
   "execution_count": 14,
   "metadata": {
    "ExecuteTime": {
     "end_time": "2020-07-05T17:54:58.881674Z",
     "start_time": "2020-07-05T17:54:57.896208Z"
    }
   },
   "outputs": [],
   "source": [
    "ENEM.dropna(inplace = True, axis=0, subset=fields)\n",
    "ENEM = ENEM.loc[~(ENEM[fields] == 0).any(axis=1)]"
   ]
  },
  {
   "cell_type": "code",
   "execution_count": 15,
   "metadata": {
    "ExecuteTime": {
     "end_time": "2020-07-05T17:55:27.116034Z",
     "start_time": "2020-07-05T17:54:58.885654Z"
    }
   },
   "outputs": [
    {
     "name": "stdout",
     "output_type": "stream",
     "text": [
      "null 32\n",
      "taking off 209748\n"
     ]
    },
    {
     "data": {
      "text/plain": [
       "17    721806\n",
       "18    418035\n",
       "19    130492\n",
       "Name: NU_IDADE, dtype: int64"
      ]
     },
     "execution_count": 15,
     "metadata": {},
     "output_type": "execute_result"
    }
   ],
   "source": [
    "#ONLY STUDENTS AT  17 -19 YEAR OLD. WE WANT TO GET ONLY REGULAR STUDENTS THAT ARE IN LAST YEAR OF SECONDARY SCHOOL. \n",
    "#THE MICRODADOS HAVE A FIELD TO CONTROL IT. BUT IT IS NOT CONFIDENCE,DUE A TURN OUT TEAACHERS THAT EXTEND ACADEMIC YEAR\n",
    "print('null', ENEM.NU_IDADE.isnull().sum())\n",
    "#firts, fill NA with the mean of student school\n",
    "ENEM.NU_IDADE = ENEM.groupby(ENEM['CO_ESCOLA'])['NU_IDADE'].apply(lambda x: x.fillna(round(x.mean())))\n",
    "ENEM.NU_IDADE = ENEM.NU_IDADE.astype('int32')\n",
    "print('taking off',((ENEM.NU_IDADE <17)|(ENEM.NU_IDADE>19)).sum())\n",
    "ENEM = ENEM.loc[(ENEM.NU_IDADE >16) &  (ENEM.NU_IDADE<20)]\n",
    "ENEM.NU_IDADE.value_counts()"
   ]
  },
  {
   "cell_type": "code",
   "execution_count": 16,
   "metadata": {
    "ExecuteTime": {
     "end_time": "2020-07-05T17:55:27.561995Z",
     "start_time": "2020-07-05T17:55:27.125866Z"
    }
   },
   "outputs": [
    {
     "data": {
      "text/html": [
       "<div>\n",
       "<style scoped>\n",
       "    .dataframe tbody tr th:only-of-type {\n",
       "        vertical-align: middle;\n",
       "    }\n",
       "\n",
       "    .dataframe tbody tr th {\n",
       "        vertical-align: top;\n",
       "    }\n",
       "\n",
       "    .dataframe thead th {\n",
       "        text-align: right;\n",
       "    }\n",
       "</style>\n",
       "<table border=\"1\" class=\"dataframe\">\n",
       "  <thead>\n",
       "    <tr style=\"text-align: right;\">\n",
       "      <th></th>\n",
       "      <th>NU_NOTA_CN</th>\n",
       "      <th>NU_NOTA_CH</th>\n",
       "      <th>NU_NOTA_LC</th>\n",
       "      <th>NU_NOTA_MT</th>\n",
       "      <th>NU_NOTA_REDACAO</th>\n",
       "    </tr>\n",
       "  </thead>\n",
       "  <tbody>\n",
       "    <tr>\n",
       "      <th>count</th>\n",
       "      <td>1.270333e+06</td>\n",
       "      <td>1.270333e+06</td>\n",
       "      <td>1.270333e+06</td>\n",
       "      <td>1.270333e+06</td>\n",
       "      <td>1.270333e+06</td>\n",
       "    </tr>\n",
       "    <tr>\n",
       "      <th>mean</th>\n",
       "      <td>4.845943e+02</td>\n",
       "      <td>5.396333e+02</td>\n",
       "      <td>5.257456e+02</td>\n",
       "      <td>4.967218e+02</td>\n",
       "      <td>5.598962e+02</td>\n",
       "    </tr>\n",
       "    <tr>\n",
       "      <th>std</th>\n",
       "      <td>7.529571e+01</td>\n",
       "      <td>7.366115e+01</td>\n",
       "      <td>6.774795e+01</td>\n",
       "      <td>1.067844e+02</td>\n",
       "      <td>1.344170e+02</td>\n",
       "    </tr>\n",
       "    <tr>\n",
       "      <th>min</th>\n",
       "      <td>3.404000e+02</td>\n",
       "      <td>3.199000e+02</td>\n",
       "      <td>2.902000e+02</td>\n",
       "      <td>3.195000e+02</td>\n",
       "      <td>4.000000e+01</td>\n",
       "    </tr>\n",
       "    <tr>\n",
       "      <th>25%</th>\n",
       "      <td>4.251000e+02</td>\n",
       "      <td>4.903000e+02</td>\n",
       "      <td>4.793000e+02</td>\n",
       "      <td>4.155000e+02</td>\n",
       "      <td>4.800000e+02</td>\n",
       "    </tr>\n",
       "    <tr>\n",
       "      <th>50%</th>\n",
       "      <td>4.697000e+02</td>\n",
       "      <td>5.428000e+02</td>\n",
       "      <td>5.296000e+02</td>\n",
       "      <td>4.729000e+02</td>\n",
       "      <td>5.600000e+02</td>\n",
       "    </tr>\n",
       "    <tr>\n",
       "      <th>75%</th>\n",
       "      <td>5.349000e+02</td>\n",
       "      <td>5.912000e+02</td>\n",
       "      <td>5.737000e+02</td>\n",
       "      <td>5.579000e+02</td>\n",
       "      <td>6.400000e+02</td>\n",
       "    </tr>\n",
       "    <tr>\n",
       "      <th>max</th>\n",
       "      <td>8.713000e+02</td>\n",
       "      <td>8.591000e+02</td>\n",
       "      <td>8.026000e+02</td>\n",
       "      <td>9.915000e+02</td>\n",
       "      <td>1.000000e+03</td>\n",
       "    </tr>\n",
       "  </tbody>\n",
       "</table>\n",
       "</div>"
      ],
      "text/plain": [
       "         NU_NOTA_CN    NU_NOTA_CH    NU_NOTA_LC    NU_NOTA_MT  NU_NOTA_REDACAO\n",
       "count  1.270333e+06  1.270333e+06  1.270333e+06  1.270333e+06     1.270333e+06\n",
       "mean   4.845943e+02  5.396333e+02  5.257456e+02  4.967218e+02     5.598962e+02\n",
       "std    7.529571e+01  7.366115e+01  6.774795e+01  1.067844e+02     1.344170e+02\n",
       "min    3.404000e+02  3.199000e+02  2.902000e+02  3.195000e+02     4.000000e+01\n",
       "25%    4.251000e+02  4.903000e+02  4.793000e+02  4.155000e+02     4.800000e+02\n",
       "50%    4.697000e+02  5.428000e+02  5.296000e+02  4.729000e+02     5.600000e+02\n",
       "75%    5.349000e+02  5.912000e+02  5.737000e+02  5.579000e+02     6.400000e+02\n",
       "max    8.713000e+02  8.591000e+02  8.026000e+02  9.915000e+02     1.000000e+03"
      ]
     },
     "execution_count": 16,
     "metadata": {},
     "output_type": "execute_result"
    }
   ],
   "source": [
    "ENEM[fields].describe()"
   ]
  },
  {
   "cell_type": "markdown",
   "metadata": {},
   "source": [
    "### Transform features to default categories"
   ]
  },
  {
   "cell_type": "code",
   "execution_count": 17,
   "metadata": {
    "ExecuteTime": {
     "end_time": "2020-07-05T17:55:28.246482Z",
     "start_time": "2020-07-05T17:55:27.579951Z"
    }
   },
   "outputs": [
    {
     "data": {
      "text/plain": [
       "TP_SEXO            0\n",
       "TP_COR_RACA        0\n",
       "EDU_PAI            0\n",
       "EDU_MAE            0\n",
       "QT_PESSOAS_CASA    0\n",
       "RENDA_MENSAL       0\n",
       "dtype: int64"
      ]
     },
     "execution_count": 17,
     "metadata": {},
     "output_type": "execute_result"
    }
   ],
   "source": [
    "fields = ['TP_SEXO', 'TP_COR_RACA', 'EDU_PAI', 'EDU_MAE','QT_PESSOAS_CASA', 'RENDA_MENSAL']\n",
    "ENEM[fields].isnull().sum()\n"
   ]
  },
  {
   "cell_type": "code",
   "execution_count": 18,
   "metadata": {
    "ExecuteTime": {
     "end_time": "2020-07-05T17:55:29.181553Z",
     "start_time": "2020-07-05T17:55:28.267000Z"
    }
   },
   "outputs": [
    {
     "name": "stdout",
     "output_type": "stream",
     "text": [
      "TP_SEXO Index(['F', 'M'], dtype='object')\n",
      "TP_COR_RACA Int64Index([3, 1, 2, 4, 0, 5, 6], dtype='int64')\n",
      "EDU_PAI Index(['E', 'B', 'C', 'D', 'H', 'F', 'G', 'A'], dtype='object')\n",
      "EDU_MAE Index(['E', 'D', 'C', 'B', 'F', 'G', 'H', 'A'], dtype='object')\n",
      "QT_PESSOAS_CASA Float64Index([ 4.0,  3.0,  5.0,  2.0,  6.0,  7.0,  8.0,  9.0, 10.0,  1.0, 11.0,\n",
      "              12.0, 13.0, 14.0, 20.0, 15.0, 16.0, 18.0, 19.0, 17.0],\n",
      "             dtype='float64')\n",
      "RENDA_MENSAL Index(['C', 'B', 'D', 'E', 'G', 'F', 'H', 'I', 'A', 'J', 'N', 'Q', 'K', 'O',\n",
      "       'P', 'M', 'L'],\n",
      "      dtype='object')\n"
     ]
    }
   ],
   "source": [
    "for i in fields:\n",
    "    print(i,ENEM[i].value_counts().index)"
   ]
  },
  {
   "cell_type": "code",
   "execution_count": 19,
   "metadata": {
    "ExecuteTime": {
     "end_time": "2020-07-05T17:55:29.760443Z",
     "start_time": "2020-07-05T17:55:29.189708Z"
    }
   },
   "outputs": [],
   "source": [
    "#Order relation, is better for numeric categories.\n",
    "categorical = ['TP_SEXO','EDU_PAI', 'EDU_MAE', 'RENDA_MENSAL']\n",
    "for i in categorical:\n",
    "    codes, uniques = pd.factorize(ENEM[i], sort=True)\n",
    "    ENEM[i] = codes"
   ]
  },
  {
   "cell_type": "code",
   "execution_count": 20,
   "metadata": {
    "ExecuteTime": {
     "end_time": "2020-07-05T17:55:29.825843Z",
     "start_time": "2020-07-05T17:55:29.775519Z"
    }
   },
   "outputs": [],
   "source": [
    "ENEM['EDU_PAI_TEMP'] = ENEM['EDU_PAI']\n",
    "ENEM['EDU_MAE_TEMP'] = ENEM['EDU_MAE']\n",
    "ENEM['QT_PESSOAS_CASA_TEMP'] = ENEM['QT_PESSOAS_CASA']\n",
    "ENEM['RENDA_MENSAL_TEMP'] = ENEM['RENDA_MENSAL']"
   ]
  },
  {
   "cell_type": "code",
   "execution_count": 21,
   "metadata": {
    "ExecuteTime": {
     "end_time": "2020-07-05T17:55:31.527031Z",
     "start_time": "2020-07-05T17:55:29.840241Z"
    }
   },
   "outputs": [],
   "source": [
    "# Paring with default categories\n",
    "\n",
    "ENEM.loc[ENEM['EDU_PAI']==0, 'EDU_PAI_TEMP']=0\n",
    "ENEM.loc[ENEM['EDU_PAI']==1, 'EDU_PAI_TEMP']=0\n",
    "ENEM.loc[ENEM['EDU_PAI']==2, 'EDU_PAI_TEMP']=1\n",
    "ENEM.loc[ENEM['EDU_PAI']==3, 'EDU_PAI_TEMP']=2\n",
    "ENEM.loc[ENEM['EDU_PAI']==4, 'EDU_PAI_TEMP']=3\n",
    "ENEM.loc[ENEM['EDU_PAI']==5, 'EDU_PAI_TEMP']=4\n",
    "ENEM.loc[ENEM['EDU_PAI']==6, 'EDU_PAI_TEMP']=5\n",
    "ENEM.loc[ENEM['EDU_PAI']==7, 'EDU_PAI_TEMP']=0\n",
    "\n",
    "ENEM.loc[ENEM['EDU_MAE']==0, 'EDU_MAE_TEMP']=0\n",
    "ENEM.loc[ENEM['EDU_MAE']==1, 'EDU_MAE_TEMP']=0\n",
    "ENEM.loc[ENEM['EDU_MAE']==2, 'EDU_MAE_TEMP']=1\n",
    "ENEM.loc[ENEM['EDU_MAE']==3, 'EDU_MAE_TEMP']=2\n",
    "ENEM.loc[ENEM['EDU_MAE']==4, 'EDU_MAE_TEMP']=3\n",
    "ENEM.loc[ENEM['EDU_MAE']==5, 'EDU_MAE_TEMP']=4\n",
    "ENEM.loc[ENEM['EDU_MAE']==6, 'EDU_MAE_TEMP']=5\n",
    "ENEM.loc[ENEM['EDU_MAE']==7, 'EDU_MAE_TEMP']=0\n",
    "\n",
    "\n",
    "\n",
    "ENEM.loc[ENEM['QT_PESSOAS_CASA']==1, 'QT_PESSOAS_CASA_TEMP']=0\n",
    "ENEM.loc[ENEM['QT_PESSOAS_CASA']==2, 'QT_PESSOAS_CASA_TEMP']=1\n",
    "ENEM.loc[ENEM['QT_PESSOAS_CASA']==3, 'QT_PESSOAS_CASA_TEMP']=1\n",
    "ENEM.loc[ENEM['QT_PESSOAS_CASA']==4, 'QT_PESSOAS_CASA_TEMP']=2\n",
    "ENEM.loc[ENEM['QT_PESSOAS_CASA']==5, 'QT_PESSOAS_CASA_TEMP']=2\n",
    "ENEM.loc[ENEM['QT_PESSOAS_CASA']==6, 'QT_PESSOAS_CASA_TEMP']=2\n",
    "ENEM.loc[ENEM['QT_PESSOAS_CASA']==7, 'QT_PESSOAS_CASA_TEMP']=2\n",
    "ENEM.loc[ENEM['QT_PESSOAS_CASA']>7, 'QT_PESSOAS_CASA_TEMP']=3\n",
    "\n",
    "ENEM.loc[ENEM['RENDA_MENSAL']==0, 'RENDA_MENSAL_TEMP']=0\n",
    "ENEM.loc[ENEM['RENDA_MENSAL']==1, 'RENDA_MENSAL_TEMP']=1\n",
    "ENEM.loc[ENEM['RENDA_MENSAL']==2, 'RENDA_MENSAL_TEMP']=2\n",
    "ENEM.loc[ENEM['RENDA_MENSAL']==3, 'RENDA_MENSAL_TEMP']=2\n",
    "ENEM.loc[(ENEM['RENDA_MENSAL']>3) & (ENEM['RENDA_MENSAL']<8), 'RENDA_MENSAL_TEMP']=3\n",
    "ENEM.loc[(ENEM['RENDA_MENSAL']>7) & (ENEM['RENDA_MENSAL']<13), 'RENDA_MENSAL_TEMP']=4\n",
    "ENEM.loc[ENEM['RENDA_MENSAL']>12, 'RENDA_MENSAL_TEMP']=5\n",
    "\n",
    "\n",
    "ENEM.loc[ENEM['TP_COR_RACA']==6, 'TP_COR_RACA']=0\n"
   ]
  },
  {
   "cell_type": "code",
   "execution_count": 22,
   "metadata": {
    "ExecuteTime": {
     "end_time": "2020-07-05T17:55:31.621475Z",
     "start_time": "2020-07-05T17:55:31.543323Z"
    }
   },
   "outputs": [],
   "source": [
    "#back to original columns\n",
    "ENEM['EDU_PAI'] = ENEM['EDU_PAI_TEMP']\n",
    "ENEM['EDU_MAE'] = ENEM['EDU_MAE_TEMP']\n",
    "ENEM['QT_PESSOAS_CASA'] = ENEM['QT_PESSOAS_CASA_TEMP']\n",
    "ENEM['RENDA_MENSAL'] = ENEM['RENDA_MENSAL_TEMP']"
   ]
  },
  {
   "cell_type": "code",
   "execution_count": 23,
   "metadata": {
    "ExecuteTime": {
     "end_time": "2020-07-05T17:55:31.765698Z",
     "start_time": "2020-07-05T17:55:31.641378Z"
    }
   },
   "outputs": [],
   "source": [
    "#drop temps\n",
    "\n",
    "ENEM.drop(['EDU_PAI_TEMP', 'EDU_MAE_TEMP', 'QT_PESSOAS_CASA_TEMP','RENDA_MENSAL_TEMP'], axis=1, inplace=True)"
   ]
  },
  {
   "cell_type": "code",
   "execution_count": 24,
   "metadata": {
    "ExecuteTime": {
     "end_time": "2020-07-05T17:55:41.957907Z",
     "start_time": "2020-07-05T17:55:31.779931Z"
    }
   },
   "outputs": [
    {
     "name": "stdout",
     "output_type": "stream",
     "text": [
      "Total Students at ENEM: 1270333 of 30492 schools\n",
      "Total Schools at Census: 279358\n",
      "########### Only about Schools at ENEM:\n",
      "Schools at ENEM out of School Census 121\n",
      "Schools at ENEM out of Teacher Census 586\n",
      "Schools at ENEM and School Census out of Teacher Census 0\n",
      "Students Wasted***** 1162\n"
     ]
    }
   ],
   "source": [
    "print('Total Students at ENEM:', ENEM.shape[0], 'of', ENEM.drop_duplicates('CO_ESCOLA').shape[0], 'schools')\n",
    "print('Total Schools at Census:', C_SCHOOL.shape[0])\n",
    "\n",
    "            \n",
    "\n",
    "#######################################\n",
    "print('########### Only about Schools at ENEM:')\n",
    "\n",
    "schoolsEnem = ENEM['CO_ESCOLA'].dropna().unique()\n",
    "schoolsCenso = C_SCHOOL['CO_ESCOLA'].dropna().unique()\n",
    "schoolsTeacher = C_TEACHER['CO_ESCOLA'].dropna().unique()\n",
    "schoolsEnem2 = ENEM['CO_ESCOLA'].dropna()\n",
    "\n",
    "enem_censo = np.setdiff1d(schoolsEnem ,schoolsCenso)\n",
    "print('Schools at ENEM out of School Census', sum(np.isin(schoolsEnem, schoolsCenso, invert=True)))\n",
    "\n",
    "print('Schools at ENEM out of Teacher Census', sum(np.isin(schoolsEnem, schoolsTeacher, invert=True)))\n",
    "print('Schools at ENEM and School Census out of Teacher Census', sum(np.isin(enem_censo, schoolsTeacher)))\n",
    "\n",
    "print('Students Wasted*****', sum(np.isin(schoolsEnem2, schoolsCenso, invert=True)))"
   ]
  },
  {
   "cell_type": "markdown",
   "metadata": {},
   "source": [
    "### New Features"
   ]
  },
  {
   "cell_type": "markdown",
   "metadata": {},
   "source": [
    "ENEM"
   ]
  },
  {
   "cell_type": "code",
   "execution_count": 25,
   "metadata": {
    "ExecuteTime": {
     "end_time": "2020-07-05T17:55:42.034649Z",
     "start_time": "2020-07-05T17:55:41.972093Z"
    }
   },
   "outputs": [],
   "source": [
    "#Final Media, Target\n",
    "ENEM['NU_NOTA_GERAL'] = (ENEM.NU_NOTA_CN + ENEM.NU_NOTA_CH + ENEM.NU_NOTA_LC + ENEM.NU_NOTA_MT + ENEM.NU_NOTA_REDACAO)/5"
   ]
  },
  {
   "cell_type": "markdown",
   "metadata": {
    "ExecuteTime": {
     "end_time": "2020-04-24T00:43:00.195434Z",
     "start_time": "2020-04-24T00:43:00.026213Z"
    }
   },
   "source": [
    "SCHOOL CENSUS - Itś better include after merge all datasets years.\n"
   ]
  },
  {
   "cell_type": "markdown",
   "metadata": {},
   "source": [
    "TEACHER CENSUS"
   ]
  },
  {
   "cell_type": "code",
   "execution_count": 26,
   "metadata": {
    "ExecuteTime": {
     "end_time": "2020-07-05T17:55:42.134641Z",
     "start_time": "2020-07-05T17:55:42.049388Z"
    }
   },
   "outputs": [
    {
     "data": {
      "text/plain": [
       "CO_ESCOLA                 0\n",
       "IN_ESPECIALIZACAO    793349\n",
       "IN_MESTRADO          793349\n",
       "IN_DOUTORADO         793349\n",
       "dtype: int64"
      ]
     },
     "execution_count": 26,
     "metadata": {},
     "output_type": "execute_result"
    }
   ],
   "source": [
    "C_TEACHER.isnull().sum()"
   ]
  },
  {
   "cell_type": "code",
   "execution_count": 27,
   "metadata": {
    "ExecuteTime": {
     "end_time": "2020-07-05T17:55:42.894484Z",
     "start_time": "2020-07-05T17:55:42.147529Z"
    }
   },
   "outputs": [
    {
     "name": "stdout",
     "output_type": "stream",
     "text": [
      "number of teacher who work at an school listed at ENEM and do not have study level assigned: 1071663\n"
     ]
    }
   ],
   "source": [
    "print('number of teacher who work at an school listed at ENEM and do not have study level assigned:',\n",
    "      C_TEACHER['CO_ESCOLA'].isin(ENEM['CO_ESCOLA']).sum())\n",
    "\n",
    "#lets fill with lower level\n",
    "\n",
    "C_TEACHER['IN_ESPECIALIZACAO'].fillna(0, inplace = True)\n",
    "C_TEACHER['IN_MESTRADO'].fillna(0, inplace = True)\n",
    "C_TEACHER['IN_DOUTORADO'].fillna(0, inplace = True)"
   ]
  },
  {
   "cell_type": "code",
   "execution_count": 28,
   "metadata": {
    "ExecuteTime": {
     "end_time": "2020-07-05T17:55:47.126880Z",
     "start_time": "2020-07-05T17:55:42.901076Z"
    }
   },
   "outputs": [],
   "source": [
    "C_TEACHER['TITULACAO'] = 0\n",
    "\n",
    "C_TEACHER.loc[(C_TEACHER.IN_ESPECIALIZACAO==0.0) & (C_TEACHER.IN_MESTRADO==0.0)& \n",
    "             (C_TEACHER.IN_DOUTORADO ==0.0), 'TITULACAO'] = 0\n",
    "\n",
    "C_TEACHER.loc[(C_TEACHER.IN_ESPECIALIZACAO==1.0) & (C_TEACHER.IN_MESTRADO==0.0)& \n",
    "             (C_TEACHER.IN_DOUTORADO ==0.0), 'TITULACAO'] = 1\n",
    "\n",
    "C_TEACHER.loc[(C_TEACHER.IN_ESPECIALIZACAO==1.0) & (C_TEACHER.IN_MESTRADO==1.0)& \n",
    "             (C_TEACHER.IN_DOUTORADO ==0.0), 'TITULACAO'] = 2\n",
    "\n",
    "C_TEACHER.loc[(C_TEACHER.IN_ESPECIALIZACAO==0.0) & (C_TEACHER.IN_MESTRADO==1.0)& \n",
    "             (C_TEACHER.IN_DOUTORADO ==0.0), 'TITULACAO'] = 2\n",
    "\n",
    "C_TEACHER.loc[(C_TEACHER.IN_DOUTORADO ==1.0), 'TITULACAO'] = 3\n",
    "\n",
    "#Rebuild level education information as indicator of unique level.\n",
    "C_TEACHER['NU_GRADUACAO'] = 0\n",
    "C_TEACHER['NU_ESPECIALIZACAO'] = 0\n",
    "C_TEACHER['NU_MESTRADO'] = 0\n",
    "C_TEACHER['NU_DOUTORADO'] = 0\n",
    "\n",
    "C_TEACHER.loc[C_TEACHER.TITULACAO == 0, 'NU_GRADUACAO']= 1\n",
    "C_TEACHER.loc[C_TEACHER.TITULACAO == 1, 'NU_ESPECIALIZACAO']= 1\n",
    "C_TEACHER.loc[C_TEACHER.TITULACAO == 2, 'NU_MESTRADO']= 1\n",
    "C_TEACHER.loc[C_TEACHER.TITULACAO == 3, 'NU_DOUTORADO']= 1\n",
    "\n",
    "\n",
    "C_TEACHER['NU_GRADUACAO'] = C_TEACHER.groupby('CO_ESCOLA')['NU_GRADUACAO'].transform(sum)\n",
    "C_TEACHER['NU_ESPECIALIZACAO'] = C_TEACHER.groupby('CO_ESCOLA')['NU_ESPECIALIZACAO'].transform(sum)\n",
    "C_TEACHER['NU_MESTRADO'] = C_TEACHER.groupby('CO_ESCOLA')['NU_MESTRADO'].transform(sum)\n",
    "C_TEACHER['NU_DOUTORADO'] = C_TEACHER.groupby('CO_ESCOLA')['NU_DOUTORADO'].transform(sum)\n",
    "\n",
    "\n",
    "\n",
    "#Calculating weighted indice of teacher education\n",
    "SUM= C_TEACHER.groupby('CO_ESCOLA')['TITULACAO'].transform(sum)\n",
    "COUNT =  C_TEACHER.groupby('CO_ESCOLA')['TITULACAO'].transform('count')\n",
    "C_TEACHER['TITULACAO'] = (SUM)/(COUNT*3)  \n",
    "\n",
    "##arranjar isso dai\n",
    "\n",
    "\n",
    "\n",
    "#transformin to school grain\n",
    "C_TEACHER.drop_duplicates('CO_ESCOLA', inplace = True)"
   ]
  },
  {
   "cell_type": "markdown",
   "metadata": {},
   "source": [
    "## STUDENT GRAIN \n"
   ]
  },
  {
   "cell_type": "code",
   "execution_count": 29,
   "metadata": {
    "ExecuteTime": {
     "end_time": "2020-07-05T17:57:38.766485Z",
     "start_time": "2020-07-05T17:55:47.130438Z"
    }
   },
   "outputs": [
    {
     "name": "stdout",
     "output_type": "stream",
     "text": [
      "C_SCHOOL (279358, 26)\n",
      "C_TEACHER (187891, 9)\n",
      "C_SCHOOL + C_TEACHER (187891, 34)\n",
      "ENEM (1270333, 16)\n",
      "FINAL (1266984, 49)\n"
     ]
    }
   ],
   "source": [
    "# teacher to Schoool Grain\n",
    "print('C_SCHOOL',C_SCHOOL.shape)\n",
    "print('C_TEACHER',C_TEACHER.shape)\n",
    "CENSO19 = pd.merge(C_SCHOOL, C_TEACHER, on = 'CO_ESCOLA', how = 'inner')\n",
    "print('C_SCHOOL + C_TEACHER',CENSO19.shape)\n",
    "\n",
    "#Now, all to Student Grain\n",
    "print('ENEM',ENEM.shape)\n",
    "ENEM_CENSO_19 = pd.merge(ENEM, CENSO19, on = 'CO_ESCOLA', how = 'inner')\n",
    "print('FINAL',ENEM_CENSO_19.shape)\n",
    "\n",
    "ENEM_CENSO_19.to_csv('STUDENT.csv')"
   ]
  },
  {
   "cell_type": "code",
   "execution_count": 30,
   "metadata": {
    "ExecuteTime": {
     "end_time": "2020-07-05T17:57:38.912940Z",
     "start_time": "2020-07-05T17:57:38.772441Z"
    }
   },
   "outputs": [
    {
     "data": {
      "text/html": [
       "<div>\n",
       "<style scoped>\n",
       "    .dataframe tbody tr th:only-of-type {\n",
       "        vertical-align: middle;\n",
       "    }\n",
       "\n",
       "    .dataframe tbody tr th {\n",
       "        vertical-align: top;\n",
       "    }\n",
       "\n",
       "    .dataframe thead th {\n",
       "        text-align: right;\n",
       "    }\n",
       "</style>\n",
       "<table border=\"1\" class=\"dataframe\">\n",
       "  <thead>\n",
       "    <tr style=\"text-align: right;\">\n",
       "      <th></th>\n",
       "      <th>CO_ANO</th>\n",
       "      <th>CO_ESCOLA</th>\n",
       "      <th>NU_IDADE</th>\n",
       "      <th>TP_SEXO</th>\n",
       "      <th>TP_COR_RACA</th>\n",
       "      <th>TP_ST_CONCLUSAO</th>\n",
       "      <th>NU_NOTA_CN</th>\n",
       "      <th>NU_NOTA_CH</th>\n",
       "      <th>NU_NOTA_LC</th>\n",
       "      <th>NU_NOTA_MT</th>\n",
       "      <th>NU_NOTA_REDACAO</th>\n",
       "      <th>EDU_PAI</th>\n",
       "      <th>EDU_MAE</th>\n",
       "      <th>QT_PESSOAS_CASA</th>\n",
       "      <th>RENDA_MENSAL</th>\n",
       "      <th>NU_NOTA_GERAL</th>\n",
       "      <th>CO_MUNICIPIO</th>\n",
       "      <th>CO_UF</th>\n",
       "      <th>CO_DEPENDENCIA_ADM</th>\n",
       "      <th>IN_AGUA_INEXISTENTE</th>\n",
       "      <th>IN_ESGOTO_INEXISTENTE</th>\n",
       "      <th>IN_ENERGIA_INEXISTENTE</th>\n",
       "      <th>IN_LABORATORIO_INFORMATICA</th>\n",
       "      <th>IN_LABORATORIO_CIENCIAS</th>\n",
       "      <th>IN_SALA_ATENDIMENTO_ESPECIAL</th>\n",
       "      <th>IN_BIBLIOTECA</th>\n",
       "      <th>IN_SALA_LEITURA</th>\n",
       "      <th>IN_BANHEIRO_FORA_PREDIO</th>\n",
       "      <th>IN_BANHEIRO_PNE</th>\n",
       "      <th>IN_DEPENDENCIAS_PNE</th>\n",
       "      <th>QT_SALAS_UTILIZADAS</th>\n",
       "      <th>QT_EQUIP_TV</th>\n",
       "      <th>QT_EQUIP_DVD</th>\n",
       "      <th>QT_EQUIP_COPIADORA</th>\n",
       "      <th>QT_EQUIP_IMPRESSORA</th>\n",
       "      <th>QT_COM_ADMINISTRATIVO</th>\n",
       "      <th>QT_COMP_ALUNO</th>\n",
       "      <th>IN_INTERNET</th>\n",
       "      <th>IN_BANDA_LARGA</th>\n",
       "      <th>QT_FUNCIONARIOS</th>\n",
       "      <th>IN_ALIMENTACAO</th>\n",
       "      <th>IN_ESPECIALIZACAO</th>\n",
       "      <th>IN_MESTRADO</th>\n",
       "      <th>IN_DOUTORADO</th>\n",
       "      <th>TITULACAO</th>\n",
       "      <th>NU_GRADUACAO</th>\n",
       "      <th>NU_ESPECIALIZACAO</th>\n",
       "      <th>NU_MESTRADO</th>\n",
       "      <th>NU_DOUTORADO</th>\n",
       "    </tr>\n",
       "  </thead>\n",
       "  <tbody>\n",
       "    <tr>\n",
       "      <th>0</th>\n",
       "      <td>2016</td>\n",
       "      <td>23069864.0</td>\n",
       "      <td>17</td>\n",
       "      <td>0</td>\n",
       "      <td>1</td>\n",
       "      <td>2</td>\n",
       "      <td>629.8</td>\n",
       "      <td>636.3</td>\n",
       "      <td>654.6</td>\n",
       "      <td>665.3</td>\n",
       "      <td>840.0</td>\n",
       "      <td>5</td>\n",
       "      <td>5</td>\n",
       "      <td>2.0</td>\n",
       "      <td>3</td>\n",
       "      <td>685.20</td>\n",
       "      <td>2304400</td>\n",
       "      <td>23</td>\n",
       "      <td>4</td>\n",
       "      <td>0.0</td>\n",
       "      <td>0.0</td>\n",
       "      <td>0.0</td>\n",
       "      <td>1.0</td>\n",
       "      <td>1.0</td>\n",
       "      <td>0.0</td>\n",
       "      <td>1.0</td>\n",
       "      <td>1.0</td>\n",
       "      <td>0.0</td>\n",
       "      <td>1.0</td>\n",
       "      <td>1.0</td>\n",
       "      <td>23.0</td>\n",
       "      <td>4.0</td>\n",
       "      <td>2.0</td>\n",
       "      <td>4.0</td>\n",
       "      <td>8.0</td>\n",
       "      <td>48.0</td>\n",
       "      <td>99.0</td>\n",
       "      <td>1.0</td>\n",
       "      <td>1.0</td>\n",
       "      <td>115.0</td>\n",
       "      <td>0.0</td>\n",
       "      <td>0.0</td>\n",
       "      <td>0.0</td>\n",
       "      <td>0.0</td>\n",
       "      <td>0.063492</td>\n",
       "      <td>37</td>\n",
       "      <td>2</td>\n",
       "      <td>3</td>\n",
       "      <td>0</td>\n",
       "    </tr>\n",
       "    <tr>\n",
       "      <th>1</th>\n",
       "      <td>2016</td>\n",
       "      <td>23069864.0</td>\n",
       "      <td>17</td>\n",
       "      <td>1</td>\n",
       "      <td>1</td>\n",
       "      <td>2</td>\n",
       "      <td>668.2</td>\n",
       "      <td>715.6</td>\n",
       "      <td>619.7</td>\n",
       "      <td>799.5</td>\n",
       "      <td>920.0</td>\n",
       "      <td>3</td>\n",
       "      <td>5</td>\n",
       "      <td>2.0</td>\n",
       "      <td>5</td>\n",
       "      <td>744.60</td>\n",
       "      <td>2304400</td>\n",
       "      <td>23</td>\n",
       "      <td>4</td>\n",
       "      <td>0.0</td>\n",
       "      <td>0.0</td>\n",
       "      <td>0.0</td>\n",
       "      <td>1.0</td>\n",
       "      <td>1.0</td>\n",
       "      <td>0.0</td>\n",
       "      <td>1.0</td>\n",
       "      <td>1.0</td>\n",
       "      <td>0.0</td>\n",
       "      <td>1.0</td>\n",
       "      <td>1.0</td>\n",
       "      <td>23.0</td>\n",
       "      <td>4.0</td>\n",
       "      <td>2.0</td>\n",
       "      <td>4.0</td>\n",
       "      <td>8.0</td>\n",
       "      <td>48.0</td>\n",
       "      <td>99.0</td>\n",
       "      <td>1.0</td>\n",
       "      <td>1.0</td>\n",
       "      <td>115.0</td>\n",
       "      <td>0.0</td>\n",
       "      <td>0.0</td>\n",
       "      <td>0.0</td>\n",
       "      <td>0.0</td>\n",
       "      <td>0.063492</td>\n",
       "      <td>37</td>\n",
       "      <td>2</td>\n",
       "      <td>3</td>\n",
       "      <td>0</td>\n",
       "    </tr>\n",
       "    <tr>\n",
       "      <th>2</th>\n",
       "      <td>2016</td>\n",
       "      <td>23069864.0</td>\n",
       "      <td>17</td>\n",
       "      <td>0</td>\n",
       "      <td>3</td>\n",
       "      <td>2</td>\n",
       "      <td>634.8</td>\n",
       "      <td>622.6</td>\n",
       "      <td>649.5</td>\n",
       "      <td>720.2</td>\n",
       "      <td>880.0</td>\n",
       "      <td>3</td>\n",
       "      <td>3</td>\n",
       "      <td>2.0</td>\n",
       "      <td>4</td>\n",
       "      <td>701.42</td>\n",
       "      <td>2304400</td>\n",
       "      <td>23</td>\n",
       "      <td>4</td>\n",
       "      <td>0.0</td>\n",
       "      <td>0.0</td>\n",
       "      <td>0.0</td>\n",
       "      <td>1.0</td>\n",
       "      <td>1.0</td>\n",
       "      <td>0.0</td>\n",
       "      <td>1.0</td>\n",
       "      <td>1.0</td>\n",
       "      <td>0.0</td>\n",
       "      <td>1.0</td>\n",
       "      <td>1.0</td>\n",
       "      <td>23.0</td>\n",
       "      <td>4.0</td>\n",
       "      <td>2.0</td>\n",
       "      <td>4.0</td>\n",
       "      <td>8.0</td>\n",
       "      <td>48.0</td>\n",
       "      <td>99.0</td>\n",
       "      <td>1.0</td>\n",
       "      <td>1.0</td>\n",
       "      <td>115.0</td>\n",
       "      <td>0.0</td>\n",
       "      <td>0.0</td>\n",
       "      <td>0.0</td>\n",
       "      <td>0.0</td>\n",
       "      <td>0.063492</td>\n",
       "      <td>37</td>\n",
       "      <td>2</td>\n",
       "      <td>3</td>\n",
       "      <td>0</td>\n",
       "    </tr>\n",
       "    <tr>\n",
       "      <th>3</th>\n",
       "      <td>2016</td>\n",
       "      <td>23069864.0</td>\n",
       "      <td>17</td>\n",
       "      <td>0</td>\n",
       "      <td>1</td>\n",
       "      <td>2</td>\n",
       "      <td>536.8</td>\n",
       "      <td>647.8</td>\n",
       "      <td>515.3</td>\n",
       "      <td>654.6</td>\n",
       "      <td>820.0</td>\n",
       "      <td>3</td>\n",
       "      <td>3</td>\n",
       "      <td>2.0</td>\n",
       "      <td>3</td>\n",
       "      <td>634.90</td>\n",
       "      <td>2304400</td>\n",
       "      <td>23</td>\n",
       "      <td>4</td>\n",
       "      <td>0.0</td>\n",
       "      <td>0.0</td>\n",
       "      <td>0.0</td>\n",
       "      <td>1.0</td>\n",
       "      <td>1.0</td>\n",
       "      <td>0.0</td>\n",
       "      <td>1.0</td>\n",
       "      <td>1.0</td>\n",
       "      <td>0.0</td>\n",
       "      <td>1.0</td>\n",
       "      <td>1.0</td>\n",
       "      <td>23.0</td>\n",
       "      <td>4.0</td>\n",
       "      <td>2.0</td>\n",
       "      <td>4.0</td>\n",
       "      <td>8.0</td>\n",
       "      <td>48.0</td>\n",
       "      <td>99.0</td>\n",
       "      <td>1.0</td>\n",
       "      <td>1.0</td>\n",
       "      <td>115.0</td>\n",
       "      <td>0.0</td>\n",
       "      <td>0.0</td>\n",
       "      <td>0.0</td>\n",
       "      <td>0.0</td>\n",
       "      <td>0.063492</td>\n",
       "      <td>37</td>\n",
       "      <td>2</td>\n",
       "      <td>3</td>\n",
       "      <td>0</td>\n",
       "    </tr>\n",
       "    <tr>\n",
       "      <th>4</th>\n",
       "      <td>2016</td>\n",
       "      <td>23069864.0</td>\n",
       "      <td>17</td>\n",
       "      <td>1</td>\n",
       "      <td>1</td>\n",
       "      <td>2</td>\n",
       "      <td>638.7</td>\n",
       "      <td>549.6</td>\n",
       "      <td>576.6</td>\n",
       "      <td>681.7</td>\n",
       "      <td>780.0</td>\n",
       "      <td>0</td>\n",
       "      <td>3</td>\n",
       "      <td>2.0</td>\n",
       "      <td>1</td>\n",
       "      <td>645.32</td>\n",
       "      <td>2304400</td>\n",
       "      <td>23</td>\n",
       "      <td>4</td>\n",
       "      <td>0.0</td>\n",
       "      <td>0.0</td>\n",
       "      <td>0.0</td>\n",
       "      <td>1.0</td>\n",
       "      <td>1.0</td>\n",
       "      <td>0.0</td>\n",
       "      <td>1.0</td>\n",
       "      <td>1.0</td>\n",
       "      <td>0.0</td>\n",
       "      <td>1.0</td>\n",
       "      <td>1.0</td>\n",
       "      <td>23.0</td>\n",
       "      <td>4.0</td>\n",
       "      <td>2.0</td>\n",
       "      <td>4.0</td>\n",
       "      <td>8.0</td>\n",
       "      <td>48.0</td>\n",
       "      <td>99.0</td>\n",
       "      <td>1.0</td>\n",
       "      <td>1.0</td>\n",
       "      <td>115.0</td>\n",
       "      <td>0.0</td>\n",
       "      <td>0.0</td>\n",
       "      <td>0.0</td>\n",
       "      <td>0.0</td>\n",
       "      <td>0.063492</td>\n",
       "      <td>37</td>\n",
       "      <td>2</td>\n",
       "      <td>3</td>\n",
       "      <td>0</td>\n",
       "    </tr>\n",
       "  </tbody>\n",
       "</table>\n",
       "</div>"
      ],
      "text/plain": [
       "   CO_ANO   CO_ESCOLA  NU_IDADE  TP_SEXO  TP_COR_RACA  TP_ST_CONCLUSAO  \\\n",
       "0    2016  23069864.0        17        0            1                2   \n",
       "1    2016  23069864.0        17        1            1                2   \n",
       "2    2016  23069864.0        17        0            3                2   \n",
       "3    2016  23069864.0        17        0            1                2   \n",
       "4    2016  23069864.0        17        1            1                2   \n",
       "\n",
       "   NU_NOTA_CN  NU_NOTA_CH  NU_NOTA_LC  NU_NOTA_MT  NU_NOTA_REDACAO  EDU_PAI  \\\n",
       "0       629.8       636.3       654.6       665.3            840.0        5   \n",
       "1       668.2       715.6       619.7       799.5            920.0        3   \n",
       "2       634.8       622.6       649.5       720.2            880.0        3   \n",
       "3       536.8       647.8       515.3       654.6            820.0        3   \n",
       "4       638.7       549.6       576.6       681.7            780.0        0   \n",
       "\n",
       "   EDU_MAE  QT_PESSOAS_CASA  RENDA_MENSAL  NU_NOTA_GERAL  CO_MUNICIPIO  CO_UF  \\\n",
       "0        5              2.0             3         685.20       2304400     23   \n",
       "1        5              2.0             5         744.60       2304400     23   \n",
       "2        3              2.0             4         701.42       2304400     23   \n",
       "3        3              2.0             3         634.90       2304400     23   \n",
       "4        3              2.0             1         645.32       2304400     23   \n",
       "\n",
       "   CO_DEPENDENCIA_ADM  IN_AGUA_INEXISTENTE  IN_ESGOTO_INEXISTENTE  \\\n",
       "0                   4                  0.0                    0.0   \n",
       "1                   4                  0.0                    0.0   \n",
       "2                   4                  0.0                    0.0   \n",
       "3                   4                  0.0                    0.0   \n",
       "4                   4                  0.0                    0.0   \n",
       "\n",
       "   IN_ENERGIA_INEXISTENTE  IN_LABORATORIO_INFORMATICA  \\\n",
       "0                     0.0                         1.0   \n",
       "1                     0.0                         1.0   \n",
       "2                     0.0                         1.0   \n",
       "3                     0.0                         1.0   \n",
       "4                     0.0                         1.0   \n",
       "\n",
       "   IN_LABORATORIO_CIENCIAS  IN_SALA_ATENDIMENTO_ESPECIAL  IN_BIBLIOTECA  \\\n",
       "0                      1.0                           0.0            1.0   \n",
       "1                      1.0                           0.0            1.0   \n",
       "2                      1.0                           0.0            1.0   \n",
       "3                      1.0                           0.0            1.0   \n",
       "4                      1.0                           0.0            1.0   \n",
       "\n",
       "   IN_SALA_LEITURA  IN_BANHEIRO_FORA_PREDIO  IN_BANHEIRO_PNE  \\\n",
       "0              1.0                      0.0              1.0   \n",
       "1              1.0                      0.0              1.0   \n",
       "2              1.0                      0.0              1.0   \n",
       "3              1.0                      0.0              1.0   \n",
       "4              1.0                      0.0              1.0   \n",
       "\n",
       "   IN_DEPENDENCIAS_PNE  QT_SALAS_UTILIZADAS  QT_EQUIP_TV  QT_EQUIP_DVD  \\\n",
       "0                  1.0                 23.0          4.0           2.0   \n",
       "1                  1.0                 23.0          4.0           2.0   \n",
       "2                  1.0                 23.0          4.0           2.0   \n",
       "3                  1.0                 23.0          4.0           2.0   \n",
       "4                  1.0                 23.0          4.0           2.0   \n",
       "\n",
       "   QT_EQUIP_COPIADORA  QT_EQUIP_IMPRESSORA  QT_COM_ADMINISTRATIVO  \\\n",
       "0                 4.0                  8.0                   48.0   \n",
       "1                 4.0                  8.0                   48.0   \n",
       "2                 4.0                  8.0                   48.0   \n",
       "3                 4.0                  8.0                   48.0   \n",
       "4                 4.0                  8.0                   48.0   \n",
       "\n",
       "   QT_COMP_ALUNO  IN_INTERNET  IN_BANDA_LARGA  QT_FUNCIONARIOS  \\\n",
       "0           99.0          1.0             1.0            115.0   \n",
       "1           99.0          1.0             1.0            115.0   \n",
       "2           99.0          1.0             1.0            115.0   \n",
       "3           99.0          1.0             1.0            115.0   \n",
       "4           99.0          1.0             1.0            115.0   \n",
       "\n",
       "   IN_ALIMENTACAO  IN_ESPECIALIZACAO  IN_MESTRADO  IN_DOUTORADO  TITULACAO  \\\n",
       "0             0.0                0.0          0.0           0.0   0.063492   \n",
       "1             0.0                0.0          0.0           0.0   0.063492   \n",
       "2             0.0                0.0          0.0           0.0   0.063492   \n",
       "3             0.0                0.0          0.0           0.0   0.063492   \n",
       "4             0.0                0.0          0.0           0.0   0.063492   \n",
       "\n",
       "   NU_GRADUACAO  NU_ESPECIALIZACAO  NU_MESTRADO  NU_DOUTORADO  \n",
       "0            37                  2            3             0  \n",
       "1            37                  2            3             0  \n",
       "2            37                  2            3             0  \n",
       "3            37                  2            3             0  \n",
       "4            37                  2            3             0  "
      ]
     },
     "execution_count": 30,
     "metadata": {},
     "output_type": "execute_result"
    }
   ],
   "source": [
    "ENEM_CENSO_19.head()"
   ]
  },
  {
   "cell_type": "code",
   "execution_count": 31,
   "metadata": {
    "ExecuteTime": {
     "end_time": "2020-07-05T17:57:38.941924Z",
     "start_time": "2020-07-05T17:57:38.919175Z"
    }
   },
   "outputs": [
    {
     "data": {
      "text/plain": [
       "CO_ESCOLA            0\n",
       "IN_ESPECIALIZACAO    0\n",
       "IN_MESTRADO          0\n",
       "IN_DOUTORADO         0\n",
       "TITULACAO            0\n",
       "NU_GRADUACAO         0\n",
       "NU_ESPECIALIZACAO    0\n",
       "NU_MESTRADO          0\n",
       "NU_DOUTORADO         0\n",
       "dtype: int64"
      ]
     },
     "execution_count": 31,
     "metadata": {},
     "output_type": "execute_result"
    }
   ],
   "source": [
    "C_TEACHER.isnull().sum()"
   ]
  },
  {
   "cell_type": "markdown",
   "metadata": {},
   "source": [
    "## SCHOOL GRAIN\n"
   ]
  },
  {
   "cell_type": "code",
   "execution_count": 32,
   "metadata": {
    "ExecuteTime": {
     "end_time": "2020-07-05T17:57:43.671033Z",
     "start_time": "2020-07-05T17:57:38.946283Z"
    }
   },
   "outputs": [],
   "source": [
    "fields = ['TP_SEXO', 'TP_COR_RACA', 'EDU_PAI', 'EDU_MAE','QT_PESSOAS_CASA', 'RENDA_MENSAL', 'NU_IDADE', 'NU_NOTA_CN',\n",
    "             'NU_NOTA_CH','NU_NOTA_LC','NU_NOTA_MT','NU_NOTA_REDACAO','NU_NOTA_GERAL' ]\n",
    "\n",
    "for i in fields:   \n",
    "    \n",
    "            ENEM[i] = ENEM.groupby('CO_ESCOLA')[i].transform('mean')"
   ]
  },
  {
   "cell_type": "code",
   "execution_count": 33,
   "metadata": {
    "ExecuteTime": {
     "end_time": "2020-07-05T17:57:43.856726Z",
     "start_time": "2020-07-05T17:57:43.675896Z"
    }
   },
   "outputs": [],
   "source": [
    "# SCHOOL GRAIN AND SHOW THE NEW NOTA DISTRIBUTION\n",
    "ENEM.drop_duplicates('CO_ESCOLA', inplace=True)\n",
    "#print((ENEM.TARGET==0).sum()/(ENEM.TARGET.count())*100, '% lowers quartis')"
   ]
  },
  {
   "cell_type": "code",
   "execution_count": 34,
   "metadata": {
    "ExecuteTime": {
     "end_time": "2020-07-05T17:57:43.893840Z",
     "start_time": "2020-07-05T17:57:43.861751Z"
    }
   },
   "outputs": [
    {
     "name": "stdout",
     "output_type": "stream",
     "text": [
      "75.0 % lowers quartis\n"
     ]
    }
   ],
   "source": [
    "#recalculating target for new  Nota Geral distribution \n",
    "ENEM['TARGET'] = pd.qcut (ENEM.NU_NOTA_GERAL, 4, labels = [1,2,3,4]).map(lambda x : 0 if x!=4 else 1) \n",
    "print((ENEM.TARGET==0).sum()/(ENEM.TARGET.count())*100, '% lowers quartis')"
   ]
  },
  {
   "cell_type": "code",
   "execution_count": 35,
   "metadata": {
    "ExecuteTime": {
     "end_time": "2020-07-05T17:57:48.188172Z",
     "start_time": "2020-07-05T17:57:43.897809Z"
    }
   },
   "outputs": [
    {
     "name": "stdout",
     "output_type": "stream",
     "text": [
      "censo before (187891, 34)\n",
      "enem_school before (30492, 17)\n",
      "(29906, 50)\n"
     ]
    }
   ],
   "source": [
    "print('censo before',CENSO19.shape)\n",
    "print('enem_school before', ENEM.shape)\n",
    "CENSO_ENEM_19 = pd.merge(CENSO19, ENEM, on='CO_ESCOLA', how='inner')\n",
    "print(CENSO_ENEM_19.shape)\n",
    "\n",
    "CENSO_ENEM_19.to_csv('SCHOOL.csv', index=False)"
   ]
  },
  {
   "cell_type": "code",
   "execution_count": 36,
   "metadata": {
    "ExecuteTime": {
     "end_time": "2020-07-05T17:57:48.321933Z",
     "start_time": "2020-07-05T17:57:48.193512Z"
    }
   },
   "outputs": [
    {
     "data": {
      "text/html": [
       "<div>\n",
       "<style scoped>\n",
       "    .dataframe tbody tr th:only-of-type {\n",
       "        vertical-align: middle;\n",
       "    }\n",
       "\n",
       "    .dataframe tbody tr th {\n",
       "        vertical-align: top;\n",
       "    }\n",
       "\n",
       "    .dataframe thead th {\n",
       "        text-align: right;\n",
       "    }\n",
       "</style>\n",
       "<table border=\"1\" class=\"dataframe\">\n",
       "  <thead>\n",
       "    <tr style=\"text-align: right;\">\n",
       "      <th></th>\n",
       "      <th>CO_ESCOLA</th>\n",
       "      <th>CO_MUNICIPIO</th>\n",
       "      <th>CO_UF</th>\n",
       "      <th>CO_DEPENDENCIA_ADM</th>\n",
       "      <th>IN_AGUA_INEXISTENTE</th>\n",
       "      <th>IN_ESGOTO_INEXISTENTE</th>\n",
       "      <th>IN_ENERGIA_INEXISTENTE</th>\n",
       "      <th>IN_LABORATORIO_INFORMATICA</th>\n",
       "      <th>IN_LABORATORIO_CIENCIAS</th>\n",
       "      <th>IN_SALA_ATENDIMENTO_ESPECIAL</th>\n",
       "      <th>IN_BIBLIOTECA</th>\n",
       "      <th>IN_SALA_LEITURA</th>\n",
       "      <th>IN_BANHEIRO_FORA_PREDIO</th>\n",
       "      <th>IN_BANHEIRO_PNE</th>\n",
       "      <th>IN_DEPENDENCIAS_PNE</th>\n",
       "      <th>QT_SALAS_UTILIZADAS</th>\n",
       "      <th>QT_EQUIP_TV</th>\n",
       "      <th>QT_EQUIP_DVD</th>\n",
       "      <th>QT_EQUIP_COPIADORA</th>\n",
       "      <th>QT_EQUIP_IMPRESSORA</th>\n",
       "      <th>QT_COM_ADMINISTRATIVO</th>\n",
       "      <th>QT_COMP_ALUNO</th>\n",
       "      <th>IN_INTERNET</th>\n",
       "      <th>IN_BANDA_LARGA</th>\n",
       "      <th>QT_FUNCIONARIOS</th>\n",
       "      <th>IN_ALIMENTACAO</th>\n",
       "      <th>IN_ESPECIALIZACAO</th>\n",
       "      <th>IN_MESTRADO</th>\n",
       "      <th>IN_DOUTORADO</th>\n",
       "      <th>TITULACAO</th>\n",
       "      <th>NU_GRADUACAO</th>\n",
       "      <th>NU_ESPECIALIZACAO</th>\n",
       "      <th>NU_MESTRADO</th>\n",
       "      <th>NU_DOUTORADO</th>\n",
       "      <th>CO_ANO</th>\n",
       "      <th>NU_IDADE</th>\n",
       "      <th>TP_SEXO</th>\n",
       "      <th>TP_COR_RACA</th>\n",
       "      <th>TP_ST_CONCLUSAO</th>\n",
       "      <th>NU_NOTA_CN</th>\n",
       "      <th>NU_NOTA_CH</th>\n",
       "      <th>NU_NOTA_LC</th>\n",
       "      <th>NU_NOTA_MT</th>\n",
       "      <th>NU_NOTA_REDACAO</th>\n",
       "      <th>EDU_PAI</th>\n",
       "      <th>EDU_MAE</th>\n",
       "      <th>QT_PESSOAS_CASA</th>\n",
       "      <th>RENDA_MENSAL</th>\n",
       "      <th>NU_NOTA_GERAL</th>\n",
       "      <th>TARGET</th>\n",
       "    </tr>\n",
       "  </thead>\n",
       "  <tbody>\n",
       "    <tr>\n",
       "      <th>0</th>\n",
       "      <td>11008008</td>\n",
       "      <td>1100130</td>\n",
       "      <td>11</td>\n",
       "      <td>2</td>\n",
       "      <td>0.0</td>\n",
       "      <td>0.0</td>\n",
       "      <td>0.0</td>\n",
       "      <td>0.0</td>\n",
       "      <td>0.0</td>\n",
       "      <td>0.0</td>\n",
       "      <td>0.0</td>\n",
       "      <td>0.0</td>\n",
       "      <td>0.0</td>\n",
       "      <td>1.0</td>\n",
       "      <td>0.0</td>\n",
       "      <td>14.0</td>\n",
       "      <td>3.0</td>\n",
       "      <td>0.0</td>\n",
       "      <td>0.0</td>\n",
       "      <td>6.0</td>\n",
       "      <td>9.0</td>\n",
       "      <td>22.0</td>\n",
       "      <td>1.0</td>\n",
       "      <td>1.0</td>\n",
       "      <td>51.0</td>\n",
       "      <td>1.0</td>\n",
       "      <td>0.0</td>\n",
       "      <td>0.0</td>\n",
       "      <td>0.0</td>\n",
       "      <td>0.166667</td>\n",
       "      <td>8</td>\n",
       "      <td>8</td>\n",
       "      <td>0</td>\n",
       "      <td>0</td>\n",
       "      <td>2016</td>\n",
       "      <td>17.707317</td>\n",
       "      <td>0.463415</td>\n",
       "      <td>2.317073</td>\n",
       "      <td>2</td>\n",
       "      <td>455.634146</td>\n",
       "      <td>519.812195</td>\n",
       "      <td>492.275610</td>\n",
       "      <td>467.392683</td>\n",
       "      <td>493.170732</td>\n",
       "      <td>1.731707</td>\n",
       "      <td>2.414634</td>\n",
       "      <td>1.682927</td>\n",
       "      <td>2.439024</td>\n",
       "      <td>485.657073</td>\n",
       "      <td>0</td>\n",
       "    </tr>\n",
       "    <tr>\n",
       "      <th>1</th>\n",
       "      <td>11010290</td>\n",
       "      <td>1100601</td>\n",
       "      <td>11</td>\n",
       "      <td>2</td>\n",
       "      <td>0.0</td>\n",
       "      <td>0.0</td>\n",
       "      <td>0.0</td>\n",
       "      <td>1.0</td>\n",
       "      <td>0.0</td>\n",
       "      <td>1.0</td>\n",
       "      <td>1.0</td>\n",
       "      <td>0.0</td>\n",
       "      <td>0.0</td>\n",
       "      <td>1.0</td>\n",
       "      <td>1.0</td>\n",
       "      <td>3.0</td>\n",
       "      <td>5.0</td>\n",
       "      <td>3.0</td>\n",
       "      <td>0.0</td>\n",
       "      <td>8.0</td>\n",
       "      <td>9.0</td>\n",
       "      <td>12.0</td>\n",
       "      <td>1.0</td>\n",
       "      <td>1.0</td>\n",
       "      <td>64.0</td>\n",
       "      <td>1.0</td>\n",
       "      <td>0.0</td>\n",
       "      <td>0.0</td>\n",
       "      <td>0.0</td>\n",
       "      <td>0.063492</td>\n",
       "      <td>17</td>\n",
       "      <td>4</td>\n",
       "      <td>0</td>\n",
       "      <td>0</td>\n",
       "      <td>2016</td>\n",
       "      <td>17.583333</td>\n",
       "      <td>0.375000</td>\n",
       "      <td>2.375000</td>\n",
       "      <td>2</td>\n",
       "      <td>452.087500</td>\n",
       "      <td>515.241667</td>\n",
       "      <td>487.141667</td>\n",
       "      <td>433.100000</td>\n",
       "      <td>485.000000</td>\n",
       "      <td>1.250000</td>\n",
       "      <td>2.000000</td>\n",
       "      <td>1.875000</td>\n",
       "      <td>2.125000</td>\n",
       "      <td>474.514167</td>\n",
       "      <td>0</td>\n",
       "    </tr>\n",
       "    <tr>\n",
       "      <th>2</th>\n",
       "      <td>11015632</td>\n",
       "      <td>1100122</td>\n",
       "      <td>11</td>\n",
       "      <td>2</td>\n",
       "      <td>0.0</td>\n",
       "      <td>0.0</td>\n",
       "      <td>0.0</td>\n",
       "      <td>1.0</td>\n",
       "      <td>1.0</td>\n",
       "      <td>1.0</td>\n",
       "      <td>1.0</td>\n",
       "      <td>1.0</td>\n",
       "      <td>0.0</td>\n",
       "      <td>1.0</td>\n",
       "      <td>1.0</td>\n",
       "      <td>17.0</td>\n",
       "      <td>5.0</td>\n",
       "      <td>3.0</td>\n",
       "      <td>2.0</td>\n",
       "      <td>6.0</td>\n",
       "      <td>13.0</td>\n",
       "      <td>17.0</td>\n",
       "      <td>1.0</td>\n",
       "      <td>1.0</td>\n",
       "      <td>70.0</td>\n",
       "      <td>1.0</td>\n",
       "      <td>0.0</td>\n",
       "      <td>0.0</td>\n",
       "      <td>0.0</td>\n",
       "      <td>0.125000</td>\n",
       "      <td>20</td>\n",
       "      <td>12</td>\n",
       "      <td>0</td>\n",
       "      <td>0</td>\n",
       "      <td>2016</td>\n",
       "      <td>17.491525</td>\n",
       "      <td>0.508475</td>\n",
       "      <td>2.457627</td>\n",
       "      <td>2</td>\n",
       "      <td>461.559322</td>\n",
       "      <td>525.383051</td>\n",
       "      <td>507.416949</td>\n",
       "      <td>473.886441</td>\n",
       "      <td>515.932203</td>\n",
       "      <td>1.610169</td>\n",
       "      <td>2.135593</td>\n",
       "      <td>1.610169</td>\n",
       "      <td>2.271186</td>\n",
       "      <td>496.835593</td>\n",
       "      <td>0</td>\n",
       "    </tr>\n",
       "    <tr>\n",
       "      <th>3</th>\n",
       "      <td>11015896</td>\n",
       "      <td>1100122</td>\n",
       "      <td>11</td>\n",
       "      <td>4</td>\n",
       "      <td>0.0</td>\n",
       "      <td>0.0</td>\n",
       "      <td>0.0</td>\n",
       "      <td>0.0</td>\n",
       "      <td>0.0</td>\n",
       "      <td>0.0</td>\n",
       "      <td>1.0</td>\n",
       "      <td>0.0</td>\n",
       "      <td>0.0</td>\n",
       "      <td>1.0</td>\n",
       "      <td>0.0</td>\n",
       "      <td>3.0</td>\n",
       "      <td>1.0</td>\n",
       "      <td>1.0</td>\n",
       "      <td>1.0</td>\n",
       "      <td>3.0</td>\n",
       "      <td>4.0</td>\n",
       "      <td>0.0</td>\n",
       "      <td>1.0</td>\n",
       "      <td>0.0</td>\n",
       "      <td>25.0</td>\n",
       "      <td>1.0</td>\n",
       "      <td>1.0</td>\n",
       "      <td>0.0</td>\n",
       "      <td>0.0</td>\n",
       "      <td>0.074074</td>\n",
       "      <td>15</td>\n",
       "      <td>2</td>\n",
       "      <td>1</td>\n",
       "      <td>0</td>\n",
       "      <td>2016</td>\n",
       "      <td>18.407407</td>\n",
       "      <td>0.555556</td>\n",
       "      <td>2.407407</td>\n",
       "      <td>2</td>\n",
       "      <td>482.933333</td>\n",
       "      <td>509.392593</td>\n",
       "      <td>504.770370</td>\n",
       "      <td>496.318519</td>\n",
       "      <td>510.370370</td>\n",
       "      <td>1.259259</td>\n",
       "      <td>2.111111</td>\n",
       "      <td>1.777778</td>\n",
       "      <td>2.592593</td>\n",
       "      <td>500.757037</td>\n",
       "      <td>0</td>\n",
       "    </tr>\n",
       "    <tr>\n",
       "      <th>4</th>\n",
       "      <td>11022981</td>\n",
       "      <td>1100320</td>\n",
       "      <td>11</td>\n",
       "      <td>2</td>\n",
       "      <td>0.0</td>\n",
       "      <td>0.0</td>\n",
       "      <td>0.0</td>\n",
       "      <td>1.0</td>\n",
       "      <td>1.0</td>\n",
       "      <td>1.0</td>\n",
       "      <td>1.0</td>\n",
       "      <td>1.0</td>\n",
       "      <td>0.0</td>\n",
       "      <td>1.0</td>\n",
       "      <td>1.0</td>\n",
       "      <td>21.0</td>\n",
       "      <td>10.0</td>\n",
       "      <td>2.0</td>\n",
       "      <td>1.0</td>\n",
       "      <td>7.0</td>\n",
       "      <td>15.0</td>\n",
       "      <td>18.0</td>\n",
       "      <td>1.0</td>\n",
       "      <td>1.0</td>\n",
       "      <td>79.0</td>\n",
       "      <td>1.0</td>\n",
       "      <td>1.0</td>\n",
       "      <td>0.0</td>\n",
       "      <td>0.0</td>\n",
       "      <td>0.219858</td>\n",
       "      <td>19</td>\n",
       "      <td>25</td>\n",
       "      <td>3</td>\n",
       "      <td>0</td>\n",
       "      <td>2016</td>\n",
       "      <td>17.458333</td>\n",
       "      <td>0.437500</td>\n",
       "      <td>2.201389</td>\n",
       "      <td>2</td>\n",
       "      <td>459.427778</td>\n",
       "      <td>499.881944</td>\n",
       "      <td>495.425000</td>\n",
       "      <td>468.288194</td>\n",
       "      <td>521.805556</td>\n",
       "      <td>1.111111</td>\n",
       "      <td>1.638889</td>\n",
       "      <td>1.680556</td>\n",
       "      <td>1.833333</td>\n",
       "      <td>488.965694</td>\n",
       "      <td>0</td>\n",
       "    </tr>\n",
       "  </tbody>\n",
       "</table>\n",
       "</div>"
      ],
      "text/plain": [
       "   CO_ESCOLA  CO_MUNICIPIO  CO_UF  CO_DEPENDENCIA_ADM  IN_AGUA_INEXISTENTE  \\\n",
       "0   11008008       1100130     11                   2                  0.0   \n",
       "1   11010290       1100601     11                   2                  0.0   \n",
       "2   11015632       1100122     11                   2                  0.0   \n",
       "3   11015896       1100122     11                   4                  0.0   \n",
       "4   11022981       1100320     11                   2                  0.0   \n",
       "\n",
       "   IN_ESGOTO_INEXISTENTE  IN_ENERGIA_INEXISTENTE  IN_LABORATORIO_INFORMATICA  \\\n",
       "0                    0.0                     0.0                         0.0   \n",
       "1                    0.0                     0.0                         1.0   \n",
       "2                    0.0                     0.0                         1.0   \n",
       "3                    0.0                     0.0                         0.0   \n",
       "4                    0.0                     0.0                         1.0   \n",
       "\n",
       "   IN_LABORATORIO_CIENCIAS  IN_SALA_ATENDIMENTO_ESPECIAL  IN_BIBLIOTECA  \\\n",
       "0                      0.0                           0.0            0.0   \n",
       "1                      0.0                           1.0            1.0   \n",
       "2                      1.0                           1.0            1.0   \n",
       "3                      0.0                           0.0            1.0   \n",
       "4                      1.0                           1.0            1.0   \n",
       "\n",
       "   IN_SALA_LEITURA  IN_BANHEIRO_FORA_PREDIO  IN_BANHEIRO_PNE  \\\n",
       "0              0.0                      0.0              1.0   \n",
       "1              0.0                      0.0              1.0   \n",
       "2              1.0                      0.0              1.0   \n",
       "3              0.0                      0.0              1.0   \n",
       "4              1.0                      0.0              1.0   \n",
       "\n",
       "   IN_DEPENDENCIAS_PNE  QT_SALAS_UTILIZADAS  QT_EQUIP_TV  QT_EQUIP_DVD  \\\n",
       "0                  0.0                 14.0          3.0           0.0   \n",
       "1                  1.0                  3.0          5.0           3.0   \n",
       "2                  1.0                 17.0          5.0           3.0   \n",
       "3                  0.0                  3.0          1.0           1.0   \n",
       "4                  1.0                 21.0         10.0           2.0   \n",
       "\n",
       "   QT_EQUIP_COPIADORA  QT_EQUIP_IMPRESSORA  QT_COM_ADMINISTRATIVO  \\\n",
       "0                 0.0                  6.0                    9.0   \n",
       "1                 0.0                  8.0                    9.0   \n",
       "2                 2.0                  6.0                   13.0   \n",
       "3                 1.0                  3.0                    4.0   \n",
       "4                 1.0                  7.0                   15.0   \n",
       "\n",
       "   QT_COMP_ALUNO  IN_INTERNET  IN_BANDA_LARGA  QT_FUNCIONARIOS  \\\n",
       "0           22.0          1.0             1.0             51.0   \n",
       "1           12.0          1.0             1.0             64.0   \n",
       "2           17.0          1.0             1.0             70.0   \n",
       "3            0.0          1.0             0.0             25.0   \n",
       "4           18.0          1.0             1.0             79.0   \n",
       "\n",
       "   IN_ALIMENTACAO  IN_ESPECIALIZACAO  IN_MESTRADO  IN_DOUTORADO  TITULACAO  \\\n",
       "0             1.0                0.0          0.0           0.0   0.166667   \n",
       "1             1.0                0.0          0.0           0.0   0.063492   \n",
       "2             1.0                0.0          0.0           0.0   0.125000   \n",
       "3             1.0                1.0          0.0           0.0   0.074074   \n",
       "4             1.0                1.0          0.0           0.0   0.219858   \n",
       "\n",
       "   NU_GRADUACAO  NU_ESPECIALIZACAO  NU_MESTRADO  NU_DOUTORADO  CO_ANO  \\\n",
       "0             8                  8            0             0    2016   \n",
       "1            17                  4            0             0    2016   \n",
       "2            20                 12            0             0    2016   \n",
       "3            15                  2            1             0    2016   \n",
       "4            19                 25            3             0    2016   \n",
       "\n",
       "    NU_IDADE   TP_SEXO  TP_COR_RACA  TP_ST_CONCLUSAO  NU_NOTA_CN  NU_NOTA_CH  \\\n",
       "0  17.707317  0.463415     2.317073                2  455.634146  519.812195   \n",
       "1  17.583333  0.375000     2.375000                2  452.087500  515.241667   \n",
       "2  17.491525  0.508475     2.457627                2  461.559322  525.383051   \n",
       "3  18.407407  0.555556     2.407407                2  482.933333  509.392593   \n",
       "4  17.458333  0.437500     2.201389                2  459.427778  499.881944   \n",
       "\n",
       "   NU_NOTA_LC  NU_NOTA_MT  NU_NOTA_REDACAO   EDU_PAI   EDU_MAE  \\\n",
       "0  492.275610  467.392683       493.170732  1.731707  2.414634   \n",
       "1  487.141667  433.100000       485.000000  1.250000  2.000000   \n",
       "2  507.416949  473.886441       515.932203  1.610169  2.135593   \n",
       "3  504.770370  496.318519       510.370370  1.259259  2.111111   \n",
       "4  495.425000  468.288194       521.805556  1.111111  1.638889   \n",
       "\n",
       "   QT_PESSOAS_CASA  RENDA_MENSAL  NU_NOTA_GERAL  TARGET  \n",
       "0         1.682927      2.439024     485.657073       0  \n",
       "1         1.875000      2.125000     474.514167       0  \n",
       "2         1.610169      2.271186     496.835593       0  \n",
       "3         1.777778      2.592593     500.757037       0  \n",
       "4         1.680556      1.833333     488.965694       0  "
      ]
     },
     "execution_count": 36,
     "metadata": {},
     "output_type": "execute_result"
    }
   ],
   "source": [
    "CENSO_ENEM_19.head()"
   ]
  },
  {
   "cell_type": "code",
   "execution_count": 37,
   "metadata": {
    "ExecuteTime": {
     "end_time": "2020-07-05T17:57:48.465292Z",
     "start_time": "2020-07-05T17:57:48.325904Z"
    }
   },
   "outputs": [
    {
     "data": {
      "text/plain": [
       "CO_ESCOLA                       0\n",
       "CO_MUNICIPIO                    0\n",
       "CO_UF                           0\n",
       "CO_DEPENDENCIA_ADM              0\n",
       "IN_AGUA_INEXISTENTE             0\n",
       "IN_ESGOTO_INEXISTENTE           0\n",
       "IN_ENERGIA_INEXISTENTE          0\n",
       "IN_LABORATORIO_INFORMATICA      0\n",
       "IN_LABORATORIO_CIENCIAS         0\n",
       "IN_SALA_ATENDIMENTO_ESPECIAL    0\n",
       "IN_BIBLIOTECA                   0\n",
       "IN_SALA_LEITURA                 0\n",
       "IN_BANHEIRO_FORA_PREDIO         0\n",
       "IN_BANHEIRO_PNE                 0\n",
       "IN_DEPENDENCIAS_PNE             0\n",
       "QT_SALAS_UTILIZADAS             0\n",
       "QT_EQUIP_TV                     0\n",
       "QT_EQUIP_DVD                    0\n",
       "QT_EQUIP_COPIADORA              0\n",
       "QT_EQUIP_IMPRESSORA             0\n",
       "QT_COM_ADMINISTRATIVO           0\n",
       "QT_COMP_ALUNO                   0\n",
       "IN_INTERNET                     0\n",
       "IN_BANDA_LARGA                  0\n",
       "QT_FUNCIONARIOS                 0\n",
       "IN_ALIMENTACAO                  0\n",
       "IN_ESPECIALIZACAO               0\n",
       "IN_MESTRADO                     0\n",
       "IN_DOUTORADO                    0\n",
       "TITULACAO                       0\n",
       "NU_GRADUACAO                    0\n",
       "NU_ESPECIALIZACAO               0\n",
       "NU_MESTRADO                     0\n",
       "NU_DOUTORADO                    0\n",
       "CO_ANO                          0\n",
       "NU_IDADE                        0\n",
       "TP_SEXO                         0\n",
       "TP_COR_RACA                     0\n",
       "TP_ST_CONCLUSAO                 0\n",
       "NU_NOTA_CN                      0\n",
       "NU_NOTA_CH                      0\n",
       "NU_NOTA_LC                      0\n",
       "NU_NOTA_MT                      0\n",
       "NU_NOTA_REDACAO                 0\n",
       "EDU_PAI                         0\n",
       "EDU_MAE                         0\n",
       "QT_PESSOAS_CASA                 0\n",
       "RENDA_MENSAL                    0\n",
       "NU_NOTA_GERAL                   0\n",
       "TARGET                          0\n",
       "dtype: int64"
      ]
     },
     "execution_count": 37,
     "metadata": {},
     "output_type": "execute_result"
    }
   ],
   "source": [
    "CENSO_ENEM_19.isnull().sum()\n"
   ]
  },
  {
   "cell_type": "code",
   "execution_count": null,
   "metadata": {},
   "outputs": [],
   "source": []
  }
 ],
 "metadata": {
  "kernelspec": {
   "display_name": "Python 3",
   "language": "python",
   "name": "python3"
  },
  "language_info": {
   "codemirror_mode": {
    "name": "ipython",
    "version": 3
   },
   "file_extension": ".py",
   "mimetype": "text/x-python",
   "name": "python",
   "nbconvert_exporter": "python",
   "pygments_lexer": "ipython3",
   "version": "3.7.6"
  }
 },
 "nbformat": 4,
 "nbformat_minor": 4
}
