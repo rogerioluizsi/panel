{
 "cells": [
  {
   "cell_type": "code",
   "execution_count": 1,
   "metadata": {
    "ExecuteTime": {
     "end_time": "2020-07-10T20:06:50.533529Z",
     "start_time": "2020-07-10T20:06:45.642828Z"
    }
   },
   "outputs": [],
   "source": [
    "import time\n",
    "import pandas as pd\n",
    "import warnings\n",
    "import feather\n",
    "warnings.filterwarnings('ignore')\n",
    "from pandas.api.types import is_string_dtype\n",
    "from pandas.api.types import is_numeric_dtype\n",
    "pd.set_option('display.max_columns', None)"
   ]
  },
  {
   "cell_type": "code",
   "execution_count": 2,
   "metadata": {
    "ExecuteTime": {
     "end_time": "2020-07-10T20:08:52.161509Z",
     "start_time": "2020-07-10T20:06:50.538483Z"
    }
   },
   "outputs": [],
   "source": [
    "DF_09 = pd.read_csv('2009/STUDENT.csv')\n",
    "DF_10 = pd.read_csv('2010/STUDENT.csv')\n",
    "DF_11 = pd.read_csv('2011/STUDENT.csv')\n",
    "DF_12 = pd.read_csv('2012/STUDENT.csv')\n",
    "DF_13 = pd.read_csv('2013/STUDENT.csv')\n",
    "DF_14 = pd.read_csv('2014/STUDENT.csv')\n",
    "DF_15 = pd.read_csv('2015/STUDENT.csv')\n",
    "DF_16 = pd.read_csv('2016/STUDENT.csv')\n",
    "DF_17 = pd.read_csv('2017/STUDENT.csv')\n",
    "DF_18 = pd.read_csv('2018/STUDENT.csv')"
   ]
  },
  {
   "cell_type": "code",
   "execution_count": 3,
   "metadata": {
    "ExecuteTime": {
     "end_time": "2020-07-10T20:08:59.268791Z",
     "start_time": "2020-07-10T20:08:52.167356Z"
    }
   },
   "outputs": [],
   "source": [
    "DF = pd.concat([DF_09,DF_10,DF_11,DF_12,DF_13,DF_14,DF_15,DF_16,DF_17,DF_18])"
   ]
  },
  {
   "cell_type": "code",
   "execution_count": 4,
   "metadata": {
    "ExecuteTime": {
     "end_time": "2020-07-10T20:08:59.288328Z",
     "start_time": "2020-07-10T20:08:59.271818Z"
    }
   },
   "outputs": [
    {
     "data": {
      "text/plain": [
       "Index(['Unnamed: 0', 'CO_ANO', 'CO_ESCOLA', 'NU_IDADE', 'TP_SEXO',\n",
       "       'TP_COR_RACA', 'TP_ST_CONCLUSAO', 'NU_NOTA_CN', 'NU_NOTA_CH',\n",
       "       'NU_NOTA_LC', 'NU_NOTA_MT', 'NU_NOTA_REDACAO', 'EDU_PAI', 'EDU_MAE',\n",
       "       'QT_PESSOAS_CASA', 'RENDA_MENSAL', 'NU_NOTA_GERAL', 'CO_MUNICIPIO',\n",
       "       'CO_UF', 'CO_DEPENDENCIA_ADM', 'IN_AGUA_INEXISTENTE',\n",
       "       'IN_ESGOTO_INEXISTENTE', 'IN_ENERGIA_INEXISTENTE',\n",
       "       'IN_LABORATORIO_INFORMATICA', 'IN_LABORATORIO_CIENCIAS',\n",
       "       'IN_SALA_ATENDIMENTO_ESPECIAL', 'IN_BIBLIOTECA', 'IN_SALA_LEITURA',\n",
       "       'IN_BANHEIRO_FORA_PREDIO', 'IN_BANHEIRO_PNE', 'IN_DEPENDENCIAS_PNE',\n",
       "       'QT_SALAS_UTILIZADAS', 'QT_EQUIP_TV', 'QT_EQUIP_DVD',\n",
       "       'QT_EQUIP_COPIADORA', 'QT_EQUIP_IMPRESSORA', 'QT_COM_ADMINISTRATIVO',\n",
       "       'QT_COMP_ALUNO', 'IN_INTERNET', 'IN_BANDA_LARGA', 'QT_FUNCIONARIOS',\n",
       "       'IN_ALIMENTACAO', 'IN_ESPECIALIZACAO', 'IN_MESTRADO', 'IN_DOUTORADO',\n",
       "       'TITULACAO', 'NU_GRADUACAO', 'NU_ESPECIALIZACAO', 'NU_MESTRADO',\n",
       "       'NU_DOUTORADO', 'TP_COR_RACA_TEMP'],\n",
       "      dtype='object')"
      ]
     },
     "execution_count": 4,
     "metadata": {},
     "output_type": "execute_result"
    }
   ],
   "source": [
    "DF.columns"
   ]
  },
  {
   "cell_type": "code",
   "execution_count": 5,
   "metadata": {
    "ExecuteTime": {
     "end_time": "2020-07-10T20:09:11.601369Z",
     "start_time": "2020-07-10T20:08:59.291140Z"
    }
   },
   "outputs": [],
   "source": [
    "enem = [\n",
    "'CO_ANO',\n",
    "'CO_ESCOLA',\n",
    "'CO_UF',\n",
    "'CO_MUNICIPIO',\n",
    "'TP_ENSINO',\n",
    "'NU_IDADE',\n",
    "'TP_SEXO',\n",
    "'TP_COR_RACA',\n",
    "'TP_ST_CONCLUSAO',\n",
    "'NU_NOTA_CN',\n",
    "'NU_NOTA_CH',\n",
    "'NU_NOTA_LC',\n",
    "'NU_NOTA_MT',\n",
    "'NU_NOTA_REDACAO',\n",
    "'EDU_PAI',\n",
    "'EDU_MAE',\n",
    "'QT_PESSOAS_CASA',\n",
    "'RENDA_MENSAL',\n",
    "'CO_DEPENDENCIA_ADM',\n",
    "'NU_NOTA_GERAL', \n",
    "'TARGET'\n",
    "]\n",
    "DF = DF.filter(items = enem )"
   ]
  },
  {
   "cell_type": "code",
   "execution_count": 6,
   "metadata": {
    "ExecuteTime": {
     "end_time": "2020-07-10T20:09:13.056575Z",
     "start_time": "2020-07-10T20:09:11.615341Z"
    }
   },
   "outputs": [
    {
     "data": {
      "text/html": [
       "<div>\n",
       "<style scoped>\n",
       "    .dataframe tbody tr th:only-of-type {\n",
       "        vertical-align: middle;\n",
       "    }\n",
       "\n",
       "    .dataframe tbody tr th {\n",
       "        vertical-align: top;\n",
       "    }\n",
       "\n",
       "    .dataframe thead th {\n",
       "        text-align: right;\n",
       "    }\n",
       "</style>\n",
       "<table border=\"1\" class=\"dataframe\">\n",
       "  <thead>\n",
       "    <tr style=\"text-align: right;\">\n",
       "      <th></th>\n",
       "      <th>CO_ANO</th>\n",
       "      <th>CO_ESCOLA</th>\n",
       "      <th>CO_UF</th>\n",
       "      <th>CO_MUNICIPIO</th>\n",
       "      <th>NU_IDADE</th>\n",
       "      <th>TP_SEXO</th>\n",
       "      <th>TP_COR_RACA</th>\n",
       "      <th>TP_ST_CONCLUSAO</th>\n",
       "      <th>NU_NOTA_CN</th>\n",
       "      <th>NU_NOTA_CH</th>\n",
       "      <th>NU_NOTA_LC</th>\n",
       "      <th>NU_NOTA_MT</th>\n",
       "      <th>NU_NOTA_REDACAO</th>\n",
       "      <th>EDU_PAI</th>\n",
       "      <th>EDU_MAE</th>\n",
       "      <th>QT_PESSOAS_CASA</th>\n",
       "      <th>RENDA_MENSAL</th>\n",
       "      <th>CO_DEPENDENCIA_ADM</th>\n",
       "      <th>NU_NOTA_GERAL</th>\n",
       "    </tr>\n",
       "  </thead>\n",
       "  <tbody>\n",
       "    <tr>\n",
       "      <th>miss</th>\n",
       "      <td>0</td>\n",
       "      <td>0</td>\n",
       "      <td>0</td>\n",
       "      <td>0</td>\n",
       "      <td>0</td>\n",
       "      <td>0</td>\n",
       "      <td>0</td>\n",
       "      <td>0.0964968</td>\n",
       "      <td>0</td>\n",
       "      <td>0</td>\n",
       "      <td>0</td>\n",
       "      <td>0</td>\n",
       "      <td>0</td>\n",
       "      <td>0</td>\n",
       "      <td>0</td>\n",
       "      <td>0</td>\n",
       "      <td>0</td>\n",
       "      <td>0</td>\n",
       "      <td>0</td>\n",
       "    </tr>\n",
       "    <tr>\n",
       "      <th>type</th>\n",
       "      <td>int64</td>\n",
       "      <td>float64</td>\n",
       "      <td>int64</td>\n",
       "      <td>int64</td>\n",
       "      <td>float64</td>\n",
       "      <td>int64</td>\n",
       "      <td>float64</td>\n",
       "      <td>float64</td>\n",
       "      <td>float64</td>\n",
       "      <td>float64</td>\n",
       "      <td>float64</td>\n",
       "      <td>float64</td>\n",
       "      <td>float64</td>\n",
       "      <td>int64</td>\n",
       "      <td>int64</td>\n",
       "      <td>float64</td>\n",
       "      <td>int64</td>\n",
       "      <td>int64</td>\n",
       "      <td>float64</td>\n",
       "    </tr>\n",
       "  </tbody>\n",
       "</table>\n",
       "</div>"
      ],
      "text/plain": [
       "     CO_ANO CO_ESCOLA  CO_UF CO_MUNICIPIO NU_IDADE TP_SEXO TP_COR_RACA  \\\n",
       "miss      0         0      0            0        0       0           0   \n",
       "type  int64   float64  int64        int64  float64   int64     float64   \n",
       "\n",
       "     TP_ST_CONCLUSAO NU_NOTA_CN NU_NOTA_CH NU_NOTA_LC NU_NOTA_MT  \\\n",
       "miss       0.0964968          0          0          0          0   \n",
       "type         float64    float64    float64    float64    float64   \n",
       "\n",
       "     NU_NOTA_REDACAO EDU_PAI EDU_MAE QT_PESSOAS_CASA RENDA_MENSAL  \\\n",
       "miss               0       0       0               0            0   \n",
       "type         float64   int64   int64         float64        int64   \n",
       "\n",
       "     CO_DEPENDENCIA_ADM NU_NOTA_GERAL  \n",
       "miss                  0             0  \n",
       "type              int64       float64  "
      ]
     },
     "execution_count": 6,
     "metadata": {},
     "output_type": "execute_result"
    }
   ],
   "source": [
    "k= pd.DataFrame()\n",
    "k['miss'] = DF.isnull().sum()/DF.shape[0]\n",
    "k['type'] = DF.dtypes\n",
    "k.T"
   ]
  },
  {
   "cell_type": "code",
   "execution_count": 7,
   "metadata": {
    "ExecuteTime": {
     "end_time": "2020-07-10T20:09:13.534460Z",
     "start_time": "2020-07-10T20:09:13.062272Z"
    }
   },
   "outputs": [],
   "source": [
    "#by context, lets fill it with 0\n",
    "DF.fillna(0, inplace=True,)"
   ]
  },
  {
   "cell_type": "code",
   "execution_count": 8,
   "metadata": {
    "ExecuteTime": {
     "end_time": "2020-07-10T20:09:13.850109Z",
     "start_time": "2020-07-10T20:09:13.541891Z"
    }
   },
   "outputs": [
    {
     "data": {
      "text/plain": [
       "2    7515288\n",
       "4    2411583\n",
       "1     251243\n",
       "3      97007\n",
       "Name: CO_DEPENDENCIA_ADM, dtype: int64"
      ]
     },
     "execution_count": 8,
     "metadata": {},
     "output_type": "execute_result"
    }
   ],
   "source": [
    "DF.CO_DEPENDENCIA_ADM.value_counts()"
   ]
  },
  {
   "cell_type": "code",
   "execution_count": 9,
   "metadata": {
    "ExecuteTime": {
     "end_time": "2020-07-10T20:10:38.188080Z",
     "start_time": "2020-07-10T20:09:13.854803Z"
    }
   },
   "outputs": [],
   "source": [
    "DF.loc[(DF.CO_DEPENDENCIA_ADM== 2) | (DF.CO_DEPENDENCIA_ADM == 3), 'CO_DEPENDENCIA_ADM']= 'Municipal+Estadual'\n",
    "DF.loc[(DF.CO_DEPENDENCIA_ADM == 4), 'CO_DEPENDENCIA_ADM'] = 'Privada'\n",
    "DF.loc[(DF.CO_DEPENDENCIA_ADM == 1), 'CO_DEPENDENCIA_ADM'] = 'Federal'\n",
    "\n",
    "\n",
    "DF.loc[(DF.TP_COR_RACA == 0), 'TP_COR_RACA'] = 'Não declarada'\n",
    "DF.loc[(DF.TP_COR_RACA == 1), 'TP_COR_RACA'] = 'Branca'\n",
    "DF.loc[(DF.TP_COR_RACA == 2), 'TP_COR_RACA'] = 'Preta'\n",
    "DF.loc[(DF.TP_COR_RACA == 3), 'TP_COR_RACA'] = 'Parda'\n",
    "DF.loc[(DF.TP_COR_RACA == 4), 'TP_COR_RACA'] = 'Amarela'\n",
    "DF.loc[(DF.TP_COR_RACA == 5), 'TP_COR_RACA'] = 'Indígena'\n",
    "\n",
    "DF.loc[(DF.TP_SEXO == 0), 'TP_SEXO'] = 'Feminino'\n",
    "DF.loc[(DF.TP_SEXO == 1), 'TP_SEXO'] = 'Masculino'\n",
    "\n",
    "DF.loc[(DF.EDU_PAI == 0), 'EDU_PAI'] = '< 4ªSérie/Não sei'\n",
    "DF.loc[(DF.EDU_PAI == 1), 'EDU_PAI'] = '4ª Série'\n",
    "DF.loc[(DF.EDU_PAI == 2), 'EDU_PAI'] = '8ª Série'\n",
    "DF.loc[(DF.EDU_PAI == 3), 'EDU_PAI'] = 'Ens. Médio'\n",
    "DF.loc[(DF.EDU_PAI == 4), 'EDU_PAI'] = 'Faculdade'\n",
    "DF.loc[(DF.EDU_PAI == 5), 'EDU_PAI'] = 'Pós-Gradução'\n",
    "\n",
    "\n",
    "DF.loc[(DF.EDU_MAE == 0), 'EDU_MAE'] = '< 4ªSérie/Não sei'\n",
    "DF.loc[(DF.EDU_MAE == 1), 'EDU_MAE'] = '4ª Série'\n",
    "DF.loc[(DF.EDU_MAE == 2), 'EDU_MAE'] = '8ª Série'\n",
    "DF.loc[(DF.EDU_MAE == 3), 'EDU_MAE'] = 'Ens. Médio'\n",
    "DF.loc[(DF.EDU_MAE == 4), 'EDU_MAE'] = 'Faculdade'\n",
    "DF.loc[(DF.EDU_MAE == 5), 'EDU_MAE'] = 'Pós-Gradução'\n",
    "\n",
    "\n",
    "DF.loc[(DF.RENDA_MENSAL == 0), 'RENDA_MENSAL'] = 'Nenhuma'\n",
    "DF.loc[(DF.RENDA_MENSAL == 1), 'RENDA_MENSAL'] = 'Até 1 sal.'\n",
    "DF.loc[(DF.RENDA_MENSAL == 2), 'RENDA_MENSAL'] = '1 a 2 sal.'\n",
    "DF.loc[(DF.RENDA_MENSAL == 3), 'RENDA_MENSAL'] = '2 a 5 sal.'\n",
    "DF.loc[(DF.RENDA_MENSAL == 4), 'RENDA_MENSAL'] = '5 a 10 sal.'\n",
    "DF.loc[(DF.RENDA_MENSAL == 5), 'RENDA_MENSAL'] = 'Acima de 10 sal.'\n",
    "\n"
   ]
  },
  {
   "cell_type": "code",
   "execution_count": 18,
   "metadata": {
    "ExecuteTime": {
     "end_time": "2020-07-10T20:32:43.478721Z",
     "start_time": "2020-07-10T20:32:41.301269Z"
    }
   },
   "outputs": [],
   "source": [
    "DF['STD_MEAN'] = DF.groupby(['CO_ANO','CO_ESCOLA'])['NU_NOTA_GERAL'].transform('std')"
   ]
  },
  {
   "cell_type": "code",
   "execution_count": 19,
   "metadata": {
    "ExecuteTime": {
     "end_time": "2020-07-10T20:46:09.831272Z",
     "start_time": "2020-07-10T20:39:39.858485Z"
    }
   },
   "outputs": [],
   "source": [
    "DF.to_csv('ALL_STUDENTS.csv', index =False)"
   ]
  },
  {
   "cell_type": "code",
   "execution_count": null,
   "metadata": {},
   "outputs": [],
   "source": []
  }
 ],
 "metadata": {
  "kernelspec": {
   "display_name": "Python 3",
   "language": "python",
   "name": "python3"
  },
  "language_info": {
   "codemirror_mode": {
    "name": "ipython",
    "version": 3
   },
   "file_extension": ".py",
   "mimetype": "text/x-python",
   "name": "python",
   "nbconvert_exporter": "python",
   "pygments_lexer": "ipython3",
   "version": "3.7.6"
  }
 },
 "nbformat": 4,
 "nbformat_minor": 4
}
