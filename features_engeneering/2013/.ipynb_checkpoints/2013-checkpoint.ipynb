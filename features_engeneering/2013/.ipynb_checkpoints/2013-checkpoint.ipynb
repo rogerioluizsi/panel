{
 "cells": [
  {
   "cell_type": "code",
   "execution_count": 1,
   "metadata": {
    "ExecuteTime": {
     "end_time": "2020-04-19T20:13:14.742477Z",
     "start_time": "2020-04-19T20:13:09.698612Z"
    }
   },
   "outputs": [],
   "source": [
    "import time\n",
    "import pandas as pd\n",
    "import warnings\n",
    "import feather\n",
    "warnings.filterwarnings('ignore')\n",
    "from pandas.api.types import is_string_dtype\n",
    "from pandas.api.types import is_numeric_dtype\n",
    "pd.set_option('display.max_columns', None)"
   ]
  },
  {
   "cell_type": "code",
   "execution_count": 2,
   "metadata": {
    "ExecuteTime": {
     "end_time": "2020-04-19T20:20:47.103481Z",
     "start_time": "2020-04-19T20:13:14.748016Z"
    }
   },
   "outputs": [],
   "source": [
    "#Students of ENEM\n",
    "E = pd.read_csv('~/data/enem/2013/DADOS/MICRODADOS_ENEM_2013.csv', sep=';', encoding=\"iso-8859-2\")\n",
    "E.drop(E.filter(regex='RESPOSTAS|GABARITO').columns, axis=1, inplace = True)"
   ]
  },
  {
   "cell_type": "code",
   "execution_count": 3,
   "metadata": {
    "ExecuteTime": {
     "end_time": "2020-04-19T20:20:54.266648Z",
     "start_time": "2020-04-19T20:20:47.108497Z"
    }
   },
   "outputs": [],
   "source": [
    "#School census data\n",
    "CE =    pd.read_csv(\"~/data/censo/2013/DADOS/ESCOLAS.CSV\", sep='|', encoding=\"iso-8859-2\")"
   ]
  },
  {
   "cell_type": "code",
   "execution_count": 4,
   "metadata": {
    "ExecuteTime": {
     "end_time": "2020-04-19T20:27:26.169556Z",
     "start_time": "2020-04-19T20:21:57.907648Z"
    }
   },
   "outputs": [],
   "source": [
    "#Teacher census data by Braazilian mesoregion\n",
    "CD_CO = pd.read_csv(\"~/data/censo/2013/DADOS/DOCENTES_CO.CSV\", sep='|', encoding=\"iso-8859-2\")\n",
    "CD_NE = pd.read_csv(\"~/data/censo/2013/DADOS/DOCENTES_NORDESTE.CSV\", sep='|', encoding=\"iso-8859-2\")\n",
    "CD_N =  pd.read_csv(\"~/data/censo/2013/DADOS/DOCENTES_NORTE.CSV\", sep='|', encoding=\"iso-8859-2\")\n",
    "CD_SE = pd.read_csv(\"~/data/censo/2013/DADOS/DOCENTES_SUDESTE.CSV\", sep='|', encoding=\"iso-8859-2\")\n",
    "CD_S =  pd.read_csv(\"~/data/censo/2013/DADOS/DOCENTES_SUL.CSV\", sep='|', encoding=\"iso-8859-2\")\n",
    "\n",
    "#All teacher census data\n",
    "CT = pd.concat([CD_CO, CD_NE, CD_N, CD_SE, CD_S])"
   ]
  },
  {
   "cell_type": "code",
   "execution_count": 8,
   "metadata": {
    "ExecuteTime": {
     "end_time": "2020-04-19T20:29:06.906141Z",
     "start_time": "2020-04-19T20:29:06.901134Z"
    }
   },
   "outputs": [],
   "source": [
    "#print(E.info(memory_usage='deep')) \n",
    "#print(CT.info(memory_usage='deep')) \n",
    "#print(CE.info(memory_usage='deep')) \n",
    "#"
   ]
  },
  {
   "cell_type": "code",
   "execution_count": 9,
   "metadata": {
    "ExecuteTime": {
     "end_time": "2020-04-19T20:37:37.704560Z",
     "start_time": "2020-04-19T20:29:08.168974Z"
    }
   },
   "outputs": [],
   "source": [
    "#dowcasting numeric feature of some data to improve memory usage.\n",
    "obj_cols = E.filter(regex = 'Q\\d*', axis=1).columns.to_list()\n",
    "E[obj_cols] = E[obj_cols].astype('category')\n",
    "\n",
    "num_cols = E.select_dtypes(include =['int']).columns\n",
    "E[num_cols]= E[num_cols].apply(pd.to_numeric,downcast='unsigned')\n"
   ]
  },
  {
   "cell_type": "code",
   "execution_count": 10,
   "metadata": {
    "ExecuteTime": {
     "end_time": "2020-04-19T20:50:01.268645Z",
     "start_time": "2020-04-19T20:43:11.323250Z"
    }
   },
   "outputs": [],
   "source": [
    "flo_cols = E.select_dtypes(include =['float']).columns\n",
    "E[flo_cols]= E[flo_cols].apply(pd.to_numeric,downcast='float')\n",
    "\n",
    "\n",
    "#CT main problems\n",
    "num_cols = CT.select_dtypes(include =['int']).columns\n",
    "CT[num_cols]= CT[num_cols].apply(pd.to_numeric,downcast='unsigned')\n",
    "\n",
    "flo_cols = CT.select_dtypes(include =['float']).columns\n",
    "CT[flo_cols]= CT[flo_cols].apply(pd.to_numeric,downcast='float')"
   ]
  },
  {
   "cell_type": "code",
   "execution_count": 11,
   "metadata": {
    "ExecuteTime": {
     "end_time": "2020-04-19T20:51:11.909289Z",
     "start_time": "2020-04-19T20:50:41.269152Z"
    }
   },
   "outputs": [],
   "source": [
    "obj_cols = CT.select_dtypes(include =['object']).columns\n",
    "CT[obj_cols] = CT[obj_cols].astype('category')\n",
    "\n",
    "obj_cols = CE.select_dtypes(include =['object']).columns\n",
    "CE[obj_cols] = CE[obj_cols].astype('category')\n",
    "\n",
    "#ID columns = already known as categorical\n",
    "id_cols = CE.filter(regex = 'ID', axis=1).columns.to_list()\n",
    "CE[id_cols] = CE[id_cols].astype('category')"
   ]
  },
  {
   "cell_type": "code",
   "execution_count": 12,
   "metadata": {
    "ExecuteTime": {
     "end_time": "2020-04-19T20:51:43.796076Z",
     "start_time": "2020-04-19T20:51:36.635869Z"
    }
   },
   "outputs": [],
   "source": [
    "#removing faulty columns to convert the frame to fast type. This columns won't be useful.\n",
    "CT.drop('FK_COD_AREA_OCDE_3', inplace = True, axis= 1)\n",
    "CT.drop('FK_COD_AREA_OCDE_2', inplace = True, axis= 1)\n",
    "CE.drop('COD_ORGAO_REGIONAL_INEP', inplace = True, axis= 1)"
   ]
  },
  {
   "cell_type": "code",
   "execution_count": 13,
   "metadata": {
    "ExecuteTime": {
     "end_time": "2020-04-19T20:51:45.622120Z",
     "start_time": "2020-04-19T20:51:45.615822Z"
    }
   },
   "outputs": [],
   "source": [
    "# 35% LOWER OF  INITIAL MEMORY USE\n",
    "#print(E.info(memory_usage='deep')) \n",
    "#print(CT.info(memory_usage='deep')) \n",
    "#print(CE.info(memory_usage='deep')) "
   ]
  },
  {
   "cell_type": "code",
   "execution_count": 15,
   "metadata": {
    "ExecuteTime": {
     "end_time": "2020-04-19T20:58:30.304024Z",
     "start_time": "2020-04-19T20:57:12.949982Z"
    }
   },
   "outputs": [],
   "source": [
    "#Write on disk the typed and faster data.\n",
    "E.to_feather('E.feather')\n",
    "CT.reset_index().to_feather ('CT.feather')\n",
    "CE.to_feather ('CE.feather')\n"
   ]
  },
  {
   "cell_type": "markdown",
   "metadata": {
    "ExecuteTime": {
     "end_time": "2020-04-02T23:15:58.994825Z",
     "start_time": "2020-04-02T23:15:58.972231Z"
    }
   },
   "source": [
    "### If it is not the first time, start from this point"
   ]
  },
  {
   "cell_type": "code",
   "execution_count": 112,
   "metadata": {
    "ExecuteTime": {
     "end_time": "2020-05-04T22:41:11.694247Z",
     "start_time": "2020-05-04T22:41:00.025447Z"
    }
   },
   "outputs": [],
   "source": [
    "import time\n",
    "import pandas as pd\n",
    "import numpy as np\n",
    "import warnings\n",
    "import feather\n",
    "warnings.filterwarnings('ignore')\n",
    "from pandas.api.types import is_string_dtype\n",
    "from pandas.api.types import is_numeric_dtype\n",
    "pd.set_option('display.max_columns', None)\n",
    "\n",
    "\n",
    "ENEM = pd.read_feather('E.feather')\n",
    "C_TEACHER = pd.read_feather('CT.feather')\n",
    "C_SCHOOL  = pd.read_feather ('CE.feather')"
   ]
  },
  {
   "cell_type": "markdown",
   "metadata": {},
   "source": [
    "There are many insignificant features to our work, like codes, PK, FK and out of context. \n",
    "Based on prior works and experience of especialists, will be taken off nonsense features. \n",
    "A study was carried out on the evolution and correspondence of these resources in the ENEM and Census\n",
    "data for the period 2009-2018. See (featuresOrganisaton.xls)"
   ]
  },
  {
   "cell_type": "code",
   "execution_count": 113,
   "metadata": {
    "ExecuteTime": {
     "end_time": "2020-05-04T22:41:12.704854Z",
     "start_time": "2020-05-04T22:41:11.699228Z"
    }
   },
   "outputs": [],
   "source": [
    "teacher = ['FK_COD_DOCENTE', 'PK_COD_ENTIDADE','ID_ESPECIALIZACAO','ID_MESTRADO','ID_DOUTORADO']\n",
    "\n",
    "C_TEACHER = C_TEACHER [teacher]\n",
    "\n",
    "# New default column names for all Datasets\n",
    "newNames = [\n",
    "'CO_PROFESSOR',\n",
    "'CO_ESCOLA',  \n",
    "'IN_ESPECIALIZACAO',\n",
    "'IN_MESTRADO',\n",
    "'IN_DOUTORADO'\n",
    "]\n",
    "#Rename\n",
    "C_TEACHER.columns = newNames\n",
    "#convert Keys to Str\n",
    "C_TEACHER.CO_PROFESSOR = C_TEACHER.CO_PROFESSOR.astype('int32')\n",
    "C_TEACHER.CO_ESCOLA = C_TEACHER.CO_ESCOLA.astype('int32')"
   ]
  },
  {
   "cell_type": "code",
   "execution_count": 114,
   "metadata": {
    "ExecuteTime": {
     "end_time": "2020-05-04T22:41:12.808499Z",
     "start_time": "2020-05-04T22:41:12.711307Z"
    }
   },
   "outputs": [
    {
     "name": "stdout",
     "output_type": "stream",
     "text": [
      "Checking year of censo [2013]\n"
     ]
    }
   ],
   "source": [
    "school = ['ANO_CENSO','PK_COD_ENTIDADE', 'FK_COD_MUNICIPIO','FK_COD_ESTADO','ID_DEPENDENCIA_ADM','ID_AGUA_INEXISTENTE',\n",
    "                  'ID_ESGOTO_INEXISTENTE','ID_ENERGIA_INEXISTENTE',\n",
    "                   'ID_LABORATORIO_INFORMATICA','ID_LABORATORIO_CIENCIAS','ID_SALA_ATENDIMENTO_ESPECIAL',\n",
    "                   'ID_BIBLIOTECA','ID_SALA_LEITURA','ID_SANITARIO_FORA_PREDIO',\n",
    "                   'ID_SANITARIO_PNE','ID_DEPENDENCIAS_PNE','NUM_SALAS_UTILIZADAS','NUM_EQUIP_TV',\n",
    "                   'NUM_EQUIP_DVD','NUM_EQUIP_COPIADORA','NUM_EQUIP_IMPRESSORA','NUM_COMP_ADMINISTRATIVOS',\n",
    "                   'NUM_COMP_ALUNOS','ID_INTERNET','ID_BANDA_LARGA','NUM_FUNCIONARIOS','ID_ALIMENTACAO']\n",
    "\n",
    "C_SCHOOL = C_SCHOOL[school]\n",
    "\n",
    "\n",
    "# New default column names for all Datasets\n",
    "newNames = ['ANO_CENSO',\n",
    "'CO_ESCOLA',\n",
    " 'CO_MUNICIPIO',\n",
    " 'CO_UF',\n",
    " 'CO_DEPENDENCIA_ADM',\n",
    " 'IN_AGUA_INEXISTENTE',\n",
    " 'IN_ESGOTO_INEXISTENTE',\n",
    " 'IN_ENERGIA_INEXISTENTE',\n",
    " 'IN_LABORATORIO_INFORMATICA',\n",
    " 'IN_LABORATORIO_CIENCIAS',\n",
    " 'IN_SALA_ATENDIMENTO_ESPECIAL',\n",
    " 'IN_BIBLIOTECA',\n",
    " 'IN_SALA_LEITURA',\n",
    " 'IN_BANHEIRO_FORA_PREDIO',\n",
    " 'IN_BANHEIRO_PNE',\n",
    " 'IN_DEPENDENCIAS_PNE',\n",
    " 'QT_SALAS_UTILIZADAS',\n",
    " 'QT_EQUIP_TV',\n",
    " 'QT_EQUIP_DVD',\n",
    " 'QT_EQUIP_COPIADORA',\n",
    " 'QT_EQUIP_IMPRESSORA',\n",
    " 'QT_COM_ADMINISTRATIVO',\n",
    " 'QT_COMP_ALUNO',\n",
    " 'IN_INTERNET',\n",
    " 'IN_BANDA_LARGA',\n",
    " 'QT_FUNCIONARIOS',\n",
    " 'IN_ALIMENTACAO'\n",
    "]\n",
    "\n",
    "#Rename \n",
    "C_SCHOOL.columns =  newNames\n",
    "#convert Keys to Str\n",
    "C_SCHOOL.CO_ESCOLA = C_SCHOOL.CO_ESCOLA.astype('int32')\n",
    "print('Checking year of censo',C_SCHOOL.ANO_CENSO.unique())\n",
    "C_SCHOOL.drop('ANO_CENSO', axis=1, inplace=True)"
   ]
  },
  {
   "cell_type": "code",
   "execution_count": 115,
   "metadata": {
    "ExecuteTime": {
     "end_time": "2020-05-04T22:41:13.886919Z",
     "start_time": "2020-05-04T22:41:12.819848Z"
    }
   },
   "outputs": [],
   "source": [
    "enem = ['NU_ANO','COD_ESCOLA','IN_TP_ENSINO','IDADE','TP_SEXO','TP_COR_RACA','ST_CONCLUSAO','NOTA_CN',\n",
    "        'NOTA_CH','NOTA_LC','NOTA_MT','NU_NOTA_REDACAO','Q001','Q002','Q004','Q003'\n",
    "]\n",
    "\n",
    "\n",
    "ENEM = ENEM[enem]\n",
    "\n",
    "# New default column names for all Datasets\n",
    "newNames = [\n",
    "'CO_ANO',\n",
    "'CO_ESCOLA',\n",
    "'TP_ENSINO',\n",
    "'NU_IDADE',\n",
    "'TP_SEXO',\n",
    "'TP_COR_RACA',\n",
    "'TP_ST_CONCLUSAO',\n",
    "'NU_NOTA_CN',\n",
    "'NU_NOTA_CH',\n",
    "'NU_NOTA_LC',\n",
    "'NU_NOTA_MT',\n",
    "'NU_NOTA_REDACAO',\n",
    "'EDU_PAI',\n",
    "'EDU_MAE',\n",
    "'QT_PESSOAS_CASA',\n",
    "'RENDA_MENSAL'\n",
    "]\n",
    "\n",
    "#Rename\n",
    "ENEM.columns = newNames"
   ]
  },
  {
   "cell_type": "markdown",
   "metadata": {
    "ExecuteTime": {
     "end_time": "2020-04-23T20:23:20.232927Z",
     "start_time": "2020-04-23T20:23:09.270248Z"
    }
   },
   "source": [
    "### Stranger Patterns"
   ]
  },
  {
   "cell_type": "code",
   "execution_count": 116,
   "metadata": {
    "ExecuteTime": {
     "end_time": "2020-05-04T22:41:14.288157Z",
     "start_time": "2020-05-04T22:41:13.892853Z"
    }
   },
   "outputs": [
    {
     "name": "stdout",
     "output_type": "stream",
     "text": [
      "EDU_PAI ['B', 'E', 'C', 'I', 'A', 'G', 'D', 'F', 'H']\n",
      "EDU_MAE ['B', 'E', 'C', 'G', 'D', 'A', 'H', 'I', 'F']\n",
      "QT_PESSOAS_CASA [4, 3, 5, 2, 6, 7, 1, 8, 9, 10, 11, 12, 13, 14, 20, 15, 16, 18, 17, 19]\n",
      "RENDA_MENSAL ['B', 'C', 'D', 'E', 'F', 'G', 'H', 'I', 'A', 'K', 'J', 'Q', 'N', 'L', 'O', 'M', 'P']\n"
     ]
    }
   ],
   "source": [
    "#NO\n",
    "for i in ENEM.select_dtypes(include =['category']).columns:\n",
    "    print(i, list(ENEM[i].value_counts().index))"
   ]
  },
  {
   "cell_type": "code",
   "execution_count": 117,
   "metadata": {
    "ExecuteTime": {
     "end_time": "2020-05-04T22:41:14.471700Z",
     "start_time": "2020-05-04T22:41:14.293052Z"
    }
   },
   "outputs": [
    {
     "name": "stdout",
     "output_type": "stream",
     "text": [
      "CO_DEPENDENCIA_ADM [3, 4, 2, 1]\n",
      "IN_AGUA_INEXISTENTE [0.0, 1.0]\n",
      "IN_ESGOTO_INEXISTENTE [0.0, 1.0]\n",
      "IN_ENERGIA_INEXISTENTE [0.0, 1.0]\n",
      "IN_LABORATORIO_INFORMATICA [0, 1]\n",
      "IN_LABORATORIO_CIENCIAS [0, 1]\n",
      "IN_SALA_ATENDIMENTO_ESPECIAL [0, 1]\n",
      "IN_BIBLIOTECA [0, 1]\n",
      "IN_SALA_LEITURA [0, 1]\n",
      "IN_BANHEIRO_FORA_PREDIO [0, 1]\n",
      "IN_BANHEIRO_PNE [0, 1]\n",
      "IN_DEPENDENCIAS_PNE [0, 1]\n",
      "IN_INTERNET [1.0, 0.0]\n",
      "IN_BANDA_LARGA [1.0, 0.0]\n",
      "IN_ALIMENTACAO [1.0, 0.0]\n"
     ]
    }
   ],
   "source": [
    "for i in C_SCHOOL.select_dtypes(include =['category']).columns:\n",
    "    print(i, list(C_SCHOOL[i].value_counts().index))"
   ]
  },
  {
   "cell_type": "markdown",
   "metadata": {
    "ExecuteTime": {
     "end_time": "2020-04-23T20:23:20.795559Z",
     "start_time": "2020-04-23T20:23:20.713802Z"
    }
   },
   "source": [
    "### Minimum Scope Definition"
   ]
  },
  {
   "cell_type": "code",
   "execution_count": 118,
   "metadata": {
    "ExecuteTime": {
     "end_time": "2020-05-04T22:41:15.153464Z",
     "start_time": "2020-05-04T22:41:14.477955Z"
    }
   },
   "outputs": [],
   "source": [
    "ENEM.dropna(inplace = True, axis=0, subset = ['CO_ESCOLA'])\n",
    "ENEM.CO_ESCOLA = ENEM.CO_ESCOLA.astype('int32')"
   ]
  },
  {
   "cell_type": "code",
   "execution_count": 119,
   "metadata": {
    "ExecuteTime": {
     "end_time": "2020-05-04T22:41:15.203758Z",
     "start_time": "2020-05-04T22:41:15.161685Z"
    }
   },
   "outputs": [
    {
     "data": {
      "text/plain": [
       "TP_ST_CONCLUSAO       0\n",
       "TP_ENSINO          7297\n",
       "dtype: int64"
      ]
     },
     "execution_count": 119,
     "metadata": {},
     "output_type": "execute_result"
    }
   ],
   "source": [
    "#should care about the nulls into scope filter features?\n",
    "filters = (['TP_ST_CONCLUSAO', 'TP_ENSINO'])\n",
    "ENEM[filters].isnull().sum()\n",
    "#NO, IT'S LOWER\n"
   ]
  },
  {
   "cell_type": "code",
   "execution_count": 120,
   "metadata": {
    "ExecuteTime": {
     "end_time": "2020-05-04T22:41:15.581368Z",
     "start_time": "2020-05-04T22:41:15.211415Z"
    }
   },
   "outputs": [
    {
     "name": "stdout",
     "output_type": "stream",
     "text": [
      "drop out 1635848 who not attend regular and prof approachs schools\n"
     ]
    }
   ],
   "source": [
    "print('drop out',((ENEM.TP_ENSINO!= 1)|(ENEM.TP_ENSINO!= 3)).sum(), 'who not attend regular and prof approachs schools')\n",
    "ENEM = ENEM.loc[((ENEM.TP_ENSINO== 1)|(ENEM.TP_ENSINO== 3))]\n",
    "ENEM.drop('TP_ENSINO', inplace = True, axis =1)"
   ]
  },
  {
   "cell_type": "code",
   "execution_count": 121,
   "metadata": {
    "ExecuteTime": {
     "end_time": "2020-05-04T22:41:15.736563Z",
     "start_time": "2020-05-04T22:41:15.586042Z"
    }
   },
   "outputs": [
    {
     "name": "stdout",
     "output_type": "stream",
     "text": [
      "null: NU_NOTA_CN 180365\n",
      "zero: NU_NOTA_CN 0\n",
      "stranger \".\" NU_NOTA_CN 0\n",
      "stranger \"*\" NU_NOTA_CN 0\n",
      "null: NU_NOTA_CH 180365\n",
      "zero: NU_NOTA_CH 0\n",
      "stranger \".\" NU_NOTA_CH 0\n",
      "stranger \"*\" NU_NOTA_CH 0\n",
      "null: NU_NOTA_LC 202699\n",
      "zero: NU_NOTA_LC 0\n",
      "stranger \".\" NU_NOTA_LC 0\n",
      "stranger \"*\" NU_NOTA_LC 0\n",
      "null: NU_NOTA_MT 202699\n",
      "zero: NU_NOTA_MT 0\n",
      "stranger \".\" NU_NOTA_MT 0\n",
      "stranger \"*\" NU_NOTA_MT 0\n",
      "null: NU_NOTA_REDACAO 0\n",
      "zero: NU_NOTA_REDACAO 223663\n",
      "stranger \".\" NU_NOTA_REDACAO 0\n",
      "stranger \"*\" NU_NOTA_REDACAO 0\n"
     ]
    }
   ],
   "source": [
    "fields = (['NU_NOTA_CN', 'NU_NOTA_CH','NU_NOTA_LC','NU_NOTA_MT', 'NU_NOTA_REDACAO'])\n",
    "for i in fields:\n",
    "    print ('null:', i, ENEM[i].isnull().sum())\n",
    "    print ('zero:', i, (ENEM[i]== 0).sum())\n",
    "    print( 'stranger \".\"', i , (ENEM[i]== '.').sum())\n",
    "    print( 'stranger \"*\"', i , (ENEM[i]== '*').sum())\n",
    "    \n",
    "    #, \"and\", ENEM.I==0)\n"
   ]
  },
  {
   "cell_type": "code",
   "execution_count": 122,
   "metadata": {
    "ExecuteTime": {
     "end_time": "2020-05-04T22:41:16.271310Z",
     "start_time": "2020-05-04T22:41:15.740817Z"
    }
   },
   "outputs": [],
   "source": [
    "ENEM.dropna(inplace = True, axis=0, subset=fields)\n",
    "ENEM = ENEM.loc[~(ENEM[fields] == 0).any(axis=1)]"
   ]
  },
  {
   "cell_type": "code",
   "execution_count": 123,
   "metadata": {
    "ExecuteTime": {
     "end_time": "2020-05-04T22:41:16.337300Z",
     "start_time": "2020-05-04T22:41:16.276340Z"
    }
   },
   "outputs": [],
   "source": [
    "ENEM[fields] = ENEM[fields].astype('float32')"
   ]
  },
  {
   "cell_type": "code",
   "execution_count": 124,
   "metadata": {
    "ExecuteTime": {
     "end_time": "2020-05-04T22:41:16.410578Z",
     "start_time": "2020-05-04T22:41:16.343948Z"
    }
   },
   "outputs": [
    {
     "data": {
      "text/plain": [
       "NU_NOTA_CN         float32\n",
       "NU_NOTA_CH         float32\n",
       "NU_NOTA_LC         float32\n",
       "NU_NOTA_MT         float32\n",
       "NU_NOTA_REDACAO    float32\n",
       "dtype: object"
      ]
     },
     "execution_count": 124,
     "metadata": {},
     "output_type": "execute_result"
    }
   ],
   "source": [
    "ENEM[fields].dtypes"
   ]
  },
  {
   "cell_type": "code",
   "execution_count": 125,
   "metadata": {
    "ExecuteTime": {
     "end_time": "2020-05-04T22:41:16.888328Z",
     "start_time": "2020-05-04T22:41:16.415518Z"
    }
   },
   "outputs": [
    {
     "data": {
      "text/html": [
       "<div>\n",
       "<style scoped>\n",
       "    .dataframe tbody tr th:only-of-type {\n",
       "        vertical-align: middle;\n",
       "    }\n",
       "\n",
       "    .dataframe tbody tr th {\n",
       "        vertical-align: top;\n",
       "    }\n",
       "\n",
       "    .dataframe thead th {\n",
       "        text-align: right;\n",
       "    }\n",
       "</style>\n",
       "<table border=\"1\" class=\"dataframe\">\n",
       "  <thead>\n",
       "    <tr style=\"text-align: right;\">\n",
       "      <th></th>\n",
       "      <th>NU_NOTA_CN</th>\n",
       "      <th>NU_NOTA_CH</th>\n",
       "      <th>NU_NOTA_LC</th>\n",
       "      <th>NU_NOTA_MT</th>\n",
       "      <th>NU_NOTA_REDACAO</th>\n",
       "    </tr>\n",
       "  </thead>\n",
       "  <tbody>\n",
       "    <tr>\n",
       "      <th>count</th>\n",
       "      <td>1.224401e+06</td>\n",
       "      <td>1.224401e+06</td>\n",
       "      <td>1.224401e+06</td>\n",
       "      <td>1.224401e+06</td>\n",
       "      <td>1.224401e+06</td>\n",
       "    </tr>\n",
       "    <tr>\n",
       "      <th>mean</th>\n",
       "      <td>4.760624e+02</td>\n",
       "      <td>5.176617e+02</td>\n",
       "      <td>4.921592e+02</td>\n",
       "      <td>5.187007e+02</td>\n",
       "      <td>5.272636e+02</td>\n",
       "    </tr>\n",
       "    <tr>\n",
       "      <th>std</th>\n",
       "      <td>7.644112e+01</td>\n",
       "      <td>8.332471e+01</td>\n",
       "      <td>7.702876e+01</td>\n",
       "      <td>1.047230e+02</td>\n",
       "      <td>1.424099e+02</td>\n",
       "    </tr>\n",
       "    <tr>\n",
       "      <th>min</th>\n",
       "      <td>3.341000e+02</td>\n",
       "      <td>2.995000e+02</td>\n",
       "      <td>2.865000e+02</td>\n",
       "      <td>3.243000e+02</td>\n",
       "      <td>3.400000e+01</td>\n",
       "    </tr>\n",
       "    <tr>\n",
       "      <th>25%</th>\n",
       "      <td>4.183000e+02</td>\n",
       "      <td>4.592000e+02</td>\n",
       "      <td>4.376000e+02</td>\n",
       "      <td>4.392000e+02</td>\n",
       "      <td>4.400000e+02</td>\n",
       "    </tr>\n",
       "    <tr>\n",
       "      <th>50%</th>\n",
       "      <td>4.643000e+02</td>\n",
       "      <td>5.136000e+02</td>\n",
       "      <td>4.948000e+02</td>\n",
       "      <td>5.117000e+02</td>\n",
       "      <td>5.200000e+02</td>\n",
       "    </tr>\n",
       "    <tr>\n",
       "      <th>75%</th>\n",
       "      <td>5.246000e+02</td>\n",
       "      <td>5.725000e+02</td>\n",
       "      <td>5.467000e+02</td>\n",
       "      <td>5.866000e+02</td>\n",
       "      <td>6.200000e+02</td>\n",
       "    </tr>\n",
       "    <tr>\n",
       "      <th>max</th>\n",
       "      <td>8.871000e+02</td>\n",
       "      <td>8.855000e+02</td>\n",
       "      <td>8.133000e+02</td>\n",
       "      <td>9.715000e+02</td>\n",
       "      <td>1.000000e+03</td>\n",
       "    </tr>\n",
       "  </tbody>\n",
       "</table>\n",
       "</div>"
      ],
      "text/plain": [
       "         NU_NOTA_CN    NU_NOTA_CH    NU_NOTA_LC    NU_NOTA_MT  NU_NOTA_REDACAO\n",
       "count  1.224401e+06  1.224401e+06  1.224401e+06  1.224401e+06     1.224401e+06\n",
       "mean   4.760624e+02  5.176617e+02  4.921592e+02  5.187007e+02     5.272636e+02\n",
       "std    7.644112e+01  8.332471e+01  7.702876e+01  1.047230e+02     1.424099e+02\n",
       "min    3.341000e+02  2.995000e+02  2.865000e+02  3.243000e+02     3.400000e+01\n",
       "25%    4.183000e+02  4.592000e+02  4.376000e+02  4.392000e+02     4.400000e+02\n",
       "50%    4.643000e+02  5.136000e+02  4.948000e+02  5.117000e+02     5.200000e+02\n",
       "75%    5.246000e+02  5.725000e+02  5.467000e+02  5.866000e+02     6.200000e+02\n",
       "max    8.871000e+02  8.855000e+02  8.133000e+02  9.715000e+02     1.000000e+03"
      ]
     },
     "execution_count": 125,
     "metadata": {},
     "output_type": "execute_result"
    }
   ],
   "source": [
    "ENEM[fields].describe()"
   ]
  },
  {
   "cell_type": "code",
   "execution_count": 126,
   "metadata": {
    "ExecuteTime": {
     "end_time": "2020-05-04T22:41:40.248085Z",
     "start_time": "2020-05-04T22:41:16.893315Z"
    }
   },
   "outputs": [
    {
     "name": "stdout",
     "output_type": "stream",
     "text": [
      "null 71\n",
      "taking off 137955\n"
     ]
    },
    {
     "data": {
      "text/plain": [
       "17    636953\n",
       "18    348404\n",
       "19    101089\n",
       "Name: NU_IDADE, dtype: int64"
      ]
     },
     "execution_count": 126,
     "metadata": {},
     "output_type": "execute_result"
    }
   ],
   "source": [
    "#ONLY STUDENTS AT  17 -19 YEAR OLD. WE WANT TO GET ONLY REGULAR STUDENTS THAT ARE IN LAST YEAR OF SECONDARY SCHOOL. \n",
    "#THE MICRODADOS HAVE A FIELD TO CONTROL IT. BUT IT IS NOT CONFIDENCE,DUE A TURN OUT TEAACHERS THAT EXTEND ACADEMIC YEAR\n",
    "print('null', ENEM.NU_IDADE.isnull().sum())\n",
    "#firts, fill NA with the mean of student school\n",
    "ENEM.NU_IDADE = ENEM.groupby(ENEM['CO_ESCOLA'])['NU_IDADE'].apply(lambda x: x.fillna(round(x.mean())))\n",
    "ENEM.NU_IDADE = ENEM.NU_IDADE.astype('int32')\n",
    "print('taking off',((ENEM.NU_IDADE <17)|(ENEM.NU_IDADE>19)).sum())\n",
    "ENEM = ENEM.loc[(ENEM.NU_IDADE >16) &  (ENEM.NU_IDADE<20)]\n",
    "ENEM.NU_IDADE.value_counts()"
   ]
  },
  {
   "cell_type": "markdown",
   "metadata": {
    "ExecuteTime": {
     "end_time": "2020-04-23T20:23:26.883241Z",
     "start_time": "2020-04-23T20:23:26.027942Z"
    }
   },
   "source": [
    "### Transform features to default categories"
   ]
  },
  {
   "cell_type": "code",
   "execution_count": 127,
   "metadata": {
    "ExecuteTime": {
     "end_time": "2020-05-04T22:41:40.396466Z",
     "start_time": "2020-05-04T22:41:40.252609Z"
    }
   },
   "outputs": [],
   "source": [
    "ENEM.QT_PESSOAS_CASA = ENEM.QT_PESSOAS_CASA.astype('int32')"
   ]
  },
  {
   "cell_type": "code",
   "execution_count": 128,
   "metadata": {
    "ExecuteTime": {
     "end_time": "2020-05-04T22:41:40.587407Z",
     "start_time": "2020-05-04T22:41:40.401465Z"
    }
   },
   "outputs": [
    {
     "data": {
      "text/plain": [
       "EDU_PAI         0\n",
       "EDU_MAE         0\n",
       "RENDA_MENSAL    0\n",
       "TP_SEXO         0\n",
       "dtype: int64"
      ]
     },
     "execution_count": 128,
     "metadata": {},
     "output_type": "execute_result"
    }
   ],
   "source": [
    "fields = ['EDU_PAI', 'EDU_MAE', 'RENDA_MENSAL', 'TP_SEXO']\n",
    "ENEM[fields].isnull().sum()\n"
   ]
  },
  {
   "cell_type": "code",
   "execution_count": 92,
   "metadata": {
    "ExecuteTime": {
     "end_time": "2020-05-04T22:02:48.573613Z",
     "start_time": "2020-05-04T22:02:48.449298Z"
    }
   },
   "outputs": [],
   "source": [
    "#Order relation, is better for numeric categories.\n",
    "for i in fields:\n",
    "    codes, uniques = pd.factorize(ENEM[i], sort=True)\n",
    "    ENEM[i] = codes"
   ]
  },
  {
   "cell_type": "code",
   "execution_count": 93,
   "metadata": {
    "ExecuteTime": {
     "end_time": "2020-05-04T22:02:48.598279Z",
     "start_time": "2020-05-04T22:02:48.576291Z"
    }
   },
   "outputs": [],
   "source": [
    "ENEM['EDU_PAI_TEMP'] = ENEM['EDU_PAI']\n",
    "ENEM['EDU_MAE_TEMP'] = ENEM['EDU_MAE']\n",
    "ENEM['QT_PESSOAS_CASA_TEMP'] = ENEM['QT_PESSOAS_CASA']\n",
    "ENEM['RENDA_MENSAL_TEMP'] = ENEM['RENDA_MENSAL']\n"
   ]
  },
  {
   "cell_type": "code",
   "execution_count": 94,
   "metadata": {
    "ExecuteTime": {
     "end_time": "2020-05-04T22:02:49.281121Z",
     "start_time": "2020-05-04T22:02:48.601179Z"
    }
   },
   "outputs": [],
   "source": [
    "# Paring with default categories\n",
    "\n",
    "ENEM.loc[ENEM['EDU_PAI']==0, 'EDU_PAI_TEMP']=0\n",
    "ENEM.loc[ENEM['EDU_PAI']==1, 'EDU_PAI_TEMP']=1\n",
    "ENEM.loc[ENEM['EDU_PAI']==2, 'EDU_PAI_TEMP']=2\n",
    "ENEM.loc[ENEM['EDU_PAI']==3, 'EDU_PAI_TEMP']=2\n",
    "ENEM.loc[ENEM['EDU_PAI']==4, 'EDU_PAI_TEMP']=3\n",
    "ENEM.loc[ENEM['EDU_PAI']==5, 'EDU_PAI_TEMP']=3\n",
    "ENEM.loc[ENEM['EDU_PAI']==6, 'EDU_PAI_TEMP']=4\n",
    "ENEM.loc[ENEM['EDU_PAI']==7, 'EDU_PAI_TEMP']=5\n",
    "ENEM.loc[ENEM['EDU_PAI']==8, 'EDU_PAI_TEMP']=0\n",
    "\n",
    "\n",
    "ENEM.loc[ENEM['EDU_MAE']==0, 'EDU_MAE_TEMP']=0\n",
    "ENEM.loc[ENEM['EDU_MAE']==1, 'EDU_MAE_TEMP']=1\n",
    "ENEM.loc[ENEM['EDU_MAE']==2, 'EDU_MAE_TEMP']=2\n",
    "ENEM.loc[ENEM['EDU_MAE']==3, 'EDU_MAE_TEMP']=2\n",
    "ENEM.loc[ENEM['EDU_MAE']==4, 'EDU_MAE_TEMP']=3\n",
    "ENEM.loc[ENEM['EDU_MAE']==5, 'EDU_MAE_TEMP']=3\n",
    "ENEM.loc[ENEM['EDU_MAE']==6, 'EDU_MAE_TEMP']=4\n",
    "ENEM.loc[ENEM['EDU_MAE']==7, 'EDU_MAE_TEMP']=5\n",
    "ENEM.loc[ENEM['EDU_MAE']==8, 'EDU_MAE_TEMP']=0\n",
    "\n",
    "\n",
    "ENEM.loc[ENEM['QT_PESSOAS_CASA']==1, 'QT_PESSOAS_CASA_TEMP']=0\n",
    "ENEM.loc[ENEM['QT_PESSOAS_CASA']==2, 'QT_PESSOAS_CASA_TEMP']=1\n",
    "ENEM.loc[ENEM['QT_PESSOAS_CASA']==3, 'QT_PESSOAS_CASA_TEMP']=1\n",
    "ENEM.loc[ENEM['QT_PESSOAS_CASA']==4, 'QT_PESSOAS_CASA_TEMP']=2\n",
    "ENEM.loc[ENEM['QT_PESSOAS_CASA']==5, 'QT_PESSOAS_CASA_TEMP']=2\n",
    "ENEM.loc[ENEM['QT_PESSOAS_CASA']==6, 'QT_PESSOAS_CASA_TEMP']=2\n",
    "ENEM.loc[ENEM['QT_PESSOAS_CASA']==7, 'QT_PESSOAS_CASA_TEMP']=2\n",
    "ENEM.loc[ENEM['QT_PESSOAS_CASA']>7, 'QT_PESSOAS_CASA_TEMP']=3\n",
    "\n",
    "ENEM.loc[ENEM['RENDA_MENSAL']==0, 'RENDA_MENSAL_TEMP']=0\n",
    "ENEM.loc[ENEM['RENDA_MENSAL']==1, 'RENDA_MENSAL_TEMP']=1\n",
    "ENEM.loc[ENEM['RENDA_MENSAL']==2, 'RENDA_MENSAL_TEMP']=2\n",
    "ENEM.loc[ENEM['RENDA_MENSAL']==3, 'RENDA_MENSAL_TEMP']=2\n",
    "ENEM.loc[(ENEM['RENDA_MENSAL']>3) & (ENEM['RENDA_MENSAL']<8), 'RENDA_MENSAL_TEMP']=3\n",
    "ENEM.loc[(ENEM['RENDA_MENSAL']>7) & (ENEM['RENDA_MENSAL']<13), 'RENDA_MENSAL_TEMP']=4\n",
    "ENEM.loc[ENEM['RENDA_MENSAL']>12, 'RENDA_MENSAL_TEMP']=5\n",
    "\n"
   ]
  },
  {
   "cell_type": "code",
   "execution_count": 95,
   "metadata": {
    "ExecuteTime": {
     "end_time": "2020-05-04T22:02:49.313515Z",
     "start_time": "2020-05-04T22:02:49.283546Z"
    }
   },
   "outputs": [],
   "source": [
    "#back to original columns\n",
    "ENEM['EDU_PAI'] = ENEM['EDU_PAI_TEMP']\n",
    "ENEM['EDU_MAE'] = ENEM['EDU_MAE_TEMP']\n",
    "ENEM['QT_PESSOAS_CASA'] = ENEM['QT_PESSOAS_CASA_TEMP']\n",
    "ENEM['RENDA_MENSAL'] = ENEM['RENDA_MENSAL_TEMP']\n",
    "\n"
   ]
  },
  {
   "cell_type": "code",
   "execution_count": 96,
   "metadata": {
    "ExecuteTime": {
     "end_time": "2020-05-04T22:02:49.354079Z",
     "start_time": "2020-05-04T22:02:49.315973Z"
    }
   },
   "outputs": [],
   "source": [
    "#drop temps\n",
    "\n",
    "ENEM.drop(['EDU_PAI_TEMP', 'EDU_MAE_TEMP', 'QT_PESSOAS_CASA_TEMP','RENDA_MENSAL_TEMP'], axis=1, inplace=True)"
   ]
  },
  {
   "cell_type": "code",
   "execution_count": 97,
   "metadata": {
    "ExecuteTime": {
     "end_time": "2020-05-04T22:03:02.103455Z",
     "start_time": "2020-05-04T22:02:49.356440Z"
    }
   },
   "outputs": [
    {
     "name": "stdout",
     "output_type": "stream",
     "text": [
      "Total Students at ENEM: 1086446 of 27539 schools\n",
      "Total Schools at Census: 268166\n",
      "Total Teachers at Census: 2479986 One teacher can be more than one school\n",
      "########### Only about Schools at ENEM:\n",
      "Schools at ENEM out of School Census 15206\n",
      "Schools at ENEM out of Teacher Census 15473\n",
      "Schools at ENEM and School Census out of Teacher Census 0\n",
      "Students Wasted***** 592407\n"
     ]
    }
   ],
   "source": [
    "print('Total Students at ENEM:', ENEM.shape[0], 'of', ENEM.drop_duplicates('CO_ESCOLA').shape[0], 'schools')\n",
    "print('Total Schools at Census:', C_SCHOOL.shape[0])\n",
    "print('Total Teachers at Census:', C_TEACHER.drop_duplicates('CO_PROFESSOR').shape[0], \n",
    "      'One teacher can be more than one school')\n",
    "       \n",
    "            \n",
    "\n",
    "#######################################\n",
    "print('########### Only about Schools at ENEM:')\n",
    "\n",
    "schoolsEnem = ENEM['CO_ESCOLA'].dropna().unique()\n",
    "schoolsCenso = C_SCHOOL['CO_ESCOLA'].dropna().unique()\n",
    "schoolsTeacher = C_TEACHER['CO_ESCOLA'].dropna().unique()\n",
    "schoolsEnem2 = ENEM['CO_ESCOLA'].dropna()\n",
    "\n",
    "enem_censo = np.setdiff1d(schoolsEnem ,schoolsCenso)\n",
    "print('Schools at ENEM out of School Census', sum(np.isin(schoolsEnem, schoolsCenso, invert=True)))\n",
    "\n",
    "print('Schools at ENEM out of Teacher Census', sum(np.isin(schoolsEnem, schoolsTeacher, invert=True)))\n",
    "print('Schools at ENEM and School Census out of Teacher Census', sum(np.isin(enem_censo, schoolsTeacher)))\n",
    "\n",
    "print('Students Wasted*****', sum(np.isin(schoolsEnem2, schoolsCenso, invert=True)))"
   ]
  },
  {
   "cell_type": "markdown",
   "metadata": {
    "ExecuteTime": {
     "end_time": "2020-04-23T20:23:36.688676Z",
     "start_time": "2020-04-23T20:23:36.335062Z"
    }
   },
   "source": [
    "### New Features"
   ]
  },
  {
   "cell_type": "markdown",
   "metadata": {},
   "source": [
    "ENEM"
   ]
  },
  {
   "cell_type": "code",
   "execution_count": 98,
   "metadata": {
    "ExecuteTime": {
     "end_time": "2020-05-04T22:03:02.476618Z",
     "start_time": "2020-05-04T22:03:02.110287Z"
    }
   },
   "outputs": [
    {
     "name": "stdout",
     "output_type": "stream",
     "text": [
      "75.00041419453889 % lowers quartis\n"
     ]
    }
   ],
   "source": [
    "#Final Media, Target\n",
    "ENEM['NU_NOTA_GERAL'] = (ENEM.NU_NOTA_CN + ENEM.NU_NOTA_CH + ENEM.NU_NOTA_LC + ENEM.NU_NOTA_MT + ENEM.NU_NOTA_REDACAO)/5\n",
    "ENEM['TARGET'] = pd.qcut (ENEM.NU_NOTA_GERAL, 4, labels = [1,2,3,4]).map(lambda x : 0 if x!=4 else 1) \n",
    "print((ENEM.TARGET==0).sum()/(ENEM.TARGET.count())*100, '% lowers quartis')"
   ]
  },
  {
   "cell_type": "markdown",
   "metadata": {},
   "source": [
    "SCHOOL CENSUS - Itś better include after merge all datasets years.\n"
   ]
  },
  {
   "cell_type": "markdown",
   "metadata": {},
   "source": [
    "TEACHER CENSUS"
   ]
  },
  {
   "cell_type": "code",
   "execution_count": 99,
   "metadata": {
    "ExecuteTime": {
     "end_time": "2020-05-04T22:03:02.792059Z",
     "start_time": "2020-05-04T22:03:02.481197Z"
    }
   },
   "outputs": [
    {
     "data": {
      "text/plain": [
       "CO_PROFESSOR         0\n",
       "CO_ESCOLA            0\n",
       "IN_ESPECIALIZACAO    0\n",
       "IN_MESTRADO          0\n",
       "IN_DOUTORADO         0\n",
       "dtype: int64"
      ]
     },
     "execution_count": 99,
     "metadata": {},
     "output_type": "execute_result"
    }
   ],
   "source": [
    "C_TEACHER.isnull().sum()"
   ]
  },
  {
   "cell_type": "code",
   "execution_count": 100,
   "metadata": {
    "ExecuteTime": {
     "end_time": "2020-05-04T22:03:04.548081Z",
     "start_time": "2020-05-04T22:03:02.796471Z"
    }
   },
   "outputs": [
    {
     "name": "stdout",
     "output_type": "stream",
     "text": [
      "number of teacher who work at an school listed at ENEM and do not have study level assigned: 0\n"
     ]
    }
   ],
   "source": [
    "print('number of teacher who work at an school listed at ENEM and do not have study level assigned:',\n",
    "      C_TEACHER['CO_ESCOLA'].isin(ENEM['CO_ESCOLA']).sum())\n",
    "\n",
    "\n",
    "#lets fill with lower level\n",
    "\n",
    "C_TEACHER['IN_ESPECIALIZACAO'].fillna(0, inplace = True)\n",
    "C_TEACHER['IN_MESTRADO'].fillna(0, inplace = True)\n",
    "C_TEACHER['IN_DOUTORADO'].fillna(0, inplace = True)"
   ]
  },
  {
   "cell_type": "code",
   "execution_count": 101,
   "metadata": {
    "ExecuteTime": {
     "end_time": "2020-05-04T22:03:08.274238Z",
     "start_time": "2020-05-04T22:03:04.558272Z"
    }
   },
   "outputs": [
    {
     "name": "stdout",
     "output_type": "stream",
     "text": [
      "before 11471572\n",
      "after 3126274\n"
     ]
    }
   ],
   "source": [
    "#It's necessary drop duplicates whose are teachers in the same school but in different classes. \n",
    "#This way, the teacher appear just one time in each school. \n",
    "print('before',C_TEACHER.shape[0])\n",
    "C_TEACHER.drop_duplicates(subset=['CO_PROFESSOR', 'CO_ESCOLA'], inplace=True)\n",
    "C_TEACHER.drop('CO_PROFESSOR', axis=1, inplace = True)\n",
    "print('after',C_TEACHER.shape[0])"
   ]
  },
  {
   "cell_type": "code",
   "execution_count": 102,
   "metadata": {
    "ExecuteTime": {
     "end_time": "2020-05-04T22:03:09.544326Z",
     "start_time": "2020-05-04T22:03:08.282269Z"
    }
   },
   "outputs": [],
   "source": [
    "C_TEACHER['TITULACAO'] = 0\n",
    "\n",
    "\n",
    "C_TEACHER.loc[(C_TEACHER.IN_ESPECIALIZACAO==1.0) & (C_TEACHER.IN_MESTRADO==0.0)& \n",
    "             (C_TEACHER.IN_DOUTORADO ==0.0), 'TITULACAO'] = 1\n",
    "\n",
    "C_TEACHER.loc[(C_TEACHER.IN_ESPECIALIZACAO==1.0) & (C_TEACHER.IN_MESTRADO==1.0)& \n",
    "             (C_TEACHER.IN_DOUTORADO ==0.0), 'TITULACAO'] = 2\n",
    "\n",
    "C_TEACHER.loc[(C_TEACHER.IN_ESPECIALIZACAO==0.0) & (C_TEACHER.IN_MESTRADO==1.0)& \n",
    "             (C_TEACHER.IN_DOUTORADO ==0.0), 'TITULACAO'] = 2\n",
    "\n",
    "C_TEACHER.loc[(C_TEACHER.IN_DOUTORADO ==1.0), 'TITULACAO'] = 3\n",
    "\n",
    "SUM= C_TEACHER.groupby('CO_ESCOLA')['TITULACAO'].transform(sum)\n",
    "COUNT =  C_TEACHER.groupby('CO_ESCOLA')['TITULACAO'].transform('count')\n",
    "C_TEACHER['TITULACAO'] = (SUM)/(COUNT*3)   \n",
    "\n",
    "#transformin to school grain\n",
    "C_TEACHER.drop_duplicates('CO_ESCOLA', inplace = True)"
   ]
  },
  {
   "cell_type": "markdown",
   "metadata": {
    "ExecuteTime": {
     "end_time": "2020-04-05T22:45:54.337752Z",
     "start_time": "2020-04-05T22:45:54.067919Z"
    }
   },
   "source": [
    "## STUDENT GRAIN "
   ]
  },
  {
   "cell_type": "code",
   "execution_count": 103,
   "metadata": {
    "ExecuteTime": {
     "end_time": "2020-05-04T22:03:12.704499Z",
     "start_time": "2020-05-04T22:03:09.550065Z"
    }
   },
   "outputs": [
    {
     "name": "stdout",
     "output_type": "stream",
     "text": [
      "C_SCHOOL (268166, 26)\n",
      "C_SCHOOL + C_TEACHER (192678, 30)\n",
      "ENEM (1086446, 17)\n",
      "FINAL (491717, 46)\n"
     ]
    }
   ],
   "source": [
    "# teacher to Schoool Grain\n",
    "print('C_SCHOOL',C_SCHOOL.shape)\n",
    "CENSO19 = pd.merge(C_SCHOOL, C_TEACHER, on = 'CO_ESCOLA', how = 'inner')\n",
    "print('C_SCHOOL + C_TEACHER',CENSO19.shape)\n",
    "\n",
    "#Now, all to Student Grain\n",
    "print('ENEM',ENEM.shape)\n",
    "ENEM_CENSO_19 = pd.merge(ENEM, CENSO19, on = 'CO_ESCOLA', how = 'inner')\n",
    "print('FINAL',ENEM_CENSO_19.shape)\n",
    "\n",
    "ENEM_CENSO_19.to_feather('2009_STUDENT.feather')"
   ]
  },
  {
   "cell_type": "code",
   "execution_count": 104,
   "metadata": {
    "ExecuteTime": {
     "end_time": "2020-05-04T22:03:12.728016Z",
     "start_time": "2020-05-04T22:03:12.709647Z"
    }
   },
   "outputs": [
    {
     "data": {
      "text/plain": [
       "CO_ANO                            uint16\n",
       "CO_ESCOLA                          int32\n",
       "NU_IDADE                           int32\n",
       "TP_SEXO                            int64\n",
       "TP_COR_RACA                        uint8\n",
       "TP_ST_CONCLUSAO                    uint8\n",
       "NU_NOTA_CN                       float32\n",
       "NU_NOTA_CH                       float32\n",
       "NU_NOTA_LC                       float32\n",
       "NU_NOTA_MT                       float32\n",
       "NU_NOTA_REDACAO                  float32\n",
       "EDU_PAI                            int64\n",
       "EDU_MAE                            int64\n",
       "QT_PESSOAS_CASA                    int32\n",
       "RENDA_MENSAL                       int64\n",
       "NU_NOTA_GERAL                    float32\n",
       "TARGET                             int64\n",
       "CO_MUNICIPIO                       int64\n",
       "CO_UF                              int64\n",
       "CO_DEPENDENCIA_ADM              category\n",
       "IN_AGUA_INEXISTENTE             category\n",
       "IN_ESGOTO_INEXISTENTE           category\n",
       "IN_ENERGIA_INEXISTENTE          category\n",
       "IN_LABORATORIO_INFORMATICA      category\n",
       "IN_LABORATORIO_CIENCIAS         category\n",
       "IN_SALA_ATENDIMENTO_ESPECIAL    category\n",
       "IN_BIBLIOTECA                   category\n",
       "IN_SALA_LEITURA                 category\n",
       "IN_BANHEIRO_FORA_PREDIO         category\n",
       "IN_BANHEIRO_PNE                 category\n",
       "IN_DEPENDENCIAS_PNE             category\n",
       "QT_SALAS_UTILIZADAS              float64\n",
       "QT_EQUIP_TV                        int64\n",
       "QT_EQUIP_DVD                       int64\n",
       "QT_EQUIP_COPIADORA                 int64\n",
       "QT_EQUIP_IMPRESSORA                int64\n",
       "QT_COM_ADMINISTRATIVO            float64\n",
       "QT_COMP_ALUNO                    float64\n",
       "IN_INTERNET                     category\n",
       "IN_BANDA_LARGA                  category\n",
       "QT_FUNCIONARIOS                  float64\n",
       "IN_ALIMENTACAO                  category\n",
       "IN_ESPECIALIZACAO                  uint8\n",
       "IN_MESTRADO                        uint8\n",
       "IN_DOUTORADO                       uint8\n",
       "TITULACAO                        float64\n",
       "dtype: object"
      ]
     },
     "execution_count": 104,
     "metadata": {},
     "output_type": "execute_result"
    }
   ],
   "source": [
    "ENEM_CENSO_19.dtypes"
   ]
  },
  {
   "cell_type": "code",
   "execution_count": 105,
   "metadata": {
    "ExecuteTime": {
     "end_time": "2020-05-04T22:03:12.753993Z",
     "start_time": "2020-05-04T22:03:12.733395Z"
    }
   },
   "outputs": [
    {
     "data": {
      "text/plain": [
       "CO_ESCOLA            0\n",
       "IN_ESPECIALIZACAO    0\n",
       "IN_MESTRADO          0\n",
       "IN_DOUTORADO         0\n",
       "TITULACAO            0\n",
       "dtype: int64"
      ]
     },
     "execution_count": 105,
     "metadata": {},
     "output_type": "execute_result"
    }
   ],
   "source": [
    "C_TEACHER.isnull().sum()"
   ]
  },
  {
   "cell_type": "markdown",
   "metadata": {
    "ExecuteTime": {
     "end_time": "2020-04-23T20:24:10.863415Z",
     "start_time": "2020-04-23T20:24:09.230703Z"
    }
   },
   "source": [
    "## SCHOOL GRAIN"
   ]
  },
  {
   "cell_type": "code",
   "execution_count": 106,
   "metadata": {
    "ExecuteTime": {
     "end_time": "2020-05-04T22:03:15.145289Z",
     "start_time": "2020-05-04T22:03:12.759572Z"
    }
   },
   "outputs": [],
   "source": [
    "fields = ['TP_SEXO', 'TP_COR_RACA', 'EDU_PAI', 'EDU_MAE','QT_PESSOAS_CASA', 'RENDA_MENSAL', 'NU_IDADE', 'NU_NOTA_CN',\n",
    "             'NU_NOTA_CH','NU_NOTA_LC','NU_NOTA_MT','NU_NOTA_REDACAO','NU_NOTA_GERAL' ]\n",
    "\n",
    "for i in fields:   \n",
    "    \n",
    "            ENEM[i] = ENEM.groupby('CO_ESCOLA')[i].transform('mean')\n",
    "            "
   ]
  },
  {
   "cell_type": "code",
   "execution_count": 107,
   "metadata": {
    "ExecuteTime": {
     "end_time": "2020-05-04T22:03:15.254744Z",
     "start_time": "2020-05-04T22:03:15.151658Z"
    }
   },
   "outputs": [
    {
     "name": "stdout",
     "output_type": "stream",
     "text": [
      "81.03053850902356 % lowers quartis\n"
     ]
    }
   ],
   "source": [
    "# SCHOOL GRAIN AND SHOW THE NEW NOTA DISTRIBUTION\n",
    "ENEM.drop_duplicates('CO_ESCOLA', inplace=True)\n",
    "print((ENEM.TARGET==0).sum()/(ENEM.TARGET.count())*100, '% lowers quartis')"
   ]
  },
  {
   "cell_type": "code",
   "execution_count": 108,
   "metadata": {
    "ExecuteTime": {
     "end_time": "2020-05-04T22:03:15.290167Z",
     "start_time": "2020-05-04T22:03:15.259082Z"
    }
   },
   "outputs": [
    {
     "name": "stdout",
     "output_type": "stream",
     "text": [
      "74.9990921965213 % lowers quartis\n"
     ]
    }
   ],
   "source": [
    "#recalculating target for new  Nota Geral distribution \n",
    "ENEM['TARGET'] = pd.qcut (ENEM.NU_NOTA_GERAL, 4, labels = [1,2,3,4]).map(lambda x : 0 if x!=4 else 1) \n",
    "print((ENEM.TARGET==0).sum()/(ENEM.TARGET.count())*100, '% lowers quartis')"
   ]
  },
  {
   "cell_type": "code",
   "execution_count": 109,
   "metadata": {
    "ExecuteTime": {
     "end_time": "2020-05-04T22:03:15.527761Z",
     "start_time": "2020-05-04T22:03:15.295593Z"
    }
   },
   "outputs": [
    {
     "name": "stdout",
     "output_type": "stream",
     "text": [
      "censo before (192678, 30)\n",
      "enem_school before (27539, 17)\n",
      "(12066, 46)\n"
     ]
    }
   ],
   "source": [
    "print('censo before',CENSO19.shape)\n",
    "print('enem_school before', ENEM.shape)\n",
    "CENSO_ENEM_19 = pd.merge(CENSO19, ENEM, on='CO_ESCOLA', how='inner')\n",
    "print(CENSO_ENEM_19.shape)\n",
    "\n",
    "CENSO_ENEM_19.to_feather('2009_SCHOOL.feather')\n"
   ]
  },
  {
   "cell_type": "code",
   "execution_count": 110,
   "metadata": {
    "ExecuteTime": {
     "end_time": "2020-05-04T22:03:15.567121Z",
     "start_time": "2020-05-04T22:03:15.535413Z"
    }
   },
   "outputs": [
    {
     "data": {
      "text/plain": [
       "CO_ESCOLA                         0\n",
       "CO_MUNICIPIO                      0\n",
       "CO_UF                             0\n",
       "CO_DEPENDENCIA_ADM                0\n",
       "IN_AGUA_INEXISTENTE               0\n",
       "IN_ESGOTO_INEXISTENTE             0\n",
       "IN_ENERGIA_INEXISTENTE            0\n",
       "IN_LABORATORIO_INFORMATICA        0\n",
       "IN_LABORATORIO_CIENCIAS           0\n",
       "IN_SALA_ATENDIMENTO_ESPECIAL      0\n",
       "IN_BIBLIOTECA                     0\n",
       "IN_SALA_LEITURA                   0\n",
       "IN_BANHEIRO_FORA_PREDIO           0\n",
       "IN_BANHEIRO_PNE                   0\n",
       "IN_DEPENDENCIAS_PNE               0\n",
       "QT_SALAS_UTILIZADAS               0\n",
       "QT_EQUIP_TV                       0\n",
       "QT_EQUIP_DVD                      0\n",
       "QT_EQUIP_COPIADORA                0\n",
       "QT_EQUIP_IMPRESSORA               0\n",
       "QT_COM_ADMINISTRATIVO           282\n",
       "QT_COMP_ALUNO                   966\n",
       "IN_INTERNET                     161\n",
       "IN_BANDA_LARGA                  728\n",
       "QT_FUNCIONARIOS                   0\n",
       "IN_ALIMENTACAO                    0\n",
       "IN_ESPECIALIZACAO                 0\n",
       "IN_MESTRADO                       0\n",
       "IN_DOUTORADO                      0\n",
       "TITULACAO                         0\n",
       "CO_ANO                            0\n",
       "NU_IDADE                          0\n",
       "TP_SEXO                           0\n",
       "TP_COR_RACA                       0\n",
       "TP_ST_CONCLUSAO                   0\n",
       "NU_NOTA_CN                        0\n",
       "NU_NOTA_CH                        0\n",
       "NU_NOTA_LC                        0\n",
       "NU_NOTA_MT                        0\n",
       "NU_NOTA_REDACAO                   0\n",
       "EDU_PAI                           0\n",
       "EDU_MAE                           0\n",
       "QT_PESSOAS_CASA                   0\n",
       "RENDA_MENSAL                      0\n",
       "NU_NOTA_GERAL                     0\n",
       "TARGET                            0\n",
       "dtype: int64"
      ]
     },
     "execution_count": 110,
     "metadata": {},
     "output_type": "execute_result"
    }
   ],
   "source": [
    "CENSO_ENEM_19.isnull().sum()"
   ]
  },
  {
   "cell_type": "code",
   "execution_count": null,
   "metadata": {},
   "outputs": [],
   "source": []
  }
 ],
 "metadata": {
  "kernelspec": {
   "display_name": "Python 3",
   "language": "python",
   "name": "python3"
  },
  "language_info": {
   "codemirror_mode": {
    "name": "ipython",
    "version": 3
   },
   "file_extension": ".py",
   "mimetype": "text/x-python",
   "name": "python",
   "nbconvert_exporter": "python",
   "pygments_lexer": "ipython3",
   "version": "3.7.6"
  }
 },
 "nbformat": 4,
 "nbformat_minor": 4
}
