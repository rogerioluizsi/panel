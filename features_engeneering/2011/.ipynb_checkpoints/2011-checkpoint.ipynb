{
 "cells": [
  {
   "cell_type": "code",
   "execution_count": 1,
   "metadata": {
    "ExecuteTime": {
     "end_time": "2020-05-06T03:51:01.601274Z",
     "start_time": "2020-05-06T03:50:52.969667Z"
    }
   },
   "outputs": [],
   "source": [
    "import time\n",
    "import pandas as pd\n",
    "import numpy as np\n",
    "import warnings\n",
    "import feather\n",
    "warnings.filterwarnings('ignore')\n",
    "from pandas.api.types import is_string_dtype\n",
    "from pandas.api.types import is_numeric_dtype\n",
    "pd.set_option('display.max_columns', None)"
   ]
  },
  {
   "cell_type": "markdown",
   "metadata": {},
   "source": [
    "There are many insignificant features to our work, like codes, PK, FK and out of context. \n",
    "Based on prior works and experience of especialists, will be taken off nonsense features. \n",
    "A study was carried out on the evolution and correspondence of these resources in the ENEM and Census\n",
    "data for the period 2009-2018. See (featuresOrganisaton.xls)"
   ]
  },
  {
   "cell_type": "code",
   "execution_count": 9,
   "metadata": {
    "ExecuteTime": {
     "end_time": "2020-05-06T03:59:40.888450Z",
     "start_time": "2020-05-06T03:59:40.864518Z"
    }
   },
   "outputs": [],
   "source": [
    "teacher = ['FK_COD_DOCENTE', 'PK_COD_ENTIDADE','ID_ESPECIALIZACAO','ID_MESTRADO','ID_DOUTORADO']\n",
    "\n",
    "school = ['ANO_CENSO','PK_COD_ENTIDADE', 'FK_COD_MUNICIPIO','FK_COD_ESTADO','ID_DEPENDENCIA_ADM','ID_AGUA_INEXISTENTE',\n",
    "                  'ID_ESGOTO_INEXISTENTE','ID_ENERGIA_INEXISTENTE',\n",
    "                   'ID_LABORATORIO_INFORMATICA','ID_LABORATORIO_CIENCIAS','ID_SALA_ATENDIMENTO_ESPECIAL',\n",
    "                   'ID_BIBLIOTECA','ID_SALA_LEITURA','ID_SANITARIO_FORA_PREDIO',\n",
    "                   'ID_SANITARIO_PNE','ID_DEPENDENCIAS_PNE','NUM_SALAS_UTILIZADAS','ID_EQUIP_TV',\n",
    "                   'ID_EQUIP_DVD','ID_EQUIP_COPIADORA','ID_EQUIP_IMPRESSORA','NUM_COMP_ADMINISTRATIVOS',\n",
    "                   'NUM_COMP_ALUNOS','ID_INTERNET','ID_BANDA_LARGA','NUM_FUNCIONARIOS','ID_ALIMENTACAO']\n",
    "\n",
    "enem1 = ['NU_INSCRICAO','NU_ANO','PK_COD_ENTIDADE','IN_TP_ENSINO','IDADE','TP_SEXO','TP_COR_RACA','ST_CONCLUSAO','NU_NT_CN',\n",
    "        'NU_NT_CH','NU_NT_LC','NU_NT_MT','NU_NOTA_REDACAO']\n",
    "\n",
    "enem2 = ['NU_INSCRICAO','Q02','Q03','Q01','Q04']\n",
    "\n",
    "enem= ['NU_ANO','PK_COD_ENTIDADE','IN_TP_ENSINO','IDADE','TP_SEXO','TP_COR_RACA','ST_CONCLUSAO','NU_NT_CN',\n",
    "        'NU_NT_CH','NU_NT_LC','NU_NT_MT','NU_NOTA_REDACAO', 'Q02','Q03','Q01','Q04'\n",
    "]\n",
    "\n",
    "\n"
   ]
  },
  {
   "cell_type": "code",
   "execution_count": 10,
   "metadata": {
    "ExecuteTime": {
     "end_time": "2020-05-06T04:00:12.031526Z",
     "start_time": "2020-05-06T03:59:42.043763Z"
    }
   },
   "outputs": [],
   "source": [
    "#Students of ENEM\n",
    "E1 = pd.read_csv('~/data/enem/2011/DADOS/MICRODADOS_ENEM_2011.csv', sep=',', usecols= enem1)\n",
    "E2 = pd.read_csv('~/data/enem/2011/DADOS/QUESTIONARIO_ENEM_2011.csv', sep=',', usecols= enem2)\n",
    "E = pd.merge(E1, E2, on = 'NU_INSCRICAO', how= \"outer\")"
   ]
  },
  {
   "cell_type": "code",
   "execution_count": 11,
   "metadata": {
    "ExecuteTime": {
     "end_time": "2020-05-06T04:00:21.023771Z",
     "start_time": "2020-05-06T04:00:16.816680Z"
    }
   },
   "outputs": [],
   "source": [
    "#School census data\n",
    "CE =    pd.read_csv(\"~/data/censo/2011/DADOS/ESCOLAS.CSV\", sep='|', encoding=\"iso-8859-2\",usecols= school)"
   ]
  },
  {
   "cell_type": "code",
   "execution_count": 13,
   "metadata": {
    "ExecuteTime": {
     "end_time": "2020-05-06T04:02:59.857206Z",
     "start_time": "2020-05-06T04:00:36.736975Z"
    }
   },
   "outputs": [],
   "source": [
    "#Teacher census data by Braazilian mesoregion\n",
    "CD_CO = pd.read_csv(\"~/data/censo/2011/DADOS/DOCENTES_CO.CSV\", sep='|', encoding=\"iso-8859-2\", usecols= teacher)\n",
    "CD_NE = pd.read_csv(\"~/data/censo/2011/DADOS/DOCENTES_NORDESTE.CSV\", sep='|', encoding=\"iso-8859-2\", usecols= teacher)\n",
    "CD_N =  pd.read_csv(\"~/data/censo/2011/DADOS/DOCENTES_NORTE.CSV\", sep='|', encoding=\"iso-8859-2\", usecols= teacher)\n",
    "CD_SE = pd.read_csv(\"~/data/censo/2011/DADOS/DOCENTES_SUDESTE.CSV\", sep='|', encoding=\"iso-8859-2\", usecols= teacher)\n",
    "CD_S =  pd.read_csv(\"~/data/censo/2011/DADOS/DOCENTES_SUL.CSV\", sep='|', encoding=\"iso-8859-2\", usecols= teacher)\n",
    "\n",
    "#All teacher census data\n",
    "CT = pd.concat([CD_CO, CD_NE, CD_N, CD_SE, CD_S])"
   ]
  },
  {
   "cell_type": "code",
   "execution_count": 14,
   "metadata": {
    "ExecuteTime": {
     "end_time": "2020-05-06T04:04:14.181016Z",
     "start_time": "2020-05-06T04:04:12.343594Z"
    }
   },
   "outputs": [],
   "source": [
    "ENEM = E.copy()\n",
    "C_SCHOOL = CE.copy()\n",
    "C_TEACHER = CT.copy()"
   ]
  },
  {
   "cell_type": "code",
   "execution_count": 15,
   "metadata": {
    "ExecuteTime": {
     "end_time": "2020-05-06T04:04:15.273921Z",
     "start_time": "2020-05-06T04:04:14.506167Z"
    }
   },
   "outputs": [
    {
     "name": "stdout",
     "output_type": "stream",
     "text": [
      "checking year [2011]\n",
      "checking key float64\n"
     ]
    }
   ],
   "source": [
    "#ordering\n",
    "ENEM = ENEM[enem]\n",
    "\n",
    "newNames = [\n",
    "'CO_ANO',\n",
    "'CO_ESCOLA',\n",
    "'TP_ENSINO',\n",
    "'NU_IDADE',\n",
    "'TP_SEXO',\n",
    "'TP_COR_RACA',\n",
    "'TP_ST_CONCLUSAO',\n",
    "'NU_NOTA_CN',\n",
    "'NU_NOTA_CH',\n",
    "'NU_NOTA_LC',\n",
    "'NU_NOTA_MT',\n",
    "'NU_NOTA_REDACAO',\n",
    "'EDU_PAI',\n",
    "'EDU_MAE',\n",
    "'QT_PESSOAS_CASA',\n",
    "'RENDA_MENSAL'\n",
    "]\n",
    "\n",
    "#Rename\n",
    "ENEM.columns = newNames\n",
    "\n",
    "print('checking year',ENEM.CO_ANO.unique())\n",
    "print('checking key',ENEM.CO_ESCOLA.dtypes)"
   ]
  },
  {
   "cell_type": "code",
   "execution_count": 16,
   "metadata": {
    "ExecuteTime": {
     "end_time": "2020-05-06T04:04:18.334732Z",
     "start_time": "2020-05-06T04:04:18.240337Z"
    }
   },
   "outputs": [
    {
     "name": "stdout",
     "output_type": "stream",
     "text": [
      "Checking year of censo [2011]\n",
      "checking key int64\n"
     ]
    }
   ],
   "source": [
    "C_SCHOOL = C_SCHOOL[school]\n",
    "\n",
    "newNames = ['ANO_CENSO',\n",
    "'CO_ESCOLA',\n",
    " 'CO_MUNICIPIO',\n",
    " 'CO_UF',\n",
    " 'CO_DEPENDENCIA_ADM',\n",
    " 'IN_AGUA_INEXISTENTE',\n",
    " 'IN_ESGOTO_INEXISTENTE',\n",
    " 'IN_ENERGIA_INEXISTENTE',\n",
    " 'IN_LABORATORIO_INFORMATICA',\n",
    " 'IN_LABORATORIO_CIENCIAS',\n",
    " 'IN_SALA_ATENDIMENTO_ESPECIAL',\n",
    " 'IN_BIBLIOTECA',\n",
    " 'IN_SALA_LEITURA',\n",
    " 'IN_BANHEIRO_FORA_PREDIO',\n",
    " 'IN_BANHEIRO_PNE',\n",
    " 'IN_DEPENDENCIAS_PNE',\n",
    " 'QT_SALAS_UTILIZADAS',\n",
    " 'QT_EQUIP_TV',\n",
    " 'QT_EQUIP_DVD',\n",
    " 'QT_EQUIP_COPIADORA',\n",
    " 'QT_EQUIP_IMPRESSORA',\n",
    " 'QT_COM_ADMINISTRATIVO',\n",
    " 'QT_COMP_ALUNO',\n",
    " 'IN_INTERNET',\n",
    " 'IN_BANDA_LARGA',\n",
    " 'QT_FUNCIONARIOS',\n",
    " 'IN_ALIMENTACAO'\n",
    "]\n",
    "\n",
    "#Rename \n",
    "C_SCHOOL.columns =  newNames\n",
    "\n",
    "print('Checking year of censo',C_SCHOOL.ANO_CENSO.unique())\n",
    "C_SCHOOL.drop('ANO_CENSO', axis=1, inplace=True)\n",
    "print('checking key',C_SCHOOL.CO_ESCOLA.dtypes)"
   ]
  },
  {
   "cell_type": "code",
   "execution_count": 17,
   "metadata": {
    "ExecuteTime": {
     "end_time": "2020-05-06T04:04:24.779733Z",
     "start_time": "2020-05-06T04:04:21.028670Z"
    }
   },
   "outputs": [
    {
     "name": "stdout",
     "output_type": "stream",
     "text": [
      "checking key int64\n"
     ]
    }
   ],
   "source": [
    "C_TEACHER = C_TEACHER[teacher]\n",
    "\n",
    "# New default column names for all Datasets\n",
    "newNames = [\n",
    "'CO_PROFESSOR',\n",
    "'CO_ESCOLA',  \n",
    "'IN_ESPECIALIZACAO',\n",
    "'IN_MESTRADO',\n",
    "'IN_DOUTORADO'\n",
    "]\n",
    "#It's necessary drop duplicates whose are teachers in the same school but in different classes. \n",
    "#This way, the teacher appear just one time in each school. \n",
    "C_TEACHER.columns = newNames\n",
    "C_TEACHER.drop_duplicates(subset=['CO_PROFESSOR', 'CO_ESCOLA'], inplace=True)\n",
    "C_TEACHER.drop('CO_PROFESSOR', axis=1, inplace = True)\n",
    "\n",
    "print('checking key',C_TEACHER.CO_ESCOLA.dtypes)"
   ]
  },
  {
   "cell_type": "markdown",
   "metadata": {},
   "source": [
    "### Minimum Scope Definition"
   ]
  },
  {
   "cell_type": "code",
   "execution_count": 18,
   "metadata": {
    "ExecuteTime": {
     "end_time": "2020-05-06T04:04:28.469663Z",
     "start_time": "2020-05-06T04:04:27.871422Z"
    }
   },
   "outputs": [],
   "source": [
    "ENEM.dropna(inplace = True, axis=0, subset = ['CO_ESCOLA'])\n"
   ]
  },
  {
   "cell_type": "code",
   "execution_count": 19,
   "metadata": {
    "ExecuteTime": {
     "end_time": "2020-05-06T04:04:33.062964Z",
     "start_time": "2020-05-06T04:04:33.001016Z"
    }
   },
   "outputs": [
    {
     "name": "stdout",
     "output_type": "stream",
     "text": [
      "1.0    1338733\n",
      "2.0     150626\n",
      "4.0       9871\n",
      "Name: TP_ENSINO, dtype: int64\n",
      "1\n"
     ]
    }
   ],
   "source": [
    "#should care about the nulls into scope filter features?\n",
    "print(ENEM['TP_ENSINO'].value_counts())\n",
    "print(ENEM['TP_ENSINO'].isnull().sum())\n",
    "#NO, IT'S LOWER"
   ]
  },
  {
   "cell_type": "code",
   "execution_count": 20,
   "metadata": {
    "ExecuteTime": {
     "end_time": "2020-05-06T04:04:38.700695Z",
     "start_time": "2020-05-06T04:04:38.209325Z"
    }
   },
   "outputs": [
    {
     "name": "stdout",
     "output_type": "stream",
     "text": [
      "drop out 1499231 who not attend regular and prof approachs schools\n"
     ]
    }
   ],
   "source": [
    "print('drop out',((ENEM.TP_ENSINO!= 1)|(ENEM.TP_ENSINO!= 3)).sum(), 'who not attend regular and prof approachs schools')\n",
    "ENEM = ENEM.loc[((ENEM.TP_ENSINO== 1)|(ENEM.TP_ENSINO== 3))]\n",
    "ENEM.drop('TP_ENSINO', inplace = True, axis =1)"
   ]
  },
  {
   "cell_type": "code",
   "execution_count": 21,
   "metadata": {
    "ExecuteTime": {
     "end_time": "2020-05-06T04:04:40.083091Z",
     "start_time": "2020-05-06T04:04:40.001701Z"
    }
   },
   "outputs": [
    {
     "name": "stdout",
     "output_type": "stream",
     "text": [
      "null: NU_NOTA_CN 175344\n",
      "zero: NU_NOTA_CN 0\n",
      "null: NU_NOTA_CH 175344\n",
      "zero: NU_NOTA_CH 0\n",
      "null: NU_NOTA_LC 195994\n",
      "zero: NU_NOTA_LC 0\n",
      "null: NU_NOTA_MT 195994\n",
      "zero: NU_NOTA_MT 0\n",
      "null: NU_NOTA_REDACAO 0\n",
      "zero: NU_NOTA_REDACAO 248438\n"
     ]
    }
   ],
   "source": [
    "fields = (['NU_NOTA_CN', 'NU_NOTA_CH','NU_NOTA_LC','NU_NOTA_MT', 'NU_NOTA_REDACAO'])\n",
    "for i in fields:\n",
    "    print ('null:', i, ENEM[i].isnull().sum())\n",
    "    print ('zero:', i, (ENEM[i]== 0).sum())\n",
    "    \n",
    "    #, \"and\", ENEM.I==0)"
   ]
  },
  {
   "cell_type": "code",
   "execution_count": 22,
   "metadata": {
    "ExecuteTime": {
     "end_time": "2020-05-06T04:04:42.816101Z",
     "start_time": "2020-05-06T04:04:42.231799Z"
    }
   },
   "outputs": [],
   "source": [
    "ENEM.dropna(inplace = True, axis=0, subset=fields)\n",
    "ENEM = ENEM.loc[~(ENEM[fields] == 0).any(axis=1)]"
   ]
  },
  {
   "cell_type": "code",
   "execution_count": 23,
   "metadata": {
    "ExecuteTime": {
     "end_time": "2020-05-06T04:05:00.732959Z",
     "start_time": "2020-05-06T04:04:44.071246Z"
    }
   },
   "outputs": [
    {
     "name": "stdout",
     "output_type": "stream",
     "text": [
      "null 0\n",
      "taking off 135154\n"
     ]
    },
    {
     "data": {
      "text/plain": [
       "17    559498\n",
       "18    304513\n",
       "19     87846\n",
       "Name: NU_IDADE, dtype: int64"
      ]
     },
     "execution_count": 23,
     "metadata": {},
     "output_type": "execute_result"
    }
   ],
   "source": [
    "#ONLY STUDENTS AT  17 -19 YEAR OLD. WE WANT TO GET ONLY REGULAR STUDENTS THAT ARE IN LAST YEAR OF SECONDARY SCHOOL. \n",
    "#THE MICRODADOS HAVE A FIELD TO CONTROL IT. BUT IT IS NOT CONFIDENCE,DUE A TURN OUT TEAACHERS THAT EXTEND ACADEMIC YEAR\n",
    "print('null', ENEM.NU_IDADE.isnull().sum())\n",
    "ENEM.NU_IDADE = ENEM.NU_IDADE.astype('int32')\n",
    "#firts, fill NA with the mean of student school\n",
    "ENEM.NU_IDADE = ENEM.groupby(ENEM['CO_ESCOLA'])['NU_IDADE'].apply(lambda x: x.fillna(round(x.mean())))\n",
    "print('taking off',((ENEM.NU_IDADE <17)|(ENEM.NU_IDADE>19)).sum())\n",
    "ENEM = ENEM.loc[(ENEM.NU_IDADE >16) &  (ENEM.NU_IDADE<20)]\n",
    "ENEM.NU_IDADE.value_counts()"
   ]
  },
  {
   "cell_type": "code",
   "execution_count": 24,
   "metadata": {
    "ExecuteTime": {
     "end_time": "2020-05-06T04:05:08.022453Z",
     "start_time": "2020-05-06T04:05:07.574799Z"
    }
   },
   "outputs": [
    {
     "data": {
      "text/html": [
       "<div>\n",
       "<style scoped>\n",
       "    .dataframe tbody tr th:only-of-type {\n",
       "        vertical-align: middle;\n",
       "    }\n",
       "\n",
       "    .dataframe tbody tr th {\n",
       "        vertical-align: top;\n",
       "    }\n",
       "\n",
       "    .dataframe thead th {\n",
       "        text-align: right;\n",
       "    }\n",
       "</style>\n",
       "<table border=\"1\" class=\"dataframe\">\n",
       "  <thead>\n",
       "    <tr style=\"text-align: right;\">\n",
       "      <th></th>\n",
       "      <th>NU_NOTA_CN</th>\n",
       "      <th>NU_NOTA_CH</th>\n",
       "      <th>NU_NOTA_LC</th>\n",
       "      <th>NU_NOTA_MT</th>\n",
       "      <th>NU_NOTA_REDACAO</th>\n",
       "    </tr>\n",
       "  </thead>\n",
       "  <tbody>\n",
       "    <tr>\n",
       "      <th>count</th>\n",
       "      <td>951857.000000</td>\n",
       "      <td>951857.000000</td>\n",
       "      <td>951857.000000</td>\n",
       "      <td>951857.000000</td>\n",
       "      <td>951857.000000</td>\n",
       "    </tr>\n",
       "    <tr>\n",
       "      <th>mean</th>\n",
       "      <td>472.922855</td>\n",
       "      <td>480.129782</td>\n",
       "      <td>527.131950</td>\n",
       "      <td>531.099226</td>\n",
       "      <td>556.679180</td>\n",
       "    </tr>\n",
       "    <tr>\n",
       "      <th>std</th>\n",
       "      <td>85.790685</td>\n",
       "      <td>80.651046</td>\n",
       "      <td>72.939292</td>\n",
       "      <td>119.239856</td>\n",
       "      <td>142.503534</td>\n",
       "    </tr>\n",
       "    <tr>\n",
       "      <th>min</th>\n",
       "      <td>269.000000</td>\n",
       "      <td>252.900000</td>\n",
       "      <td>301.200000</td>\n",
       "      <td>321.600000</td>\n",
       "      <td>40.000000</td>\n",
       "    </tr>\n",
       "    <tr>\n",
       "      <th>25%</th>\n",
       "      <td>411.200000</td>\n",
       "      <td>422.900000</td>\n",
       "      <td>481.100000</td>\n",
       "      <td>432.500000</td>\n",
       "      <td>460.000000</td>\n",
       "    </tr>\n",
       "    <tr>\n",
       "      <th>50%</th>\n",
       "      <td>469.600000</td>\n",
       "      <td>481.000000</td>\n",
       "      <td>532.600000</td>\n",
       "      <td>520.800000</td>\n",
       "      <td>560.000000</td>\n",
       "    </tr>\n",
       "    <tr>\n",
       "      <th>75%</th>\n",
       "      <td>529.700000</td>\n",
       "      <td>535.700000</td>\n",
       "      <td>577.800000</td>\n",
       "      <td>615.300000</td>\n",
       "      <td>640.000000</td>\n",
       "    </tr>\n",
       "    <tr>\n",
       "      <th>max</th>\n",
       "      <td>867.200000</td>\n",
       "      <td>793.100000</td>\n",
       "      <td>795.500000</td>\n",
       "      <td>953.000000</td>\n",
       "      <td>1000.000000</td>\n",
       "    </tr>\n",
       "  </tbody>\n",
       "</table>\n",
       "</div>"
      ],
      "text/plain": [
       "          NU_NOTA_CN     NU_NOTA_CH     NU_NOTA_LC     NU_NOTA_MT  \\\n",
       "count  951857.000000  951857.000000  951857.000000  951857.000000   \n",
       "mean      472.922855     480.129782     527.131950     531.099226   \n",
       "std        85.790685      80.651046      72.939292     119.239856   \n",
       "min       269.000000     252.900000     301.200000     321.600000   \n",
       "25%       411.200000     422.900000     481.100000     432.500000   \n",
       "50%       469.600000     481.000000     532.600000     520.800000   \n",
       "75%       529.700000     535.700000     577.800000     615.300000   \n",
       "max       867.200000     793.100000     795.500000     953.000000   \n",
       "\n",
       "       NU_NOTA_REDACAO  \n",
       "count    951857.000000  \n",
       "mean        556.679180  \n",
       "std         142.503534  \n",
       "min          40.000000  \n",
       "25%         460.000000  \n",
       "50%         560.000000  \n",
       "75%         640.000000  \n",
       "max        1000.000000  "
      ]
     },
     "execution_count": 24,
     "metadata": {},
     "output_type": "execute_result"
    }
   ],
   "source": [
    "ENEM[fields].describe()"
   ]
  },
  {
   "cell_type": "markdown",
   "metadata": {},
   "source": [
    "### Transform features to default categories"
   ]
  },
  {
   "cell_type": "code",
   "execution_count": 25,
   "metadata": {
    "ExecuteTime": {
     "end_time": "2020-05-06T04:05:13.441447Z",
     "start_time": "2020-05-06T04:05:13.050410Z"
    }
   },
   "outputs": [
    {
     "data": {
      "text/plain": [
       "TP_SEXO            0\n",
       "TP_COR_RACA        0\n",
       "EDU_PAI            0\n",
       "EDU_MAE            0\n",
       "QT_PESSOAS_CASA    0\n",
       "RENDA_MENSAL       0\n",
       "dtype: int64"
      ]
     },
     "execution_count": 25,
     "metadata": {},
     "output_type": "execute_result"
    }
   ],
   "source": [
    "fields = ['TP_SEXO', 'TP_COR_RACA', 'EDU_PAI', 'EDU_MAE','QT_PESSOAS_CASA', 'RENDA_MENSAL']\n",
    "ENEM[fields].isnull().sum()"
   ]
  },
  {
   "cell_type": "code",
   "execution_count": 26,
   "metadata": {
    "ExecuteTime": {
     "end_time": "2020-05-06T04:05:16.613475Z",
     "start_time": "2020-05-06T04:05:15.982221Z"
    }
   },
   "outputs": [
    {
     "name": "stdout",
     "output_type": "stream",
     "text": [
      "TP_SEXO Int64Index([1, 0], dtype='int64')\n",
      "TP_COR_RACA Float64Index([1.0, 3.0, 2.0, 0.0, 4.0, 5.0], dtype='float64')\n",
      "EDU_PAI Index(['B', 'E', 'C', 'G', 'I', 'D', 'F', 'H', 'A'], dtype='object')\n",
      "EDU_MAE Index(['E', 'C', 'B', 'G', 'D', 'H', 'F', 'I', 'A'], dtype='object')\n",
      "QT_PESSOAS_CASA Float64Index([ 4.0,  5.0,  3.0,  6.0,  2.0,  7.0,  8.0,  9.0,  1.0, 10.0, 11.0,\n",
      "              12.0, 20.0, 13.0, 14.0, 15.0, 16.0, 17.0, 18.0, 19.0],\n",
      "             dtype='float64')\n",
      "RENDA_MENSAL Index(['D', 'C', 'B', 'E', 'F', 'G', 'H', 'J', 'I', 'A', 'K'], dtype='object')\n"
     ]
    }
   ],
   "source": [
    "for i in fields:\n",
    "    print(i,ENEM[i].value_counts().index)"
   ]
  },
  {
   "cell_type": "code",
   "execution_count": 27,
   "metadata": {
    "ExecuteTime": {
     "end_time": "2020-05-06T04:05:49.436401Z",
     "start_time": "2020-05-06T04:05:49.073207Z"
    }
   },
   "outputs": [],
   "source": [
    "#Order relation, is better for numeric categories.\n",
    "categorical = ['EDU_PAI', 'EDU_MAE', 'RENDA_MENSAL']\n",
    "for i in categorical:\n",
    "    codes, uniques = pd.factorize(ENEM[i], sort=True)\n",
    "    ENEM[i] = codes\n",
    "    "
   ]
  },
  {
   "cell_type": "code",
   "execution_count": 28,
   "metadata": {
    "ExecuteTime": {
     "end_time": "2020-05-06T04:05:53.751822Z",
     "start_time": "2020-05-06T04:05:53.715099Z"
    }
   },
   "outputs": [],
   "source": [
    "ENEM['EDU_PAI_TEMP'] = ENEM['EDU_PAI']\n",
    "ENEM['EDU_MAE_TEMP'] = ENEM['EDU_MAE']\n",
    "ENEM['QT_PESSOAS_CASA_TEMP'] = ENEM['QT_PESSOAS_CASA']\n",
    "ENEM['RENDA_MENSAL_TEMP'] = ENEM['RENDA_MENSAL']\n",
    "ENEM['TP_SEXO_TEMP'] = ENEM['TP_SEXO']"
   ]
  },
  {
   "cell_type": "code",
   "execution_count": 29,
   "metadata": {
    "ExecuteTime": {
     "end_time": "2020-05-06T04:06:23.971062Z",
     "start_time": "2020-05-06T04:06:22.913414Z"
    }
   },
   "outputs": [],
   "source": [
    "# Paring with default categories\n",
    "\n",
    "ENEM.loc[ENEM['EDU_PAI']==0, 'EDU_PAI_TEMP']=0\n",
    "ENEM.loc[ENEM['EDU_PAI']==1, 'EDU_PAI_TEMP']=1\n",
    "ENEM.loc[ENEM['EDU_PAI']==2, 'EDU_PAI_TEMP']=2\n",
    "ENEM.loc[ENEM['EDU_PAI']==3, 'EDU_PAI_TEMP']=2\n",
    "ENEM.loc[ENEM['EDU_PAI']==4, 'EDU_PAI_TEMP']=3\n",
    "ENEM.loc[ENEM['EDU_PAI']==5, 'EDU_PAI_TEMP']=3\n",
    "ENEM.loc[ENEM['EDU_PAI']==6, 'EDU_PAI_TEMP']=4\n",
    "ENEM.loc[ENEM['EDU_PAI']==7, 'EDU_PAI_TEMP']=5\n",
    "ENEM.loc[ENEM['EDU_PAI']==8, 'EDU_PAI_TEMP']=0\n",
    "\n",
    "\n",
    "ENEM.loc[ENEM['EDU_MAE']==0, 'EDU_MAE_TEMP']=0\n",
    "ENEM.loc[ENEM['EDU_MAE']==1, 'EDU_MAE_TEMP']=1\n",
    "ENEM.loc[ENEM['EDU_MAE']==2, 'EDU_MAE_TEMP']=2\n",
    "ENEM.loc[ENEM['EDU_MAE']==3, 'EDU_MAE_TEMP']=2\n",
    "ENEM.loc[ENEM['EDU_MAE']==4, 'EDU_MAE_TEMP']=3\n",
    "ENEM.loc[ENEM['EDU_MAE']==5, 'EDU_MAE_TEMP']=3\n",
    "ENEM.loc[ENEM['EDU_MAE']==6, 'EDU_MAE_TEMP']=4\n",
    "ENEM.loc[ENEM['EDU_MAE']==7, 'EDU_MAE_TEMP']=5\n",
    "ENEM.loc[ENEM['EDU_MAE']==8, 'EDU_MAE_TEMP']=0\n",
    "\n",
    "\n",
    "ENEM.loc[ENEM['QT_PESSOAS_CASA']==1, 'QT_PESSOAS_CASA_TEMP']=0\n",
    "ENEM.loc[ENEM['QT_PESSOAS_CASA']==2, 'QT_PESSOAS_CASA_TEMP']=1\n",
    "ENEM.loc[ENEM['QT_PESSOAS_CASA']==3, 'QT_PESSOAS_CASA_TEMP']=1\n",
    "ENEM.loc[ENEM['QT_PESSOAS_CASA']==4, 'QT_PESSOAS_CASA_TEMP']=2\n",
    "ENEM.loc[ENEM['QT_PESSOAS_CASA']==5, 'QT_PESSOAS_CASA_TEMP']=2\n",
    "ENEM.loc[ENEM['QT_PESSOAS_CASA']==6, 'QT_PESSOAS_CASA_TEMP']=2\n",
    "ENEM.loc[ENEM['QT_PESSOAS_CASA']==7, 'QT_PESSOAS_CASA_TEMP']=2\n",
    "ENEM.loc[ENEM['QT_PESSOAS_CASA']>7, 'QT_PESSOAS_CASA_TEMP']=3\n",
    "\n",
    "\n",
    "\n",
    "\n",
    "ENEM.loc[ENEM['RENDA_MENSAL']==0, 'RENDA_MENSAL_TEMP']=0\n",
    "ENEM.loc[ENEM['RENDA_MENSAL']==1, 'RENDA_MENSAL_TEMP']=1\n",
    "ENEM.loc[ENEM['RENDA_MENSAL']==2, 'RENDA_MENSAL_TEMP']=2\n",
    "ENEM.loc[ENEM['RENDA_MENSAL']==3, 'RENDA_MENSAL_TEMP']=2\n",
    "ENEM.loc[ENEM['RENDA_MENSAL']==4, 'RENDA_MENSAL_TEMP']=3\n",
    "ENEM.loc[ENEM['RENDA_MENSAL']==5, 'RENDA_MENSAL_TEMP']=4\n",
    "ENEM.loc[ENEM['RENDA_MENSAL']==6, 'RENDA_MENSAL_TEMP']=4\n",
    "ENEM.loc[ENEM['RENDA_MENSAL']>6, 'RENDA_MENSAL_TEMP']=5\n",
    "\n",
    "ENEM.loc[ENEM['TP_SEXO']==1, 'TP_SEXO_TEMP']=0\n",
    "ENEM.loc[ENEM['TP_SEXO']==0, 'TP_SEXO_TEMP']=1\n"
   ]
  },
  {
   "cell_type": "code",
   "execution_count": 30,
   "metadata": {
    "ExecuteTime": {
     "end_time": "2020-05-06T04:06:31.294086Z",
     "start_time": "2020-05-06T04:06:31.251206Z"
    }
   },
   "outputs": [],
   "source": [
    "#back to original columns\n",
    "ENEM['EDU_PAI'] = ENEM['EDU_PAI_TEMP']\n",
    "ENEM['EDU_MAE'] = ENEM['EDU_MAE_TEMP']\n",
    "ENEM['QT_PESSOAS_CASA'] = ENEM['QT_PESSOAS_CASA_TEMP']\n",
    "ENEM['RENDA_MENSAL'] = ENEM['RENDA_MENSAL_TEMP']\n",
    "ENEM['TP_SEXO'] = ENEM['TP_SEXO_TEMP']\n",
    "\n"
   ]
  },
  {
   "cell_type": "code",
   "execution_count": 31,
   "metadata": {
    "ExecuteTime": {
     "end_time": "2020-05-06T04:06:33.876368Z",
     "start_time": "2020-05-06T04:06:33.782544Z"
    }
   },
   "outputs": [],
   "source": [
    "#drop temps\n",
    "\n",
    "ENEM.drop(['EDU_PAI_TEMP', 'EDU_MAE_TEMP', 'QT_PESSOAS_CASA_TEMP','RENDA_MENSAL_TEMP', 'TP_SEXO_TEMP'], axis=1, inplace=True)"
   ]
  },
  {
   "cell_type": "code",
   "execution_count": 32,
   "metadata": {
    "ExecuteTime": {
     "end_time": "2020-05-06T04:06:41.942073Z",
     "start_time": "2020-05-06T04:06:35.484249Z"
    }
   },
   "outputs": [
    {
     "name": "stdout",
     "output_type": "stream",
     "text": [
      "Total Students at ENEM: 951857 of 26640 schools\n",
      "Total Schools at Census: 257880\n",
      "########### Only about Schools at ENEM:\n",
      "Schools at ENEM out of School Census 14642\n",
      "Schools at ENEM out of Teacher Census 14863\n",
      "Schools at ENEM and School Census out of Teacher Census 0\n",
      "Students Wasted***** 512582\n"
     ]
    }
   ],
   "source": [
    "print('Total Students at ENEM:', ENEM.shape[0], 'of', ENEM.drop_duplicates('CO_ESCOLA').shape[0], 'schools')\n",
    "print('Total Schools at Census:', C_SCHOOL.shape[0])\n",
    "\n",
    "    \n",
    "#######################################\n",
    "print('########### Only about Schools at ENEM:')\n",
    "\n",
    "schoolsEnem = ENEM['CO_ESCOLA'].dropna().unique()\n",
    "schoolsCenso = C_SCHOOL['CO_ESCOLA'].dropna().unique()\n",
    "schoolsTeacher = C_TEACHER['CO_ESCOLA'].dropna().unique()\n",
    "schoolsEnem2 = ENEM['CO_ESCOLA'].dropna()\n",
    "\n",
    "enem_censo = np.setdiff1d(schoolsEnem ,schoolsCenso)\n",
    "print('Schools at ENEM out of School Census', sum(np.isin(schoolsEnem, schoolsCenso, invert=True)))\n",
    "\n",
    "print('Schools at ENEM out of Teacher Census', sum(np.isin(schoolsEnem, schoolsTeacher, invert=True)))\n",
    "print('Schools at ENEM and School Census out of Teacher Census', sum(np.isin(enem_censo, schoolsTeacher)))\n",
    "\n",
    "print('Students Wasted*****', sum(np.isin(schoolsEnem2, schoolsCenso, invert=True)))\n"
   ]
  },
  {
   "cell_type": "markdown",
   "metadata": {},
   "source": [
    "### New Features"
   ]
  },
  {
   "cell_type": "markdown",
   "metadata": {
    "ExecuteTime": {
     "end_time": "2020-05-04T14:55:59.997127Z",
     "start_time": "2020-05-04T14:55:59.925792Z"
    }
   },
   "source": [
    "ENEM"
   ]
  },
  {
   "cell_type": "code",
   "execution_count": 36,
   "metadata": {
    "ExecuteTime": {
     "end_time": "2020-05-06T04:09:40.857244Z",
     "start_time": "2020-05-06T04:09:40.445585Z"
    }
   },
   "outputs": [
    {
     "name": "stdout",
     "output_type": "stream",
     "text": [
      "75.00023638004448 % lowers quartis\n"
     ]
    }
   ],
   "source": [
    "#Final Media, Target\n",
    "ENEM['NU_NOTA_GERAL'] = (ENEM.NU_NOTA_CN + ENEM.NU_NOTA_CH + ENEM.NU_NOTA_LC + ENEM.NU_NOTA_MT + ENEM.NU_NOTA_REDACAO)/5\n",
    "ENEM['TARGET'] = pd.qcut (ENEM.NU_NOTA_GERAL, 4, labels = [1,2,3,4]).map(lambda x : 0 if x!=4 else 1) \n",
    "print((ENEM.TARGET==0).sum()/(ENEM.TARGET.count())*100, '% lowers quartis')"
   ]
  },
  {
   "cell_type": "markdown",
   "metadata": {},
   "source": [
    "SCHOOL CENSUS - Itś better include after merge all datasets years."
   ]
  },
  {
   "cell_type": "markdown",
   "metadata": {},
   "source": [
    "TEACHER CENSUS"
   ]
  },
  {
   "cell_type": "code",
   "execution_count": 37,
   "metadata": {
    "ExecuteTime": {
     "end_time": "2020-05-06T04:09:43.120109Z",
     "start_time": "2020-05-06T04:09:43.074052Z"
    }
   },
   "outputs": [
    {
     "data": {
      "text/plain": [
       "CO_ESCOLA            0\n",
       "IN_ESPECIALIZACAO    0\n",
       "IN_MESTRADO          0\n",
       "IN_DOUTORADO         0\n",
       "dtype: int64"
      ]
     },
     "execution_count": 37,
     "metadata": {},
     "output_type": "execute_result"
    }
   ],
   "source": [
    "C_TEACHER.isnull().sum()"
   ]
  },
  {
   "cell_type": "markdown",
   "metadata": {},
   "source": [
    "TEACHER CENSUS"
   ]
  },
  {
   "cell_type": "code",
   "execution_count": 38,
   "metadata": {
    "ExecuteTime": {
     "end_time": "2020-05-06T04:09:45.046200Z",
     "start_time": "2020-05-06T04:09:45.034667Z"
    }
   },
   "outputs": [],
   "source": [
    "#lets fill with lower level\n",
    "\n",
    "C_TEACHER['IN_ESPECIALIZACAO'].fillna(0, inplace = True)\n",
    "C_TEACHER['IN_MESTRADO'].fillna(0, inplace = True)\n",
    "C_TEACHER['IN_DOUTORADO'].fillna(0, inplace = True)"
   ]
  },
  {
   "cell_type": "code",
   "execution_count": 39,
   "metadata": {
    "ExecuteTime": {
     "end_time": "2020-05-06T04:09:47.202009Z",
     "start_time": "2020-05-06T04:09:45.739365Z"
    }
   },
   "outputs": [],
   "source": [
    "C_TEACHER['TITULACAO'] = 0\n",
    "\n",
    "\n",
    "C_TEACHER.loc[(C_TEACHER.IN_ESPECIALIZACAO==1.0) & (C_TEACHER.IN_MESTRADO==0.0)& \n",
    "             (C_TEACHER.IN_DOUTORADO ==0.0), 'TITULACAO'] = 1\n",
    "\n",
    "C_TEACHER.loc[(C_TEACHER.IN_ESPECIALIZACAO==1.0) & (C_TEACHER.IN_MESTRADO==1.0)& \n",
    "             (C_TEACHER.IN_DOUTORADO ==0.0), 'TITULACAO'] = 2\n",
    "\n",
    "C_TEACHER.loc[(C_TEACHER.IN_ESPECIALIZACAO==0.0) & (C_TEACHER.IN_MESTRADO==1.0)& \n",
    "             (C_TEACHER.IN_DOUTORADO ==0.0), 'TITULACAO'] = 2\n",
    "\n",
    "C_TEACHER.loc[(C_TEACHER.IN_DOUTORADO ==1.0), 'TITULACAO'] = 3\n",
    "\n",
    "SUM= C_TEACHER.groupby('CO_ESCOLA')['TITULACAO'].transform(sum)\n",
    "COUNT =  C_TEACHER.groupby('CO_ESCOLA')['TITULACAO'].transform('count')\n",
    "C_TEACHER['TITULACAO'] = (SUM)/(COUNT*3)   \n",
    "\n",
    "#transformin to school grain\n",
    "C_TEACHER.drop_duplicates('CO_ESCOLA', inplace = True)"
   ]
  },
  {
   "cell_type": "markdown",
   "metadata": {},
   "source": [
    "## STUDENT GRAIN"
   ]
  },
  {
   "cell_type": "code",
   "execution_count": 43,
   "metadata": {
    "ExecuteTime": {
     "end_time": "2020-05-06T04:14:06.370794Z",
     "start_time": "2020-05-06T04:13:34.136437Z"
    }
   },
   "outputs": [
    {
     "name": "stdout",
     "output_type": "stream",
     "text": [
      "C_SCHOOL (257880, 26)\n",
      "C_TEACHER (194932, 5)\n",
      "C_SCHOOL + C_TEACHER (194932, 30)\n",
      "ENEM (951857, 17)\n",
      "FINAL (437111, 46)\n"
     ]
    }
   ],
   "source": [
    "# teacher to Schoool Grain\n",
    "print('C_SCHOOL',C_SCHOOL.shape)\n",
    "print('C_TEACHER',C_TEACHER.shape)\n",
    "CENSO19 = pd.merge(C_SCHOOL, C_TEACHER, on = 'CO_ESCOLA', how = 'inner')\n",
    "print('C_SCHOOL + C_TEACHER',CENSO19.shape)\n",
    "\n",
    "#Now, all to Student Grain\n",
    "print('ENEM',ENEM.shape)\n",
    "ENEM_CENSO_19 = pd.merge(ENEM, CENSO19, on = 'CO_ESCOLA', how = 'inner')\n",
    "print('FINAL',ENEM_CENSO_19.shape)\n",
    "\n",
    "ENEM_CENSO_19.to_csv('STUDENT.csv')"
   ]
  },
  {
   "cell_type": "markdown",
   "metadata": {
    "ExecuteTime": {
     "end_time": "2020-04-05T22:45:54.337752Z",
     "start_time": "2020-04-05T22:45:54.067919Z"
    }
   },
   "source": [
    "## SCHOOL GRAIN"
   ]
  },
  {
   "cell_type": "code",
   "execution_count": 42,
   "metadata": {
    "ExecuteTime": {
     "end_time": "2020-05-06T04:12:17.387228Z",
     "start_time": "2020-05-06T04:12:15.151446Z"
    }
   },
   "outputs": [],
   "source": [
    "fields = ['TP_SEXO', 'TP_COR_RACA', 'EDU_PAI', 'EDU_MAE','QT_PESSOAS_CASA', 'RENDA_MENSAL', 'NU_IDADE', 'NU_NOTA_CN',\n",
    "             'NU_NOTA_CH','NU_NOTA_LC','NU_NOTA_MT','NU_NOTA_REDACAO','NU_NOTA_GERAL' ]\n",
    "\n",
    "for i in fields:   \n",
    "    \n",
    "            ENEM[i] = ENEM.groupby('CO_ESCOLA')[i].transform('mean')\n",
    "            "
   ]
  },
  {
   "cell_type": "code",
   "execution_count": 32,
   "metadata": {
    "ExecuteTime": {
     "end_time": "2020-05-05T20:35:24.743265Z",
     "start_time": "2020-05-05T20:35:24.634174Z"
    }
   },
   "outputs": [
    {
     "name": "stdout",
     "output_type": "stream",
     "text": [
      "71.24249249249249 % lowers quartis\n"
     ]
    }
   ],
   "source": [
    "# SCHOOL GRAIN AND SHOW THE NEW NOTA DISTRIBUTION\n",
    "ENEM.drop_duplicates('CO_ESCOLA', inplace=True)\n",
    "print((ENEM.TARGET==0).sum()/(ENEM.TARGET.count())*100, '% lowers quartis')"
   ]
  },
  {
   "cell_type": "code",
   "execution_count": 33,
   "metadata": {
    "ExecuteTime": {
     "end_time": "2020-05-05T20:35:24.777857Z",
     "start_time": "2020-05-05T20:35:24.748593Z"
    }
   },
   "outputs": [
    {
     "name": "stdout",
     "output_type": "stream",
     "text": [
      "75.0 % lowers quartis\n"
     ]
    }
   ],
   "source": [
    "#recalculating target for new  Nota Geral distribution \n",
    "ENEM['TARGET'] = pd.qcut (ENEM.NU_NOTA_GERAL, 4, labels = [1,2,3,4]).map(lambda x : 0 if x!=4 else 1) \n",
    "print((ENEM.TARGET==0).sum()/(ENEM.TARGET.count())*100, '% lowers quartis')"
   ]
  },
  {
   "cell_type": "code",
   "execution_count": 34,
   "metadata": {
    "ExecuteTime": {
     "end_time": "2020-05-05T20:35:25.049345Z",
     "start_time": "2020-05-05T20:35:24.782569Z"
    }
   },
   "outputs": [
    {
     "name": "stdout",
     "output_type": "stream",
     "text": [
      "censo before (194932, 30)\n",
      "enem_school before (26640, 20)\n",
      "(11595, 49)\n"
     ]
    }
   ],
   "source": [
    "print('censo before',CENSO19.shape)\n",
    "print('enem_school before', ENEM.shape)\n",
    "CENSO_ENEM_19 = pd.merge(CENSO19, ENEM, on='CO_ESCOLA', how='inner')\n",
    "print(CENSO_ENEM_19.shape)\n",
    "\n",
    "CENSO_ENEM_19.to_csv('SCHOOL.csv', index=False)\n"
   ]
  },
  {
   "cell_type": "code",
   "execution_count": 35,
   "metadata": {
    "ExecuteTime": {
     "end_time": "2020-05-05T20:35:25.204056Z",
     "start_time": "2020-05-05T20:35:25.055390Z"
    }
   },
   "outputs": [
    {
     "data": {
      "text/html": [
       "<div>\n",
       "<style scoped>\n",
       "    .dataframe tbody tr th:only-of-type {\n",
       "        vertical-align: middle;\n",
       "    }\n",
       "\n",
       "    .dataframe tbody tr th {\n",
       "        vertical-align: top;\n",
       "    }\n",
       "\n",
       "    .dataframe thead th {\n",
       "        text-align: right;\n",
       "    }\n",
       "</style>\n",
       "<table border=\"1\" class=\"dataframe\">\n",
       "  <thead>\n",
       "    <tr style=\"text-align: right;\">\n",
       "      <th></th>\n",
       "      <th>CO_ESCOLA</th>\n",
       "      <th>CO_MUNICIPIO</th>\n",
       "      <th>CO_UF</th>\n",
       "      <th>CO_DEPENDENCIA_ADM</th>\n",
       "      <th>IN_AGUA_INEXISTENTE</th>\n",
       "      <th>IN_ESGOTO_INEXISTENTE</th>\n",
       "      <th>IN_ENERGIA_INEXISTENTE</th>\n",
       "      <th>IN_LABORATORIO_INFORMATICA</th>\n",
       "      <th>IN_LABORATORIO_CIENCIAS</th>\n",
       "      <th>IN_SALA_ATENDIMENTO_ESPECIAL</th>\n",
       "      <th>IN_BIBLIOTECA</th>\n",
       "      <th>IN_SALA_LEITURA</th>\n",
       "      <th>IN_BANHEIRO_FORA_PREDIO</th>\n",
       "      <th>IN_BANHEIRO_PNE</th>\n",
       "      <th>IN_DEPENDENCIAS_PNE</th>\n",
       "      <th>QT_SALAS_UTILIZADAS</th>\n",
       "      <th>QT_EQUIP_TV</th>\n",
       "      <th>QT_EQUIP_DVD</th>\n",
       "      <th>QT_EQUIP_COPIADORA</th>\n",
       "      <th>QT_EQUIP_IMPRESSORA</th>\n",
       "      <th>QT_COM_ADMINISTRATIVO</th>\n",
       "      <th>QT_COMP_ALUNO</th>\n",
       "      <th>IN_INTERNET</th>\n",
       "      <th>IN_BANDA_LARGA</th>\n",
       "      <th>QT_FUNCIONARIOS</th>\n",
       "      <th>IN_ALIMENTACAO</th>\n",
       "      <th>IN_ESPECIALIZACAO</th>\n",
       "      <th>IN_MESTRADO</th>\n",
       "      <th>IN_DOUTORADO</th>\n",
       "      <th>TITULACAO</th>\n",
       "      <th>CO_ANO</th>\n",
       "      <th>NU_IDADE</th>\n",
       "      <th>TP_SEXO</th>\n",
       "      <th>TP_COR_RACA</th>\n",
       "      <th>TP_ST_CONCLUSAO</th>\n",
       "      <th>NU_NOTA_CN</th>\n",
       "      <th>NU_NOTA_CH</th>\n",
       "      <th>NU_NOTA_LC</th>\n",
       "      <th>NU_NOTA_MT</th>\n",
       "      <th>NU_NOTA_REDACAO</th>\n",
       "      <th>EDU_PAI</th>\n",
       "      <th>EDU_MAE</th>\n",
       "      <th>QT_PESSOAS_CASA</th>\n",
       "      <th>RENDA_MENSAL</th>\n",
       "      <th>ADM_ESCOLA</th>\n",
       "      <th>UF_ESCOLA</th>\n",
       "      <th>ST_FUNC</th>\n",
       "      <th>NU_NOTA_GERAL</th>\n",
       "      <th>TARGET</th>\n",
       "    </tr>\n",
       "  </thead>\n",
       "  <tbody>\n",
       "    <tr>\n",
       "      <th>0</th>\n",
       "      <td>11000350</td>\n",
       "      <td>1100205</td>\n",
       "      <td>11</td>\n",
       "      <td>4</td>\n",
       "      <td>0.0</td>\n",
       "      <td>0.0</td>\n",
       "      <td>0.0</td>\n",
       "      <td>1</td>\n",
       "      <td>1</td>\n",
       "      <td>0</td>\n",
       "      <td>1</td>\n",
       "      <td>1</td>\n",
       "      <td>1</td>\n",
       "      <td>1</td>\n",
       "      <td>0</td>\n",
       "      <td>14.0</td>\n",
       "      <td>1.0</td>\n",
       "      <td>1.0</td>\n",
       "      <td>0.0</td>\n",
       "      <td>1.0</td>\n",
       "      <td>12.0</td>\n",
       "      <td>25.0</td>\n",
       "      <td>1.0</td>\n",
       "      <td>1.0</td>\n",
       "      <td>67.0</td>\n",
       "      <td>0.0</td>\n",
       "      <td>0</td>\n",
       "      <td>0</td>\n",
       "      <td>0</td>\n",
       "      <td>0.049020</td>\n",
       "      <td>2011</td>\n",
       "      <td>17.291667</td>\n",
       "      <td>0.500000</td>\n",
       "      <td>1.708333</td>\n",
       "      <td>2</td>\n",
       "      <td>496.437500</td>\n",
       "      <td>515.604187</td>\n",
       "      <td>553.329163</td>\n",
       "      <td>571.487488</td>\n",
       "      <td>554.166687</td>\n",
       "      <td>3.166667</td>\n",
       "      <td>3.333333</td>\n",
       "      <td>1.666667</td>\n",
       "      <td>3.375000</td>\n",
       "      <td>4.0</td>\n",
       "      <td>RO</td>\n",
       "      <td>1.0</td>\n",
       "      <td>538.205017</td>\n",
       "      <td>1</td>\n",
       "    </tr>\n",
       "    <tr>\n",
       "      <th>1</th>\n",
       "      <td>11000384</td>\n",
       "      <td>1100205</td>\n",
       "      <td>11</td>\n",
       "      <td>2</td>\n",
       "      <td>0.0</td>\n",
       "      <td>0.0</td>\n",
       "      <td>0.0</td>\n",
       "      <td>1</td>\n",
       "      <td>0</td>\n",
       "      <td>0</td>\n",
       "      <td>1</td>\n",
       "      <td>0</td>\n",
       "      <td>0</td>\n",
       "      <td>1</td>\n",
       "      <td>0</td>\n",
       "      <td>10.0</td>\n",
       "      <td>1.0</td>\n",
       "      <td>1.0</td>\n",
       "      <td>0.0</td>\n",
       "      <td>1.0</td>\n",
       "      <td>6.0</td>\n",
       "      <td>10.0</td>\n",
       "      <td>1.0</td>\n",
       "      <td>1.0</td>\n",
       "      <td>74.0</td>\n",
       "      <td>1.0</td>\n",
       "      <td>0</td>\n",
       "      <td>0</td>\n",
       "      <td>0</td>\n",
       "      <td>0.137931</td>\n",
       "      <td>2011</td>\n",
       "      <td>17.486486</td>\n",
       "      <td>0.540541</td>\n",
       "      <td>2.243243</td>\n",
       "      <td>2</td>\n",
       "      <td>426.010803</td>\n",
       "      <td>438.664856</td>\n",
       "      <td>506.291901</td>\n",
       "      <td>481.835144</td>\n",
       "      <td>496.216217</td>\n",
       "      <td>1.972973</td>\n",
       "      <td>2.270270</td>\n",
       "      <td>1.918919</td>\n",
       "      <td>2.189189</td>\n",
       "      <td>2.0</td>\n",
       "      <td>RO</td>\n",
       "      <td>1.0</td>\n",
       "      <td>469.803772</td>\n",
       "      <td>0</td>\n",
       "    </tr>\n",
       "    <tr>\n",
       "      <th>2</th>\n",
       "      <td>11017201</td>\n",
       "      <td>1100155</td>\n",
       "      <td>11</td>\n",
       "      <td>2</td>\n",
       "      <td>0.0</td>\n",
       "      <td>0.0</td>\n",
       "      <td>0.0</td>\n",
       "      <td>1</td>\n",
       "      <td>0</td>\n",
       "      <td>1</td>\n",
       "      <td>1</td>\n",
       "      <td>0</td>\n",
       "      <td>0</td>\n",
       "      <td>0</td>\n",
       "      <td>1</td>\n",
       "      <td>10.0</td>\n",
       "      <td>1.0</td>\n",
       "      <td>1.0</td>\n",
       "      <td>1.0</td>\n",
       "      <td>1.0</td>\n",
       "      <td>15.0</td>\n",
       "      <td>10.0</td>\n",
       "      <td>1.0</td>\n",
       "      <td>0.0</td>\n",
       "      <td>93.0</td>\n",
       "      <td>1.0</td>\n",
       "      <td>0</td>\n",
       "      <td>0</td>\n",
       "      <td>0</td>\n",
       "      <td>0.184211</td>\n",
       "      <td>2011</td>\n",
       "      <td>17.357143</td>\n",
       "      <td>0.571429</td>\n",
       "      <td>1.857143</td>\n",
       "      <td>2</td>\n",
       "      <td>435.557129</td>\n",
       "      <td>444.100006</td>\n",
       "      <td>503.614288</td>\n",
       "      <td>466.764282</td>\n",
       "      <td>521.428589</td>\n",
       "      <td>1.857143</td>\n",
       "      <td>2.428571</td>\n",
       "      <td>1.785714</td>\n",
       "      <td>2.142857</td>\n",
       "      <td>2.0</td>\n",
       "      <td>RO</td>\n",
       "      <td>1.0</td>\n",
       "      <td>474.292847</td>\n",
       "      <td>0</td>\n",
       "    </tr>\n",
       "    <tr>\n",
       "      <th>3</th>\n",
       "      <td>11017384</td>\n",
       "      <td>1101559</td>\n",
       "      <td>11</td>\n",
       "      <td>2</td>\n",
       "      <td>0.0</td>\n",
       "      <td>0.0</td>\n",
       "      <td>0.0</td>\n",
       "      <td>0</td>\n",
       "      <td>1</td>\n",
       "      <td>0</td>\n",
       "      <td>1</td>\n",
       "      <td>0</td>\n",
       "      <td>0</td>\n",
       "      <td>0</td>\n",
       "      <td>0</td>\n",
       "      <td>7.0</td>\n",
       "      <td>1.0</td>\n",
       "      <td>1.0</td>\n",
       "      <td>1.0</td>\n",
       "      <td>1.0</td>\n",
       "      <td>5.0</td>\n",
       "      <td>12.0</td>\n",
       "      <td>1.0</td>\n",
       "      <td>1.0</td>\n",
       "      <td>52.0</td>\n",
       "      <td>1.0</td>\n",
       "      <td>1</td>\n",
       "      <td>0</td>\n",
       "      <td>0</td>\n",
       "      <td>0.274510</td>\n",
       "      <td>2011</td>\n",
       "      <td>17.666667</td>\n",
       "      <td>0.125000</td>\n",
       "      <td>2.750000</td>\n",
       "      <td>2</td>\n",
       "      <td>421.158325</td>\n",
       "      <td>415.941681</td>\n",
       "      <td>460.737488</td>\n",
       "      <td>457.024994</td>\n",
       "      <td>500.000000</td>\n",
       "      <td>1.000000</td>\n",
       "      <td>1.625000</td>\n",
       "      <td>1.750000</td>\n",
       "      <td>2.000000</td>\n",
       "      <td>2.0</td>\n",
       "      <td>RO</td>\n",
       "      <td>1.0</td>\n",
       "      <td>450.972504</td>\n",
       "      <td>0</td>\n",
       "    </tr>\n",
       "    <tr>\n",
       "      <th>4</th>\n",
       "      <td>11017422</td>\n",
       "      <td>1100155</td>\n",
       "      <td>11</td>\n",
       "      <td>2</td>\n",
       "      <td>0.0</td>\n",
       "      <td>0.0</td>\n",
       "      <td>0.0</td>\n",
       "      <td>1</td>\n",
       "      <td>0</td>\n",
       "      <td>0</td>\n",
       "      <td>0</td>\n",
       "      <td>0</td>\n",
       "      <td>0</td>\n",
       "      <td>0</td>\n",
       "      <td>0</td>\n",
       "      <td>10.0</td>\n",
       "      <td>1.0</td>\n",
       "      <td>1.0</td>\n",
       "      <td>1.0</td>\n",
       "      <td>1.0</td>\n",
       "      <td>7.0</td>\n",
       "      <td>10.0</td>\n",
       "      <td>1.0</td>\n",
       "      <td>1.0</td>\n",
       "      <td>33.0</td>\n",
       "      <td>1.0</td>\n",
       "      <td>1</td>\n",
       "      <td>0</td>\n",
       "      <td>0</td>\n",
       "      <td>0.187500</td>\n",
       "      <td>2011</td>\n",
       "      <td>17.400000</td>\n",
       "      <td>0.266667</td>\n",
       "      <td>2.066667</td>\n",
       "      <td>2</td>\n",
       "      <td>441.813324</td>\n",
       "      <td>443.653320</td>\n",
       "      <td>502.626678</td>\n",
       "      <td>503.059998</td>\n",
       "      <td>486.666656</td>\n",
       "      <td>1.000000</td>\n",
       "      <td>1.600000</td>\n",
       "      <td>1.666667</td>\n",
       "      <td>1.533333</td>\n",
       "      <td>2.0</td>\n",
       "      <td>RO</td>\n",
       "      <td>1.0</td>\n",
       "      <td>475.563995</td>\n",
       "      <td>0</td>\n",
       "    </tr>\n",
       "  </tbody>\n",
       "</table>\n",
       "</div>"
      ],
      "text/plain": [
       "   CO_ESCOLA  CO_MUNICIPIO  CO_UF CO_DEPENDENCIA_ADM IN_AGUA_INEXISTENTE  \\\n",
       "0   11000350       1100205     11                  4                 0.0   \n",
       "1   11000384       1100205     11                  2                 0.0   \n",
       "2   11017201       1100155     11                  2                 0.0   \n",
       "3   11017384       1101559     11                  2                 0.0   \n",
       "4   11017422       1100155     11                  2                 0.0   \n",
       "\n",
       "  IN_ESGOTO_INEXISTENTE IN_ENERGIA_INEXISTENTE IN_LABORATORIO_INFORMATICA  \\\n",
       "0                   0.0                    0.0                          1   \n",
       "1                   0.0                    0.0                          1   \n",
       "2                   0.0                    0.0                          1   \n",
       "3                   0.0                    0.0                          0   \n",
       "4                   0.0                    0.0                          1   \n",
       "\n",
       "  IN_LABORATORIO_CIENCIAS IN_SALA_ATENDIMENTO_ESPECIAL IN_BIBLIOTECA  \\\n",
       "0                       1                            0             1   \n",
       "1                       0                            0             1   \n",
       "2                       0                            1             1   \n",
       "3                       1                            0             1   \n",
       "4                       0                            0             0   \n",
       "\n",
       "  IN_SALA_LEITURA IN_BANHEIRO_FORA_PREDIO IN_BANHEIRO_PNE IN_DEPENDENCIAS_PNE  \\\n",
       "0               1                       1               1                   0   \n",
       "1               0                       0               1                   0   \n",
       "2               0                       0               0                   1   \n",
       "3               0                       0               0                   0   \n",
       "4               0                       0               0                   0   \n",
       "\n",
       "   QT_SALAS_UTILIZADAS QT_EQUIP_TV QT_EQUIP_DVD QT_EQUIP_COPIADORA  \\\n",
       "0                 14.0         1.0          1.0                0.0   \n",
       "1                 10.0         1.0          1.0                0.0   \n",
       "2                 10.0         1.0          1.0                1.0   \n",
       "3                  7.0         1.0          1.0                1.0   \n",
       "4                 10.0         1.0          1.0                1.0   \n",
       "\n",
       "  QT_EQUIP_IMPRESSORA  QT_COM_ADMINISTRATIVO  QT_COMP_ALUNO IN_INTERNET  \\\n",
       "0                 1.0                   12.0           25.0         1.0   \n",
       "1                 1.0                    6.0           10.0         1.0   \n",
       "2                 1.0                   15.0           10.0         1.0   \n",
       "3                 1.0                    5.0           12.0         1.0   \n",
       "4                 1.0                    7.0           10.0         1.0   \n",
       "\n",
       "  IN_BANDA_LARGA  QT_FUNCIONARIOS IN_ALIMENTACAO  IN_ESPECIALIZACAO  \\\n",
       "0            1.0             67.0            0.0                  0   \n",
       "1            1.0             74.0            1.0                  0   \n",
       "2            0.0             93.0            1.0                  0   \n",
       "3            1.0             52.0            1.0                  1   \n",
       "4            1.0             33.0            1.0                  1   \n",
       "\n",
       "   IN_MESTRADO  IN_DOUTORADO  TITULACAO  CO_ANO   NU_IDADE   TP_SEXO  \\\n",
       "0            0             0   0.049020    2011  17.291667  0.500000   \n",
       "1            0             0   0.137931    2011  17.486486  0.540541   \n",
       "2            0             0   0.184211    2011  17.357143  0.571429   \n",
       "3            0             0   0.274510    2011  17.666667  0.125000   \n",
       "4            0             0   0.187500    2011  17.400000  0.266667   \n",
       "\n",
       "   TP_COR_RACA  TP_ST_CONCLUSAO  NU_NOTA_CN  NU_NOTA_CH  NU_NOTA_LC  \\\n",
       "0     1.708333                2  496.437500  515.604187  553.329163   \n",
       "1     2.243243                2  426.010803  438.664856  506.291901   \n",
       "2     1.857143                2  435.557129  444.100006  503.614288   \n",
       "3     2.750000                2  421.158325  415.941681  460.737488   \n",
       "4     2.066667                2  441.813324  443.653320  502.626678   \n",
       "\n",
       "   NU_NOTA_MT  NU_NOTA_REDACAO   EDU_PAI   EDU_MAE  QT_PESSOAS_CASA  \\\n",
       "0  571.487488       554.166687  3.166667  3.333333         1.666667   \n",
       "1  481.835144       496.216217  1.972973  2.270270         1.918919   \n",
       "2  466.764282       521.428589  1.857143  2.428571         1.785714   \n",
       "3  457.024994       500.000000  1.000000  1.625000         1.750000   \n",
       "4  503.059998       486.666656  1.000000  1.600000         1.666667   \n",
       "\n",
       "   RENDA_MENSAL  ADM_ESCOLA UF_ESCOLA  ST_FUNC  NU_NOTA_GERAL  TARGET  \n",
       "0      3.375000         4.0        RO      1.0     538.205017       1  \n",
       "1      2.189189         2.0        RO      1.0     469.803772       0  \n",
       "2      2.142857         2.0        RO      1.0     474.292847       0  \n",
       "3      2.000000         2.0        RO      1.0     450.972504       0  \n",
       "4      1.533333         2.0        RO      1.0     475.563995       0  "
      ]
     },
     "execution_count": 35,
     "metadata": {},
     "output_type": "execute_result"
    }
   ],
   "source": [
    "CENSO_ENEM_19.head()"
   ]
  },
  {
   "cell_type": "code",
   "execution_count": 36,
   "metadata": {
    "ExecuteTime": {
     "end_time": "2020-05-05T20:35:25.243665Z",
     "start_time": "2020-05-05T20:35:25.209290Z"
    }
   },
   "outputs": [
    {
     "data": {
      "text/plain": [
       "CO_ESCOLA                          0\n",
       "CO_MUNICIPIO                       0\n",
       "CO_UF                              0\n",
       "CO_DEPENDENCIA_ADM                 0\n",
       "IN_AGUA_INEXISTENTE                0\n",
       "IN_ESGOTO_INEXISTENTE              0\n",
       "IN_ENERGIA_INEXISTENTE             0\n",
       "IN_LABORATORIO_INFORMATICA         0\n",
       "IN_LABORATORIO_CIENCIAS            0\n",
       "IN_SALA_ATENDIMENTO_ESPECIAL       0\n",
       "IN_BIBLIOTECA                      0\n",
       "IN_SALA_LEITURA                    0\n",
       "IN_BANHEIRO_FORA_PREDIO            0\n",
       "IN_BANHEIRO_PNE                    0\n",
       "IN_DEPENDENCIAS_PNE                0\n",
       "QT_SALAS_UTILIZADAS                0\n",
       "QT_EQUIP_TV                        0\n",
       "QT_EQUIP_DVD                       0\n",
       "QT_EQUIP_COPIADORA                 0\n",
       "QT_EQUIP_IMPRESSORA                0\n",
       "QT_COM_ADMINISTRATIVO            308\n",
       "QT_COMP_ALUNO                   1100\n",
       "IN_INTERNET                      199\n",
       "IN_BANDA_LARGA                   821\n",
       "QT_FUNCIONARIOS                    0\n",
       "IN_ALIMENTACAO                     0\n",
       "IN_ESPECIALIZACAO                  0\n",
       "IN_MESTRADO                        0\n",
       "IN_DOUTORADO                       0\n",
       "TITULACAO                          0\n",
       "CO_ANO                             0\n",
       "NU_IDADE                           0\n",
       "TP_SEXO                            0\n",
       "TP_COR_RACA                        0\n",
       "TP_ST_CONCLUSAO                    0\n",
       "NU_NOTA_CN                         0\n",
       "NU_NOTA_CH                         0\n",
       "NU_NOTA_LC                         0\n",
       "NU_NOTA_MT                         0\n",
       "NU_NOTA_REDACAO                    0\n",
       "EDU_PAI                            0\n",
       "EDU_MAE                            0\n",
       "QT_PESSOAS_CASA                    0\n",
       "RENDA_MENSAL                       0\n",
       "ADM_ESCOLA                         0\n",
       "UF_ESCOLA                          0\n",
       "ST_FUNC                            0\n",
       "NU_NOTA_GERAL                      0\n",
       "TARGET                             0\n",
       "dtype: int64"
      ]
     },
     "execution_count": 36,
     "metadata": {},
     "output_type": "execute_result"
    }
   ],
   "source": [
    "CENSO_ENEM_19.isnull().sum()\n"
   ]
  },
  {
   "cell_type": "code",
   "execution_count": null,
   "metadata": {},
   "outputs": [],
   "source": []
  }
 ],
 "metadata": {
  "kernelspec": {
   "display_name": "Python 3",
   "language": "python",
   "name": "python3"
  },
  "language_info": {
   "codemirror_mode": {
    "name": "ipython",
    "version": 3
   },
   "file_extension": ".py",
   "mimetype": "text/x-python",
   "name": "python",
   "nbconvert_exporter": "python",
   "pygments_lexer": "ipython3",
   "version": "3.7.6"
  }
 },
 "nbformat": 4,
 "nbformat_minor": 4
}
