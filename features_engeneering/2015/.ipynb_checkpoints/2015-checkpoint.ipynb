{
 "cells": [
  {
   "cell_type": "code",
   "execution_count": 3,
   "metadata": {
    "ExecuteTime": {
     "end_time": "2020-04-23T17:47:36.248112Z",
     "start_time": "2020-04-23T17:47:36.237252Z"
    }
   },
   "outputs": [],
   "source": [
    "import time\n",
    "import pandas as pd\n",
    "import warnings\n",
    "import feather\n",
    "warnings.filterwarnings('ignore')\n",
    "from pandas.api.types import is_string_dtype\n",
    "from pandas.api.types import is_numeric_dtype\n",
    "pd.set_option('display.max_columns', None)"
   ]
  },
  {
   "cell_type": "code",
   "execution_count": null,
   "metadata": {
    "ExecuteTime": {
     "end_time": "2020-04-23T17:47:24.789342Z",
     "start_time": "2020-04-23T17:47:24.482678Z"
    }
   },
   "outputs": [],
   "source": [
    "#Students of ENEM\n",
    "E = pd.read_csv('~/data/enem/2015/DADOS/MICRODADOS_ENEM_2015.csv', sep=',', encoding=\"iso-8859-2\")\n",
    "E.drop(E.filter(regex='RESPOSTAS|GABARITO').columns, axis=1, inplace = True)"
   ]
  },
  {
   "cell_type": "code",
   "execution_count": null,
   "metadata": {
    "ExecuteTime": {
     "end_time": "2020-04-23T17:47:24.795542Z",
     "start_time": "2020-04-23T17:47:21.286Z"
    }
   },
   "outputs": [],
   "source": [
    "#School census data\n",
    "CE =    pd.read_csv(\"~/data/censo/2015/DADOS/ESCOLAS.CSV\", sep='|', encoding=\"iso-8859-2\")"
   ]
  },
  {
   "cell_type": "code",
   "execution_count": null,
   "metadata": {
    "ExecuteTime": {
     "end_time": "2020-04-23T17:47:24.798716Z",
     "start_time": "2020-04-23T17:47:21.293Z"
    }
   },
   "outputs": [],
   "source": [
    "#Teacher census data by Braazilian mesoregion\n",
    "CD_CO = pd.read_csv(\"~/data/censo/2015/DADOS/DOCENTES_CO.CSV\", sep='|', encoding=\"iso-8859-2\")\n",
    "CD_NE = pd.read_csv(\"~/data/censo/2015/DADOS/DOCENTES_NORDESTE.CSV\", sep='|', encoding=\"iso-8859-2\")\n",
    "CD_N =  pd.read_csv(\"~/data/censo/2015/DADOS/DOCENTES_NORTE.CSV\", sep='|', encoding=\"iso-8859-2\")\n",
    "CD_SE = pd.read_csv(\"~/data/censo/2015/DADOS/DOCENTES_SUDESTE.CSV\", sep='|', encoding=\"iso-8859-2\")\n",
    "CD_S =  pd.read_csv(\"~/data/censo/2015/DADOS/DOCENTES_SUL.CSV\", sep='|', encoding=\"iso-8859-2\")\n",
    "\n",
    "#All teacher census data\n",
    "CT = pd.concat([CD_CO, CD_NE, CD_N, CD_SE, CD_S])"
   ]
  },
  {
   "cell_type": "code",
   "execution_count": null,
   "metadata": {
    "ExecuteTime": {
     "end_time": "2020-04-23T17:47:24.801664Z",
     "start_time": "2020-04-23T17:47:21.298Z"
    }
   },
   "outputs": [],
   "source": [
    "#print(E.info(memory_usage='deep')) \n",
    "#print(CT.info(memory_usage='deep')) \n",
    "#print(CE.info(memory_usage='deep')) \n",
    "#"
   ]
  },
  {
   "cell_type": "code",
   "execution_count": null,
   "metadata": {
    "ExecuteTime": {
     "end_time": "2020-04-23T17:47:24.804353Z",
     "start_time": "2020-04-23T17:47:21.302Z"
    }
   },
   "outputs": [],
   "source": [
    "#dowcasting numeric feature of some data to improve memory usage.\n",
    "obj_cols = E.filter(regex = 'Q\\d*', axis=1).columns.to_list()\n",
    "E[obj_cols] = E[obj_cols].astype('category')\n",
    "\n",
    "num_cols = E.select_dtypes(include =['int']).columns\n",
    "E[num_cols]= E[num_cols].apply(pd.to_numeric,downcast='unsigned')\n"
   ]
  },
  {
   "cell_type": "code",
   "execution_count": null,
   "metadata": {
    "ExecuteTime": {
     "end_time": "2020-04-23T17:47:24.807365Z",
     "start_time": "2020-04-23T17:47:21.305Z"
    }
   },
   "outputs": [],
   "source": [
    "flo_cols = E.select_dtypes(include =['float']).columns\n",
    "E[flo_cols]= E[flo_cols].apply(pd.to_numeric,downcast='float')\n",
    "\n",
    "\n",
    "#CT main problems\n",
    "num_cols = CT.select_dtypes(include =['int']).columns\n",
    "CT[num_cols]= CT[num_cols].apply(pd.to_numeric,downcast='unsigned')\n",
    "\n",
    "flo_cols = CT.select_dtypes(include =['float']).columns\n",
    "CT[flo_cols]= CT[flo_cols].apply(pd.to_numeric,downcast='float')"
   ]
  },
  {
   "cell_type": "code",
   "execution_count": null,
   "metadata": {
    "ExecuteTime": {
     "end_time": "2020-04-23T17:47:24.809991Z",
     "start_time": "2020-04-23T17:47:21.308Z"
    }
   },
   "outputs": [],
   "source": [
    "obj_cols = CT.select_dtypes(include =['object']).columns\n",
    "CT[obj_cols] = CT[obj_cols].astype('category')\n",
    "\n",
    "obj_cols = CE.select_dtypes(include =['object']).columns\n",
    "CE[obj_cols] = CE[obj_cols].astype('category')\n",
    "\n",
    "#ID columns = already known as categorical\n",
    "id_cols = CE.filter(regex = 'ID', axis=1).columns.to_list()\n",
    "CE[id_cols] = CE[id_cols].astype('category')"
   ]
  },
  {
   "cell_type": "code",
   "execution_count": null,
   "metadata": {
    "ExecuteTime": {
     "end_time": "2020-04-23T17:47:24.812382Z",
     "start_time": "2020-04-23T17:47:21.311Z"
    }
   },
   "outputs": [],
   "source": [
    "#removing faulty columns to convert the frame to fast type. This columns won't be useful.\n",
    "CT.drop('CO_CURSO_3', inplace = True, axis= 1)"
   ]
  },
  {
   "cell_type": "code",
   "execution_count": null,
   "metadata": {
    "ExecuteTime": {
     "end_time": "2020-04-23T17:47:24.815383Z",
     "start_time": "2020-04-23T17:47:21.316Z"
    }
   },
   "outputs": [],
   "source": [
    "#Write on disk the typed and faster data.\n",
    "E.to_feather('E.feather')\n",
    "CT.reset_index().to_feather ('CT.feather')\n",
    "CE.to_feather ('CE.feather')\n"
   ]
  },
  {
   "cell_type": "markdown",
   "metadata": {
    "ExecuteTime": {
     "end_time": "2020-04-02T23:15:58.994825Z",
     "start_time": "2020-04-02T23:15:58.972231Z"
    }
   },
   "source": [
    "### If it is not the first time, start from this point"
   ]
  },
  {
   "cell_type": "code",
   "execution_count": 176,
   "metadata": {
    "ExecuteTime": {
     "end_time": "2020-05-05T02:01:21.617170Z",
     "start_time": "2020-05-05T02:01:11.031721Z"
    }
   },
   "outputs": [],
   "source": [
    "import time\n",
    "import pandas as pd\n",
    "import numpy as np\n",
    "\n",
    "import warnings\n",
    "import feather\n",
    "warnings.filterwarnings('ignore')\n",
    "from pandas.api.types import is_string_dtype\n",
    "from pandas.api.types import is_numeric_dtype\n",
    "pd.set_option('display.max_columns', None)\n",
    "\n",
    "\n",
    "ENEM = pd.read_feather('E.feather')\n",
    "C_TEACHER = pd.read_feather('CT.feather')\n",
    "C_SCHOOL  = pd.read_feather ('CE.feather')"
   ]
  },
  {
   "cell_type": "markdown",
   "metadata": {},
   "source": [
    "There are many insignificant features to our work, like codes, PK, FK and out of context. \n",
    "Based on prior works and experience of especialists, will be taken off nonsense features. \n",
    "A study was carried out on the evolution and correspondence of these resources in the ENEM and Census\n",
    "data for the period 2009-2018. See (featuresOrganisaton.xls)"
   ]
  },
  {
   "cell_type": "code",
   "execution_count": 177,
   "metadata": {
    "ExecuteTime": {
     "end_time": "2020-05-05T02:01:23.327323Z",
     "start_time": "2020-05-05T02:01:21.622626Z"
    }
   },
   "outputs": [],
   "source": [
    "teacher = ['CO_PESSOA_FISICA', 'CO_ENTIDADE','IN_ESPECIALIZACAO','IN_MESTRADO','IN_DOUTORADO']\n",
    "\n",
    "C_TEACHER = C_TEACHER[teacher]\n",
    "\n",
    "# New default column names for all Datasets\n",
    "newNames = [\n",
    "'CO_PROFESSOR',\n",
    "'CO_ESCOLA',  \n",
    "'IN_ESPECIALIZACAO',\n",
    "'IN_MESTRADO',\n",
    "'IN_DOUTORADO'\n",
    "]\n",
    "#Rename\n",
    "C_TEACHER.columns = newNames\n",
    "#convert Keys to Str\n",
    "C_TEACHER.CO_PROFESSOR = C_TEACHER.CO_PROFESSOR.astype('int32')\n",
    "C_TEACHER.CO_ESCOLA = C_TEACHER.CO_ESCOLA.astype('int32')"
   ]
  },
  {
   "cell_type": "code",
   "execution_count": 178,
   "metadata": {
    "ExecuteTime": {
     "end_time": "2020-05-05T02:01:23.822139Z",
     "start_time": "2020-05-05T02:01:23.334369Z"
    }
   },
   "outputs": [
    {
     "name": "stdout",
     "output_type": "stream",
     "text": [
      "Checking year of censo [2015]\n"
     ]
    }
   ],
   "source": [
    "key = ['CO_ENTIDADE','CO_MUNICIPIO','CO_UF','TP_DEPENDENCIA']\n",
    "\n",
    "school = ['NU_ANO_CENSO','CO_ENTIDADE', 'CO_MUNICIPIO','CO_UF','TP_DEPENDENCIA','IN_AGUA_INEXISTENTE',\n",
    "                  'IN_ESGOTO_INEXISTENTE','IN_ENERGIA_INEXISTENTE',\n",
    "                   'IN_LABORATORIO_INFORMATICA','IN_LABORATORIO_CIENCIAS','IN_SALA_ATENDIMENTO_ESPECIAL',\n",
    "                   'IN_BIBLIOTECA','IN_SALA_LEITURA','IN_BANHEIRO_FORA_PREDIO',\n",
    "                   'IN_BANHEIRO_PNE','IN_DEPENDENCIAS_PNE','NU_SALAS_UTILIZADAS','NU_EQUIP_TV',\n",
    "                   'NU_EQUIP_DVD','NU_EQUIP_COPIADORA','NU_EQUIP_IMPRESSORA','NU_COMP_ADMINISTRATIVO',\n",
    "                   'NU_COMP_ALUNO','IN_INTERNET','IN_BANDA_LARGA','NU_FUNCIONARIOS','IN_ALIMENTACAO']\n",
    "\n",
    "C_SCHOOL = C_SCHOOL[school]\n",
    "\n",
    "\n",
    "# New default column names for all Datasets\n",
    "newNames = ['ANO_CENSO',\n",
    "'CO_ESCOLA',\n",
    " 'CO_MUNICIPIO',\n",
    " 'CO_UF',\n",
    " 'CO_DEPENDENCIA_ADM',\n",
    " 'IN_AGUA_INEXISTENTE',\n",
    " 'IN_ESGOTO_INEXISTENTE',\n",
    " 'IN_ENERGIA_INEXISTENTE',\n",
    " 'IN_LABORATORIO_INFORMATICA',\n",
    " 'IN_LABORATORIO_CIENCIAS',\n",
    " 'IN_SALA_ATENDIMENTO_ESPECIAL',\n",
    " 'IN_BIBLIOTECA',\n",
    " 'IN_SALA_LEITURA',\n",
    " 'IN_BANHEIRO_FORA_PREDIO',\n",
    " 'IN_BANHEIRO_PNE',\n",
    " 'IN_DEPENDENCIAS_PNE',\n",
    " 'QT_SALAS_UTILIZADAS',\n",
    " 'QT_EQUIP_TV',\n",
    " 'QT_EQUIP_DVD',\n",
    " 'QT_EQUIP_COPIADORA',\n",
    " 'QT_EQUIP_IMPRESSORA',\n",
    " 'QT_COM_ADMINISTRATIVO',\n",
    " 'QT_COMP_ALUNO',\n",
    " 'IN_INTERNET',\n",
    " 'IN_BANDA_LARGA',\n",
    " 'QT_FUNCIONARIOS',\n",
    " 'IN_ALIMENTACAO'\n",
    "]\n",
    "\n",
    "#Rename \n",
    "C_SCHOOL.columns =  newNames\n",
    "#convert Keys to Str\n",
    "C_SCHOOL.CO_ESCOLA = C_SCHOOL.CO_ESCOLA.astype('int32')\n",
    "print('Checking year of censo',C_SCHOOL.ANO_CENSO.unique())\n",
    "C_SCHOOL.drop('ANO_CENSO', axis=1, inplace=True)"
   ]
  },
  {
   "cell_type": "code",
   "execution_count": 179,
   "metadata": {
    "ExecuteTime": {
     "end_time": "2020-05-05T02:01:24.745727Z",
     "start_time": "2020-05-05T02:01:23.827874Z"
    }
   },
   "outputs": [],
   "source": [
    "enem = ['NU_ANO','CO_ESCOLA','TP_ENSINO','NU_IDADE','TP_SEXO','TP_COR_RACA','TP_ST_CONCLUSAO','NU_NOTA_CN',\n",
    "        'NU_NOTA_CH','NU_NOTA_LC','NU_NOTA_MT','NU_NOTA_REDACAO','Q001','Q002','Q005','Q006'\n",
    "]\n",
    "\n",
    "\n",
    "ENEM = ENEM[enem]\n",
    "\n",
    "# New default column names for all Datasets\n",
    "newNames = [\n",
    "'CO_ANO',\n",
    "'CO_ESCOLA',\n",
    "'TP_ENSINO',\n",
    "'NU_IDADE',\n",
    "'TP_SEXO',\n",
    "'TP_COR_RACA',\n",
    "'TP_ST_CONCLUSAO',\n",
    "'NU_NOTA_CN',\n",
    "'NU_NOTA_CH',\n",
    "'NU_NOTA_LC',\n",
    "'NU_NOTA_MT',\n",
    "'NU_NOTA_REDACAO',\n",
    "'EDU_PAI',\n",
    "'EDU_MAE',\n",
    "'QT_PESSOAS_CASA',\n",
    "'RENDA_MENSAL'\n",
    "]\n",
    "\n",
    "#Rename\n",
    "ENEM.columns = newNames"
   ]
  },
  {
   "cell_type": "markdown",
   "metadata": {},
   "source": [
    "### Stranger Patterns"
   ]
  },
  {
   "cell_type": "code",
   "execution_count": 180,
   "metadata": {
    "ExecuteTime": {
     "end_time": "2020-05-05T02:01:25.541419Z",
     "start_time": "2020-05-05T02:01:24.750837Z"
    }
   },
   "outputs": [
    {
     "name": "stdout",
     "output_type": "stream",
     "text": [
      "EDU_PAI ['E', 'B', 'C', 'D', 'H', 'A', 'F', 'G']\n",
      "EDU_MAE ['E', 'B', 'C', 'D', 'F', 'G', 'A', 'H']\n",
      "QT_PESSOAS_CASA [4.0, 3.0, 5.0, 2.0, 6.0, 7.0, 1.0, 8.0, 9.0, 10.0, 11.0, 12.0, 13.0, 14.0, 15.0, 20.0, 16.0, 18.0, 17.0, 19.0]\n",
      "RENDA_MENSAL ['C', 'B', 'D', 'E', 'F', 'G', 'H', 'A', 'I', 'J', 'K', 'Q', 'N', 'O', 'L', 'P', 'M']\n"
     ]
    }
   ],
   "source": [
    "#NO\n",
    "for i in ENEM.select_dtypes(include =['category']).columns:\n",
    "    print(i, list(ENEM[i].value_counts().index))"
   ]
  },
  {
   "cell_type": "code",
   "execution_count": 181,
   "metadata": {
    "ExecuteTime": {
     "end_time": "2020-05-05T02:01:25.561345Z",
     "start_time": "2020-05-05T02:01:25.547153Z"
    }
   },
   "outputs": [],
   "source": [
    "for i in C_SCHOOL.select_dtypes(include =['category']).columns:\n",
    "    print(i, list(C_SCHOOL[i].value_counts().index))"
   ]
  },
  {
   "cell_type": "markdown",
   "metadata": {},
   "source": [
    "### Minimum Scope Definition"
   ]
  },
  {
   "cell_type": "code",
   "execution_count": 182,
   "metadata": {
    "ExecuteTime": {
     "end_time": "2020-05-05T02:01:26.243506Z",
     "start_time": "2020-05-05T02:01:25.566702Z"
    }
   },
   "outputs": [],
   "source": [
    "ENEM.dropna(inplace = True, axis=0, subset = ['CO_ESCOLA'])\n",
    "ENEM.CO_ESCOLA = ENEM.CO_ESCOLA.astype('int32')"
   ]
  },
  {
   "cell_type": "code",
   "execution_count": 183,
   "metadata": {
    "ExecuteTime": {
     "end_time": "2020-05-05T02:01:26.293449Z",
     "start_time": "2020-05-05T02:01:26.253593Z"
    }
   },
   "outputs": [
    {
     "data": {
      "text/plain": [
       "TP_ST_CONCLUSAO     0\n",
       "TP_ENSINO          29\n",
       "dtype: int64"
      ]
     },
     "execution_count": 183,
     "metadata": {},
     "output_type": "execute_result"
    }
   ],
   "source": [
    "#should care about the nulls into scope filter features?\n",
    "filters = (['TP_ST_CONCLUSAO', 'TP_ENSINO'])\n",
    "ENEM[filters].isnull().sum()\n",
    "#NO, IT'S LOWER"
   ]
  },
  {
   "cell_type": "code",
   "execution_count": 184,
   "metadata": {
    "ExecuteTime": {
     "end_time": "2020-05-05T02:01:26.728819Z",
     "start_time": "2020-05-05T02:01:26.299561Z"
    }
   },
   "outputs": [
    {
     "name": "stdout",
     "output_type": "stream",
     "text": [
      "drop out 1649258 who not attend regular and prof approachs schools\n"
     ]
    }
   ],
   "source": [
    "print('drop out',((ENEM.TP_ENSINO!= 1)|(ENEM.TP_ENSINO!= 3)).sum(), 'who not attend regular and prof approachs schools')\n",
    "ENEM = ENEM.loc[((ENEM.TP_ENSINO== 1)|(ENEM.TP_ENSINO== 3))]\n",
    "ENEM.drop('TP_ENSINO', inplace = True, axis =1)\n"
   ]
  },
  {
   "cell_type": "code",
   "execution_count": 185,
   "metadata": {
    "ExecuteTime": {
     "end_time": "2020-05-05T02:01:26.891904Z",
     "start_time": "2020-05-05T02:01:26.734346Z"
    }
   },
   "outputs": [
    {
     "name": "stdout",
     "output_type": "stream",
     "text": [
      "null: NU_NOTA_CN 202748\n",
      "zero: NU_NOTA_CN 416\n",
      "stranger \".\" NU_NOTA_CN 0\n",
      "stranger \"*\" NU_NOTA_CN 0\n",
      "null: NU_NOTA_CH 202748\n",
      "zero: NU_NOTA_CH 171\n",
      "stranger \".\" NU_NOTA_CH 0\n",
      "stranger \"*\" NU_NOTA_CH 0\n",
      "null: NU_NOTA_LC 221025\n",
      "zero: NU_NOTA_LC 670\n",
      "stranger \".\" NU_NOTA_LC 0\n",
      "stranger \"*\" NU_NOTA_LC 0\n",
      "null: NU_NOTA_MT 221025\n",
      "zero: NU_NOTA_MT 1105\n",
      "stranger \".\" NU_NOTA_MT 0\n",
      "stranger \"*\" NU_NOTA_MT 0\n",
      "null: NU_NOTA_REDACAO 361\n",
      "zero: NU_NOTA_REDACAO 237685\n",
      "stranger \".\" NU_NOTA_REDACAO 0\n",
      "stranger \"*\" NU_NOTA_REDACAO 0\n"
     ]
    }
   ],
   "source": [
    "fields = (['NU_NOTA_CN', 'NU_NOTA_CH','NU_NOTA_LC','NU_NOTA_MT', 'NU_NOTA_REDACAO'])\n",
    "for i in fields:\n",
    "    print ('null:', i, ENEM[i].isnull().sum())\n",
    "    print ('zero:', i, (ENEM[i]== 0).sum())\n",
    "    print( 'stranger \".\"', i , (ENEM[i]== '.').sum())\n",
    "    print( 'stranger \"*\"', i , (ENEM[i]== '*').sum())\n",
    "    \n",
    "    #, \"and\", ENEM.I==0)\n"
   ]
  },
  {
   "cell_type": "code",
   "execution_count": 186,
   "metadata": {
    "ExecuteTime": {
     "end_time": "2020-05-05T02:01:27.488565Z",
     "start_time": "2020-05-05T02:01:26.898257Z"
    }
   },
   "outputs": [],
   "source": [
    "ENEM.dropna(inplace = True, axis=0, subset=fields)\n",
    "ENEM = ENEM.loc[~(ENEM[fields] == 0).any(axis=1)]"
   ]
  },
  {
   "cell_type": "code",
   "execution_count": 187,
   "metadata": {
    "ExecuteTime": {
     "end_time": "2020-05-05T02:01:27.561237Z",
     "start_time": "2020-05-05T02:01:27.493720Z"
    }
   },
   "outputs": [],
   "source": [
    "ENEM[fields] = ENEM[fields].astype('float32')"
   ]
  },
  {
   "cell_type": "code",
   "execution_count": 188,
   "metadata": {
    "ExecuteTime": {
     "end_time": "2020-05-05T02:01:28.090530Z",
     "start_time": "2020-05-05T02:01:27.566268Z"
    }
   },
   "outputs": [
    {
     "data": {
      "text/html": [
       "<div>\n",
       "<style scoped>\n",
       "    .dataframe tbody tr th:only-of-type {\n",
       "        vertical-align: middle;\n",
       "    }\n",
       "\n",
       "    .dataframe tbody tr th {\n",
       "        vertical-align: top;\n",
       "    }\n",
       "\n",
       "    .dataframe thead th {\n",
       "        text-align: right;\n",
       "    }\n",
       "</style>\n",
       "<table border=\"1\" class=\"dataframe\">\n",
       "  <thead>\n",
       "    <tr style=\"text-align: right;\">\n",
       "      <th></th>\n",
       "      <th>NU_NOTA_CN</th>\n",
       "      <th>NU_NOTA_CH</th>\n",
       "      <th>NU_NOTA_LC</th>\n",
       "      <th>NU_NOTA_MT</th>\n",
       "      <th>NU_NOTA_REDACAO</th>\n",
       "    </tr>\n",
       "  </thead>\n",
       "  <tbody>\n",
       "    <tr>\n",
       "      <th>count</th>\n",
       "      <td>1.396907e+06</td>\n",
       "      <td>1.396907e+06</td>\n",
       "      <td>1.396907e+06</td>\n",
       "      <td>1.396907e+06</td>\n",
       "      <td>1.396907e+06</td>\n",
       "    </tr>\n",
       "    <tr>\n",
       "      <th>mean</th>\n",
       "      <td>4.782556e+02</td>\n",
       "      <td>5.557132e+02</td>\n",
       "      <td>5.041097e+02</td>\n",
       "      <td>4.740017e+02</td>\n",
       "      <td>5.460414e+02</td>\n",
       "    </tr>\n",
       "    <tr>\n",
       "      <th>std</th>\n",
       "      <td>7.380121e+01</td>\n",
       "      <td>7.170425e+01</td>\n",
       "      <td>7.194490e+01</td>\n",
       "      <td>1.085391e+02</td>\n",
       "      <td>1.311493e+02</td>\n",
       "    </tr>\n",
       "    <tr>\n",
       "      <th>min</th>\n",
       "      <td>3.353000e+02</td>\n",
       "      <td>3.398000e+02</td>\n",
       "      <td>3.033000e+02</td>\n",
       "      <td>2.854000e+02</td>\n",
       "      <td>4.000000e+01</td>\n",
       "    </tr>\n",
       "    <tr>\n",
       "      <th>25%</th>\n",
       "      <td>4.230000e+02</td>\n",
       "      <td>5.091000e+02</td>\n",
       "      <td>4.561000e+02</td>\n",
       "      <td>3.949000e+02</td>\n",
       "      <td>4.600000e+02</td>\n",
       "    </tr>\n",
       "    <tr>\n",
       "      <th>50%</th>\n",
       "      <td>4.687000e+02</td>\n",
       "      <td>5.608000e+02</td>\n",
       "      <td>5.066000e+02</td>\n",
       "      <td>4.514000e+02</td>\n",
       "      <td>5.400000e+02</td>\n",
       "    </tr>\n",
       "    <tr>\n",
       "      <th>75%</th>\n",
       "      <td>5.232000e+02</td>\n",
       "      <td>6.056000e+02</td>\n",
       "      <td>5.549000e+02</td>\n",
       "      <td>5.266000e+02</td>\n",
       "      <td>6.200000e+02</td>\n",
       "    </tr>\n",
       "    <tr>\n",
       "      <th>max</th>\n",
       "      <td>8.690000e+02</td>\n",
       "      <td>8.506000e+02</td>\n",
       "      <td>8.258000e+02</td>\n",
       "      <td>1.008300e+03</td>\n",
       "      <td>1.000000e+03</td>\n",
       "    </tr>\n",
       "  </tbody>\n",
       "</table>\n",
       "</div>"
      ],
      "text/plain": [
       "         NU_NOTA_CN    NU_NOTA_CH    NU_NOTA_LC    NU_NOTA_MT  NU_NOTA_REDACAO\n",
       "count  1.396907e+06  1.396907e+06  1.396907e+06  1.396907e+06     1.396907e+06\n",
       "mean   4.782556e+02  5.557132e+02  5.041097e+02  4.740017e+02     5.460414e+02\n",
       "std    7.380121e+01  7.170425e+01  7.194490e+01  1.085391e+02     1.311493e+02\n",
       "min    3.353000e+02  3.398000e+02  3.033000e+02  2.854000e+02     4.000000e+01\n",
       "25%    4.230000e+02  5.091000e+02  4.561000e+02  3.949000e+02     4.600000e+02\n",
       "50%    4.687000e+02  5.608000e+02  5.066000e+02  4.514000e+02     5.400000e+02\n",
       "75%    5.232000e+02  6.056000e+02  5.549000e+02  5.266000e+02     6.200000e+02\n",
       "max    8.690000e+02  8.506000e+02  8.258000e+02  1.008300e+03     1.000000e+03"
      ]
     },
     "execution_count": 188,
     "metadata": {},
     "output_type": "execute_result"
    }
   ],
   "source": [
    "ENEM[fields].describe()"
   ]
  },
  {
   "cell_type": "code",
   "execution_count": 189,
   "metadata": {
    "ExecuteTime": {
     "end_time": "2020-05-05T02:01:51.658081Z",
     "start_time": "2020-05-05T02:01:28.095411Z"
    }
   },
   "outputs": [
    {
     "name": "stdout",
     "output_type": "stream",
     "text": [
      "null 24\n",
      "taking off 194763\n"
     ]
    },
    {
     "data": {
      "text/plain": [
       "17    675128\n",
       "18    403958\n",
       "19    123058\n",
       "Name: NU_IDADE, dtype: int64"
      ]
     },
     "execution_count": 189,
     "metadata": {},
     "output_type": "execute_result"
    }
   ],
   "source": [
    "#ONLY STUDENTS AT  17 -19 YEAR OLD. WE WANT TO GET ONLY REGULAR STUDENTS THAT ARE IN LAST YEAR OF SECONDARY SCHOOL. \n",
    "#THE MICRODADOS HAVE A FIELD TO CONTROL IT. BUT IT IS NOT CONFIDENCE,DUE A TURN OUT TEAACHERS THAT EXTEND ACADEMIC YEAR\n",
    "print('null', ENEM.NU_IDADE.isnull().sum())\n",
    "#firts, fill NA with the mean of student school\n",
    "ENEM.NU_IDADE = ENEM.groupby(ENEM['CO_ESCOLA'])['NU_IDADE'].apply(lambda x: x.fillna(round(x.mean())))\n",
    "ENEM.NU_IDADE = ENEM.NU_IDADE.astype('int32')\n",
    "print('taking off',((ENEM.NU_IDADE <17)|(ENEM.NU_IDADE>19)).sum())\n",
    "ENEM = ENEM.loc[(ENEM.NU_IDADE >16) &  (ENEM.NU_IDADE<20)]\n",
    "ENEM.NU_IDADE.value_counts()"
   ]
  },
  {
   "cell_type": "markdown",
   "metadata": {},
   "source": [
    "### Transform features to default categories"
   ]
  },
  {
   "cell_type": "code",
   "execution_count": 190,
   "metadata": {
    "ExecuteTime": {
     "end_time": "2020-05-05T02:01:51.774914Z",
     "start_time": "2020-05-05T02:01:51.660470Z"
    }
   },
   "outputs": [],
   "source": [
    "ENEM.QT_PESSOAS_CASA.fillna(ENEM.QT_PESSOAS_CASA.mode()[0], inplace=True)\n",
    "ENEM.QT_PESSOAS_CASA = ENEM.QT_PESSOAS_CASA.astype('int32')"
   ]
  },
  {
   "cell_type": "code",
   "execution_count": 191,
   "metadata": {
    "ExecuteTime": {
     "end_time": "2020-05-05T02:01:52.087233Z",
     "start_time": "2020-05-05T02:01:51.777298Z"
    }
   },
   "outputs": [
    {
     "data": {
      "text/plain": [
       "EDU_PAI         157\n",
       "EDU_MAE         158\n",
       "RENDA_MENSAL    159\n",
       "TP_SEXO           0\n",
       "TP_COR_RACA       0\n",
       "dtype: int64"
      ]
     },
     "execution_count": 191,
     "metadata": {},
     "output_type": "execute_result"
    }
   ],
   "source": [
    "fields = ['EDU_PAI', 'EDU_MAE', 'RENDA_MENSAL', 'TP_SEXO', 'TP_COR_RACA']\n",
    "ENEM[fields].isnull().sum()"
   ]
  },
  {
   "cell_type": "code",
   "execution_count": 192,
   "metadata": {
    "ExecuteTime": {
     "end_time": "2020-05-05T02:01:52.535256Z",
     "start_time": "2020-05-05T02:01:52.092195Z"
    }
   },
   "outputs": [],
   "source": [
    "for i in fields:\n",
    "    ENEM[i].fillna(ENEM[i].mode()[0], inplace=True)"
   ]
  },
  {
   "cell_type": "code",
   "execution_count": 193,
   "metadata": {
    "ExecuteTime": {
     "end_time": "2020-05-05T02:01:52.848079Z",
     "start_time": "2020-05-05T02:01:52.540252Z"
    }
   },
   "outputs": [],
   "source": [
    "#Order relation, is better for numeric categories.\n",
    "for i in fields:\n",
    "    codes, uniques = pd.factorize(ENEM[i], sort=True)\n",
    "    ENEM[i] = codes\n",
    "\n"
   ]
  },
  {
   "cell_type": "code",
   "execution_count": 194,
   "metadata": {
    "ExecuteTime": {
     "end_time": "2020-05-05T02:01:52.890456Z",
     "start_time": "2020-05-05T02:01:52.852551Z"
    }
   },
   "outputs": [],
   "source": [
    "ENEM['EDU_PAI_TEMP'] = ENEM['EDU_PAI']\n",
    "ENEM['EDU_MAE_TEMP'] = ENEM['EDU_MAE']\n",
    "ENEM['QT_PESSOAS_CASA_TEMP'] = ENEM['QT_PESSOAS_CASA']\n",
    "ENEM['RENDA_MENSAL_TEMP'] = ENEM['RENDA_MENSAL']\n"
   ]
  },
  {
   "cell_type": "code",
   "execution_count": 195,
   "metadata": {
    "ExecuteTime": {
     "end_time": "2020-05-05T02:01:54.144193Z",
     "start_time": "2020-05-05T02:01:52.896158Z"
    }
   },
   "outputs": [],
   "source": [
    "# Paring with default categories\n",
    "\n",
    "ENEM.loc[ENEM['EDU_PAI']==0, 'EDU_PAI_TEMP']=0\n",
    "ENEM.loc[ENEM['EDU_PAI']==1, 'EDU_PAI_TEMP']=0\n",
    "ENEM.loc[ENEM['EDU_PAI']==2, 'EDU_PAI_TEMP']=1\n",
    "ENEM.loc[ENEM['EDU_PAI']==3, 'EDU_PAI_TEMP']=2\n",
    "ENEM.loc[ENEM['EDU_PAI']==4, 'EDU_PAI_TEMP']=3\n",
    "ENEM.loc[ENEM['EDU_PAI']==5, 'EDU_PAI_TEMP']=4\n",
    "ENEM.loc[ENEM['EDU_PAI']==6, 'EDU_PAI_TEMP']=5\n",
    "ENEM.loc[ENEM['EDU_PAI']==7, 'EDU_PAI_TEMP']=0\n",
    "\n",
    "ENEM.loc[ENEM['EDU_MAE']==0, 'EDU_MAE_TEMP']=0\n",
    "ENEM.loc[ENEM['EDU_MAE']==1, 'EDU_MAE_TEMP']=0\n",
    "ENEM.loc[ENEM['EDU_MAE']==2, 'EDU_MAE_TEMP']=1\n",
    "ENEM.loc[ENEM['EDU_MAE']==3, 'EDU_MAE_TEMP']=2\n",
    "ENEM.loc[ENEM['EDU_MAE']==4, 'EDU_MAE_TEMP']=3\n",
    "ENEM.loc[ENEM['EDU_MAE']==5, 'EDU_MAE_TEMP']=4\n",
    "ENEM.loc[ENEM['EDU_MAE']==6, 'EDU_MAE_TEMP']=5\n",
    "ENEM.loc[ENEM['EDU_MAE']==7, 'EDU_MAE_TEMP']=0\n",
    "\n",
    "\n",
    "\n",
    "ENEM.loc[ENEM['QT_PESSOAS_CASA']==1, 'QT_PESSOAS_CASA_TEMP']=0\n",
    "ENEM.loc[ENEM['QT_PESSOAS_CASA']==2, 'QT_PESSOAS_CASA_TEMP']=1\n",
    "ENEM.loc[ENEM['QT_PESSOAS_CASA']==3, 'QT_PESSOAS_CASA_TEMP']=1\n",
    "ENEM.loc[ENEM['QT_PESSOAS_CASA']==4, 'QT_PESSOAS_CASA_TEMP']=2\n",
    "ENEM.loc[ENEM['QT_PESSOAS_CASA']==5, 'QT_PESSOAS_CASA_TEMP']=2\n",
    "ENEM.loc[ENEM['QT_PESSOAS_CASA']==6, 'QT_PESSOAS_CASA_TEMP']=2\n",
    "ENEM.loc[ENEM['QT_PESSOAS_CASA']==7, 'QT_PESSOAS_CASA_TEMP']=2\n",
    "ENEM.loc[ENEM['QT_PESSOAS_CASA']>7, 'QT_PESSOAS_CASA_TEMP']=3\n",
    "\n",
    "ENEM.loc[ENEM['RENDA_MENSAL']==0, 'RENDA_MENSAL_TEMP']=0\n",
    "ENEM.loc[ENEM['RENDA_MENSAL']==1, 'RENDA_MENSAL_TEMP']=1\n",
    "ENEM.loc[ENEM['RENDA_MENSAL']==2, 'RENDA_MENSAL_TEMP']=2\n",
    "ENEM.loc[ENEM['RENDA_MENSAL']==3, 'RENDA_MENSAL_TEMP']=2\n",
    "ENEM.loc[(ENEM['RENDA_MENSAL']>3) & (ENEM['RENDA_MENSAL']<8), 'RENDA_MENSAL_TEMP']=3\n",
    "ENEM.loc[(ENEM['RENDA_MENSAL']>7) & (ENEM['RENDA_MENSAL']<13), 'RENDA_MENSAL_TEMP']=4\n",
    "ENEM.loc[ENEM['RENDA_MENSAL']>12, 'RENDA_MENSAL_TEMP']=5\n",
    "\n",
    "\n",
    "ENEM.loc[ENEM['TP_COR_RACA']==6, 'TP_COR_RACA']=0\n"
   ]
  },
  {
   "cell_type": "code",
   "execution_count": 196,
   "metadata": {
    "ExecuteTime": {
     "end_time": "2020-05-05T02:01:54.202193Z",
     "start_time": "2020-05-05T02:01:54.149621Z"
    }
   },
   "outputs": [],
   "source": [
    "#back to original columns\n",
    "ENEM['EDU_PAI'] = ENEM['EDU_PAI_TEMP']\n",
    "ENEM['EDU_MAE'] = ENEM['EDU_MAE_TEMP']\n",
    "ENEM['QT_PESSOAS_CASA'] = ENEM['QT_PESSOAS_CASA_TEMP']\n",
    "ENEM['RENDA_MENSAL'] = ENEM['RENDA_MENSAL_TEMP']"
   ]
  },
  {
   "cell_type": "code",
   "execution_count": 197,
   "metadata": {
    "ExecuteTime": {
     "end_time": "2020-05-05T02:01:54.272023Z",
     "start_time": "2020-05-05T02:01:54.207057Z"
    }
   },
   "outputs": [],
   "source": [
    "#drop temps\n",
    "\n",
    "ENEM.drop(['EDU_PAI_TEMP', 'EDU_MAE_TEMP', 'QT_PESSOAS_CASA_TEMP','RENDA_MENSAL_TEMP'], axis=1, inplace=True)"
   ]
  },
  {
   "cell_type": "code",
   "execution_count": 198,
   "metadata": {
    "ExecuteTime": {
     "end_time": "2020-05-05T02:02:07.669459Z",
     "start_time": "2020-05-05T02:01:54.283224Z"
    }
   },
   "outputs": [
    {
     "name": "stdout",
     "output_type": "stream",
     "text": [
      "Total Students at ENEM: 1202144 of 29409 schools\n",
      "Total Schools at Census: 272996\n",
      "Total Teachers at Census: 2573658 One teacher can be more than one school\n",
      "########### Only about Schools at ENEM:\n",
      "Schools at ENEM out of School Census 16192\n",
      "Schools at ENEM out of Teacher Census 16517\n",
      "Schools at ENEM and School Census out of Teacher Census 0\n",
      "Students Wasted***** 653668\n"
     ]
    }
   ],
   "source": [
    "print('Total Students at ENEM:', ENEM.shape[0], 'of', ENEM.drop_duplicates('CO_ESCOLA').shape[0], 'schools')\n",
    "print('Total Schools at Census:', C_SCHOOL.shape[0])\n",
    "print('Total Teachers at Census:', C_TEACHER.drop_duplicates('CO_PROFESSOR').shape[0], \n",
    "      'One teacher can be more than one school')\n",
    "       \n",
    "            \n",
    "\n",
    "#######################################\n",
    "print('########### Only about Schools at ENEM:')\n",
    "\n",
    "schoolsEnem = ENEM['CO_ESCOLA'].dropna().unique()\n",
    "schoolsCenso = C_SCHOOL['CO_ESCOLA'].dropna().unique()\n",
    "schoolsTeacher = C_TEACHER['CO_ESCOLA'].dropna().unique()\n",
    "schoolsEnem2 = ENEM['CO_ESCOLA'].dropna()\n",
    "\n",
    "enem_censo = np.setdiff1d(schoolsEnem ,schoolsCenso)\n",
    "print('Schools at ENEM out of School Census', sum(np.isin(schoolsEnem, schoolsCenso, invert=True)))\n",
    "\n",
    "print('Schools at ENEM out of Teacher Census', sum(np.isin(schoolsEnem, schoolsTeacher, invert=True)))\n",
    "print('Schools at ENEM and School Census out of Teacher Census', sum(np.isin(enem_censo, schoolsTeacher)))\n",
    "\n",
    "print('Students Wasted*****', sum(np.isin(schoolsEnem2, schoolsCenso, invert=True)))"
   ]
  },
  {
   "cell_type": "code",
   "execution_count": 199,
   "metadata": {
    "ExecuteTime": {
     "end_time": "2020-05-05T02:02:10.244734Z",
     "start_time": "2020-05-05T02:02:07.674819Z"
    }
   },
   "outputs": [
    {
     "name": "stdout",
     "output_type": "stream",
     "text": [
      "number of teacher who work at an school listed at ENEM and do not have study level assigned: 2591566\n"
     ]
    }
   ],
   "source": [
    "print('number of teacher who work at an school listed at ENEM and do not have study level assigned:',\n",
    "      C_TEACHER['CO_ESCOLA'].isin(ENEM['CO_ESCOLA']).sum())\n",
    "\n",
    "#lets fill with lower level\n",
    "\n",
    "C_TEACHER['IN_ESPECIALIZACAO'].fillna(0, inplace = True)\n",
    "C_TEACHER['IN_MESTRADO'].fillna(0, inplace = True)\n",
    "C_TEACHER['IN_DOUTORADO'].fillna(0, inplace = True)"
   ]
  },
  {
   "cell_type": "markdown",
   "metadata": {},
   "source": [
    "### New Features"
   ]
  },
  {
   "cell_type": "markdown",
   "metadata": {},
   "source": [
    "ENEM"
   ]
  },
  {
   "cell_type": "code",
   "execution_count": 200,
   "metadata": {
    "ExecuteTime": {
     "end_time": "2020-05-05T02:02:10.646551Z",
     "start_time": "2020-05-05T02:02:10.249639Z"
    }
   },
   "outputs": [
    {
     "name": "stdout",
     "output_type": "stream",
     "text": [
      "75.00024955412995 % lowers quartis\n"
     ]
    }
   ],
   "source": [
    "#Final Media, Target\n",
    "ENEM['NU_NOTA_GERAL'] = (ENEM.NU_NOTA_CN + ENEM.NU_NOTA_CH + ENEM.NU_NOTA_LC + ENEM.NU_NOTA_MT + ENEM.NU_NOTA_REDACAO)/5\n",
    "ENEM['TARGET'] = pd.qcut (ENEM.NU_NOTA_GERAL, 4, labels = [1,2,3,4]).map(lambda x : 0 if x!=4 else 1) \n",
    "print((ENEM.TARGET==0).sum()/(ENEM.TARGET.count())*100, '% lowers quartis')"
   ]
  },
  {
   "cell_type": "markdown",
   "metadata": {},
   "source": [
    "SCHOOL CENSUS - Itś better include after merge all datasets years.\n"
   ]
  },
  {
   "cell_type": "markdown",
   "metadata": {},
   "source": [
    "TEACHER CENSUS"
   ]
  },
  {
   "cell_type": "code",
   "execution_count": 201,
   "metadata": {
    "ExecuteTime": {
     "end_time": "2020-05-05T02:02:10.978986Z",
     "start_time": "2020-05-05T02:02:10.653033Z"
    }
   },
   "outputs": [
    {
     "data": {
      "text/plain": [
       "CO_PROFESSOR         0\n",
       "CO_ESCOLA            0\n",
       "IN_ESPECIALIZACAO    0\n",
       "IN_MESTRADO          0\n",
       "IN_DOUTORADO         0\n",
       "dtype: int64"
      ]
     },
     "execution_count": 201,
     "metadata": {},
     "output_type": "execute_result"
    }
   ],
   "source": [
    "C_TEACHER.isnull().sum()"
   ]
  },
  {
   "cell_type": "code",
   "execution_count": 202,
   "metadata": {
    "ExecuteTime": {
     "end_time": "2020-05-05T02:02:14.105611Z",
     "start_time": "2020-05-05T02:02:10.983576Z"
    }
   },
   "outputs": [
    {
     "name": "stdout",
     "output_type": "stream",
     "text": [
      "number of teacher who work at an school listed at ENEM and do not have study level assigned: 2591566\n"
     ]
    }
   ],
   "source": [
    "print('number of teacher who work at an school listed at ENEM and do not have study level assigned:',\n",
    "      C_TEACHER['CO_ESCOLA'].isin(ENEM['CO_ESCOLA']).sum())\n",
    "\n",
    "#lets fill with lower level\n",
    "\n",
    "C_TEACHER['IN_ESPECIALIZACAO'].fillna(0, inplace = True)\n",
    "C_TEACHER['IN_MESTRADO'].fillna(0, inplace = True)\n",
    "C_TEACHER['IN_DOUTORADO'].fillna(0, inplace = True)"
   ]
  },
  {
   "cell_type": "code",
   "execution_count": 203,
   "metadata": {
    "ExecuteTime": {
     "end_time": "2020-05-05T02:02:17.226444Z",
     "start_time": "2020-05-05T02:02:14.107937Z"
    }
   },
   "outputs": [
    {
     "name": "stdout",
     "output_type": "stream",
     "text": [
      "before 11727673\n",
      "after 3231448\n"
     ]
    }
   ],
   "source": [
    "#It's necessary drop duplicates whose are teachers in the same school but in different classes. \n",
    "#This way, the teacher appear just one time in each school. \n",
    "print('before',C_TEACHER.shape[0])\n",
    "C_TEACHER.drop_duplicates(subset=['CO_PROFESSOR', 'CO_ESCOLA'], inplace=True)\n",
    "C_TEACHER.drop('CO_PROFESSOR', axis=1, inplace = True)\n",
    "print('after',C_TEACHER.shape[0])"
   ]
  },
  {
   "cell_type": "code",
   "execution_count": 204,
   "metadata": {
    "ExecuteTime": {
     "end_time": "2020-05-05T02:02:18.411878Z",
     "start_time": "2020-05-05T02:02:17.231049Z"
    }
   },
   "outputs": [],
   "source": [
    "C_TEACHER['TITULACAO'] = 0\n",
    "\n",
    "\n",
    "C_TEACHER.loc[(C_TEACHER.IN_ESPECIALIZACAO==1.0) & (C_TEACHER.IN_MESTRADO==0.0)& \n",
    "             (C_TEACHER.IN_DOUTORADO ==0.0), 'TITULACAO'] = 1\n",
    "\n",
    "C_TEACHER.loc[(C_TEACHER.IN_ESPECIALIZACAO==1.0) & (C_TEACHER.IN_MESTRADO==1.0)& \n",
    "             (C_TEACHER.IN_DOUTORADO ==0.0), 'TITULACAO'] = 2\n",
    "\n",
    "C_TEACHER.loc[(C_TEACHER.IN_ESPECIALIZACAO==0.0) & (C_TEACHER.IN_MESTRADO==1.0)& \n",
    "             (C_TEACHER.IN_DOUTORADO ==0.0), 'TITULACAO'] = 2\n",
    "\n",
    "C_TEACHER.loc[(C_TEACHER.IN_DOUTORADO ==1.0), 'TITULACAO'] = 3\n",
    "\n",
    "SUM= C_TEACHER.groupby('CO_ESCOLA')['TITULACAO'].transform(sum)\n",
    "COUNT =  C_TEACHER.groupby('CO_ESCOLA')['TITULACAO'].transform('count')\n",
    "C_TEACHER['TITULACAO'] = (SUM)/(COUNT*3)   \n",
    "\n",
    "#transformin to school grain\n",
    "C_TEACHER.drop_duplicates('CO_ESCOLA', inplace = True)"
   ]
  },
  {
   "cell_type": "markdown",
   "metadata": {},
   "source": [
    "## STUDENT GRAIN "
   ]
  },
  {
   "cell_type": "code",
   "execution_count": 205,
   "metadata": {
    "ExecuteTime": {
     "end_time": "2020-05-05T02:02:22.788440Z",
     "start_time": "2020-05-05T02:02:18.415383Z"
    }
   },
   "outputs": [
    {
     "name": "stdout",
     "output_type": "stream",
     "text": [
      "C_SCHOOL (272996, 26)\n",
      "C_SCHOOL + C_TEACHER (188689, 30)\n",
      "ENEM (1202144, 17)\n",
      "FINAL (545950, 46)\n"
     ]
    }
   ],
   "source": [
    "# teacher to Schoool Grain\n",
    "print('C_SCHOOL',C_SCHOOL.shape)\n",
    "CENSO19 = pd.merge(C_SCHOOL, C_TEACHER, on = 'CO_ESCOLA', how = 'inner')\n",
    "print('C_SCHOOL + C_TEACHER',CENSO19.shape)\n",
    "\n",
    "#Now, all to Student Grain\n",
    "print('ENEM',ENEM.shape)\n",
    "ENEM_CENSO_19 = pd.merge(ENEM, CENSO19, on = 'CO_ESCOLA', how = 'inner')\n",
    "print('FINAL',ENEM_CENSO_19.shape)\n",
    "\n",
    "ENEM_CENSO_19.to_feather('2015_STUDENT.feather')"
   ]
  },
  {
   "cell_type": "code",
   "execution_count": 206,
   "metadata": {
    "ExecuteTime": {
     "end_time": "2020-05-05T02:02:22.812999Z",
     "start_time": "2020-05-05T02:02:22.793527Z"
    }
   },
   "outputs": [
    {
     "data": {
      "text/plain": [
       "CO_ANO                           uint16\n",
       "CO_ESCOLA                         int32\n",
       "NU_IDADE                          int32\n",
       "TP_SEXO                           int64\n",
       "TP_COR_RACA                       int64\n",
       "TP_ST_CONCLUSAO                   uint8\n",
       "NU_NOTA_CN                      float32\n",
       "NU_NOTA_CH                      float32\n",
       "NU_NOTA_LC                      float32\n",
       "NU_NOTA_MT                      float32\n",
       "NU_NOTA_REDACAO                 float32\n",
       "EDU_PAI                           int64\n",
       "EDU_MAE                           int64\n",
       "QT_PESSOAS_CASA                   int32\n",
       "RENDA_MENSAL                      int64\n",
       "NU_NOTA_GERAL                   float32\n",
       "TARGET                            int64\n",
       "CO_MUNICIPIO                      int64\n",
       "CO_UF                             int64\n",
       "CO_DEPENDENCIA_ADM                int64\n",
       "IN_AGUA_INEXISTENTE             float64\n",
       "IN_ESGOTO_INEXISTENTE           float64\n",
       "IN_ENERGIA_INEXISTENTE          float64\n",
       "IN_LABORATORIO_INFORMATICA      float64\n",
       "IN_LABORATORIO_CIENCIAS         float64\n",
       "IN_SALA_ATENDIMENTO_ESPECIAL    float64\n",
       "IN_BIBLIOTECA                   float64\n",
       "IN_SALA_LEITURA                 float64\n",
       "IN_BANHEIRO_FORA_PREDIO         float64\n",
       "IN_BANHEIRO_PNE                 float64\n",
       "IN_DEPENDENCIAS_PNE             float64\n",
       "QT_SALAS_UTILIZADAS             float64\n",
       "QT_EQUIP_TV                     float64\n",
       "QT_EQUIP_DVD                    float64\n",
       "QT_EQUIP_COPIADORA              float64\n",
       "QT_EQUIP_IMPRESSORA             float64\n",
       "QT_COM_ADMINISTRATIVO           float64\n",
       "QT_COMP_ALUNO                   float64\n",
       "IN_INTERNET                     float64\n",
       "IN_BANDA_LARGA                  float64\n",
       "QT_FUNCIONARIOS                 float64\n",
       "IN_ALIMENTACAO                  float64\n",
       "IN_ESPECIALIZACAO               float32\n",
       "IN_MESTRADO                     float32\n",
       "IN_DOUTORADO                    float32\n",
       "TITULACAO                       float64\n",
       "dtype: object"
      ]
     },
     "execution_count": 206,
     "metadata": {},
     "output_type": "execute_result"
    }
   ],
   "source": [
    "ENEM_CENSO_19.dtypes"
   ]
  },
  {
   "cell_type": "code",
   "execution_count": 207,
   "metadata": {
    "ExecuteTime": {
     "end_time": "2020-05-05T02:02:22.837829Z",
     "start_time": "2020-05-05T02:02:22.817665Z"
    }
   },
   "outputs": [
    {
     "data": {
      "text/plain": [
       "CO_ESCOLA            0\n",
       "IN_ESPECIALIZACAO    0\n",
       "IN_MESTRADO          0\n",
       "IN_DOUTORADO         0\n",
       "TITULACAO            0\n",
       "dtype: int64"
      ]
     },
     "execution_count": 207,
     "metadata": {},
     "output_type": "execute_result"
    }
   ],
   "source": [
    "C_TEACHER.isnull().sum()"
   ]
  },
  {
   "cell_type": "markdown",
   "metadata": {},
   "source": [
    "## SCHOOL GRAIN"
   ]
  },
  {
   "cell_type": "code",
   "execution_count": 208,
   "metadata": {
    "ExecuteTime": {
     "end_time": "2020-05-05T02:02:25.473056Z",
     "start_time": "2020-05-05T02:02:22.842160Z"
    }
   },
   "outputs": [],
   "source": [
    "fields = ['TP_SEXO', 'TP_COR_RACA', 'EDU_PAI', 'EDU_MAE','QT_PESSOAS_CASA', 'RENDA_MENSAL', 'NU_IDADE', 'NU_NOTA_CN',\n",
    "             'NU_NOTA_CH','NU_NOTA_LC','NU_NOTA_MT','NU_NOTA_REDACAO','NU_NOTA_GERAL' ]\n",
    "\n",
    "for i in fields:   \n",
    "    \n",
    "            ENEM[i] = ENEM.groupby('CO_ESCOLA')[i].transform('mean')"
   ]
  },
  {
   "cell_type": "code",
   "execution_count": 209,
   "metadata": {
    "ExecuteTime": {
     "end_time": "2020-05-05T02:02:25.543379Z",
     "start_time": "2020-05-05T02:02:25.475805Z"
    }
   },
   "outputs": [
    {
     "name": "stdout",
     "output_type": "stream",
     "text": [
      "71.87595633989595 % lowers quartis\n"
     ]
    }
   ],
   "source": [
    "# SCHOOL GRAIN AND SHOW THE NEW NOTA DISTRIBUTION\n",
    "ENEM.drop_duplicates('CO_ESCOLA', inplace=True)\n",
    "print((ENEM.TARGET==0).sum()/(ENEM.TARGET.count())*100, '% lowers quartis')"
   ]
  },
  {
   "cell_type": "code",
   "execution_count": 210,
   "metadata": {
    "ExecuteTime": {
     "end_time": "2020-05-05T02:02:25.563623Z",
     "start_time": "2020-05-05T02:02:25.546842Z"
    }
   },
   "outputs": [
    {
     "name": "stdout",
     "output_type": "stream",
     "text": [
      "75.00085007990751 % lowers quartis\n"
     ]
    }
   ],
   "source": [
    "#recalculating target for new  Nota Geral distribution \n",
    "ENEM['TARGET'] = pd.qcut (ENEM.NU_NOTA_GERAL, 4, labels = [1,2,3,4]).map(lambda x : 0 if x!=4 else 1) \n",
    "print((ENEM.TARGET==0).sum()/(ENEM.TARGET.count())*100, '% lowers quartis')"
   ]
  },
  {
   "cell_type": "code",
   "execution_count": 211,
   "metadata": {
    "ExecuteTime": {
     "end_time": "2020-05-05T02:02:25.743473Z",
     "start_time": "2020-05-05T02:02:25.566539Z"
    }
   },
   "outputs": [
    {
     "name": "stdout",
     "output_type": "stream",
     "text": [
      "censo before (188689, 30)\n",
      "enem_school before (29409, 17)\n",
      "(12892, 46)\n"
     ]
    }
   ],
   "source": [
    "print('censo before',CENSO19.shape)\n",
    "print('enem_school before', ENEM.shape)\n",
    "CENSO_ENEM_19 = pd.merge(CENSO19, ENEM, on='CO_ESCOLA', how='inner')\n",
    "print(CENSO_ENEM_19.shape)\n",
    "\n",
    "CENSO_ENEM_19.to_feather('2015_SCHOOL.feather')"
   ]
  },
  {
   "cell_type": "code",
   "execution_count": 212,
   "metadata": {
    "ExecuteTime": {
     "end_time": "2020-05-05T02:02:25.762606Z",
     "start_time": "2020-05-05T02:02:25.747775Z"
    }
   },
   "outputs": [
    {
     "data": {
      "text/plain": [
       "CO_ESCOLA                       0\n",
       "CO_MUNICIPIO                    0\n",
       "CO_UF                           0\n",
       "CO_DEPENDENCIA_ADM              0\n",
       "IN_AGUA_INEXISTENTE             0\n",
       "IN_ESGOTO_INEXISTENTE           0\n",
       "IN_ENERGIA_INEXISTENTE          0\n",
       "IN_LABORATORIO_INFORMATICA      0\n",
       "IN_LABORATORIO_CIENCIAS         0\n",
       "IN_SALA_ATENDIMENTO_ESPECIAL    0\n",
       "IN_BIBLIOTECA                   0\n",
       "IN_SALA_LEITURA                 0\n",
       "IN_BANHEIRO_FORA_PREDIO         0\n",
       "IN_BANHEIRO_PNE                 0\n",
       "IN_DEPENDENCIAS_PNE             0\n",
       "QT_SALAS_UTILIZADAS             0\n",
       "QT_EQUIP_TV                     0\n",
       "QT_EQUIP_DVD                    0\n",
       "QT_EQUIP_COPIADORA              0\n",
       "QT_EQUIP_IMPRESSORA             0\n",
       "QT_COM_ADMINISTRATIVO           0\n",
       "QT_COMP_ALUNO                   0\n",
       "IN_INTERNET                     0\n",
       "IN_BANDA_LARGA                  0\n",
       "QT_FUNCIONARIOS                 0\n",
       "IN_ALIMENTACAO                  0\n",
       "IN_ESPECIALIZACAO               0\n",
       "IN_MESTRADO                     0\n",
       "IN_DOUTORADO                    0\n",
       "TITULACAO                       0\n",
       "CO_ANO                          0\n",
       "NU_IDADE                        0\n",
       "TP_SEXO                         0\n",
       "TP_COR_RACA                     0\n",
       "TP_ST_CONCLUSAO                 0\n",
       "NU_NOTA_CN                      0\n",
       "NU_NOTA_CH                      0\n",
       "NU_NOTA_LC                      0\n",
       "NU_NOTA_MT                      0\n",
       "NU_NOTA_REDACAO                 0\n",
       "EDU_PAI                         0\n",
       "EDU_MAE                         0\n",
       "QT_PESSOAS_CASA                 0\n",
       "RENDA_MENSAL                    0\n",
       "NU_NOTA_GERAL                   0\n",
       "TARGET                          0\n",
       "dtype: int64"
      ]
     },
     "execution_count": 212,
     "metadata": {},
     "output_type": "execute_result"
    }
   ],
   "source": [
    "CENSO_ENEM_19.isnull().sum()"
   ]
  },
  {
   "cell_type": "code",
   "execution_count": null,
   "metadata": {},
   "outputs": [],
   "source": []
  }
 ],
 "metadata": {
  "kernelspec": {
   "display_name": "Python 3",
   "language": "python",
   "name": "python3"
  },
  "language_info": {
   "codemirror_mode": {
    "name": "ipython",
    "version": 3
   },
   "file_extension": ".py",
   "mimetype": "text/x-python",
   "name": "python",
   "nbconvert_exporter": "python",
   "pygments_lexer": "ipython3",
   "version": "3.7.6"
  }
 },
 "nbformat": 4,
 "nbformat_minor": 4
}
