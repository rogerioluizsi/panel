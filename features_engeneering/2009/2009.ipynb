{
 "cells": [
  {
   "cell_type": "code",
   "execution_count": 1,
   "metadata": {
    "ExecuteTime": {
     "end_time": "2020-07-05T17:27:21.691021Z",
     "start_time": "2020-07-05T17:27:19.068216Z"
    }
   },
   "outputs": [],
   "source": [
    "import time\n",
    "import pandas as pd\n",
    "import numpy as np\n",
    "import warnings\n",
    "import feather\n",
    "warnings.filterwarnings('ignore')\n",
    "from pandas.api.types import is_string_dtype\n",
    "from pandas.api.types import is_numeric_dtype\n",
    "pd.set_option('display.max_columns', None)"
   ]
  },
  {
   "cell_type": "markdown",
   "metadata": {},
   "source": [
    "There are many insignificant features to our work, like codes, PK, FK and out of context. \n",
    "Based on prior works and experience of especialists, will be taken off nonsense features. \n",
    "A study was carried out on the evolution and correspondence of these resources in the ENEM and Census\n",
    "data for the period 2009-2018. See (featuresOrganisaton.xls)"
   ]
  },
  {
   "cell_type": "code",
   "execution_count": 2,
   "metadata": {
    "ExecuteTime": {
     "end_time": "2020-07-05T17:27:21.710077Z",
     "start_time": "2020-07-05T17:27:21.696307Z"
    }
   },
   "outputs": [],
   "source": [
    "teacher = ['FK_COD_DOCENTE', 'PK_COD_ENTIDADE','ID_ESPECIALIZACAO','ID_MESTRADO','ID_DOUTORADO']\n",
    "\n",
    "school = ['ANO_CENSO','PK_COD_ENTIDADE', 'FK_COD_MUNICIPIO','FK_COD_ESTADO','ID_DEPENDENCIA_ADM','ID_AGUA_INEXISTENTE',\n",
    "                  'ID_ESGOTO_INEXISTENTE','ID_ENERGIA_INEXISTENTE',\n",
    "                   'ID_LABORATORIO_INFORMATICA','ID_LABORATORIO_CIENCIAS','ID_SALA_ATENDIMENTO_ESPECIAL',\n",
    "                   'ID_BIBLIOTECA','ID_SALA_LEITURA','ID_SANITARIO_FORA_PREDIO',\n",
    "                   'ID_SANITARIO_PNE','ID_DEPENDENCIAS_PNE','NUM_SALAS_UTILIZADAS','ID_EQUIP_TV',\n",
    "                   'ID_EQUIP_DVD','ID_EQUIP_COPIADORA','ID_EQUIP_IMPRESSORA','NUM_COMP_ADMINISTRATIVOS',\n",
    "                   'NUM_COMP_ALUNOS','ID_INTERNET','ID_BANDA_LARGA','NUM_FUNCIONARIOS','ID_ALIMENTACAO']\n",
    "\n",
    "enem = ['NU_ANO','CO_ESCOLA','TP_ENSINO','NU_IDADE','TP_SEXO','Q3','TP_ST_CONCLUSAO','NU_NOTA_CN',\n",
    "        'NU_NOTA_CH','NU_NOTA_LC','NU_NOTA_MT','NU_NOTA_REDACAO','Q17','Q18','Q15','Q21'\n",
    "]\n",
    "\n",
    "         "
   ]
  },
  {
   "cell_type": "code",
   "execution_count": 3,
   "metadata": {
    "ExecuteTime": {
     "end_time": "2020-07-05T17:29:19.144165Z",
     "start_time": "2020-07-05T17:27:21.716490Z"
    }
   },
   "outputs": [],
   "source": [
    "#Students of ENEM\n",
    "E = pd.read_csv('~/data/enem/2009/DADOS/MICRODADOS_ENEM_2009.csv', sep=';', usecols = enem )"
   ]
  },
  {
   "cell_type": "code",
   "execution_count": 4,
   "metadata": {
    "ExecuteTime": {
     "end_time": "2020-07-05T17:29:21.960504Z",
     "start_time": "2020-07-05T17:29:19.147784Z"
    }
   },
   "outputs": [],
   "source": [
    "#School census data\n",
    "CE =    pd.read_csv(\"~/data/censo/2009/DADOS/ESCOLAS.CSV\", sep='|', encoding=\"iso-8859-2\", usecols = school)"
   ]
  },
  {
   "cell_type": "code",
   "execution_count": 5,
   "metadata": {
    "ExecuteTime": {
     "end_time": "2020-07-05T17:30:34.979419Z",
     "start_time": "2020-07-05T17:29:21.965245Z"
    }
   },
   "outputs": [],
   "source": [
    "#Teacher census data by Braazilian mesoregion\n",
    "CD_CO = pd.read_csv(\"~/data/censo/2009/DADOS/DOCENTES_CO.CSV\", sep='|', encoding=\"iso-8859-2\", usecols = teacher)\n",
    "CD_NE = pd.read_csv(\"~/data/censo/2009/DADOS/DOCENTES_NORDESTE.CSV\", sep='|', encoding=\"iso-8859-2\", usecols = teacher)\n",
    "CD_N =  pd.read_csv(\"~/data/censo/2009/DADOS/DOCENTES_NORTE.CSV\", sep='|', encoding=\"iso-8859-2\", usecols = teacher)\n",
    "CD_SE = pd.read_csv(\"~/data/censo/2009/DADOS/DOCENTES_SUDESTE.CSV\", sep='|', encoding=\"iso-8859-2\", usecols = teacher)\n",
    "CD_S =  pd.read_csv(\"~/data/censo/2009/DADOS/DOCENTES_SUL.CSV\", sep='|', encoding=\"iso-8859-2\", usecols = teacher)\n",
    "\n",
    "#All teacher census data\n",
    "CT = pd.concat([CD_CO, CD_NE, CD_N, CD_SE, CD_S])"
   ]
  },
  {
   "cell_type": "code",
   "execution_count": 6,
   "metadata": {
    "ExecuteTime": {
     "end_time": "2020-07-05T17:30:43.375772Z",
     "start_time": "2020-07-05T17:30:34.985689Z"
    }
   },
   "outputs": [],
   "source": [
    "ENEM = E.copy()\n",
    "C_SCHOOL = CE.copy()\n",
    "C_TEACHER = CT.copy()"
   ]
  },
  {
   "cell_type": "code",
   "execution_count": 7,
   "metadata": {
    "ExecuteTime": {
     "end_time": "2020-07-05T17:30:46.496201Z",
     "start_time": "2020-07-05T17:30:43.381942Z"
    }
   },
   "outputs": [
    {
     "name": "stdout",
     "output_type": "stream",
     "text": [
      "checking year [2009]\n",
      "checking key float64\n"
     ]
    }
   ],
   "source": [
    "#ordering\n",
    "ENEM = ENEM[enem]\n",
    "\n",
    "newNames = [\n",
    "'CO_ANO',\n",
    "'CO_ESCOLA',\n",
    "'TP_ENSINO',\n",
    "'NU_IDADE',\n",
    "'TP_SEXO',\n",
    "'TP_COR_RACA',\n",
    "'TP_ST_CONCLUSAO',\n",
    "'NU_NOTA_CN',\n",
    "'NU_NOTA_CH',\n",
    "'NU_NOTA_LC',\n",
    "'NU_NOTA_MT',\n",
    "'NU_NOTA_REDACAO',\n",
    "'EDU_PAI',\n",
    "'EDU_MAE',\n",
    "'QT_PESSOAS_CASA',\n",
    "'RENDA_MENSAL'\n",
    "]\n",
    "\n",
    "#Rename\n",
    "ENEM.columns = newNames\n",
    "\n",
    "print('checking year',ENEM.CO_ANO.unique())\n",
    "print('checking key',ENEM.CO_ESCOLA.dtypes)"
   ]
  },
  {
   "cell_type": "code",
   "execution_count": 8,
   "metadata": {
    "ExecuteTime": {
     "end_time": "2020-07-05T17:30:46.602304Z",
     "start_time": "2020-07-05T17:30:46.506906Z"
    }
   },
   "outputs": [
    {
     "name": "stdout",
     "output_type": "stream",
     "text": [
      "Checking year of censo [2009]\n",
      "checking key int64\n"
     ]
    }
   ],
   "source": [
    "C_SCHOOL = C_SCHOOL[school]\n",
    "\n",
    "newNames = ['ANO_CENSO',\n",
    "'CO_ESCOLA',\n",
    " 'CO_MUNICIPIO',\n",
    " 'CO_UF',\n",
    " 'CO_DEPENDENCIA_ADM',\n",
    " 'IN_AGUA_INEXISTENTE',\n",
    " 'IN_ESGOTO_INEXISTENTE',\n",
    " 'IN_ENERGIA_INEXISTENTE',\n",
    " 'IN_LABORATORIO_INFORMATICA',\n",
    " 'IN_LABORATORIO_CIENCIAS',\n",
    " 'IN_SALA_ATENDIMENTO_ESPECIAL',\n",
    " 'IN_BIBLIOTECA',\n",
    " 'IN_SALA_LEITURA',\n",
    " 'IN_BANHEIRO_FORA_PREDIO',\n",
    " 'IN_BANHEIRO_PNE',\n",
    " 'IN_DEPENDENCIAS_PNE',\n",
    " 'QT_SALAS_UTILIZADAS',\n",
    " 'QT_EQUIP_TV',\n",
    " 'QT_EQUIP_DVD',\n",
    " 'QT_EQUIP_COPIADORA',\n",
    " 'QT_EQUIP_IMPRESSORA',\n",
    " 'QT_COM_ADMINISTRATIVO',\n",
    " 'QT_COMP_ALUNO',\n",
    " 'IN_INTERNET',\n",
    " 'IN_BANDA_LARGA',\n",
    " 'QT_FUNCIONARIOS',\n",
    " 'IN_ALIMENTACAO'\n",
    "]\n",
    "\n",
    "#Rename \n",
    "C_SCHOOL.columns =  newNames\n",
    "\n",
    "print('Checking year of censo',C_SCHOOL.ANO_CENSO.unique())\n",
    "C_SCHOOL.drop('ANO_CENSO', axis=1, inplace=True)\n",
    "print('checking key',C_SCHOOL.CO_ESCOLA.dtypes)"
   ]
  },
  {
   "cell_type": "code",
   "execution_count": 9,
   "metadata": {
    "ExecuteTime": {
     "end_time": "2020-07-05T17:30:52.577629Z",
     "start_time": "2020-07-05T17:30:46.609355Z"
    }
   },
   "outputs": [
    {
     "name": "stdout",
     "output_type": "stream",
     "text": [
      "checking key int64\n"
     ]
    }
   ],
   "source": [
    "C_TEACHER = C_TEACHER[teacher]\n",
    "\n",
    "# New default column names for all Datasets\n",
    "newNames = [\n",
    "'CO_PROFESSOR',\n",
    "'CO_ESCOLA',  \n",
    "'IN_ESPECIALIZACAO',\n",
    "'IN_MESTRADO',\n",
    "'IN_DOUTORADO'\n",
    "]\n",
    "#It's necessary drop duplicates whose are teachers in the same school but in different classes. \n",
    "#This way, the teacher appear just one time in each school. \n",
    "C_TEACHER.columns = newNames\n",
    "C_TEACHER.drop_duplicates(subset=['CO_PROFESSOR', 'CO_ESCOLA'], inplace=True)\n",
    "C_TEACHER.drop('CO_PROFESSOR', axis=1, inplace = True)\n",
    "\n",
    "print('checking key',C_TEACHER.CO_ESCOLA.dtypes)"
   ]
  },
  {
   "cell_type": "markdown",
   "metadata": {},
   "source": [
    "### Minimum Scope Definition"
   ]
  },
  {
   "cell_type": "code",
   "execution_count": 10,
   "metadata": {
    "ExecuteTime": {
     "end_time": "2020-07-05T17:30:53.307201Z",
     "start_time": "2020-07-05T17:30:52.583106Z"
    }
   },
   "outputs": [],
   "source": [
    "ENEM.dropna(inplace = True, axis=0, subset = ['CO_ESCOLA'])\n"
   ]
  },
  {
   "cell_type": "code",
   "execution_count": 11,
   "metadata": {
    "ExecuteTime": {
     "end_time": "2020-07-05T17:30:53.383416Z",
     "start_time": "2020-07-05T17:30:53.311955Z"
    }
   },
   "outputs": [
    {
     "name": "stdout",
     "output_type": "stream",
     "text": [
      "1.0    1312571\n",
      "2.0     143109\n",
      "3.0      69568\n",
      "4.0      10748\n",
      "Name: TP_ENSINO, dtype: int64\n",
      "26\n"
     ]
    }
   ],
   "source": [
    "#should care about the nulls into scope filter features?\n",
    "print(ENEM['TP_ENSINO'].value_counts())\n",
    "print(ENEM['TP_ENSINO'].isnull().sum())\n",
    "#NO, IT'S LOWER"
   ]
  },
  {
   "cell_type": "code",
   "execution_count": 12,
   "metadata": {
    "ExecuteTime": {
     "end_time": "2020-07-05T17:30:54.006993Z",
     "start_time": "2020-07-05T17:30:53.388248Z"
    }
   },
   "outputs": [
    {
     "name": "stdout",
     "output_type": "stream",
     "text": [
      "drop out 1536022 who not attend regular and prof approachs schools\n"
     ]
    }
   ],
   "source": [
    "print('drop out',((ENEM.TP_ENSINO!= 1)|(ENEM.TP_ENSINO!= 3)).sum(), 'who not attend regular and prof approachs schools')\n",
    "ENEM = ENEM.loc[((ENEM.TP_ENSINO== 1)|(ENEM.TP_ENSINO== 3))]\n",
    "ENEM.drop('TP_ENSINO', inplace = True, axis =1)"
   ]
  },
  {
   "cell_type": "code",
   "execution_count": 13,
   "metadata": {
    "ExecuteTime": {
     "end_time": "2020-07-05T17:30:54.104999Z",
     "start_time": "2020-07-05T17:30:54.012441Z"
    }
   },
   "outputs": [
    {
     "name": "stdout",
     "output_type": "stream",
     "text": [
      "null: NU_NOTA_CN 372433\n",
      "zero: NU_NOTA_CN 0\n",
      "null: NU_NOTA_CH 372433\n",
      "zero: NU_NOTA_CH 0\n",
      "null: NU_NOTA_LC 408948\n",
      "zero: NU_NOTA_LC 0\n",
      "null: NU_NOTA_MT 408948\n",
      "zero: NU_NOTA_MT 0\n",
      "null: NU_NOTA_REDACAO 0\n",
      "zero: NU_NOTA_REDACAO 449365\n"
     ]
    }
   ],
   "source": [
    "fields = (['NU_NOTA_CN', 'NU_NOTA_CH','NU_NOTA_LC','NU_NOTA_MT', 'NU_NOTA_REDACAO'])\n",
    "for i in fields:\n",
    "    print ('null:', i, ENEM[i].isnull().sum())\n",
    "    print ('zero:', i, (ENEM[i]== 0).sum())\n",
    "    \n",
    "    #, \"and\", ENEM.I==0)"
   ]
  },
  {
   "cell_type": "code",
   "execution_count": 14,
   "metadata": {
    "ExecuteTime": {
     "end_time": "2020-07-05T17:30:54.800878Z",
     "start_time": "2020-07-05T17:30:54.110112Z"
    }
   },
   "outputs": [],
   "source": [
    "ENEM.dropna(inplace = True, axis=0, subset=fields)\n",
    "ENEM = ENEM.loc[~(ENEM[fields] == 0).any(axis=1)]"
   ]
  },
  {
   "cell_type": "code",
   "execution_count": 15,
   "metadata": {
    "ExecuteTime": {
     "end_time": "2020-07-05T17:31:19.030526Z",
     "start_time": "2020-07-05T17:30:54.806255Z"
    }
   },
   "outputs": [
    {
     "name": "stdout",
     "output_type": "stream",
     "text": [
      "null 139\n",
      "taking off 165472\n"
     ]
    },
    {
     "data": {
      "text/plain": [
       "18.0    420500\n",
       "19.0    242259\n",
       "17.0     97583\n",
       "Name: NU_IDADE, dtype: int64"
      ]
     },
     "execution_count": 15,
     "metadata": {},
     "output_type": "execute_result"
    }
   ],
   "source": [
    "#ONLY STUDENTS AT  17 -19 YEAR OLD. WE WANT TO GET ONLY REGULAR STUDENTS THAT ARE IN LAST YEAR OF SECONDARY SCHOOL. \n",
    "#THE MICRODADOS HAVE A FIELD TO CONTROL IT. BUT IT IS NOT CONFIDENCE,DUE A TURN OUT TEAACHERS THAT EXTEND ACADEMIC YEAR\n",
    "print('null', ENEM.NU_IDADE.isnull().sum())\n",
    "#firts, fill NA with the mean of student school\n",
    "ENEM.NU_IDADE = ENEM.groupby(ENEM['CO_ESCOLA'])['NU_IDADE'].apply(lambda x: x.fillna(round(x.mean())))\n",
    "print('taking off',((ENEM.NU_IDADE <17)|(ENEM.NU_IDADE>19)).sum())\n",
    "ENEM = ENEM.loc[(ENEM.NU_IDADE >16) &  (ENEM.NU_IDADE<20)]\n",
    "ENEM.NU_IDADE.value_counts()"
   ]
  },
  {
   "cell_type": "code",
   "execution_count": 16,
   "metadata": {
    "ExecuteTime": {
     "end_time": "2020-07-05T17:31:19.431532Z",
     "start_time": "2020-07-05T17:31:19.036293Z"
    }
   },
   "outputs": [
    {
     "data": {
      "text/html": [
       "<div>\n",
       "<style scoped>\n",
       "    .dataframe tbody tr th:only-of-type {\n",
       "        vertical-align: middle;\n",
       "    }\n",
       "\n",
       "    .dataframe tbody tr th {\n",
       "        vertical-align: top;\n",
       "    }\n",
       "\n",
       "    .dataframe thead th {\n",
       "        text-align: right;\n",
       "    }\n",
       "</style>\n",
       "<table border=\"1\" class=\"dataframe\">\n",
       "  <thead>\n",
       "    <tr style=\"text-align: right;\">\n",
       "      <th></th>\n",
       "      <th>NU_NOTA_CN</th>\n",
       "      <th>NU_NOTA_CH</th>\n",
       "      <th>NU_NOTA_LC</th>\n",
       "      <th>NU_NOTA_MT</th>\n",
       "      <th>NU_NOTA_REDACAO</th>\n",
       "    </tr>\n",
       "  </thead>\n",
       "  <tbody>\n",
       "    <tr>\n",
       "      <th>count</th>\n",
       "      <td>760342.000000</td>\n",
       "      <td>760342.000000</td>\n",
       "      <td>760342.000000</td>\n",
       "      <td>760342.000000</td>\n",
       "      <td>760342.000000</td>\n",
       "    </tr>\n",
       "    <tr>\n",
       "      <th>mean</th>\n",
       "      <td>516.904035</td>\n",
       "      <td>516.128790</td>\n",
       "      <td>516.887365</td>\n",
       "      <td>513.541366</td>\n",
       "      <td>609.902518</td>\n",
       "    </tr>\n",
       "    <tr>\n",
       "      <th>std</th>\n",
       "      <td>98.995528</td>\n",
       "      <td>100.183538</td>\n",
       "      <td>97.538263</td>\n",
       "      <td>102.971051</td>\n",
       "      <td>135.002168</td>\n",
       "    </tr>\n",
       "    <tr>\n",
       "      <th>min</th>\n",
       "      <td>263.300000</td>\n",
       "      <td>300.000000</td>\n",
       "      <td>224.300000</td>\n",
       "      <td>338.700000</td>\n",
       "      <td>250.000000</td>\n",
       "    </tr>\n",
       "    <tr>\n",
       "      <th>25%</th>\n",
       "      <td>445.400000</td>\n",
       "      <td>437.500000</td>\n",
       "      <td>447.200000</td>\n",
       "      <td>438.700000</td>\n",
       "      <td>525.000000</td>\n",
       "    </tr>\n",
       "    <tr>\n",
       "      <th>50%</th>\n",
       "      <td>514.100000</td>\n",
       "      <td>508.600000</td>\n",
       "      <td>517.500000</td>\n",
       "      <td>496.300000</td>\n",
       "      <td>600.000000</td>\n",
       "    </tr>\n",
       "    <tr>\n",
       "      <th>75%</th>\n",
       "      <td>584.900000</td>\n",
       "      <td>588.500000</td>\n",
       "      <td>586.700000</td>\n",
       "      <td>569.900000</td>\n",
       "      <td>700.000000</td>\n",
       "    </tr>\n",
       "    <tr>\n",
       "      <th>max</th>\n",
       "      <td>903.200000</td>\n",
       "      <td>887.000000</td>\n",
       "      <td>835.600000</td>\n",
       "      <td>985.100000</td>\n",
       "      <td>1000.000000</td>\n",
       "    </tr>\n",
       "  </tbody>\n",
       "</table>\n",
       "</div>"
      ],
      "text/plain": [
       "          NU_NOTA_CN     NU_NOTA_CH     NU_NOTA_LC     NU_NOTA_MT  \\\n",
       "count  760342.000000  760342.000000  760342.000000  760342.000000   \n",
       "mean      516.904035     516.128790     516.887365     513.541366   \n",
       "std        98.995528     100.183538      97.538263     102.971051   \n",
       "min       263.300000     300.000000     224.300000     338.700000   \n",
       "25%       445.400000     437.500000     447.200000     438.700000   \n",
       "50%       514.100000     508.600000     517.500000     496.300000   \n",
       "75%       584.900000     588.500000     586.700000     569.900000   \n",
       "max       903.200000     887.000000     835.600000     985.100000   \n",
       "\n",
       "       NU_NOTA_REDACAO  \n",
       "count    760342.000000  \n",
       "mean        609.902518  \n",
       "std         135.002168  \n",
       "min         250.000000  \n",
       "25%         525.000000  \n",
       "50%         600.000000  \n",
       "75%         700.000000  \n",
       "max        1000.000000  "
      ]
     },
     "execution_count": 16,
     "metadata": {},
     "output_type": "execute_result"
    }
   ],
   "source": [
    "ENEM[fields].describe()"
   ]
  },
  {
   "cell_type": "markdown",
   "metadata": {},
   "source": [
    "### Transform features to default categories"
   ]
  },
  {
   "cell_type": "code",
   "execution_count": 17,
   "metadata": {
    "ExecuteTime": {
     "end_time": "2020-07-05T17:31:20.102792Z",
     "start_time": "2020-07-05T17:31:19.436348Z"
    }
   },
   "outputs": [
    {
     "data": {
      "text/plain": [
       "TP_SEXO                0\n",
       "TP_COR_RACA        58599\n",
       "EDU_PAI            58599\n",
       "EDU_MAE            58599\n",
       "QT_PESSOAS_CASA    58599\n",
       "RENDA_MENSAL       58599\n",
       "dtype: int64"
      ]
     },
     "execution_count": 17,
     "metadata": {},
     "output_type": "execute_result"
    }
   ],
   "source": [
    "fields = ['TP_SEXO', 'TP_COR_RACA', 'EDU_PAI', 'EDU_MAE','QT_PESSOAS_CASA', 'RENDA_MENSAL']\n",
    "ENEM[fields].isnull().sum()"
   ]
  },
  {
   "cell_type": "code",
   "execution_count": 18,
   "metadata": {
    "ExecuteTime": {
     "end_time": "2020-07-05T17:31:20.737372Z",
     "start_time": "2020-07-05T17:31:20.108053Z"
    }
   },
   "outputs": [],
   "source": [
    "# Missing values for each case\n",
    "ENEM.TP_COR_RACA.fillna('F', inplace = True) #missing to not declared\n",
    "\n",
    "\n",
    "ENEM.EDU_PAI.fillna('I', inplace = True) # Missing to \"I do not know\" \n",
    "ENEM.EDU_MAE.fillna('I', inplace = True) # Missing to \"I do not know\"\n",
    "\n",
    "ENEM.QT_PESSOAS_CASA.fillna(ENEM.QT_PESSOAS_CASA.mode()[0], inplace = True) # Have not a specific note, lets fill w mode\n",
    "\n",
    "ENEM.RENDA_MENSAL.fillna(ENEM.RENDA_MENSAL.mode()[0], inplace = True) #Have not a specific note, lets fill w mode"
   ]
  },
  {
   "cell_type": "code",
   "execution_count": 19,
   "metadata": {
    "ExecuteTime": {
     "end_time": "2020-07-05T17:31:21.698486Z",
     "start_time": "2020-07-05T17:31:20.742128Z"
    }
   },
   "outputs": [
    {
     "name": "stdout",
     "output_type": "stream",
     "text": [
      "TP_SEXO Index(['F', 'M'], dtype='object')\n",
      "TP_COR_RACA Index(['A', 'B', 'F', 'C', 'D', '.', 'E', '*'], dtype='object')\n",
      "EDU_PAI Index(['E', 'B', 'C', 'I', 'G', 'D', 'H', 'F', 'A', '.', '*'], dtype='object')\n",
      "EDU_MAE Index(['E', 'B', 'C', 'G', 'I', 'H', 'D', 'F', '.', 'A', '*'], dtype='object')\n",
      "QT_PESSOAS_CASA Index(['C', 'D', 'B', 'E', 'A', '.', 'F', '*'], dtype='object')\n",
      "RENDA_MENSAL Index(['C', 'B', 'D', 'A', 'E', '.', 'F', 'H', 'G', '*'], dtype='object')\n"
     ]
    }
   ],
   "source": [
    "for i in fields:\n",
    "    print(i,ENEM[i].value_counts().index)"
   ]
  },
  {
   "cell_type": "code",
   "execution_count": 20,
   "metadata": {
    "ExecuteTime": {
     "end_time": "2020-07-05T17:31:22.694304Z",
     "start_time": "2020-07-05T17:31:21.704023Z"
    }
   },
   "outputs": [],
   "source": [
    "for i in fields:\n",
    "    mode = ENEM[i].mode()[0]\n",
    "    ENEM[i].replace(['.', '*'], mode, inplace = True)"
   ]
  },
  {
   "cell_type": "code",
   "execution_count": 21,
   "metadata": {
    "ExecuteTime": {
     "end_time": "2020-07-05T17:31:23.374361Z",
     "start_time": "2020-07-05T17:31:22.698865Z"
    }
   },
   "outputs": [],
   "source": [
    "#Order relation, is better for numeric categories.\n",
    "categorical = ['TP_SEXO', 'TP_COR_RACA', 'EDU_PAI', 'EDU_MAE','QT_PESSOAS_CASA', 'RENDA_MENSAL']\n",
    "for i in categorical:\n",
    "    codes, uniques = pd.factorize(ENEM[i], sort=True)\n",
    "    ENEM[i] = codes\n",
    "    "
   ]
  },
  {
   "cell_type": "code",
   "execution_count": 22,
   "metadata": {
    "ExecuteTime": {
     "end_time": "2020-07-05T17:31:23.426791Z",
     "start_time": "2020-07-05T17:31:23.379484Z"
    }
   },
   "outputs": [],
   "source": [
    "ENEM['EDU_PAI_TEMP'] = ENEM['EDU_PAI']\n",
    "ENEM['EDU_MAE_TEMP'] = ENEM['EDU_MAE']\n",
    "ENEM['QT_PESSOAS_CASA_TEMP'] = ENEM['QT_PESSOAS_CASA']\n",
    "ENEM['RENDA_MENSAL_TEMP'] = ENEM['RENDA_MENSAL']\n",
    "ENEM['TP_COR_RACA_TEMP'] = ENEM['TP_COR_RACA']\n"
   ]
  },
  {
   "cell_type": "code",
   "execution_count": 23,
   "metadata": {
    "ExecuteTime": {
     "end_time": "2020-07-05T17:31:24.365698Z",
     "start_time": "2020-07-05T17:31:23.437185Z"
    }
   },
   "outputs": [],
   "source": [
    "# Paring with default categories\n",
    "\n",
    "ENEM.loc[ENEM['EDU_PAI']==0, 'EDU_PAI_TEMP']=0\n",
    "ENEM.loc[ENEM['EDU_PAI']==1, 'EDU_PAI_TEMP']=1\n",
    "ENEM.loc[ENEM['EDU_PAI']==2, 'EDU_PAI_TEMP']=2\n",
    "ENEM.loc[ENEM['EDU_PAI']==3, 'EDU_PAI_TEMP']=2\n",
    "ENEM.loc[ENEM['EDU_PAI']==4, 'EDU_PAI_TEMP']=3\n",
    "ENEM.loc[ENEM['EDU_PAI']==5, 'EDU_PAI_TEMP']=3\n",
    "ENEM.loc[ENEM['EDU_PAI']==6, 'EDU_PAI_TEMP']=4\n",
    "ENEM.loc[ENEM['EDU_PAI']==7, 'EDU_PAI_TEMP']=5\n",
    "ENEM.loc[ENEM['EDU_PAI']==8, 'EDU_PAI_TEMP']=0\n",
    "\n",
    "ENEM.loc[ENEM['EDU_MAE']==0, 'EDU_MAE_TEMP']=0\n",
    "ENEM.loc[ENEM['EDU_MAE']==1, 'EDU_MAE_TEMP']=1\n",
    "ENEM.loc[ENEM['EDU_MAE']==2, 'EDU_MAE_TEMP']=2\n",
    "ENEM.loc[ENEM['EDU_MAE']==3, 'EDU_MAE_TEMP']=2\n",
    "ENEM.loc[ENEM['EDU_MAE']==4, 'EDU_MAE_TEMP']=3\n",
    "ENEM.loc[ENEM['EDU_MAE']==5, 'EDU_MAE_TEMP']=3\n",
    "ENEM.loc[ENEM['EDU_MAE']==6, 'EDU_MAE_TEMP']=4\n",
    "ENEM.loc[ENEM['EDU_MAE']==7, 'EDU_MAE_TEMP']=5\n",
    "ENEM.loc[ENEM['EDU_MAE']==8, 'EDU_MAE_TEMP']=0\n",
    "\n",
    "\n",
    "ENEM.loc[ENEM['QT_PESSOAS_CASA']==0, 'QT_PESSOAS_CASA_TEMP']=1\n",
    "ENEM.loc[ENEM['QT_PESSOAS_CASA']==1, 'QT_PESSOAS_CASA_TEMP']=1\n",
    "ENEM.loc[ENEM['QT_PESSOAS_CASA']==2, 'QT_PESSOAS_CASA_TEMP']=2\n",
    "ENEM.loc[ENEM['QT_PESSOAS_CASA']==3, 'QT_PESSOAS_CASA_TEMP']=2\n",
    "ENEM.loc[ENEM['QT_PESSOAS_CASA']==4, 'QT_PESSOAS_CASA_TEMP']=3\n",
    "ENEM.loc[ENEM['QT_PESSOAS_CASA']==5, 'QT_PESSOAS_CASA_TEMP']=0\n",
    "\n",
    "\n",
    "ENEM.loc[ENEM['RENDA_MENSAL']==0, 'RENDA_MENSAL_TEMP']=1\n",
    "ENEM.loc[ENEM['RENDA_MENSAL']==1, 'RENDA_MENSAL_TEMP']=2\n",
    "ENEM.loc[ENEM['RENDA_MENSAL']==2, 'RENDA_MENSAL_TEMP']=3\n",
    "ENEM.loc[ENEM['RENDA_MENSAL']==3, 'RENDA_MENSAL_TEMP']=4\n",
    "ENEM.loc[ENEM['RENDA_MENSAL']==4, 'RENDA_MENSAL_TEMP']=5\n",
    "ENEM.loc[ENEM['RENDA_MENSAL']==5, 'RENDA_MENSAL_TEMP']=5\n",
    "ENEM.loc[ENEM['RENDA_MENSAL']==6, 'RENDA_MENSAL_TEMP']=5\n",
    "ENEM.loc[ENEM['RENDA_MENSAL']==7, 'RENDA_MENSAL_TEMP']=0\n",
    "\n",
    "ENEM.loc[ENEM['TP_COR_RACA']==0, 'TP_COR_RACA_TEMP']=1\n",
    "ENEM.loc[ENEM['TP_COR_RACA']==1, 'TP_COR_RACA_TEMP']=3\n",
    "ENEM.loc[ENEM['TP_COR_RACA']==2, 'TP_COR_RACA_TEMP']=2\n",
    "ENEM.loc[ENEM['TP_COR_RACA']==3, 'TP_COR_RACA_TEMP']=4\n",
    "ENEM.loc[ENEM['TP_COR_RACA']==4, 'TP_COR_RACA_TEMP']=5\n",
    "ENEM.loc[ENEM['TP_COR_RACA']==5, 'TP_COR_RACA_TEMP']=0\n"
   ]
  },
  {
   "cell_type": "code",
   "execution_count": 24,
   "metadata": {
    "ExecuteTime": {
     "end_time": "2020-07-05T17:31:24.408405Z",
     "start_time": "2020-07-05T17:31:24.372210Z"
    }
   },
   "outputs": [],
   "source": [
    "#back to original columns\n",
    "ENEM['EDU_PAI'] = ENEM['EDU_PAI_TEMP']\n",
    "ENEM['EDU_MAE'] = ENEM['EDU_MAE_TEMP']\n",
    "ENEM['QT_PESSOAS_CASA'] = ENEM['QT_PESSOAS_CASA_TEMP']\n",
    "ENEM['RENDA_MENSAL'] = ENEM['RENDA_MENSAL_TEMP']\n",
    "ENEM['TP_COR_RACA'] = ENEM['TP_COR_RACA_TEMP']"
   ]
  },
  {
   "cell_type": "code",
   "execution_count": 25,
   "metadata": {
    "ExecuteTime": {
     "end_time": "2020-07-05T17:31:24.478590Z",
     "start_time": "2020-07-05T17:31:24.413207Z"
    }
   },
   "outputs": [],
   "source": [
    "#drop temps\n",
    "\n",
    "ENEM.drop(['EDU_PAI_TEMP', 'EDU_MAE_TEMP', 'QT_PESSOAS_CASA_TEMP','RENDA_MENSAL_TEMP', 'TP_COR_RACA_TEMP'], axis=1, inplace=True)"
   ]
  },
  {
   "cell_type": "code",
   "execution_count": 26,
   "metadata": {
    "ExecuteTime": {
     "end_time": "2020-07-05T17:31:33.976764Z",
     "start_time": "2020-07-05T17:31:24.484692Z"
    }
   },
   "outputs": [
    {
     "name": "stdout",
     "output_type": "stream",
     "text": [
      "Total Students at ENEM: 760342 of 25807 schools\n",
      "Total Schools at Census: 255445\n",
      "########### Only about Schools at ENEM:\n",
      "Schools at ENEM out of School Census 0\n",
      "Schools at ENEM out of Teacher Census 2326\n",
      "Schools at ENEM and School Census out of Teacher Census 0\n",
      "Students Wasted***** 0\n"
     ]
    }
   ],
   "source": [
    "print('Total Students at ENEM:', ENEM.shape[0], 'of', ENEM.drop_duplicates('CO_ESCOLA').shape[0], 'schools')\n",
    "print('Total Schools at Census:', C_SCHOOL.shape[0])\n",
    "\n",
    "#######################################\n",
    "print('########### Only about Schools at ENEM:')\n",
    "\n",
    "schoolsEnem = ENEM['CO_ESCOLA'].dropna().unique()\n",
    "schoolsCenso = C_SCHOOL['CO_ESCOLA'].dropna().unique()\n",
    "schoolsTeacher = C_TEACHER['CO_ESCOLA'].dropna().unique()\n",
    "schoolsEnem2 = ENEM['CO_ESCOLA'].dropna()\n",
    "\n",
    "enem_censo = np.setdiff1d(schoolsEnem ,schoolsCenso)\n",
    "print('Schools at ENEM out of School Census', sum(np.isin(schoolsEnem, schoolsCenso, invert=True)))\n",
    "\n",
    "print('Schools at ENEM out of Teacher Census', sum(np.isin(schoolsEnem, schoolsTeacher, invert=True)))\n",
    "print('Schools at ENEM and School Census out of Teacher Census', sum(np.isin(enem_censo, schoolsTeacher)))\n",
    "\n",
    "print('Students Wasted*****', sum(np.isin(schoolsEnem2, schoolsCenso, invert=True)))\n",
    "\n",
    "     "
   ]
  },
  {
   "cell_type": "markdown",
   "metadata": {},
   "source": [
    "### New Features"
   ]
  },
  {
   "cell_type": "markdown",
   "metadata": {},
   "source": [
    "ENEM"
   ]
  },
  {
   "cell_type": "code",
   "execution_count": 27,
   "metadata": {
    "ExecuteTime": {
     "end_time": "2020-07-05T17:31:34.687905Z",
     "start_time": "2020-07-05T17:31:33.982735Z"
    }
   },
   "outputs": [],
   "source": [
    "#Final Media\n",
    "ENEM['NU_NOTA_GERAL'] = (ENEM.NU_NOTA_CN + ENEM.NU_NOTA_CH + ENEM.NU_NOTA_LC + ENEM.NU_NOTA_MT + ENEM.NU_NOTA_REDACAO)/5"
   ]
  },
  {
   "cell_type": "markdown",
   "metadata": {
    "ExecuteTime": {
     "end_time": "2020-05-02T11:39:55.081254Z",
     "start_time": "2020-05-02T11:39:55.072069Z"
    }
   },
   "source": [
    "SCHOOL CENSUS - Itś better include after merge all datasets years."
   ]
  },
  {
   "cell_type": "markdown",
   "metadata": {},
   "source": [
    "TEACHER CENSUS"
   ]
  },
  {
   "cell_type": "code",
   "execution_count": 28,
   "metadata": {
    "ExecuteTime": {
     "end_time": "2020-07-05T17:31:34.765387Z",
     "start_time": "2020-07-05T17:31:34.693032Z"
    }
   },
   "outputs": [
    {
     "data": {
      "text/plain": [
       "CO_ESCOLA                 0\n",
       "IN_ESPECIALIZACAO    795964\n",
       "IN_MESTRADO          795964\n",
       "IN_DOUTORADO         795964\n",
       "dtype: int64"
      ]
     },
     "execution_count": 28,
     "metadata": {},
     "output_type": "execute_result"
    }
   ],
   "source": [
    "C_TEACHER.isnull().sum()"
   ]
  },
  {
   "cell_type": "code",
   "execution_count": 29,
   "metadata": {
    "ExecuteTime": {
     "end_time": "2020-07-05T17:31:34.848805Z",
     "start_time": "2020-07-05T17:31:34.770218Z"
    }
   },
   "outputs": [],
   "source": [
    "#lets fill it with lower level\n",
    "C_TEACHER['IN_ESPECIALIZACAO'].fillna(0, inplace = True)\n",
    "C_TEACHER['IN_MESTRADO'].fillna(0, inplace = True)\n",
    "C_TEACHER['IN_DOUTORADO'].fillna(0, inplace = True)"
   ]
  },
  {
   "cell_type": "code",
   "execution_count": 30,
   "metadata": {
    "ExecuteTime": {
     "end_time": "2020-07-05T17:31:39.200783Z",
     "start_time": "2020-07-05T17:31:34.855268Z"
    }
   },
   "outputs": [],
   "source": [
    "C_TEACHER['TITULACAO'] = 0\n",
    "\n",
    "C_TEACHER.loc[(C_TEACHER.IN_ESPECIALIZACAO==0.0) & (C_TEACHER.IN_MESTRADO==0.0)& \n",
    "             (C_TEACHER.IN_DOUTORADO ==0.0), 'TITULACAO'] = 0\n",
    "\n",
    "C_TEACHER.loc[(C_TEACHER.IN_ESPECIALIZACAO==1.0) & (C_TEACHER.IN_MESTRADO==0.0)& \n",
    "             (C_TEACHER.IN_DOUTORADO ==0.0), 'TITULACAO'] = 1\n",
    "\n",
    "C_TEACHER.loc[(C_TEACHER.IN_ESPECIALIZACAO==1.0) & (C_TEACHER.IN_MESTRADO==1.0)& \n",
    "             (C_TEACHER.IN_DOUTORADO ==0.0), 'TITULACAO'] = 2\n",
    "\n",
    "C_TEACHER.loc[(C_TEACHER.IN_ESPECIALIZACAO==0.0) & (C_TEACHER.IN_MESTRADO==1.0)& \n",
    "             (C_TEACHER.IN_DOUTORADO ==0.0), 'TITULACAO'] = 2\n",
    "\n",
    "C_TEACHER.loc[(C_TEACHER.IN_DOUTORADO ==1.0), 'TITULACAO'] = 3\n",
    "\n",
    "#Rebuild level education information as indicator of unique level.\n",
    "C_TEACHER['NU_GRADUACAO'] = 0\n",
    "C_TEACHER['NU_ESPECIALIZACAO'] = 0\n",
    "C_TEACHER['NU_MESTRADO'] = 0\n",
    "C_TEACHER['NU_DOUTORADO'] = 0\n",
    "\n",
    "C_TEACHER.loc[C_TEACHER.TITULACAO == 0, 'NU_GRADUACAO']= 1\n",
    "C_TEACHER.loc[C_TEACHER.TITULACAO == 1, 'NU_ESPECIALIZACAO']= 1\n",
    "C_TEACHER.loc[C_TEACHER.TITULACAO == 2, 'NU_MESTRADO']= 1\n",
    "C_TEACHER.loc[C_TEACHER.TITULACAO == 3, 'NU_DOUTORADO']= 1\n",
    "\n",
    "\n",
    "C_TEACHER['NU_GRADUACAO'] = C_TEACHER.groupby('CO_ESCOLA')['NU_GRADUACAO'].transform(sum)\n",
    "C_TEACHER['NU_ESPECIALIZACAO'] = C_TEACHER.groupby('CO_ESCOLA')['NU_ESPECIALIZACAO'].transform(sum)\n",
    "C_TEACHER['NU_MESTRADO'] = C_TEACHER.groupby('CO_ESCOLA')['NU_MESTRADO'].transform(sum)\n",
    "C_TEACHER['NU_DOUTORADO'] = C_TEACHER.groupby('CO_ESCOLA')['NU_DOUTORADO'].transform(sum)\n",
    "\n",
    "\n",
    "\n",
    "#Calculating weighted indice of teacher education\n",
    "SUM= C_TEACHER.groupby('CO_ESCOLA')['TITULACAO'].transform(sum)\n",
    "COUNT =  C_TEACHER.groupby('CO_ESCOLA')['TITULACAO'].transform('count')\n",
    "C_TEACHER['TITULACAO'] = (SUM)/(COUNT*3)  \n",
    "\n",
    "##arranjar isso dai\n",
    "\n",
    "\n",
    "\n",
    "#transformin to school grain\n",
    "C_TEACHER.drop_duplicates('CO_ESCOLA', inplace = True)"
   ]
  },
  {
   "cell_type": "code",
   "execution_count": 31,
   "metadata": {
    "ExecuteTime": {
     "end_time": "2020-07-05T17:31:39.246932Z",
     "start_time": "2020-07-05T17:31:39.205779Z"
    }
   },
   "outputs": [
    {
     "data": {
      "text/html": [
       "<div>\n",
       "<style scoped>\n",
       "    .dataframe tbody tr th:only-of-type {\n",
       "        vertical-align: middle;\n",
       "    }\n",
       "\n",
       "    .dataframe tbody tr th {\n",
       "        vertical-align: top;\n",
       "    }\n",
       "\n",
       "    .dataframe thead th {\n",
       "        text-align: right;\n",
       "    }\n",
       "</style>\n",
       "<table border=\"1\" class=\"dataframe\">\n",
       "  <thead>\n",
       "    <tr style=\"text-align: right;\">\n",
       "      <th></th>\n",
       "      <th>CO_ESCOLA</th>\n",
       "      <th>IN_ESPECIALIZACAO</th>\n",
       "      <th>IN_MESTRADO</th>\n",
       "      <th>IN_DOUTORADO</th>\n",
       "      <th>TITULACAO</th>\n",
       "      <th>NU_GRADUACAO</th>\n",
       "      <th>NU_ESPECIALIZACAO</th>\n",
       "      <th>NU_MESTRADO</th>\n",
       "      <th>NU_DOUTORADO</th>\n",
       "    </tr>\n",
       "  </thead>\n",
       "  <tbody>\n",
       "    <tr>\n",
       "      <th>0</th>\n",
       "      <td>50003577</td>\n",
       "      <td>0.0</td>\n",
       "      <td>0.0</td>\n",
       "      <td>0.0</td>\n",
       "      <td>0.126437</td>\n",
       "      <td>18</td>\n",
       "      <td>11</td>\n",
       "      <td>0</td>\n",
       "      <td>0</td>\n",
       "    </tr>\n",
       "    <tr>\n",
       "      <th>27</th>\n",
       "      <td>50007718</td>\n",
       "      <td>0.0</td>\n",
       "      <td>0.0</td>\n",
       "      <td>0.0</td>\n",
       "      <td>0.047619</td>\n",
       "      <td>18</td>\n",
       "      <td>3</td>\n",
       "      <td>0</td>\n",
       "      <td>0</td>\n",
       "    </tr>\n",
       "    <tr>\n",
       "      <th>59</th>\n",
       "      <td>50013440</td>\n",
       "      <td>1.0</td>\n",
       "      <td>0.0</td>\n",
       "      <td>0.0</td>\n",
       "      <td>0.222222</td>\n",
       "      <td>8</td>\n",
       "      <td>16</td>\n",
       "      <td>0</td>\n",
       "      <td>0</td>\n",
       "    </tr>\n",
       "    <tr>\n",
       "      <th>86</th>\n",
       "      <td>50006410</td>\n",
       "      <td>0.0</td>\n",
       "      <td>0.0</td>\n",
       "      <td>0.0</td>\n",
       "      <td>0.155844</td>\n",
       "      <td>48</td>\n",
       "      <td>22</td>\n",
       "      <td>7</td>\n",
       "      <td>0</td>\n",
       "    </tr>\n",
       "    <tr>\n",
       "      <th>119</th>\n",
       "      <td>50006436</td>\n",
       "      <td>1.0</td>\n",
       "      <td>0.0</td>\n",
       "      <td>0.0</td>\n",
       "      <td>0.097561</td>\n",
       "      <td>29</td>\n",
       "      <td>12</td>\n",
       "      <td>0</td>\n",
       "      <td>0</td>\n",
       "    </tr>\n",
       "  </tbody>\n",
       "</table>\n",
       "</div>"
      ],
      "text/plain": [
       "     CO_ESCOLA  IN_ESPECIALIZACAO  IN_MESTRADO  IN_DOUTORADO  TITULACAO  \\\n",
       "0     50003577                0.0          0.0           0.0   0.126437   \n",
       "27    50007718                0.0          0.0           0.0   0.047619   \n",
       "59    50013440                1.0          0.0           0.0   0.222222   \n",
       "86    50006410                0.0          0.0           0.0   0.155844   \n",
       "119   50006436                1.0          0.0           0.0   0.097561   \n",
       "\n",
       "     NU_GRADUACAO  NU_ESPECIALIZACAO  NU_MESTRADO  NU_DOUTORADO  \n",
       "0              18                 11            0             0  \n",
       "27             18                  3            0             0  \n",
       "59              8                 16            0             0  \n",
       "86             48                 22            7             0  \n",
       "119            29                 12            0             0  "
      ]
     },
     "execution_count": 31,
     "metadata": {},
     "output_type": "execute_result"
    }
   ],
   "source": [
    " C_TEACHER.head()"
   ]
  },
  {
   "cell_type": "markdown",
   "metadata": {},
   "source": [
    "## STUDENT GRAIN"
   ]
  },
  {
   "cell_type": "code",
   "execution_count": 32,
   "metadata": {
    "ExecuteTime": {
     "end_time": "2020-07-05T17:32:39.292525Z",
     "start_time": "2020-07-05T17:31:39.252259Z"
    }
   },
   "outputs": [
    {
     "name": "stdout",
     "output_type": "stream",
     "text": [
      "C_SCHOOL (255445, 26)\n",
      "C_TEACHER (186100, 9)\n",
      "C_SCHOOL + C_TEACHER (186100, 34)\n",
      "ENEM (760342, 16)\n",
      "FINAL (700429, 49)\n"
     ]
    }
   ],
   "source": [
    "# teacher to Schoool Grain\n",
    "print('C_SCHOOL',C_SCHOOL.shape)\n",
    "print('C_TEACHER',C_TEACHER.shape)\n",
    "CENSO19 = pd.merge(C_SCHOOL, C_TEACHER, on = 'CO_ESCOLA', how = 'inner')\n",
    "print('C_SCHOOL + C_TEACHER',CENSO19.shape)\n",
    "\n",
    "#Now, all to Student Grain\n",
    "print('ENEM',ENEM.shape)\n",
    "ENEM_CENSO_19 = pd.merge(ENEM, CENSO19, on = 'CO_ESCOLA', how = 'inner')\n",
    "print('FINAL',ENEM_CENSO_19.shape)\n",
    "\n",
    "ENEM_CENSO_19.to_csv('STUDENT.csv')"
   ]
  },
  {
   "cell_type": "markdown",
   "metadata": {},
   "source": [
    "## SCHOOL GRAIN"
   ]
  },
  {
   "cell_type": "code",
   "execution_count": 33,
   "metadata": {
    "ExecuteTime": {
     "end_time": "2020-07-05T17:32:41.539903Z",
     "start_time": "2020-07-05T17:32:39.296943Z"
    }
   },
   "outputs": [],
   "source": [
    "fields = ['TP_SEXO', 'TP_COR_RACA', 'EDU_PAI', 'EDU_MAE','QT_PESSOAS_CASA', 'RENDA_MENSAL', 'NU_IDADE', 'NU_NOTA_CN',\n",
    "             'NU_NOTA_CH','NU_NOTA_LC','NU_NOTA_MT','NU_NOTA_REDACAO','NU_NOTA_GERAL' ]\n",
    "\n",
    "for i in fields:   \n",
    "    \n",
    "            ENEM[i] = ENEM.groupby('CO_ESCOLA')[i].transform('mean')\n",
    "            \n",
    "            "
   ]
  },
  {
   "cell_type": "code",
   "execution_count": 35,
   "metadata": {
    "ExecuteTime": {
     "end_time": "2020-07-05T17:33:37.727190Z",
     "start_time": "2020-07-05T17:33:37.690450Z"
    }
   },
   "outputs": [],
   "source": [
    "# SCHOOL GRAIN AND SHOW THE NEW SCORE DISTRIBUTION\n",
    "ENEM.drop_duplicates('CO_ESCOLA', inplace=True)\n",
    "#print((ENEM.TARGET==0).sum()/(ENEM.TARGET.count())*100, '% lowers quartis')"
   ]
  },
  {
   "cell_type": "code",
   "execution_count": 36,
   "metadata": {
    "ExecuteTime": {
     "end_time": "2020-07-05T17:33:38.791387Z",
     "start_time": "2020-07-05T17:33:38.759484Z"
    }
   },
   "outputs": [
    {
     "name": "stdout",
     "output_type": "stream",
     "text": [
      "74.9990312705855 % lowers quartis\n"
     ]
    }
   ],
   "source": [
    "#recalculating target for new  Nota Geral distribution \n",
    "ENEM['TARGET'] = pd.qcut (ENEM.NU_NOTA_GERAL, 4, labels = [1,2,3,4]).map(lambda x : 0 if x!=4 else 1) \n",
    "print((ENEM.TARGET==0).sum()/(ENEM.TARGET.count())*100, '% lowers quartis')\n"
   ]
  },
  {
   "cell_type": "code",
   "execution_count": 37,
   "metadata": {
    "ExecuteTime": {
     "end_time": "2020-07-05T17:33:44.331337Z",
     "start_time": "2020-07-05T17:33:41.170781Z"
    }
   },
   "outputs": [
    {
     "name": "stdout",
     "output_type": "stream",
     "text": [
      "censo before (186100, 34)\n",
      "enem_school before (25807, 17)\n",
      "(23481, 50)\n"
     ]
    }
   ],
   "source": [
    "print('censo before',CENSO19.shape)\n",
    "print('enem_school before', ENEM.shape)\n",
    "CENSO_ENEM_19 = pd.merge(CENSO19, ENEM, on='CO_ESCOLA', how='inner')\n",
    "print(CENSO_ENEM_19.shape)\n",
    "\n",
    "CENSO_ENEM_19.to_csv('SCHOOL.csv', index=False)\n"
   ]
  },
  {
   "cell_type": "code",
   "execution_count": 38,
   "metadata": {
    "ExecuteTime": {
     "end_time": "2020-07-05T17:33:44.469809Z",
     "start_time": "2020-07-05T17:33:44.336684Z"
    }
   },
   "outputs": [
    {
     "data": {
      "text/html": [
       "<div>\n",
       "<style scoped>\n",
       "    .dataframe tbody tr th:only-of-type {\n",
       "        vertical-align: middle;\n",
       "    }\n",
       "\n",
       "    .dataframe tbody tr th {\n",
       "        vertical-align: top;\n",
       "    }\n",
       "\n",
       "    .dataframe thead th {\n",
       "        text-align: right;\n",
       "    }\n",
       "</style>\n",
       "<table border=\"1\" class=\"dataframe\">\n",
       "  <thead>\n",
       "    <tr style=\"text-align: right;\">\n",
       "      <th></th>\n",
       "      <th>CO_ESCOLA</th>\n",
       "      <th>CO_MUNICIPIO</th>\n",
       "      <th>CO_UF</th>\n",
       "      <th>CO_DEPENDENCIA_ADM</th>\n",
       "      <th>IN_AGUA_INEXISTENTE</th>\n",
       "      <th>IN_ESGOTO_INEXISTENTE</th>\n",
       "      <th>IN_ENERGIA_INEXISTENTE</th>\n",
       "      <th>IN_LABORATORIO_INFORMATICA</th>\n",
       "      <th>IN_LABORATORIO_CIENCIAS</th>\n",
       "      <th>IN_SALA_ATENDIMENTO_ESPECIAL</th>\n",
       "      <th>IN_BIBLIOTECA</th>\n",
       "      <th>IN_SALA_LEITURA</th>\n",
       "      <th>IN_BANHEIRO_FORA_PREDIO</th>\n",
       "      <th>IN_BANHEIRO_PNE</th>\n",
       "      <th>IN_DEPENDENCIAS_PNE</th>\n",
       "      <th>QT_SALAS_UTILIZADAS</th>\n",
       "      <th>QT_EQUIP_TV</th>\n",
       "      <th>QT_EQUIP_DVD</th>\n",
       "      <th>QT_EQUIP_COPIADORA</th>\n",
       "      <th>QT_EQUIP_IMPRESSORA</th>\n",
       "      <th>QT_COM_ADMINISTRATIVO</th>\n",
       "      <th>QT_COMP_ALUNO</th>\n",
       "      <th>IN_INTERNET</th>\n",
       "      <th>IN_BANDA_LARGA</th>\n",
       "      <th>QT_FUNCIONARIOS</th>\n",
       "      <th>IN_ALIMENTACAO</th>\n",
       "      <th>IN_ESPECIALIZACAO</th>\n",
       "      <th>IN_MESTRADO</th>\n",
       "      <th>IN_DOUTORADO</th>\n",
       "      <th>TITULACAO</th>\n",
       "      <th>NU_GRADUACAO</th>\n",
       "      <th>NU_ESPECIALIZACAO</th>\n",
       "      <th>NU_MESTRADO</th>\n",
       "      <th>NU_DOUTORADO</th>\n",
       "      <th>CO_ANO</th>\n",
       "      <th>NU_IDADE</th>\n",
       "      <th>TP_SEXO</th>\n",
       "      <th>TP_COR_RACA</th>\n",
       "      <th>TP_ST_CONCLUSAO</th>\n",
       "      <th>NU_NOTA_CN</th>\n",
       "      <th>NU_NOTA_CH</th>\n",
       "      <th>NU_NOTA_LC</th>\n",
       "      <th>NU_NOTA_MT</th>\n",
       "      <th>NU_NOTA_REDACAO</th>\n",
       "      <th>EDU_PAI</th>\n",
       "      <th>EDU_MAE</th>\n",
       "      <th>QT_PESSOAS_CASA</th>\n",
       "      <th>RENDA_MENSAL</th>\n",
       "      <th>NU_NOTA_GERAL</th>\n",
       "      <th>TARGET</th>\n",
       "    </tr>\n",
       "  </thead>\n",
       "  <tbody>\n",
       "    <tr>\n",
       "      <th>0</th>\n",
       "      <td>11007168</td>\n",
       "      <td>1100023</td>\n",
       "      <td>11</td>\n",
       "      <td>2</td>\n",
       "      <td>0.0</td>\n",
       "      <td>0.0</td>\n",
       "      <td>0.0</td>\n",
       "      <td>0</td>\n",
       "      <td>0</td>\n",
       "      <td>0</td>\n",
       "      <td>1</td>\n",
       "      <td>0</td>\n",
       "      <td>1</td>\n",
       "      <td>0</td>\n",
       "      <td>0</td>\n",
       "      <td>13.0</td>\n",
       "      <td>1.0</td>\n",
       "      <td>1.0</td>\n",
       "      <td>0.0</td>\n",
       "      <td>1.0</td>\n",
       "      <td>8.0</td>\n",
       "      <td>NaN</td>\n",
       "      <td>1.0</td>\n",
       "      <td>1.0</td>\n",
       "      <td>95.0</td>\n",
       "      <td>1.0</td>\n",
       "      <td>0.0</td>\n",
       "      <td>0.0</td>\n",
       "      <td>0.0</td>\n",
       "      <td>0.085714</td>\n",
       "      <td>26</td>\n",
       "      <td>9</td>\n",
       "      <td>0</td>\n",
       "      <td>0</td>\n",
       "      <td>2009</td>\n",
       "      <td>18.375000</td>\n",
       "      <td>0.250000</td>\n",
       "      <td>2.125000</td>\n",
       "      <td>2.0</td>\n",
       "      <td>454.556250</td>\n",
       "      <td>438.525000</td>\n",
       "      <td>450.793750</td>\n",
       "      <td>482.962500</td>\n",
       "      <td>504.687500</td>\n",
       "      <td>0.875000</td>\n",
       "      <td>1.562500</td>\n",
       "      <td>2.000000</td>\n",
       "      <td>2.812500</td>\n",
       "      <td>466.305000</td>\n",
       "      <td>0</td>\n",
       "    </tr>\n",
       "    <tr>\n",
       "      <th>1</th>\n",
       "      <td>11007885</td>\n",
       "      <td>1100023</td>\n",
       "      <td>11</td>\n",
       "      <td>2</td>\n",
       "      <td>0.0</td>\n",
       "      <td>0.0</td>\n",
       "      <td>0.0</td>\n",
       "      <td>1</td>\n",
       "      <td>1</td>\n",
       "      <td>1</td>\n",
       "      <td>1</td>\n",
       "      <td>0</td>\n",
       "      <td>0</td>\n",
       "      <td>1</td>\n",
       "      <td>1</td>\n",
       "      <td>24.0</td>\n",
       "      <td>1.0</td>\n",
       "      <td>1.0</td>\n",
       "      <td>1.0</td>\n",
       "      <td>1.0</td>\n",
       "      <td>10.0</td>\n",
       "      <td>37.0</td>\n",
       "      <td>1.0</td>\n",
       "      <td>1.0</td>\n",
       "      <td>125.0</td>\n",
       "      <td>1.0</td>\n",
       "      <td>0.0</td>\n",
       "      <td>0.0</td>\n",
       "      <td>0.0</td>\n",
       "      <td>0.066667</td>\n",
       "      <td>45</td>\n",
       "      <td>9</td>\n",
       "      <td>1</td>\n",
       "      <td>0</td>\n",
       "      <td>2009</td>\n",
       "      <td>18.121019</td>\n",
       "      <td>0.401274</td>\n",
       "      <td>2.070064</td>\n",
       "      <td>2.0</td>\n",
       "      <td>497.163694</td>\n",
       "      <td>494.768153</td>\n",
       "      <td>489.412739</td>\n",
       "      <td>482.671338</td>\n",
       "      <td>558.439490</td>\n",
       "      <td>1.821656</td>\n",
       "      <td>2.267516</td>\n",
       "      <td>1.834395</td>\n",
       "      <td>2.547771</td>\n",
       "      <td>504.491083</td>\n",
       "      <td>0</td>\n",
       "    </tr>\n",
       "    <tr>\n",
       "      <th>2</th>\n",
       "      <td>11007893</td>\n",
       "      <td>1100023</td>\n",
       "      <td>11</td>\n",
       "      <td>2</td>\n",
       "      <td>0.0</td>\n",
       "      <td>0.0</td>\n",
       "      <td>0.0</td>\n",
       "      <td>1</td>\n",
       "      <td>1</td>\n",
       "      <td>0</td>\n",
       "      <td>1</td>\n",
       "      <td>1</td>\n",
       "      <td>1</td>\n",
       "      <td>1</td>\n",
       "      <td>1</td>\n",
       "      <td>38.0</td>\n",
       "      <td>1.0</td>\n",
       "      <td>1.0</td>\n",
       "      <td>0.0</td>\n",
       "      <td>1.0</td>\n",
       "      <td>6.0</td>\n",
       "      <td>16.0</td>\n",
       "      <td>1.0</td>\n",
       "      <td>1.0</td>\n",
       "      <td>150.0</td>\n",
       "      <td>1.0</td>\n",
       "      <td>1.0</td>\n",
       "      <td>0.0</td>\n",
       "      <td>0.0</td>\n",
       "      <td>0.044444</td>\n",
       "      <td>39</td>\n",
       "      <td>6</td>\n",
       "      <td>0</td>\n",
       "      <td>0</td>\n",
       "      <td>2009</td>\n",
       "      <td>18.068966</td>\n",
       "      <td>0.367816</td>\n",
       "      <td>1.804598</td>\n",
       "      <td>3.0</td>\n",
       "      <td>469.375862</td>\n",
       "      <td>470.108046</td>\n",
       "      <td>466.748276</td>\n",
       "      <td>466.829885</td>\n",
       "      <td>545.689655</td>\n",
       "      <td>1.666667</td>\n",
       "      <td>2.080460</td>\n",
       "      <td>1.896552</td>\n",
       "      <td>2.505747</td>\n",
       "      <td>483.750345</td>\n",
       "      <td>0</td>\n",
       "    </tr>\n",
       "    <tr>\n",
       "      <th>3</th>\n",
       "      <td>11034270</td>\n",
       "      <td>1100031</td>\n",
       "      <td>11</td>\n",
       "      <td>2</td>\n",
       "      <td>0.0</td>\n",
       "      <td>0.0</td>\n",
       "      <td>0.0</td>\n",
       "      <td>1</td>\n",
       "      <td>0</td>\n",
       "      <td>0</td>\n",
       "      <td>0</td>\n",
       "      <td>0</td>\n",
       "      <td>0</td>\n",
       "      <td>0</td>\n",
       "      <td>0</td>\n",
       "      <td>5.0</td>\n",
       "      <td>1.0</td>\n",
       "      <td>1.0</td>\n",
       "      <td>0.0</td>\n",
       "      <td>1.0</td>\n",
       "      <td>2.0</td>\n",
       "      <td>10.0</td>\n",
       "      <td>0.0</td>\n",
       "      <td>0.0</td>\n",
       "      <td>13.0</td>\n",
       "      <td>1.0</td>\n",
       "      <td>0.0</td>\n",
       "      <td>0.0</td>\n",
       "      <td>0.0</td>\n",
       "      <td>0.095238</td>\n",
       "      <td>5</td>\n",
       "      <td>2</td>\n",
       "      <td>0</td>\n",
       "      <td>0</td>\n",
       "      <td>2009</td>\n",
       "      <td>18.000000</td>\n",
       "      <td>0.500000</td>\n",
       "      <td>3.000000</td>\n",
       "      <td>2.0</td>\n",
       "      <td>535.650000</td>\n",
       "      <td>514.350000</td>\n",
       "      <td>432.400000</td>\n",
       "      <td>490.900000</td>\n",
       "      <td>537.500000</td>\n",
       "      <td>1.500000</td>\n",
       "      <td>2.000000</td>\n",
       "      <td>1.500000</td>\n",
       "      <td>2.000000</td>\n",
       "      <td>502.160000</td>\n",
       "      <td>0</td>\n",
       "    </tr>\n",
       "    <tr>\n",
       "      <th>4</th>\n",
       "      <td>11034440</td>\n",
       "      <td>1100031</td>\n",
       "      <td>11</td>\n",
       "      <td>2</td>\n",
       "      <td>0.0</td>\n",
       "      <td>0.0</td>\n",
       "      <td>0.0</td>\n",
       "      <td>1</td>\n",
       "      <td>0</td>\n",
       "      <td>0</td>\n",
       "      <td>1</td>\n",
       "      <td>1</td>\n",
       "      <td>1</td>\n",
       "      <td>1</td>\n",
       "      <td>0</td>\n",
       "      <td>15.0</td>\n",
       "      <td>1.0</td>\n",
       "      <td>1.0</td>\n",
       "      <td>0.0</td>\n",
       "      <td>1.0</td>\n",
       "      <td>2.0</td>\n",
       "      <td>37.0</td>\n",
       "      <td>1.0</td>\n",
       "      <td>0.0</td>\n",
       "      <td>75.0</td>\n",
       "      <td>1.0</td>\n",
       "      <td>0.0</td>\n",
       "      <td>0.0</td>\n",
       "      <td>0.0</td>\n",
       "      <td>0.131313</td>\n",
       "      <td>20</td>\n",
       "      <td>13</td>\n",
       "      <td>0</td>\n",
       "      <td>0</td>\n",
       "      <td>2009</td>\n",
       "      <td>18.045455</td>\n",
       "      <td>0.454545</td>\n",
       "      <td>2.363636</td>\n",
       "      <td>2.0</td>\n",
       "      <td>502.904545</td>\n",
       "      <td>501.159091</td>\n",
       "      <td>481.750000</td>\n",
       "      <td>476.945455</td>\n",
       "      <td>534.090909</td>\n",
       "      <td>1.590909</td>\n",
       "      <td>2.409091</td>\n",
       "      <td>1.772727</td>\n",
       "      <td>2.454545</td>\n",
       "      <td>499.370000</td>\n",
       "      <td>0</td>\n",
       "    </tr>\n",
       "  </tbody>\n",
       "</table>\n",
       "</div>"
      ],
      "text/plain": [
       "   CO_ESCOLA  CO_MUNICIPIO  CO_UF  CO_DEPENDENCIA_ADM  IN_AGUA_INEXISTENTE  \\\n",
       "0   11007168       1100023     11                   2                  0.0   \n",
       "1   11007885       1100023     11                   2                  0.0   \n",
       "2   11007893       1100023     11                   2                  0.0   \n",
       "3   11034270       1100031     11                   2                  0.0   \n",
       "4   11034440       1100031     11                   2                  0.0   \n",
       "\n",
       "   IN_ESGOTO_INEXISTENTE  IN_ENERGIA_INEXISTENTE  IN_LABORATORIO_INFORMATICA  \\\n",
       "0                    0.0                     0.0                           0   \n",
       "1                    0.0                     0.0                           1   \n",
       "2                    0.0                     0.0                           1   \n",
       "3                    0.0                     0.0                           1   \n",
       "4                    0.0                     0.0                           1   \n",
       "\n",
       "   IN_LABORATORIO_CIENCIAS  IN_SALA_ATENDIMENTO_ESPECIAL  IN_BIBLIOTECA  \\\n",
       "0                        0                             0              1   \n",
       "1                        1                             1              1   \n",
       "2                        1                             0              1   \n",
       "3                        0                             0              0   \n",
       "4                        0                             0              1   \n",
       "\n",
       "   IN_SALA_LEITURA  IN_BANHEIRO_FORA_PREDIO  IN_BANHEIRO_PNE  \\\n",
       "0                0                        1                0   \n",
       "1                0                        0                1   \n",
       "2                1                        1                1   \n",
       "3                0                        0                0   \n",
       "4                1                        1                1   \n",
       "\n",
       "   IN_DEPENDENCIAS_PNE  QT_SALAS_UTILIZADAS  QT_EQUIP_TV  QT_EQUIP_DVD  \\\n",
       "0                    0                 13.0          1.0           1.0   \n",
       "1                    1                 24.0          1.0           1.0   \n",
       "2                    1                 38.0          1.0           1.0   \n",
       "3                    0                  5.0          1.0           1.0   \n",
       "4                    0                 15.0          1.0           1.0   \n",
       "\n",
       "   QT_EQUIP_COPIADORA  QT_EQUIP_IMPRESSORA  QT_COM_ADMINISTRATIVO  \\\n",
       "0                 0.0                  1.0                    8.0   \n",
       "1                 1.0                  1.0                   10.0   \n",
       "2                 0.0                  1.0                    6.0   \n",
       "3                 0.0                  1.0                    2.0   \n",
       "4                 0.0                  1.0                    2.0   \n",
       "\n",
       "   QT_COMP_ALUNO  IN_INTERNET  IN_BANDA_LARGA  QT_FUNCIONARIOS  \\\n",
       "0            NaN          1.0             1.0             95.0   \n",
       "1           37.0          1.0             1.0            125.0   \n",
       "2           16.0          1.0             1.0            150.0   \n",
       "3           10.0          0.0             0.0             13.0   \n",
       "4           37.0          1.0             0.0             75.0   \n",
       "\n",
       "   IN_ALIMENTACAO  IN_ESPECIALIZACAO  IN_MESTRADO  IN_DOUTORADO  TITULACAO  \\\n",
       "0             1.0                0.0          0.0           0.0   0.085714   \n",
       "1             1.0                0.0          0.0           0.0   0.066667   \n",
       "2             1.0                1.0          0.0           0.0   0.044444   \n",
       "3             1.0                0.0          0.0           0.0   0.095238   \n",
       "4             1.0                0.0          0.0           0.0   0.131313   \n",
       "\n",
       "   NU_GRADUACAO  NU_ESPECIALIZACAO  NU_MESTRADO  NU_DOUTORADO  CO_ANO  \\\n",
       "0            26                  9            0             0    2009   \n",
       "1            45                  9            1             0    2009   \n",
       "2            39                  6            0             0    2009   \n",
       "3             5                  2            0             0    2009   \n",
       "4            20                 13            0             0    2009   \n",
       "\n",
       "    NU_IDADE   TP_SEXO  TP_COR_RACA  TP_ST_CONCLUSAO  NU_NOTA_CN  NU_NOTA_CH  \\\n",
       "0  18.375000  0.250000     2.125000              2.0  454.556250  438.525000   \n",
       "1  18.121019  0.401274     2.070064              2.0  497.163694  494.768153   \n",
       "2  18.068966  0.367816     1.804598              3.0  469.375862  470.108046   \n",
       "3  18.000000  0.500000     3.000000              2.0  535.650000  514.350000   \n",
       "4  18.045455  0.454545     2.363636              2.0  502.904545  501.159091   \n",
       "\n",
       "   NU_NOTA_LC  NU_NOTA_MT  NU_NOTA_REDACAO   EDU_PAI   EDU_MAE  \\\n",
       "0  450.793750  482.962500       504.687500  0.875000  1.562500   \n",
       "1  489.412739  482.671338       558.439490  1.821656  2.267516   \n",
       "2  466.748276  466.829885       545.689655  1.666667  2.080460   \n",
       "3  432.400000  490.900000       537.500000  1.500000  2.000000   \n",
       "4  481.750000  476.945455       534.090909  1.590909  2.409091   \n",
       "\n",
       "   QT_PESSOAS_CASA  RENDA_MENSAL  NU_NOTA_GERAL  TARGET  \n",
       "0         2.000000      2.812500     466.305000       0  \n",
       "1         1.834395      2.547771     504.491083       0  \n",
       "2         1.896552      2.505747     483.750345       0  \n",
       "3         1.500000      2.000000     502.160000       0  \n",
       "4         1.772727      2.454545     499.370000       0  "
      ]
     },
     "execution_count": 38,
     "metadata": {},
     "output_type": "execute_result"
    }
   ],
   "source": [
    "CENSO_ENEM_19.head()"
   ]
  },
  {
   "cell_type": "code",
   "execution_count": 39,
   "metadata": {
    "ExecuteTime": {
     "end_time": "2020-07-05T17:33:44.507368Z",
     "start_time": "2020-07-05T17:33:44.475072Z"
    }
   },
   "outputs": [
    {
     "data": {
      "text/plain": [
       "CO_ESCOLA                          0\n",
       "CO_MUNICIPIO                       0\n",
       "CO_UF                              0\n",
       "CO_DEPENDENCIA_ADM                 0\n",
       "IN_AGUA_INEXISTENTE                0\n",
       "IN_ESGOTO_INEXISTENTE              0\n",
       "IN_ENERGIA_INEXISTENTE             0\n",
       "IN_LABORATORIO_INFORMATICA         0\n",
       "IN_LABORATORIO_CIENCIAS            0\n",
       "IN_SALA_ATENDIMENTO_ESPECIAL       0\n",
       "IN_BIBLIOTECA                      0\n",
       "IN_SALA_LEITURA                    0\n",
       "IN_BANHEIRO_FORA_PREDIO            0\n",
       "IN_BANHEIRO_PNE                    0\n",
       "IN_DEPENDENCIAS_PNE                0\n",
       "QT_SALAS_UTILIZADAS                0\n",
       "QT_EQUIP_TV                        0\n",
       "QT_EQUIP_DVD                       0\n",
       "QT_EQUIP_COPIADORA                 0\n",
       "QT_EQUIP_IMPRESSORA                0\n",
       "QT_COM_ADMINISTRATIVO            720\n",
       "QT_COMP_ALUNO                   2569\n",
       "IN_INTERNET                        0\n",
       "IN_BANDA_LARGA                     0\n",
       "QT_FUNCIONARIOS                    0\n",
       "IN_ALIMENTACAO                     0\n",
       "IN_ESPECIALIZACAO                  0\n",
       "IN_MESTRADO                        0\n",
       "IN_DOUTORADO                       0\n",
       "TITULACAO                          0\n",
       "NU_GRADUACAO                       0\n",
       "NU_ESPECIALIZACAO                  0\n",
       "NU_MESTRADO                        0\n",
       "NU_DOUTORADO                       0\n",
       "CO_ANO                             0\n",
       "NU_IDADE                           0\n",
       "TP_SEXO                            0\n",
       "TP_COR_RACA                        0\n",
       "TP_ST_CONCLUSAO                    0\n",
       "NU_NOTA_CN                         0\n",
       "NU_NOTA_CH                         0\n",
       "NU_NOTA_LC                         0\n",
       "NU_NOTA_MT                         0\n",
       "NU_NOTA_REDACAO                    0\n",
       "EDU_PAI                            0\n",
       "EDU_MAE                            0\n",
       "QT_PESSOAS_CASA                    0\n",
       "RENDA_MENSAL                       0\n",
       "NU_NOTA_GERAL                      0\n",
       "TARGET                             0\n",
       "dtype: int64"
      ]
     },
     "execution_count": 39,
     "metadata": {},
     "output_type": "execute_result"
    }
   ],
   "source": [
    "CENSO_ENEM_19.isnull().sum()"
   ]
  },
  {
   "cell_type": "code",
   "execution_count": 40,
   "metadata": {
    "ExecuteTime": {
     "end_time": "2020-07-05T17:33:44.636132Z",
     "start_time": "2020-07-05T17:33:44.513018Z"
    }
   },
   "outputs": [
    {
     "data": {
      "text/html": [
       "<div>\n",
       "<style scoped>\n",
       "    .dataframe tbody tr th:only-of-type {\n",
       "        vertical-align: middle;\n",
       "    }\n",
       "\n",
       "    .dataframe tbody tr th {\n",
       "        vertical-align: top;\n",
       "    }\n",
       "\n",
       "    .dataframe thead th {\n",
       "        text-align: right;\n",
       "    }\n",
       "</style>\n",
       "<table border=\"1\" class=\"dataframe\">\n",
       "  <thead>\n",
       "    <tr style=\"text-align: right;\">\n",
       "      <th></th>\n",
       "      <th>CO_ESCOLA</th>\n",
       "      <th>CO_MUNICIPIO</th>\n",
       "      <th>CO_UF</th>\n",
       "      <th>CO_DEPENDENCIA_ADM</th>\n",
       "      <th>IN_AGUA_INEXISTENTE</th>\n",
       "      <th>IN_ESGOTO_INEXISTENTE</th>\n",
       "      <th>IN_ENERGIA_INEXISTENTE</th>\n",
       "      <th>IN_LABORATORIO_INFORMATICA</th>\n",
       "      <th>IN_LABORATORIO_CIENCIAS</th>\n",
       "      <th>IN_SALA_ATENDIMENTO_ESPECIAL</th>\n",
       "      <th>IN_BIBLIOTECA</th>\n",
       "      <th>IN_SALA_LEITURA</th>\n",
       "      <th>IN_BANHEIRO_FORA_PREDIO</th>\n",
       "      <th>IN_BANHEIRO_PNE</th>\n",
       "      <th>IN_DEPENDENCIAS_PNE</th>\n",
       "      <th>QT_SALAS_UTILIZADAS</th>\n",
       "      <th>QT_EQUIP_TV</th>\n",
       "      <th>QT_EQUIP_DVD</th>\n",
       "      <th>QT_EQUIP_COPIADORA</th>\n",
       "      <th>QT_EQUIP_IMPRESSORA</th>\n",
       "      <th>QT_COM_ADMINISTRATIVO</th>\n",
       "      <th>QT_COMP_ALUNO</th>\n",
       "      <th>IN_INTERNET</th>\n",
       "      <th>IN_BANDA_LARGA</th>\n",
       "      <th>QT_FUNCIONARIOS</th>\n",
       "      <th>IN_ALIMENTACAO</th>\n",
       "      <th>IN_ESPECIALIZACAO</th>\n",
       "      <th>IN_MESTRADO</th>\n",
       "      <th>IN_DOUTORADO</th>\n",
       "      <th>TITULACAO</th>\n",
       "      <th>NU_GRADUACAO</th>\n",
       "      <th>NU_ESPECIALIZACAO</th>\n",
       "      <th>NU_MESTRADO</th>\n",
       "      <th>NU_DOUTORADO</th>\n",
       "      <th>CO_ANO</th>\n",
       "      <th>NU_IDADE</th>\n",
       "      <th>TP_SEXO</th>\n",
       "      <th>TP_COR_RACA</th>\n",
       "      <th>TP_ST_CONCLUSAO</th>\n",
       "      <th>NU_NOTA_CN</th>\n",
       "      <th>NU_NOTA_CH</th>\n",
       "      <th>NU_NOTA_LC</th>\n",
       "      <th>NU_NOTA_MT</th>\n",
       "      <th>NU_NOTA_REDACAO</th>\n",
       "      <th>EDU_PAI</th>\n",
       "      <th>EDU_MAE</th>\n",
       "      <th>QT_PESSOAS_CASA</th>\n",
       "      <th>RENDA_MENSAL</th>\n",
       "      <th>NU_NOTA_GERAL</th>\n",
       "      <th>TARGET</th>\n",
       "    </tr>\n",
       "  </thead>\n",
       "  <tbody>\n",
       "    <tr>\n",
       "      <th>0</th>\n",
       "      <td>11007168</td>\n",
       "      <td>1100023</td>\n",
       "      <td>11</td>\n",
       "      <td>2</td>\n",
       "      <td>0.0</td>\n",
       "      <td>0.0</td>\n",
       "      <td>0.0</td>\n",
       "      <td>0</td>\n",
       "      <td>0</td>\n",
       "      <td>0</td>\n",
       "      <td>1</td>\n",
       "      <td>0</td>\n",
       "      <td>1</td>\n",
       "      <td>0</td>\n",
       "      <td>0</td>\n",
       "      <td>13.0</td>\n",
       "      <td>1.0</td>\n",
       "      <td>1.0</td>\n",
       "      <td>0.0</td>\n",
       "      <td>1.0</td>\n",
       "      <td>8.0</td>\n",
       "      <td>NaN</td>\n",
       "      <td>1.0</td>\n",
       "      <td>1.0</td>\n",
       "      <td>95.0</td>\n",
       "      <td>1.0</td>\n",
       "      <td>0.0</td>\n",
       "      <td>0.0</td>\n",
       "      <td>0.0</td>\n",
       "      <td>0.085714</td>\n",
       "      <td>26</td>\n",
       "      <td>9</td>\n",
       "      <td>0</td>\n",
       "      <td>0</td>\n",
       "      <td>2009</td>\n",
       "      <td>18.375000</td>\n",
       "      <td>0.250000</td>\n",
       "      <td>2.125000</td>\n",
       "      <td>2.0</td>\n",
       "      <td>454.556250</td>\n",
       "      <td>438.525000</td>\n",
       "      <td>450.793750</td>\n",
       "      <td>482.962500</td>\n",
       "      <td>504.687500</td>\n",
       "      <td>0.875000</td>\n",
       "      <td>1.562500</td>\n",
       "      <td>2.000000</td>\n",
       "      <td>2.812500</td>\n",
       "      <td>466.305000</td>\n",
       "      <td>0</td>\n",
       "    </tr>\n",
       "    <tr>\n",
       "      <th>1</th>\n",
       "      <td>11007885</td>\n",
       "      <td>1100023</td>\n",
       "      <td>11</td>\n",
       "      <td>2</td>\n",
       "      <td>0.0</td>\n",
       "      <td>0.0</td>\n",
       "      <td>0.0</td>\n",
       "      <td>1</td>\n",
       "      <td>1</td>\n",
       "      <td>1</td>\n",
       "      <td>1</td>\n",
       "      <td>0</td>\n",
       "      <td>0</td>\n",
       "      <td>1</td>\n",
       "      <td>1</td>\n",
       "      <td>24.0</td>\n",
       "      <td>1.0</td>\n",
       "      <td>1.0</td>\n",
       "      <td>1.0</td>\n",
       "      <td>1.0</td>\n",
       "      <td>10.0</td>\n",
       "      <td>37.0</td>\n",
       "      <td>1.0</td>\n",
       "      <td>1.0</td>\n",
       "      <td>125.0</td>\n",
       "      <td>1.0</td>\n",
       "      <td>0.0</td>\n",
       "      <td>0.0</td>\n",
       "      <td>0.0</td>\n",
       "      <td>0.066667</td>\n",
       "      <td>45</td>\n",
       "      <td>9</td>\n",
       "      <td>1</td>\n",
       "      <td>0</td>\n",
       "      <td>2009</td>\n",
       "      <td>18.121019</td>\n",
       "      <td>0.401274</td>\n",
       "      <td>2.070064</td>\n",
       "      <td>2.0</td>\n",
       "      <td>497.163694</td>\n",
       "      <td>494.768153</td>\n",
       "      <td>489.412739</td>\n",
       "      <td>482.671338</td>\n",
       "      <td>558.439490</td>\n",
       "      <td>1.821656</td>\n",
       "      <td>2.267516</td>\n",
       "      <td>1.834395</td>\n",
       "      <td>2.547771</td>\n",
       "      <td>504.491083</td>\n",
       "      <td>0</td>\n",
       "    </tr>\n",
       "    <tr>\n",
       "      <th>2</th>\n",
       "      <td>11007893</td>\n",
       "      <td>1100023</td>\n",
       "      <td>11</td>\n",
       "      <td>2</td>\n",
       "      <td>0.0</td>\n",
       "      <td>0.0</td>\n",
       "      <td>0.0</td>\n",
       "      <td>1</td>\n",
       "      <td>1</td>\n",
       "      <td>0</td>\n",
       "      <td>1</td>\n",
       "      <td>1</td>\n",
       "      <td>1</td>\n",
       "      <td>1</td>\n",
       "      <td>1</td>\n",
       "      <td>38.0</td>\n",
       "      <td>1.0</td>\n",
       "      <td>1.0</td>\n",
       "      <td>0.0</td>\n",
       "      <td>1.0</td>\n",
       "      <td>6.0</td>\n",
       "      <td>16.0</td>\n",
       "      <td>1.0</td>\n",
       "      <td>1.0</td>\n",
       "      <td>150.0</td>\n",
       "      <td>1.0</td>\n",
       "      <td>1.0</td>\n",
       "      <td>0.0</td>\n",
       "      <td>0.0</td>\n",
       "      <td>0.044444</td>\n",
       "      <td>39</td>\n",
       "      <td>6</td>\n",
       "      <td>0</td>\n",
       "      <td>0</td>\n",
       "      <td>2009</td>\n",
       "      <td>18.068966</td>\n",
       "      <td>0.367816</td>\n",
       "      <td>1.804598</td>\n",
       "      <td>3.0</td>\n",
       "      <td>469.375862</td>\n",
       "      <td>470.108046</td>\n",
       "      <td>466.748276</td>\n",
       "      <td>466.829885</td>\n",
       "      <td>545.689655</td>\n",
       "      <td>1.666667</td>\n",
       "      <td>2.080460</td>\n",
       "      <td>1.896552</td>\n",
       "      <td>2.505747</td>\n",
       "      <td>483.750345</td>\n",
       "      <td>0</td>\n",
       "    </tr>\n",
       "    <tr>\n",
       "      <th>3</th>\n",
       "      <td>11034270</td>\n",
       "      <td>1100031</td>\n",
       "      <td>11</td>\n",
       "      <td>2</td>\n",
       "      <td>0.0</td>\n",
       "      <td>0.0</td>\n",
       "      <td>0.0</td>\n",
       "      <td>1</td>\n",
       "      <td>0</td>\n",
       "      <td>0</td>\n",
       "      <td>0</td>\n",
       "      <td>0</td>\n",
       "      <td>0</td>\n",
       "      <td>0</td>\n",
       "      <td>0</td>\n",
       "      <td>5.0</td>\n",
       "      <td>1.0</td>\n",
       "      <td>1.0</td>\n",
       "      <td>0.0</td>\n",
       "      <td>1.0</td>\n",
       "      <td>2.0</td>\n",
       "      <td>10.0</td>\n",
       "      <td>0.0</td>\n",
       "      <td>0.0</td>\n",
       "      <td>13.0</td>\n",
       "      <td>1.0</td>\n",
       "      <td>0.0</td>\n",
       "      <td>0.0</td>\n",
       "      <td>0.0</td>\n",
       "      <td>0.095238</td>\n",
       "      <td>5</td>\n",
       "      <td>2</td>\n",
       "      <td>0</td>\n",
       "      <td>0</td>\n",
       "      <td>2009</td>\n",
       "      <td>18.000000</td>\n",
       "      <td>0.500000</td>\n",
       "      <td>3.000000</td>\n",
       "      <td>2.0</td>\n",
       "      <td>535.650000</td>\n",
       "      <td>514.350000</td>\n",
       "      <td>432.400000</td>\n",
       "      <td>490.900000</td>\n",
       "      <td>537.500000</td>\n",
       "      <td>1.500000</td>\n",
       "      <td>2.000000</td>\n",
       "      <td>1.500000</td>\n",
       "      <td>2.000000</td>\n",
       "      <td>502.160000</td>\n",
       "      <td>0</td>\n",
       "    </tr>\n",
       "    <tr>\n",
       "      <th>4</th>\n",
       "      <td>11034440</td>\n",
       "      <td>1100031</td>\n",
       "      <td>11</td>\n",
       "      <td>2</td>\n",
       "      <td>0.0</td>\n",
       "      <td>0.0</td>\n",
       "      <td>0.0</td>\n",
       "      <td>1</td>\n",
       "      <td>0</td>\n",
       "      <td>0</td>\n",
       "      <td>1</td>\n",
       "      <td>1</td>\n",
       "      <td>1</td>\n",
       "      <td>1</td>\n",
       "      <td>0</td>\n",
       "      <td>15.0</td>\n",
       "      <td>1.0</td>\n",
       "      <td>1.0</td>\n",
       "      <td>0.0</td>\n",
       "      <td>1.0</td>\n",
       "      <td>2.0</td>\n",
       "      <td>37.0</td>\n",
       "      <td>1.0</td>\n",
       "      <td>0.0</td>\n",
       "      <td>75.0</td>\n",
       "      <td>1.0</td>\n",
       "      <td>0.0</td>\n",
       "      <td>0.0</td>\n",
       "      <td>0.0</td>\n",
       "      <td>0.131313</td>\n",
       "      <td>20</td>\n",
       "      <td>13</td>\n",
       "      <td>0</td>\n",
       "      <td>0</td>\n",
       "      <td>2009</td>\n",
       "      <td>18.045455</td>\n",
       "      <td>0.454545</td>\n",
       "      <td>2.363636</td>\n",
       "      <td>2.0</td>\n",
       "      <td>502.904545</td>\n",
       "      <td>501.159091</td>\n",
       "      <td>481.750000</td>\n",
       "      <td>476.945455</td>\n",
       "      <td>534.090909</td>\n",
       "      <td>1.590909</td>\n",
       "      <td>2.409091</td>\n",
       "      <td>1.772727</td>\n",
       "      <td>2.454545</td>\n",
       "      <td>499.370000</td>\n",
       "      <td>0</td>\n",
       "    </tr>\n",
       "  </tbody>\n",
       "</table>\n",
       "</div>"
      ],
      "text/plain": [
       "   CO_ESCOLA  CO_MUNICIPIO  CO_UF  CO_DEPENDENCIA_ADM  IN_AGUA_INEXISTENTE  \\\n",
       "0   11007168       1100023     11                   2                  0.0   \n",
       "1   11007885       1100023     11                   2                  0.0   \n",
       "2   11007893       1100023     11                   2                  0.0   \n",
       "3   11034270       1100031     11                   2                  0.0   \n",
       "4   11034440       1100031     11                   2                  0.0   \n",
       "\n",
       "   IN_ESGOTO_INEXISTENTE  IN_ENERGIA_INEXISTENTE  IN_LABORATORIO_INFORMATICA  \\\n",
       "0                    0.0                     0.0                           0   \n",
       "1                    0.0                     0.0                           1   \n",
       "2                    0.0                     0.0                           1   \n",
       "3                    0.0                     0.0                           1   \n",
       "4                    0.0                     0.0                           1   \n",
       "\n",
       "   IN_LABORATORIO_CIENCIAS  IN_SALA_ATENDIMENTO_ESPECIAL  IN_BIBLIOTECA  \\\n",
       "0                        0                             0              1   \n",
       "1                        1                             1              1   \n",
       "2                        1                             0              1   \n",
       "3                        0                             0              0   \n",
       "4                        0                             0              1   \n",
       "\n",
       "   IN_SALA_LEITURA  IN_BANHEIRO_FORA_PREDIO  IN_BANHEIRO_PNE  \\\n",
       "0                0                        1                0   \n",
       "1                0                        0                1   \n",
       "2                1                        1                1   \n",
       "3                0                        0                0   \n",
       "4                1                        1                1   \n",
       "\n",
       "   IN_DEPENDENCIAS_PNE  QT_SALAS_UTILIZADAS  QT_EQUIP_TV  QT_EQUIP_DVD  \\\n",
       "0                    0                 13.0          1.0           1.0   \n",
       "1                    1                 24.0          1.0           1.0   \n",
       "2                    1                 38.0          1.0           1.0   \n",
       "3                    0                  5.0          1.0           1.0   \n",
       "4                    0                 15.0          1.0           1.0   \n",
       "\n",
       "   QT_EQUIP_COPIADORA  QT_EQUIP_IMPRESSORA  QT_COM_ADMINISTRATIVO  \\\n",
       "0                 0.0                  1.0                    8.0   \n",
       "1                 1.0                  1.0                   10.0   \n",
       "2                 0.0                  1.0                    6.0   \n",
       "3                 0.0                  1.0                    2.0   \n",
       "4                 0.0                  1.0                    2.0   \n",
       "\n",
       "   QT_COMP_ALUNO  IN_INTERNET  IN_BANDA_LARGA  QT_FUNCIONARIOS  \\\n",
       "0            NaN          1.0             1.0             95.0   \n",
       "1           37.0          1.0             1.0            125.0   \n",
       "2           16.0          1.0             1.0            150.0   \n",
       "3           10.0          0.0             0.0             13.0   \n",
       "4           37.0          1.0             0.0             75.0   \n",
       "\n",
       "   IN_ALIMENTACAO  IN_ESPECIALIZACAO  IN_MESTRADO  IN_DOUTORADO  TITULACAO  \\\n",
       "0             1.0                0.0          0.0           0.0   0.085714   \n",
       "1             1.0                0.0          0.0           0.0   0.066667   \n",
       "2             1.0                1.0          0.0           0.0   0.044444   \n",
       "3             1.0                0.0          0.0           0.0   0.095238   \n",
       "4             1.0                0.0          0.0           0.0   0.131313   \n",
       "\n",
       "   NU_GRADUACAO  NU_ESPECIALIZACAO  NU_MESTRADO  NU_DOUTORADO  CO_ANO  \\\n",
       "0            26                  9            0             0    2009   \n",
       "1            45                  9            1             0    2009   \n",
       "2            39                  6            0             0    2009   \n",
       "3             5                  2            0             0    2009   \n",
       "4            20                 13            0             0    2009   \n",
       "\n",
       "    NU_IDADE   TP_SEXO  TP_COR_RACA  TP_ST_CONCLUSAO  NU_NOTA_CN  NU_NOTA_CH  \\\n",
       "0  18.375000  0.250000     2.125000              2.0  454.556250  438.525000   \n",
       "1  18.121019  0.401274     2.070064              2.0  497.163694  494.768153   \n",
       "2  18.068966  0.367816     1.804598              3.0  469.375862  470.108046   \n",
       "3  18.000000  0.500000     3.000000              2.0  535.650000  514.350000   \n",
       "4  18.045455  0.454545     2.363636              2.0  502.904545  501.159091   \n",
       "\n",
       "   NU_NOTA_LC  NU_NOTA_MT  NU_NOTA_REDACAO   EDU_PAI   EDU_MAE  \\\n",
       "0  450.793750  482.962500       504.687500  0.875000  1.562500   \n",
       "1  489.412739  482.671338       558.439490  1.821656  2.267516   \n",
       "2  466.748276  466.829885       545.689655  1.666667  2.080460   \n",
       "3  432.400000  490.900000       537.500000  1.500000  2.000000   \n",
       "4  481.750000  476.945455       534.090909  1.590909  2.409091   \n",
       "\n",
       "   QT_PESSOAS_CASA  RENDA_MENSAL  NU_NOTA_GERAL  TARGET  \n",
       "0         2.000000      2.812500     466.305000       0  \n",
       "1         1.834395      2.547771     504.491083       0  \n",
       "2         1.896552      2.505747     483.750345       0  \n",
       "3         1.500000      2.000000     502.160000       0  \n",
       "4         1.772727      2.454545     499.370000       0  "
      ]
     },
     "execution_count": 40,
     "metadata": {},
     "output_type": "execute_result"
    }
   ],
   "source": [
    "CENSO_ENEM_19.head()"
   ]
  },
  {
   "cell_type": "code",
   "execution_count": null,
   "metadata": {},
   "outputs": [],
   "source": []
  }
 ],
 "metadata": {
  "kernelspec": {
   "display_name": "Python 3",
   "language": "python",
   "name": "python3"
  },
  "language_info": {
   "codemirror_mode": {
    "name": "ipython",
    "version": 3
   },
   "file_extension": ".py",
   "mimetype": "text/x-python",
   "name": "python",
   "nbconvert_exporter": "python",
   "pygments_lexer": "ipython3",
   "version": "3.7.6"
  }
 },
 "nbformat": 4,
 "nbformat_minor": 4
}
