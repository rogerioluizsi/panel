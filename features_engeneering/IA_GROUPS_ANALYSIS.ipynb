{
 "cells": [
  {
   "cell_type": "code",
   "execution_count": 1,
   "metadata": {
    "ExecuteTime": {
     "end_time": "2020-06-02T18:10:57.428328Z",
     "start_time": "2020-06-02T18:10:55.114992Z"
    }
   },
   "outputs": [],
   "source": [
    "import time\n",
    "import pandas as pd\n",
    "import matplotlib.pyplot as plt\n",
    "import seaborn as sns\n",
    "import warnings\n",
    "import numpy as np\n",
    "warnings.filterwarnings('ignore')\n",
    "from sklearn.linear_model import LogisticRegression\n",
    "from sklearn.model_selection import GridSearchCV, StratifiedKFold, train_test_split\n",
    "from sklearn.metrics import confusion_matrix, roc_auc_score ,roc_curve,auc\n",
    "from sklearn.preprocessing import MinMaxScaler, StandardScaler\n",
    "from scipy import interp\n",
    "\n",
    "pd.set_option('display.max_columns', None)"
   ]
  },
  {
   "cell_type": "code",
   "execution_count": 2,
   "metadata": {
    "ExecuteTime": {
     "end_time": "2020-06-02T18:11:01.233593Z",
     "start_time": "2020-06-02T18:10:57.433411Z"
    }
   },
   "outputs": [],
   "source": [
    "DATA = pd.read_csv('ALL_SCHOOLS.csv')\n",
    "before = DATA.shape[0]"
   ]
  },
  {
   "cell_type": "code",
   "execution_count": 3,
   "metadata": {
    "ExecuteTime": {
     "end_time": "2020-06-02T18:11:01.375994Z",
     "start_time": "2020-06-02T18:11:01.239628Z"
    }
   },
   "outputs": [
    {
     "name": "stdout",
     "output_type": "stream",
     "text": [
      "keeping 99.35674287613739 %\n"
     ]
    }
   ],
   "source": [
    "#Only elementary infrastructure schools\n",
    "#print(DF)\n",
    "DATA= DATA.loc[(DATA.IN_AGUA_INEXISTENTE == 0) & (DATA.IN_ENERGIA_INEXISTENTE == 0) & (DATA.IN_ESGOTO_INEXISTENTE == 0)]\n",
    "print('keeping', DATA.shape[0]/before*100, '%')"
   ]
  },
  {
   "cell_type": "code",
   "execution_count": 4,
   "metadata": {
    "ExecuteTime": {
     "end_time": "2020-06-02T18:11:01.736408Z",
     "start_time": "2020-06-02T18:11:01.385531Z"
    }
   },
   "outputs": [],
   "source": [
    "QT_to_IN = ['QT_EQUIP_DVD', 'QT_EQUIP_COPIADORA', 'QT_EQUIP_IMPRESSORA', 'QT_EQUIP_TV']\n",
    "conds = [DATA[QT_to_IN].values == 0 , DATA[QT_to_IN].values > 0]\n",
    "choices = [0, 1]\n",
    "DATA[QT_to_IN] = pd.DataFrame(np.select(conds, choices), index=DATA[QT_to_IN].index, columns=DATA[QT_to_IN].columns)\n",
    "#DF[QT_to_IN] = DF[QT_to_IN].astype('category')"
   ]
  },
  {
   "cell_type": "code",
   "execution_count": 5,
   "metadata": {
    "ExecuteTime": {
     "end_time": "2020-06-02T18:11:01.754944Z",
     "start_time": "2020-06-02T18:11:01.741015Z"
    }
   },
   "outputs": [],
   "source": [
    "controls = [\"CO_ANO\", 'IN_TP_ESCOLA']\n",
    "infrastructure = [\n",
    "'IN_LABORATORIO_INFORMATICA',\n",
    "'IN_LABORATORIO_CIENCIAS',\n",
    "'IN_SALA_ATENDIMENTO_ESPECIAL',\n",
    "'IN_BIBLIOTECA',\n",
    "'IN_SALA_LEITURA',\n",
    "'IN_BANHEIRO_FORA_PREDIO',\n",
    "'IN_BANHEIRO_PNE',\n",
    "'IN_DEPENDENCIAS_PNE',\n",
    "'QT_SALAS_UTILIZADAS',\n",
    "'QT_EQUIP_TV',\n",
    "'QT_EQUIP_DVD',\n",
    "'QT_EQUIP_COPIADORA',\n",
    "'QT_EQUIP_IMPRESSORA',\n",
    "'QT_COMP_ALUNO',\n",
    "'IN_INTERNET',\n",
    "'IN_BANDA_LARGA',\n",
    "'QT_FUNCIONARIOS',\n",
    "'IN_ALIMENTACAO']\n",
    "\n",
    "hypothesis = ['EDU_PAI','EDU_MAE', 'TITULACAO']\n",
    "\n",
    "socioeconomic =['QT_PESSOAS_CASA', 'RENDA_MENSAL', 'TP_COR_RACA']\n",
    "\n",
    "target = ['NU_NOTA_CN', 'NU_NOTA_CH', 'NU_NOTA_LC', 'NU_NOTA_MT', 'NU_NOTA_REDACAO', 'NU_NOTA_GERAL']\n"
   ]
  },
  {
   "cell_type": "code",
   "execution_count": 6,
   "metadata": {
    "ExecuteTime": {
     "end_time": "2020-06-02T18:11:01.866567Z",
     "start_time": "2020-06-02T18:11:01.758765Z"
    }
   },
   "outputs": [
    {
     "name": "stdout",
     "output_type": "stream",
     "text": [
      "Infra 18\n",
      "Hypothesis 3\n",
      "Socio 3\n"
     ]
    }
   ],
   "source": [
    "print('Infra',len(infrastructure))\n",
    "print('Hypothesis',len(hypothesis))\n",
    "print('Socio',len(socioeconomic))\n",
    "independents = infrastructure + hypothesis + socioeconomic\n",
    "DATA = DATA[controls + independents +  target]"
   ]
  },
  {
   "cell_type": "markdown",
   "metadata": {},
   "source": [
    "Functions that will be called in Model"
   ]
  },
  {
   "cell_type": "code",
   "execution_count": 7,
   "metadata": {
    "ExecuteTime": {
     "end_time": "2020-06-02T18:11:01.889461Z",
     "start_time": "2020-06-02T18:11:01.872046Z"
    }
   },
   "outputs": [],
   "source": [
    "## Dropping hight mode frequencies (upper 90%)\n",
    "def mode_high_frequencie(df):\n",
    "    columns_dropped = []\n",
    "    ammount=0\n",
    "    before= df.shape[1]\n",
    "    #print(\"Number of features: \", before)\n",
    "    for i in df:\n",
    "        mode = df[i].mode()[0]\n",
    "        threshold = 0.9\n",
    "        count = df[(df[i]== mode)].shape[0]\n",
    "        freq = count/df.shape[0]\n",
    "        if freq >= threshold:\n",
    "            ammount +=1\n",
    "            #print(\"drop out\", [i], \"mode = \", mode )\n",
    "            #df.drop([i], inplace = True, axis=1)\n",
    "            columns_dropped.append(i)\n",
    "            \n",
    "    #print(\"Total Dropped: \",ammount)\n",
    "    #print (\"Remainning: \", before-ammount)  \n",
    "    return(columns_dropped)"
   ]
  },
  {
   "cell_type": "code",
   "execution_count": 8,
   "metadata": {
    "ExecuteTime": {
     "end_time": "2020-06-02T18:11:01.917449Z",
     "start_time": "2020-06-02T18:11:01.900871Z"
    }
   },
   "outputs": [],
   "source": [
    "def clip_tail(df):\n",
    "    quantitative = df[(df.nunique() > 2).index[(df.nunique() > 2)]].columns.to_list()\n",
    "    #print(len(quantitative)\n",
    "    df[quantitative]=df[quantitative].apply(lambda x: x.clip(upper = (np.percentile(x, 97.5))))\n",
    "    df[quantitative]=df[quantitative].apply(lambda x: x.clip(lower = (np.percentile(x, 2.5))))\n",
    "    return(df)"
   ]
  },
  {
   "cell_type": "code",
   "execution_count": 9,
   "metadata": {
    "ExecuteTime": {
     "end_time": "2020-06-02T18:11:01.933475Z",
     "start_time": "2020-06-02T18:11:01.923632Z"
    }
   },
   "outputs": [],
   "source": [
    "def scaler (df):\n",
    "    scaler = MinMaxScaler()\n",
    "    x = df.values\n",
    "    x_scaled = scaler.fit_transform(x)\n",
    "    df = pd.DataFrame(x_scaled, columns = df.columns)\n",
    "    return (df)"
   ]
  },
  {
   "cell_type": "code",
   "execution_count": 10,
   "metadata": {
    "ExecuteTime": {
     "end_time": "2020-06-02T18:11:01.950053Z",
     "start_time": "2020-06-02T18:11:01.937666Z"
    }
   },
   "outputs": [],
   "source": [
    "def build_target(df):\n",
    "    df['TARGET'] = pd.qcut (df.NU_NOTA_GERAL, 4, labels = [1,2,3,4]).map(lambda x : 0 if x!=4 else 1) \n",
    "    print((df.TARGET==0).sum()/(df.TARGET.count())*100, '% lowers quartis')\n",
    "    return df['TARGET']"
   ]
  },
  {
   "cell_type": "code",
   "execution_count": 11,
   "metadata": {
    "ExecuteTime": {
     "end_time": "2020-06-02T18:11:01.960217Z",
     "start_time": "2020-06-02T18:11:01.954103Z"
    }
   },
   "outputs": [],
   "source": [
    "#DATA = DATA[DATA.CO_ANO == 2015]"
   ]
  },
  {
   "cell_type": "code",
   "execution_count": 12,
   "metadata": {
    "ExecuteTime": {
     "end_time": "2020-06-02T18:11:37.377348Z",
     "start_time": "2020-06-02T18:11:01.965375Z"
    }
   },
   "outputs": [
    {
     "name": "stdout",
     "output_type": "stream",
     "text": [
      "2009\n",
      "74.99691396123936 % lowers quartis\n",
      "Municipal+Estadual\n",
      "FULL (16202, 18)\n",
      "INFRA (16202, 12)\n",
      "SOCIO (16202, 3)\n",
      "HYPOTHESIS (16202, 3)\n",
      "74.99640546369518 % lowers quartis\n",
      "Privada\n",
      "FULL (6955, 17)\n",
      "INFRA (6955, 11)\n",
      "SOCIO (6955, 3)\n",
      "HYPOTHESIS (6955, 3)\n",
      "75.0 % lowers quartis\n",
      "Federal\n",
      "FULL (200, 15)\n",
      "INFRA (200, 9)\n",
      "SOCIO (200, 3)\n",
      "HYPOTHESIS (200, 3)\n",
      "2010\n",
      "74.99723665303415 % lowers quartis\n",
      "Municipal+Estadual\n",
      "FULL (18094, 15)\n",
      "INFRA (18094, 9)\n",
      "SOCIO (18094, 3)\n",
      "HYPOTHESIS (18094, 3)\n",
      "75.00336519046978 % lowers quartis\n",
      "Privada\n",
      "FULL (7429, 14)\n",
      "INFRA (7429, 8)\n",
      "SOCIO (7429, 3)\n",
      "HYPOTHESIS (7429, 3)\n",
      "74.8792270531401 % lowers quartis\n",
      "Federal\n",
      "FULL (207, 14)\n",
      "INFRA (207, 8)\n",
      "SOCIO (207, 3)\n",
      "HYPOTHESIS (207, 3)\n",
      "2011\n",
      "75.00332579486498 % lowers quartis\n",
      "Privada\n",
      "FULL (7517, 14)\n",
      "INFRA (7517, 8)\n",
      "SOCIO (7517, 3)\n",
      "HYPOTHESIS (7517, 3)\n",
      "75.00545494217762 % lowers quartis\n",
      "Municipal+Estadual\n",
      "FULL (18332, 14)\n",
      "INFRA (18332, 8)\n",
      "SOCIO (18332, 3)\n",
      "HYPOTHESIS (18332, 3)\n",
      "74.78991596638656 % lowers quartis\n",
      "Federal\n",
      "FULL (238, 13)\n",
      "INFRA (238, 7)\n",
      "SOCIO (238, 3)\n",
      "HYPOTHESIS (238, 3)\n",
      "2012\n",
      "75.00135803139769 % lowers quartis\n",
      "Municipal+Estadual\n",
      "FULL (18409, 13)\n",
      "INFRA (18409, 7)\n",
      "SOCIO (18409, 3)\n",
      "HYPOTHESIS (18409, 3)\n",
      "74.99340891115213 % lowers quartis\n",
      "Privada\n",
      "FULL (7586, 13)\n",
      "INFRA (7586, 7)\n",
      "SOCIO (7586, 3)\n",
      "HYPOTHESIS (7586, 3)\n",
      "74.81751824817519 % lowers quartis\n",
      "Federal\n",
      "FULL (274, 13)\n",
      "INFRA (274, 7)\n",
      "SOCIO (274, 3)\n",
      "HYPOTHESIS (274, 3)\n",
      "2013\n",
      "74.99359795134443 % lowers quartis\n",
      "Privada\n",
      "FULL (7810, 13)\n",
      "INFRA (7810, 7)\n",
      "SOCIO (7810, 3)\n",
      "HYPOTHESIS (7810, 3)\n",
      "75.00132604890469 % lowers quartis\n",
      "Municipal+Estadual\n",
      "FULL (18853, 13)\n",
      "INFRA (18853, 7)\n",
      "SOCIO (18853, 3)\n",
      "HYPOTHESIS (18853, 3)\n",
      "75.07507507507508 % lowers quartis\n",
      "Federal\n",
      "FULL (333, 13)\n",
      "INFRA (333, 7)\n",
      "SOCIO (333, 3)\n",
      "HYPOTHESIS (333, 3)\n",
      "2014\n",
      "75.00132128323027 % lowers quartis\n",
      "Municipal+Estadual\n",
      "FULL (18921, 13)\n",
      "INFRA (18921, 7)\n",
      "SOCIO (18921, 3)\n",
      "HYPOTHESIS (18921, 3)\n",
      "74.99685098878952 % lowers quartis\n",
      "Privada\n",
      "FULL (7939, 13)\n",
      "INFRA (7939, 7)\n",
      "SOCIO (7939, 3)\n",
      "HYPOTHESIS (7939, 3)\n",
      "75.06849315068493 % lowers quartis\n",
      "Federal\n",
      "FULL (365, 13)\n",
      "INFRA (365, 7)\n",
      "SOCIO (365, 3)\n",
      "HYPOTHESIS (365, 3)\n",
      "2015\n",
      "75.00124051009776 % lowers quartis\n",
      "Municipal+Estadual\n",
      "FULL (20153, 13)\n",
      "INFRA (20153, 7)\n",
      "SOCIO (20153, 3)\n",
      "HYPOTHESIS (20153, 3)\n",
      "75.0 % lowers quartis\n",
      "Privada\n",
      "FULL (8116, 13)\n",
      "INFRA (8116, 7)\n",
      "SOCIO (8116, 3)\n",
      "HYPOTHESIS (8116, 3)\n",
      "75.06426735218508 % lowers quartis\n",
      "Federal\n",
      "FULL (389, 13)\n",
      "INFRA (389, 7)\n",
      "SOCIO (389, 3)\n",
      "HYPOTHESIS (389, 3)\n",
      "2016\n",
      "74.99880285399607 % lowers quartis\n",
      "Municipal+Estadual\n",
      "FULL (20883, 13)\n",
      "INFRA (20883, 7)\n",
      "SOCIO (20883, 3)\n",
      "HYPOTHESIS (20883, 3)\n",
      "75.00298578765077 % lowers quartis\n",
      "Privada\n",
      "FULL (8373, 13)\n",
      "INFRA (8373, 7)\n",
      "SOCIO (8373, 3)\n",
      "HYPOTHESIS (8373, 3)\n",
      "75.05827505827506 % lowers quartis\n",
      "Federal\n",
      "FULL (429, 13)\n",
      "INFRA (429, 7)\n",
      "SOCIO (429, 3)\n",
      "HYPOTHESIS (429, 3)\n",
      "2017\n",
      "74.99878019029032 % lowers quartis\n",
      "Municipal+Estadual\n",
      "FULL (20495, 13)\n",
      "INFRA (20495, 7)\n",
      "SOCIO (20495, 3)\n",
      "HYPOTHESIS (20495, 3)\n",
      "74.99402628434886 % lowers quartis\n",
      "Privada\n",
      "FULL (8370, 13)\n",
      "INFRA (8370, 7)\n",
      "SOCIO (8370, 3)\n",
      "HYPOTHESIS (8370, 3)\n",
      "74.94736842105263 % lowers quartis\n",
      "Federal\n",
      "FULL (475, 12)\n",
      "INFRA (475, 6)\n",
      "SOCIO (475, 3)\n",
      "HYPOTHESIS (475, 3)\n",
      "2018\n",
      "74.99874793409124 % lowers quartis\n",
      "Municipal+Estadual\n",
      "FULL (19967, 12)\n",
      "INFRA (19967, 6)\n",
      "SOCIO (19967, 3)\n",
      "HYPOTHESIS (19967, 3)\n",
      "74.99693890045305 % lowers quartis\n",
      "Privada\n",
      "FULL (8167, 12)\n",
      "INFRA (8167, 6)\n",
      "SOCIO (8167, 3)\n",
      "HYPOTHESIS (8167, 3)\n",
      "75.04798464491363 % lowers quartis\n",
      "Federal\n",
      "FULL (521, 12)\n",
      "INFRA (521, 6)\n",
      "SOCIO (521, 3)\n",
      "HYPOTHESIS (521, 3)\n"
     ]
    }
   ],
   "source": [
    "skf = StratifiedKFold(n_splits=2,random_state=None)\n",
    "classifier = LogisticRegression()\n",
    "data = []\n",
    "groups ={}        \n",
    "columns=['year','tp_escola','fold','group', 'features','fpr','tpr','auc']\n",
    "score = 0\n",
    "        \n",
    "        \n",
    "for year in DATA.CO_ANO.unique().tolist():\n",
    "    df_y= DATA[DATA['CO_ANO']== year]\n",
    "    print(year)\n",
    "    for tp_escola in df_y.IN_TP_ESCOLA.unique().tolist():\n",
    "        df_tp_sch = df_y[df_y['IN_TP_ESCOLA']== tp_escola]\n",
    "        y = build_target(df_tp_sch)\n",
    "        df_tp_sch = df_tp_sch[independents]\n",
    "        # collect independents variables with mode frequency upper 90%   \n",
    "        bad_columns = mode_high_frequencie(df_tp_sch[independents])\n",
    "        # update each group list, removing them\n",
    "        independents = df_tp_sch[independents].loc[:, ~df_tp_sch[independents].columns.isin(bad_columns)].columns.to_list()\n",
    "        \n",
    "        socioeconomic = df_tp_sch[socioeconomic].loc[:, ~df_tp_sch[socioeconomic].columns.isin(bad_columns)].columns.to_list()\n",
    "        \n",
    "        infrastructure = df_tp_sch[infrastructure].loc[:, ~df_tp_sch[infrastructure].columns.isin(bad_columns)].columns.to_list()\n",
    "        \n",
    "        hypothesis = df_tp_sch[hypothesis].loc[:, ~df_tp_sch[hypothesis].columns.isin(bad_columns)].columns.to_list()\n",
    "        \n",
    "        \n",
    "        groups['FULL'] = df_tp_sch[independents]\n",
    "        groups['INFRA'] = df_tp_sch[infrastructure]\n",
    "        groups['SOCIO'] = df_tp_sch[socioeconomic]\n",
    "        groups['HYPOTHESIS'] = df_tp_sch[hypothesis]\n",
    "        #groups['INFRA_SOCIO'] = df_tp_sch[infrastructure + socioeconomic]\n",
    "        #groups['HYPO_SOCIO'] = df_tp_sch[hypothesis + socioeconomic ]\n",
    "        #groups['HYPO_INFRA'] = df_tp_sch[hypothesis + infrastructure]\n",
    "        print(tp_escola)\n",
    "\n",
    "        for gp in groups:\n",
    "                tprs = []\n",
    "                aucs = []\n",
    "                features = groups[gp].columns.tolist()\n",
    "                mean_tpr = 0.0\n",
    "                mean_fpr = np.linspace(0, 1, 100)\n",
    "                i=1\n",
    "                print(gp, groups[gp].shape)\n",
    "                \n",
    "                for train_index, test_index in skf.split(groups[gp],y):\n",
    "                    #print('{} of KFold {} in group {}'.format(i,skf.n_splits, gp))\n",
    "                    xtr,xts = groups[gp].iloc[train_index],groups[gp].iloc[test_index]\n",
    "                    ytr,yts = y.iloc[train_index],y.iloc[test_index]\n",
    "                   \n",
    "                    #Clipping long tail in train subset only\n",
    "                    xtr = clip_tail(xtr) \n",
    "                    #Scaling Train and test set with the train metrics\n",
    "                    scaler = MinMaxScaler()\n",
    "                    xtr = scaler.fit_transform(xtr)\n",
    "                    xts = scaler.transform(xts)\n",
    "                    #model\n",
    "                    model = classifier.fit(xtr,ytr)       \n",
    "                    yproba = model.predict_proba(xts)[:,1]\n",
    "        \n",
    "                    fpr, tpr, _ = roc_curve(yts,  yproba)\n",
    "                    score = roc_auc_score(yts,yproba)\n",
    "                    #print(score)\n",
    "        \n",
    "                    interp_tpr = interp(mean_fpr, fpr, tpr)\n",
    "                    interp_tpr[0] = 0.0\n",
    "                    tprs.append(interp_tpr)\n",
    "                    aucs.append(score)\n",
    "                    \n",
    "                    values = [year,tp_escola,i, gp, features, fpr,tpr,score]\n",
    "                    zipped = zip(columns, values)\n",
    "                    dictionary = dict(zipped) \n",
    "                    data.append(dictionary)\n",
    "             \n",
    "        \n",
    "                  \n",
    "                    i+=1\n",
    "        #print(values[7].mean())\n",
    "#df.concat(data, ignore_index=True)\n",
    "        "
   ]
  },
  {
   "cell_type": "code",
   "execution_count": 13,
   "metadata": {
    "ExecuteTime": {
     "end_time": "2020-06-02T18:11:39.048103Z",
     "start_time": "2020-06-02T18:11:37.381671Z"
    }
   },
   "outputs": [],
   "source": [
    "RT = pd.DataFrame.from_dict(data)\n",
    "RT.to_csv('RESULTS_GROUP_ANALYSIS.csv', index = False)"
   ]
  },
  {
   "cell_type": "code",
   "execution_count": null,
   "metadata": {},
   "outputs": [],
   "source": []
  }
 ],
 "metadata": {
  "kernelspec": {
   "display_name": "Python 3",
   "language": "python",
   "name": "python3"
  },
  "language_info": {
   "codemirror_mode": {
    "name": "ipython",
    "version": 3
   },
   "file_extension": ".py",
   "mimetype": "text/x-python",
   "name": "python",
   "nbconvert_exporter": "python",
   "pygments_lexer": "ipython3",
   "version": "3.7.6"
  }
 },
 "nbformat": 4,
 "nbformat_minor": 4
}
