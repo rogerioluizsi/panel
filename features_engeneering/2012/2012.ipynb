{
 "cells": [
  {
   "cell_type": "code",
   "execution_count": 3,
   "metadata": {
    "ExecuteTime": {
     "end_time": "2020-05-06T04:44:24.581481Z",
     "start_time": "2020-05-06T04:44:22.504807Z"
    }
   },
   "outputs": [],
   "source": [
    "import time\n",
    "import pandas as pd\n",
    "import warnings\n",
    "import feather\n",
    "warnings.filterwarnings('ignore')\n",
    "from pandas.api.types import is_string_dtype\n",
    "from pandas.api.types import is_numeric_dtype\n",
    "pd.set_option('display.max_columns', None)"
   ]
  },
  {
   "cell_type": "markdown",
   "metadata": {},
   "source": [
    "There are many insignificant features to our work, like codes, PK, FK and out of context. \n",
    "Based on prior works and experience of especialists, will be taken off nonsense features. \n",
    "A study was carried out on the evolution and correspondence of these resources in the ENEM and Census\n",
    "data for the period 2009-2018. See (featuresOrganisaton.xls)"
   ]
  },
  {
   "cell_type": "code",
   "execution_count": 8,
   "metadata": {
    "ExecuteTime": {
     "end_time": "2020-05-06T04:52:01.582062Z",
     "start_time": "2020-05-06T04:52:01.563060Z"
    }
   },
   "outputs": [],
   "source": [
    "teacher = ['FK_COD_DOCENTE', 'PK_COD_ENTIDADE','ID_ESPECIALIZACAO','ID_MESTRADO','ID_DOUTORADO']\n",
    "\n",
    "school = ['ANO_CENSO','PK_COD_ENTIDADE', 'FK_COD_MUNICIPIO','FK_COD_ESTADO','ID_DEPENDENCIA_ADM','ID_AGUA_INEXISTENTE',\n",
    "                  'ID_ESGOTO_INEXISTENTE','ID_ENERGIA_INEXISTENTE',\n",
    "                   'ID_LABORATORIO_INFORMATICA','ID_LABORATORIO_CIENCIAS','ID_SALA_ATENDIMENTO_ESPECIAL',\n",
    "                   'ID_BIBLIOTECA','ID_SALA_LEITURA','ID_SANITARIO_FORA_PREDIO',\n",
    "                   'ID_SANITARIO_PNE','ID_DEPENDENCIAS_PNE','NUM_SALAS_UTILIZADAS','ID_EQUIP_TV',\n",
    "                   'ID_EQUIP_DVD','ID_EQUIP_COPIADORA','ID_EQUIP_IMPRESSORA','NUM_COMP_ADMINISTRATIVOS',\n",
    "                   'NUM_COMP_ALUNOS','ID_INTERNET','ID_BANDA_LARGA','NUM_FUNCIONARIOS','ID_ALIMENTACAO']\n",
    "\n",
    "enem1 = ['NU_INSCRICAO','NU_ANO','PK_COD_ENTIDADE','IN_TP_ENSINO','IDADE','TP_SEXO','TP_COR_RACA','ST_CONCLUSAO','NU_NT_CN',\n",
    "        'NU_NT_CH','NU_NT_LC','NU_NT_MT','NU_NOTA_REDACAO'\n",
    "]\n",
    "\n",
    "enem2 = ['NU_INSCRICAO','Q01','Q02','Q04','Q03']\n",
    "\n",
    "enem = ['NU_ANO','PK_COD_ENTIDADE','IN_TP_ENSINO','IDADE','TP_SEXO','TP_COR_RACA','ST_CONCLUSAO','NU_NT_CN',\n",
    "        'NU_NT_CH','NU_NT_LC','NU_NT_MT','NU_NOTA_REDACAO','Q01','Q02','Q04','Q03'\n",
    "]\n"
   ]
  },
  {
   "cell_type": "code",
   "execution_count": 9,
   "metadata": {
    "ExecuteTime": {
     "end_time": "2020-05-06T04:52:30.496286Z",
     "start_time": "2020-05-06T04:52:11.510944Z"
    }
   },
   "outputs": [],
   "source": [
    "#Students of ENEM\n",
    "E1 = pd.read_csv('~/data/enem/2012/DADOS/DADOS_ENEM_2012.csv', sep=',', encoding=\"iso-8859-2\", usecols = enem1)\n",
    "E2 = pd.read_csv('~/data/enem/2012/DADOS/QUESTIONARIO_ENEM_2012.csv', sep=',', usecols = enem2)\n",
    "E = pd.merge(E1, E2, on = 'NU_INSCRICAO', how= \"outer\")"
   ]
  },
  {
   "cell_type": "code",
   "execution_count": null,
   "metadata": {
    "ExecuteTime": {
     "end_time": "2020-05-06T04:47:52.026835Z",
     "start_time": "2020-05-06T04:45:10.858Z"
    }
   },
   "outputs": [],
   "source": [
    "#School census data\n",
    "CE =    pd.read_csv(\"~/data/censo/2012/DADOS/ESCOLAS.CSV\", sep='|', encoding=\"iso-8859-2\", usecols = school)"
   ]
  },
  {
   "cell_type": "code",
   "execution_count": null,
   "metadata": {
    "ExecuteTime": {
     "end_time": "2020-05-06T04:47:52.029539Z",
     "start_time": "2020-05-06T04:45:15.092Z"
    }
   },
   "outputs": [],
   "source": [
    "#Teacher census data by Braazilian mesoregion\n",
    "CD_CO = pd.read_csv(\"~/data/censo/2012/DADOS/DOCENTES_CO.CSV\", sep='|', encoding=\"iso-8859-2\", usecols = teacher)\n",
    "CD_NE = pd.read_csv(\"~/data/censo/2012/DADOS/DOCENTES_NORDESTE.CSV\", sep='|', encoding=\"iso-8859-2\",usecols = teacher)\n",
    "CD_N =  pd.read_csv(\"~/data/censo/2012/DADOS/DOCENTES_NORTE.CSV\", sep='|', encoding=\"iso-8859-2\",  usecols = teacher)\n",
    "CD_SE = pd.read_csv(\"~/data/censo/2012/DADOS/DOCENTES_SUDESTE.CSV\", sep='|', encoding=\"iso-8859-2\",  usecols = teacher)\n",
    "CD_S =  pd.read_csv(\"~/data/censo/2012/DADOS/DOCENTES_SUL.CSV\", sep='|', encoding=\"iso-8859-2\", usecols = teacher)\n",
    "\n",
    "#All teacher census data\n",
    "CT = pd.concat([CD_CO, CD_NE, CD_N, CD_SE, CD_S])"
   ]
  },
  {
   "cell_type": "code",
   "execution_count": null,
   "metadata": {
    "ExecuteTime": {
     "end_time": "2020-05-06T04:47:52.031935Z",
     "start_time": "2020-05-06T04:45:26.712Z"
    }
   },
   "outputs": [],
   "source": [
    "ENEM = E.copy()\n",
    "C_SCHOOL = CE.copy()\n",
    "C_TEACHER = CT.copy()"
   ]
  },
  {
   "cell_type": "code",
   "execution_count": null,
   "metadata": {
    "ExecuteTime": {
     "end_time": "2020-05-06T04:47:52.034342Z",
     "start_time": "2020-05-06T04:45:34.119Z"
    }
   },
   "outputs": [],
   "source": [
    "C_TEACHER = C_TEACHER [teacher]\n",
    "\n",
    "# New default column names for all Datasets\n",
    "newNames = [\n",
    "'CO_PROFESSOR',\n",
    "'CO_ESCOLA',  \n",
    "'IN_ESPECIALIZACAO',\n",
    "'IN_MESTRADO',\n",
    "'IN_DOUTORADO'\n",
    "]\n",
    "#Rename\n",
    "C_TEACHER.columns = newNames\n",
    "#convert Keys to Str\n",
    "C_TEACHER.CO_PROFESSOR = C_TEACHER.CO_PROFESSOR.astype('int32')\n",
    "C_TEACHER.CO_ESCOLA = C_TEACHER.CO_ESCOLA.astype('int32')"
   ]
  },
  {
   "cell_type": "code",
   "execution_count": null,
   "metadata": {
    "ExecuteTime": {
     "end_time": "2020-05-06T04:47:52.037277Z",
     "start_time": "2020-05-06T04:45:38.326Z"
    }
   },
   "outputs": [],
   "source": [
    "C_SCHOOL = C_SCHOOL[school]\n",
    "\n",
    "\n",
    "# New default column names for all Datasets\n",
    "newNames = ['ANO_CENSO',\n",
    "'CO_ESCOLA',\n",
    " 'CO_MUNICIPIO',\n",
    " 'CO_UF',\n",
    " 'CO_DEPENDENCIA_ADM',\n",
    " 'IN_AGUA_INEXISTENTE',\n",
    " 'IN_ESGOTO_INEXISTENTE',\n",
    " 'IN_ENERGIA_INEXISTENTE',\n",
    " 'IN_LABORATORIO_INFORMATICA',\n",
    " 'IN_LABORATORIO_CIENCIAS',\n",
    " 'IN_SALA_ATENDIMENTO_ESPECIAL',\n",
    " 'IN_BIBLIOTECA',\n",
    " 'IN_SALA_LEITURA',\n",
    " 'IN_BANHEIRO_FORA_PREDIO',\n",
    " 'IN_BANHEIRO_PNE',\n",
    " 'IN_DEPENDENCIAS_PNE',\n",
    " 'QT_SALAS_UTILIZADAS',\n",
    " 'QT_EQUIP_TV',\n",
    " 'QT_EQUIP_DVD',\n",
    " 'QT_EQUIP_COPIADORA',\n",
    " 'QT_EQUIP_IMPRESSORA',\n",
    " 'QT_COM_ADMINISTRATIVO',\n",
    " 'QT_COMP_ALUNO',\n",
    " 'IN_INTERNET',\n",
    " 'IN_BANDA_LARGA',\n",
    " 'QT_FUNCIONARIOS',\n",
    " 'IN_ALIMENTACAO'\n",
    "]\n",
    "\n",
    "#Rename \n",
    "C_SCHOOL.columns =  newNames\n",
    "#convert Keys to Str\n",
    "C_SCHOOL.CO_ESCOLA = C_SCHOOL.CO_ESCOLA.astype('int32')\n",
    "print('Checking year of censo',C_SCHOOL.ANO_CENSO.unique())\n",
    "C_SCHOOL.drop('ANO_CENSO', axis=1, inplace=True)"
   ]
  },
  {
   "cell_type": "code",
   "execution_count": null,
   "metadata": {
    "ExecuteTime": {
     "end_time": "2020-05-06T04:47:52.039592Z",
     "start_time": "2020-05-06T04:45:45.072Z"
    }
   },
   "outputs": [],
   "source": [
    "ENEM = ENEM[enem]\n",
    "\n",
    "# New default column names for all Datasets\n",
    "newNames = [\n",
    "'CO_ANO',\n",
    "'CO_ESCOLA',\n",
    "'TP_ENSINO',\n",
    "'NU_IDADE',\n",
    "'TP_SEXO',\n",
    "'TP_COR_RACA',\n",
    "'TP_ST_CONCLUSAO',\n",
    "'NU_NOTA_CN',\n",
    "'NU_NOTA_CH',\n",
    "'NU_NOTA_LC',\n",
    "'NU_NOTA_MT',\n",
    "'NU_NOTA_REDACAO',\n",
    "'EDU_PAI',\n",
    "'EDU_MAE',\n",
    "'QT_PESSOAS_CASA',\n",
    "'RENDA_MENSAL'\n",
    "]\n",
    "\n",
    "#Rename\n",
    "ENEM.columns = newNames"
   ]
  },
  {
   "cell_type": "markdown",
   "metadata": {},
   "source": [
    "### Minimum Scope Definition"
   ]
  },
  {
   "cell_type": "code",
   "execution_count": null,
   "metadata": {
    "ExecuteTime": {
     "end_time": "2020-05-06T04:47:52.042428Z",
     "start_time": "2020-05-06T04:46:20.001Z"
    }
   },
   "outputs": [],
   "source": [
    "#CO_ESCOLA as \".\". It will take off in the scope filter\n",
    "(ENEM.CO_ESCOLA=='.').sum()/ENEM.CO_ESCOLA.shape[0]"
   ]
  },
  {
   "cell_type": "code",
   "execution_count": null,
   "metadata": {
    "ExecuteTime": {
     "end_time": "2020-05-06T04:47:52.045753Z",
     "start_time": "2020-05-06T04:46:38.899Z"
    }
   },
   "outputs": [],
   "source": [
    "ENEM.dropna(inplace = True, axis=0, subset = ['CO_ESCOLA'])\n",
    "ENEM = ENEM.loc[~(ENEM.CO_ESCOLA=='.')]"
   ]
  },
  {
   "cell_type": "code",
   "execution_count": null,
   "metadata": {
    "ExecuteTime": {
     "end_time": "2020-05-06T04:47:52.048481Z",
     "start_time": "2020-05-06T04:46:42.920Z"
    }
   },
   "outputs": [],
   "source": [
    "#should care about the nulls into scope filter features?\n",
    "filters = (['TP_ST_CONCLUSAO', 'TP_ENSINO'])\n",
    "ENEM = ENEM.loc[~(ENEM.TP_ENSINO=='.')] # because are \".\" in the column. \n",
    "ENEM[filters] = ENEM[filters].astype('int32')\n",
    "ENEM[filters].isnull().sum()\n",
    "#NO, IT'S LOWER"
   ]
  },
  {
   "cell_type": "code",
   "execution_count": 250,
   "metadata": {
    "ExecuteTime": {
     "end_time": "2020-05-04T21:55:18.460365Z",
     "start_time": "2020-05-04T21:55:18.073407Z"
    }
   },
   "outputs": [
    {
     "name": "stdout",
     "output_type": "stream",
     "text": [
      "drop out 1520780 who not attend regular and prof approachs schools\n"
     ]
    }
   ],
   "source": [
    "print('drop out',((ENEM.TP_ENSINO!= 1)|(ENEM.TP_ENSINO!= 3)).sum(), 'who not attend regular and prof approachs schools')\n",
    "ENEM = ENEM.loc[((ENEM.TP_ENSINO== 1)|(ENEM.TP_ENSINO== 3))]\n",
    "ENEM.drop('TP_ENSINO', inplace = True, axis =1)"
   ]
  },
  {
   "cell_type": "code",
   "execution_count": 251,
   "metadata": {
    "ExecuteTime": {
     "end_time": "2020-05-04T21:55:20.651945Z",
     "start_time": "2020-05-04T21:55:18.463451Z"
    }
   },
   "outputs": [
    {
     "name": "stdout",
     "output_type": "stream",
     "text": [
      "null: NU_NOTA_CN 0\n",
      "zero: NU_NOTA_CN 0\n",
      "stranger \".\" NU_NOTA_CN 187377\n",
      "stranger \"*\" NU_NOTA_CN 0\n",
      "null: NU_NOTA_CH 0\n",
      "zero: NU_NOTA_CH 0\n",
      "stranger \".\" NU_NOTA_CH 187377\n",
      "stranger \"*\" NU_NOTA_CH 0\n",
      "null: NU_NOTA_LC 0\n",
      "zero: NU_NOTA_LC 0\n",
      "stranger \".\" NU_NOTA_LC 207205\n",
      "stranger \"*\" NU_NOTA_LC 0\n",
      "null: NU_NOTA_MT 0\n",
      "zero: NU_NOTA_MT 0\n",
      "stranger \".\" NU_NOTA_MT 207205\n",
      "stranger \"*\" NU_NOTA_MT 0\n",
      "null: NU_NOTA_REDACAO 0\n",
      "zero: NU_NOTA_REDACAO 0\n",
      "stranger \".\" NU_NOTA_REDACAO 245265\n",
      "stranger \"*\" NU_NOTA_REDACAO 0\n"
     ]
    }
   ],
   "source": [
    "fields = (['NU_NOTA_CN', 'NU_NOTA_CH','NU_NOTA_LC','NU_NOTA_MT', 'NU_NOTA_REDACAO'])\n",
    "for i in fields:\n",
    "    print ('null:', i, ENEM[i].isnull().sum())\n",
    "    print ('zero:', i, (ENEM[i]== 0).sum())\n",
    "    print( 'stranger \".\"', i , (ENEM[i]== '.').sum())\n",
    "    print( 'stranger \"*\"', i , (ENEM[i]== '*').sum())\n",
    "    \n",
    "    #, \"and\", ENEM.I==0)\n"
   ]
  },
  {
   "cell_type": "code",
   "execution_count": 252,
   "metadata": {
    "ExecuteTime": {
     "end_time": "2020-05-04T21:55:21.693208Z",
     "start_time": "2020-05-04T21:55:20.654458Z"
    }
   },
   "outputs": [],
   "source": [
    "ENEM = ENEM.loc[~(ENEM[fields] == '.').any(axis=1)]"
   ]
  },
  {
   "cell_type": "code",
   "execution_count": 253,
   "metadata": {
    "ExecuteTime": {
     "end_time": "2020-05-04T21:55:23.182766Z",
     "start_time": "2020-05-04T21:55:21.698303Z"
    }
   },
   "outputs": [],
   "source": [
    "ENEM[fields] = ENEM[fields].astype('float32')"
   ]
  },
  {
   "cell_type": "code",
   "execution_count": 254,
   "metadata": {
    "ExecuteTime": {
     "end_time": "2020-05-04T21:55:23.216574Z",
     "start_time": "2020-05-04T21:55:23.186447Z"
    }
   },
   "outputs": [
    {
     "data": {
      "text/plain": [
       "NU_NOTA_CN         float32\n",
       "NU_NOTA_CH         float32\n",
       "NU_NOTA_LC         float32\n",
       "NU_NOTA_MT         float32\n",
       "NU_NOTA_REDACAO    float32\n",
       "dtype: object"
      ]
     },
     "execution_count": 254,
     "metadata": {},
     "output_type": "execute_result"
    }
   ],
   "source": [
    "ENEM[fields].dtypes"
   ]
  },
  {
   "cell_type": "code",
   "execution_count": 255,
   "metadata": {
    "ExecuteTime": {
     "end_time": "2020-05-04T21:55:23.591593Z",
     "start_time": "2020-05-04T21:55:23.220169Z"
    }
   },
   "outputs": [
    {
     "data": {
      "text/html": [
       "<div>\n",
       "<style scoped>\n",
       "    .dataframe tbody tr th:only-of-type {\n",
       "        vertical-align: middle;\n",
       "    }\n",
       "\n",
       "    .dataframe tbody tr th {\n",
       "        vertical-align: top;\n",
       "    }\n",
       "\n",
       "    .dataframe thead th {\n",
       "        text-align: right;\n",
       "    }\n",
       "</style>\n",
       "<table border=\"1\" class=\"dataframe\">\n",
       "  <thead>\n",
       "    <tr style=\"text-align: right;\">\n",
       "      <th></th>\n",
       "      <th>NU_NOTA_CN</th>\n",
       "      <th>NU_NOTA_CH</th>\n",
       "      <th>NU_NOTA_LC</th>\n",
       "      <th>NU_NOTA_MT</th>\n",
       "      <th>NU_NOTA_REDACAO</th>\n",
       "    </tr>\n",
       "  </thead>\n",
       "  <tbody>\n",
       "    <tr>\n",
       "      <th>count</th>\n",
       "      <td>1.121307e+06</td>\n",
       "      <td>1.121307e+06</td>\n",
       "      <td>1.121307e+06</td>\n",
       "      <td>1.121307e+06</td>\n",
       "      <td>1.121307e+06</td>\n",
       "    </tr>\n",
       "    <tr>\n",
       "      <th>mean</th>\n",
       "      <td>4.754581e+02</td>\n",
       "      <td>5.234381e+02</td>\n",
       "      <td>4.942916e+02</td>\n",
       "      <td>5.170118e+02</td>\n",
       "      <td>5.142214e+02</td>\n",
       "    </tr>\n",
       "    <tr>\n",
       "      <th>std</th>\n",
       "      <td>8.059998e+01</td>\n",
       "      <td>8.356856e+01</td>\n",
       "      <td>7.213476e+01</td>\n",
       "      <td>1.226615e+02</td>\n",
       "      <td>1.484308e+02</td>\n",
       "    </tr>\n",
       "    <tr>\n",
       "      <th>min</th>\n",
       "      <td>3.193000e+02</td>\n",
       "      <td>3.026000e+02</td>\n",
       "      <td>2.954000e+02</td>\n",
       "      <td>2.772000e+02</td>\n",
       "      <td>0.000000e+00</td>\n",
       "    </tr>\n",
       "    <tr>\n",
       "      <th>25%</th>\n",
       "      <td>4.132000e+02</td>\n",
       "      <td>4.649000e+02</td>\n",
       "      <td>4.457000e+02</td>\n",
       "      <td>4.193000e+02</td>\n",
       "      <td>4.000000e+02</td>\n",
       "    </tr>\n",
       "    <tr>\n",
       "      <th>50%</th>\n",
       "      <td>4.666000e+02</td>\n",
       "      <td>5.236000e+02</td>\n",
       "      <td>4.961000e+02</td>\n",
       "      <td>5.096000e+02</td>\n",
       "      <td>5.000000e+02</td>\n",
       "    </tr>\n",
       "    <tr>\n",
       "      <th>75%</th>\n",
       "      <td>5.286000e+02</td>\n",
       "      <td>5.801000e+02</td>\n",
       "      <td>5.432000e+02</td>\n",
       "      <td>6.029000e+02</td>\n",
       "      <td>6.000000e+02</td>\n",
       "    </tr>\n",
       "    <tr>\n",
       "      <th>max</th>\n",
       "      <td>8.476000e+02</td>\n",
       "      <td>8.749000e+02</td>\n",
       "      <td>8.143000e+02</td>\n",
       "      <td>9.552000e+02</td>\n",
       "      <td>1.000000e+03</td>\n",
       "    </tr>\n",
       "  </tbody>\n",
       "</table>\n",
       "</div>"
      ],
      "text/plain": [
       "         NU_NOTA_CN    NU_NOTA_CH    NU_NOTA_LC    NU_NOTA_MT  NU_NOTA_REDACAO\n",
       "count  1.121307e+06  1.121307e+06  1.121307e+06  1.121307e+06     1.121307e+06\n",
       "mean   4.754581e+02  5.234381e+02  4.942916e+02  5.170118e+02     5.142214e+02\n",
       "std    8.059998e+01  8.356856e+01  7.213476e+01  1.226615e+02     1.484308e+02\n",
       "min    3.193000e+02  3.026000e+02  2.954000e+02  2.772000e+02     0.000000e+00\n",
       "25%    4.132000e+02  4.649000e+02  4.457000e+02  4.193000e+02     4.000000e+02\n",
       "50%    4.666000e+02  5.236000e+02  4.961000e+02  5.096000e+02     5.000000e+02\n",
       "75%    5.286000e+02  5.801000e+02  5.432000e+02  6.029000e+02     6.000000e+02\n",
       "max    8.476000e+02  8.749000e+02  8.143000e+02  9.552000e+02     1.000000e+03"
      ]
     },
     "execution_count": 255,
     "metadata": {},
     "output_type": "execute_result"
    }
   ],
   "source": [
    "ENEM[fields].describe()"
   ]
  },
  {
   "cell_type": "code",
   "execution_count": 256,
   "metadata": {
    "ExecuteTime": {
     "end_time": "2020-05-04T21:55:39.669344Z",
     "start_time": "2020-05-04T21:55:23.596177Z"
    }
   },
   "outputs": [
    {
     "name": "stdout",
     "output_type": "stream",
     "text": [
      "null 0\n",
      "taking off 127853\n"
     ]
    },
    {
     "data": {
      "text/plain": [
       "17    586414\n",
       "18    317975\n",
       "19     89065\n",
       "Name: NU_IDADE, dtype: int64"
      ]
     },
     "execution_count": 256,
     "metadata": {},
     "output_type": "execute_result"
    }
   ],
   "source": [
    "#ONLY STUDENTS AT  17 -19 YEAR OLD. WE WANT TO GET ONLY REGULAR STUDENTS THAT ARE IN LAST YEAR OF SECONDARY SCHOOL. \n",
    "#THE MICRODADOS HAVE A FIELD TO CONTROL IT. BUT IT IS NOT CONFIDENCE,DUE A TURN OUT TEAACHERS THAT EXTEND ACADEMIC YEAR\n",
    "print('null', ENEM.NU_IDADE.isnull().sum())\n",
    "ENEM.NU_IDADE = ENEM.NU_IDADE.astype('int32')\n",
    "#firts, fill NA with the mean of student school\n",
    "ENEM.NU_IDADE = ENEM.groupby(ENEM['CO_ESCOLA'])['NU_IDADE'].apply(lambda x: x.fillna(round(x.mean())))\n",
    "print('taking off',((ENEM.NU_IDADE <17)|(ENEM.NU_IDADE>19)).sum())\n",
    "ENEM = ENEM.loc[(ENEM.NU_IDADE >16) &  (ENEM.NU_IDADE<20)]\n",
    "ENEM.NU_IDADE.value_counts()"
   ]
  },
  {
   "cell_type": "markdown",
   "metadata": {
    "ExecuteTime": {
     "end_time": "2020-05-04T20:03:56.821842Z",
     "start_time": "2020-05-04T20:03:56.778621Z"
    }
   },
   "source": [
    "### Transform features to default categories"
   ]
  },
  {
   "cell_type": "code",
   "execution_count": 257,
   "metadata": {
    "ExecuteTime": {
     "end_time": "2020-05-04T21:55:39.782121Z",
     "start_time": "2020-05-04T21:55:39.673917Z"
    }
   },
   "outputs": [],
   "source": [
    "ENEM.QT_PESSOAS_CASA = ENEM.QT_PESSOAS_CASA.astype('int32')"
   ]
  },
  {
   "cell_type": "code",
   "execution_count": 258,
   "metadata": {
    "ExecuteTime": {
     "end_time": "2020-05-04T21:55:39.821090Z",
     "start_time": "2020-05-04T21:55:39.789374Z"
    }
   },
   "outputs": [
    {
     "data": {
      "text/plain": [
       "EDU_PAI         0\n",
       "EDU_MAE         0\n",
       "RENDA_MENSAL    0\n",
       "dtype: int64"
      ]
     },
     "execution_count": 258,
     "metadata": {},
     "output_type": "execute_result"
    }
   ],
   "source": [
    "fields = ['EDU_PAI', 'EDU_MAE', 'RENDA_MENSAL']\n",
    "ENEM[fields].isnull().sum()"
   ]
  },
  {
   "cell_type": "code",
   "execution_count": 259,
   "metadata": {
    "ExecuteTime": {
     "end_time": "2020-05-04T21:55:40.109360Z",
     "start_time": "2020-05-04T21:55:39.825306Z"
    }
   },
   "outputs": [],
   "source": [
    "#Order relation, is better for numeric categories.\n",
    "for i in fields:\n",
    "    codes, uniques = pd.factorize(ENEM[i], sort=True)\n",
    "    ENEM[i] = codes"
   ]
  },
  {
   "cell_type": "code",
   "execution_count": 260,
   "metadata": {
    "ExecuteTime": {
     "end_time": "2020-05-04T21:55:40.146459Z",
     "start_time": "2020-05-04T21:55:40.113631Z"
    }
   },
   "outputs": [],
   "source": [
    "ENEM['EDU_PAI_TEMP'] = ENEM['EDU_PAI']\n",
    "ENEM['EDU_MAE_TEMP'] = ENEM['EDU_MAE']\n",
    "ENEM['QT_PESSOAS_CASA_TEMP'] = ENEM['QT_PESSOAS_CASA']\n",
    "ENEM['RENDA_MENSAL_TEMP'] = ENEM['RENDA_MENSAL']\n",
    "ENEM['TP_SEXO_TEMP'] = ENEM['TP_SEXO']"
   ]
  },
  {
   "cell_type": "code",
   "execution_count": 261,
   "metadata": {
    "ExecuteTime": {
     "end_time": "2020-05-04T21:55:41.066060Z",
     "start_time": "2020-05-04T21:55:40.150625Z"
    }
   },
   "outputs": [],
   "source": [
    "# Paring with default categories\n",
    "\n",
    "ENEM.loc[ENEM['EDU_PAI']==0, 'EDU_PAI_TEMP']=0\n",
    "ENEM.loc[ENEM['EDU_PAI']==1, 'EDU_PAI_TEMP']=1\n",
    "ENEM.loc[ENEM['EDU_PAI']==2, 'EDU_PAI_TEMP']=2\n",
    "ENEM.loc[ENEM['EDU_PAI']==3, 'EDU_PAI_TEMP']=2\n",
    "ENEM.loc[ENEM['EDU_PAI']==4, 'EDU_PAI_TEMP']=3\n",
    "ENEM.loc[ENEM['EDU_PAI']==5, 'EDU_PAI_TEMP']=3\n",
    "ENEM.loc[ENEM['EDU_PAI']==6, 'EDU_PAI_TEMP']=4\n",
    "ENEM.loc[ENEM['EDU_PAI']==7, 'EDU_PAI_TEMP']=5\n",
    "ENEM.loc[ENEM['EDU_PAI']==8, 'EDU_PAI_TEMP']=0\n",
    "\n",
    "\n",
    "ENEM.loc[ENEM['EDU_MAE']==0, 'EDU_MAE_TEMP']=0\n",
    "ENEM.loc[ENEM['EDU_MAE']==1, 'EDU_MAE_TEMP']=1\n",
    "ENEM.loc[ENEM['EDU_MAE']==2, 'EDU_MAE_TEMP']=2\n",
    "ENEM.loc[ENEM['EDU_MAE']==3, 'EDU_MAE_TEMP']=2\n",
    "ENEM.loc[ENEM['EDU_MAE']==4, 'EDU_MAE_TEMP']=3\n",
    "ENEM.loc[ENEM['EDU_MAE']==5, 'EDU_MAE_TEMP']=3\n",
    "ENEM.loc[ENEM['EDU_MAE']==6, 'EDU_MAE_TEMP']=4\n",
    "ENEM.loc[ENEM['EDU_MAE']==7, 'EDU_MAE_TEMP']=5\n",
    "ENEM.loc[ENEM['EDU_MAE']==8, 'EDU_MAE_TEMP']=0\n",
    "\n",
    "\n",
    "ENEM.loc[ENEM['QT_PESSOAS_CASA']==1, 'QT_PESSOAS_CASA_TEMP']=0\n",
    "ENEM.loc[ENEM['QT_PESSOAS_CASA']==2, 'QT_PESSOAS_CASA_TEMP']=1\n",
    "ENEM.loc[ENEM['QT_PESSOAS_CASA']==3, 'QT_PESSOAS_CASA_TEMP']=1\n",
    "ENEM.loc[ENEM['QT_PESSOAS_CASA']==4, 'QT_PESSOAS_CASA_TEMP']=2\n",
    "ENEM.loc[ENEM['QT_PESSOAS_CASA']==5, 'QT_PESSOAS_CASA_TEMP']=2\n",
    "ENEM.loc[ENEM['QT_PESSOAS_CASA']==6, 'QT_PESSOAS_CASA_TEMP']=2\n",
    "ENEM.loc[ENEM['QT_PESSOAS_CASA']==7, 'QT_PESSOAS_CASA_TEMP']=2\n",
    "ENEM.loc[ENEM['QT_PESSOAS_CASA']>7, 'QT_PESSOAS_CASA_TEMP']=3\n",
    "\n",
    "ENEM.loc[ENEM['RENDA_MENSAL']==0, 'RENDA_MENSAL_TEMP']=0\n",
    "ENEM.loc[ENEM['RENDA_MENSAL']==1, 'RENDA_MENSAL_TEMP']=1\n",
    "ENEM.loc[ENEM['RENDA_MENSAL']==2, 'RENDA_MENSAL_TEMP']=2\n",
    "ENEM.loc[ENEM['RENDA_MENSAL']==3, 'RENDA_MENSAL_TEMP']=2\n",
    "ENEM.loc[(ENEM['RENDA_MENSAL']>3) & (ENEM['RENDA_MENSAL']<8), 'RENDA_MENSAL_TEMP']=3\n",
    "ENEM.loc[(ENEM['RENDA_MENSAL']>7) & (ENEM['RENDA_MENSAL']<13), 'RENDA_MENSAL_TEMP']=4\n",
    "ENEM.loc[ENEM['RENDA_MENSAL']>12, 'RENDA_MENSAL_TEMP']=5\n",
    "\n",
    "ENEM.loc[ENEM['TP_SEXO']==1, 'TP_SEXO_TEMP']=0\n",
    "ENEM.loc[ENEM['TP_SEXO']==0, 'TP_SEXO_TEMP']=1"
   ]
  },
  {
   "cell_type": "code",
   "execution_count": 262,
   "metadata": {
    "ExecuteTime": {
     "end_time": "2020-05-04T21:55:41.103018Z",
     "start_time": "2020-05-04T21:55:41.069620Z"
    }
   },
   "outputs": [],
   "source": [
    "#back to original columns\n",
    "ENEM['EDU_PAI'] = ENEM['EDU_PAI_TEMP']\n",
    "ENEM['EDU_MAE'] = ENEM['EDU_MAE_TEMP']\n",
    "ENEM['QT_PESSOAS_CASA'] = ENEM['QT_PESSOAS_CASA_TEMP']\n",
    "ENEM['RENDA_MENSAL'] = ENEM['RENDA_MENSAL_TEMP']\n",
    "ENEM['TP_SEXO'] = ENEM['TP_SEXO_TEMP']\n"
   ]
  },
  {
   "cell_type": "code",
   "execution_count": 263,
   "metadata": {
    "ExecuteTime": {
     "end_time": "2020-05-04T21:55:41.136625Z",
     "start_time": "2020-05-04T21:55:41.108230Z"
    }
   },
   "outputs": [],
   "source": [
    "#drop temps\n",
    "\n",
    "ENEM.drop(['EDU_PAI_TEMP', 'EDU_MAE_TEMP', 'QT_PESSOAS_CASA_TEMP','RENDA_MENSAL_TEMP', 'TP_SEXO_TEMP'], axis=1, inplace=True)"
   ]
  },
  {
   "cell_type": "code",
   "execution_count": 264,
   "metadata": {
    "ExecuteTime": {
     "end_time": "2020-05-04T21:55:52.267669Z",
     "start_time": "2020-05-04T21:55:41.140168Z"
    }
   },
   "outputs": [
    {
     "name": "stdout",
     "output_type": "stream",
     "text": [
      "Total Students at ENEM: 993454 of 27013 schools\n",
      "Total Schools at Census: 262601\n",
      "Total Teachers at Census: 2376463 One teacher can be more than one school\n",
      "########### Only about Schools at ENEM:\n",
      "Schools at ENEM out of School Census 198\n",
      "Schools at ENEM out of Teacher Census 605\n",
      "Schools at ENEM and School Census out of Teacher Census 0\n",
      "Students Wasted***** 1807\n"
     ]
    }
   ],
   "source": [
    "print('Total Students at ENEM:', ENEM.shape[0], 'of', ENEM.drop_duplicates('CO_ESCOLA').shape[0], 'schools')\n",
    "print('Total Schools at Census:', C_SCHOOL.shape[0])\n",
    "print('Total Teachers at Census:', C_TEACHER.drop_duplicates('CO_PROFESSOR').shape[0], \n",
    "      'One teacher can be more than one school')\n",
    "       \n",
    "            \n",
    "\n",
    "#######################################\n",
    "print('########### Only about Schools at ENEM:')\n",
    "\n",
    "schoolsEnem = ENEM['CO_ESCOLA'].dropna().unique()\n",
    "schoolsCenso = C_SCHOOL['CO_ESCOLA'].dropna().unique()\n",
    "schoolsTeacher = C_TEACHER['CO_ESCOLA'].dropna().unique()\n",
    "schoolsEnem2 = ENEM['CO_ESCOLA'].dropna()\n",
    "\n",
    "enem_censo = np.setdiff1d(schoolsEnem ,schoolsCenso)\n",
    "print('Schools at ENEM out of School Census', sum(np.isin(schoolsEnem, schoolsCenso, invert=True)))\n",
    "\n",
    "print('Schools at ENEM out of Teacher Census', sum(np.isin(schoolsEnem, schoolsTeacher, invert=True)))\n",
    "print('Schools at ENEM and School Census out of Teacher Census', sum(np.isin(enem_censo, schoolsTeacher)))\n",
    "\n",
    "print('Students Wasted*****', sum(np.isin(schoolsEnem2, schoolsCenso, invert=True)))"
   ]
  },
  {
   "cell_type": "markdown",
   "metadata": {
    "ExecuteTime": {
     "end_time": "2020-04-23T20:08:38.321927Z",
     "start_time": "2020-04-23T20:08:38.157014Z"
    }
   },
   "source": [
    "### New Features"
   ]
  },
  {
   "cell_type": "markdown",
   "metadata": {},
   "source": [
    "ENEM"
   ]
  },
  {
   "cell_type": "code",
   "execution_count": 265,
   "metadata": {
    "ExecuteTime": {
     "end_time": "2020-05-04T21:55:52.607775Z",
     "start_time": "2020-05-04T21:55:52.273055Z"
    }
   },
   "outputs": [
    {
     "name": "stdout",
     "output_type": "stream",
     "text": [
      "75.00005032945663 % lowers quartis\n"
     ]
    }
   ],
   "source": [
    "#Final Media, Target\n",
    "ENEM['NU_NOTA_GERAL'] = (ENEM.NU_NOTA_CN + ENEM.NU_NOTA_CH + ENEM.NU_NOTA_LC + ENEM.NU_NOTA_MT + ENEM.NU_NOTA_REDACAO)/5\n",
    "ENEM['TARGET'] = pd.qcut (ENEM.NU_NOTA_GERAL, 4, labels = [1,2,3,4]).map(lambda x : 0 if x!=4 else 1) \n",
    "print((ENEM.TARGET==0).sum()/(ENEM.TARGET.count())*100, '% lowers quartis')"
   ]
  },
  {
   "cell_type": "markdown",
   "metadata": {},
   "source": [
    "SCHOOL CENSUS - Itś better include after merge all datasets years.\n"
   ]
  },
  {
   "cell_type": "markdown",
   "metadata": {},
   "source": [
    "TEACHER CENSUS"
   ]
  },
  {
   "cell_type": "code",
   "execution_count": 266,
   "metadata": {
    "ExecuteTime": {
     "end_time": "2020-05-04T21:55:52.887343Z",
     "start_time": "2020-05-04T21:55:52.612801Z"
    }
   },
   "outputs": [
    {
     "data": {
      "text/plain": [
       "CO_PROFESSOR         0\n",
       "CO_ESCOLA            0\n",
       "IN_ESPECIALIZACAO    0\n",
       "IN_MESTRADO          0\n",
       "IN_DOUTORADO         0\n",
       "dtype: int64"
      ]
     },
     "execution_count": 266,
     "metadata": {},
     "output_type": "execute_result"
    }
   ],
   "source": [
    "C_TEACHER.isnull().sum()"
   ]
  },
  {
   "cell_type": "code",
   "execution_count": 267,
   "metadata": {
    "ExecuteTime": {
     "end_time": "2020-05-04T21:55:54.994949Z",
     "start_time": "2020-05-04T21:55:52.891749Z"
    }
   },
   "outputs": [
    {
     "name": "stdout",
     "output_type": "stream",
     "text": [
      "number of teacher who work at an school listed at ENEM and do not have study level assigned: 0\n"
     ]
    }
   ],
   "source": [
    "print('number of teacher who work at an school listed at ENEM and do not have study level assigned:',\n",
    "      C_TEACHER['CO_ESCOLA'].isin(ENEM['CO_ESCOLA']).sum())\n",
    "\n",
    "\n",
    "#lets fill with lower level\n",
    "\n",
    "C_TEACHER['IN_ESPECIALIZACAO'].fillna(0, inplace = True)\n",
    "C_TEACHER['IN_MESTRADO'].fillna(0, inplace = True)\n",
    "C_TEACHER['IN_DOUTORADO'].fillna(0, inplace = True)"
   ]
  },
  {
   "cell_type": "code",
   "execution_count": 268,
   "metadata": {
    "ExecuteTime": {
     "end_time": "2020-05-04T21:55:58.013873Z",
     "start_time": "2020-05-04T21:55:54.999653Z"
    }
   },
   "outputs": [
    {
     "name": "stdout",
     "output_type": "stream",
     "text": [
      "before 11134708\n",
      "after 2999400\n"
     ]
    }
   ],
   "source": [
    "#It's necessary drop duplicates whose are teachers in the same school but in different classes. \n",
    "#This way, the teacher appear just one time in each school. \n",
    "print('before',C_TEACHER.shape[0])\n",
    "C_TEACHER.drop_duplicates(subset=['CO_PROFESSOR', 'CO_ESCOLA'], inplace=True)\n",
    "C_TEACHER.drop('CO_PROFESSOR', axis=1, inplace = True)\n",
    "print('after',C_TEACHER.shape[0])"
   ]
  },
  {
   "cell_type": "code",
   "execution_count": 269,
   "metadata": {
    "ExecuteTime": {
     "end_time": "2020-05-04T21:55:59.048550Z",
     "start_time": "2020-05-04T21:55:58.017393Z"
    }
   },
   "outputs": [],
   "source": [
    "C_TEACHER['TITULACAO'] = 0\n",
    "\n",
    "\n",
    "C_TEACHER.loc[(C_TEACHER.IN_ESPECIALIZACAO==1.0) & (C_TEACHER.IN_MESTRADO==0.0)& \n",
    "             (C_TEACHER.IN_DOUTORADO ==0.0), 'TITULACAO'] = 1\n",
    "\n",
    "C_TEACHER.loc[(C_TEACHER.IN_ESPECIALIZACAO==1.0) & (C_TEACHER.IN_MESTRADO==1.0)& \n",
    "             (C_TEACHER.IN_DOUTORADO ==0.0), 'TITULACAO'] = 2\n",
    "\n",
    "C_TEACHER.loc[(C_TEACHER.IN_ESPECIALIZACAO==0.0) & (C_TEACHER.IN_MESTRADO==1.0)& \n",
    "             (C_TEACHER.IN_DOUTORADO ==0.0), 'TITULACAO'] = 2\n",
    "\n",
    "C_TEACHER.loc[(C_TEACHER.IN_DOUTORADO ==1.0), 'TITULACAO'] = 3\n",
    "\n",
    "SUM= C_TEACHER.groupby('CO_ESCOLA')['TITULACAO'].transform(sum)\n",
    "COUNT =  C_TEACHER.groupby('CO_ESCOLA')['TITULACAO'].transform('count')\n",
    "C_TEACHER['TITULACAO'] = (SUM)/(COUNT*3)   \n",
    "\n",
    "#transformin to school grain\n",
    "C_TEACHER.drop_duplicates('CO_ESCOLA', inplace = True)"
   ]
  },
  {
   "cell_type": "markdown",
   "metadata": {},
   "source": [
    "## STUDENT GRAIN "
   ]
  },
  {
   "cell_type": "code",
   "execution_count": 270,
   "metadata": {
    "ExecuteTime": {
     "end_time": "2020-05-04T21:56:03.424743Z",
     "start_time": "2020-05-04T21:55:59.053190Z"
    }
   },
   "outputs": [
    {
     "name": "stdout",
     "output_type": "stream",
     "text": [
      "C_SCHOOL (262601, 26)\n",
      "C_SCHOOL + C_TEACHER (194695, 30)\n",
      "ENEM (993454, 17)\n",
      "FINAL (989620, 46)\n"
     ]
    }
   ],
   "source": [
    "# teacher to Schoool Grain\n",
    "print('C_SCHOOL',C_SCHOOL.shape)\n",
    "CENSO19 = pd.merge(C_SCHOOL, C_TEACHER, on = 'CO_ESCOLA', how = 'inner')\n",
    "print('C_SCHOOL + C_TEACHER',CENSO19.shape)\n",
    "\n",
    "#Now, all to Student Grain\n",
    "print('ENEM',ENEM.shape)\n",
    "ENEM_CENSO_19 = pd.merge(ENEM, CENSO19, on = 'CO_ESCOLA', how = 'inner')\n",
    "print('FINAL',ENEM_CENSO_19.shape)\n",
    "\n",
    "ENEM_CENSO_19.to_feather('2009_STUDENT.feather')"
   ]
  },
  {
   "cell_type": "code",
   "execution_count": 271,
   "metadata": {
    "ExecuteTime": {
     "end_time": "2020-05-04T21:56:03.449278Z",
     "start_time": "2020-05-04T21:56:03.429568Z"
    }
   },
   "outputs": [
    {
     "data": {
      "text/plain": [
       "CO_ANO                            uint16\n",
       "CO_ESCOLA                          int32\n",
       "NU_IDADE                           int32\n",
       "TP_SEXO                            uint8\n",
       "TP_COR_RACA                        uint8\n",
       "TP_ST_CONCLUSAO                    int32\n",
       "NU_NOTA_CN                       float32\n",
       "NU_NOTA_CH                       float32\n",
       "NU_NOTA_LC                       float32\n",
       "NU_NOTA_MT                       float32\n",
       "NU_NOTA_REDACAO                  float32\n",
       "EDU_PAI                            int64\n",
       "EDU_MAE                            int64\n",
       "QT_PESSOAS_CASA                    int32\n",
       "RENDA_MENSAL                       int64\n",
       "NU_NOTA_GERAL                    float32\n",
       "TARGET                             int64\n",
       "CO_MUNICIPIO                       int64\n",
       "CO_UF                              int64\n",
       "CO_DEPENDENCIA_ADM              category\n",
       "IN_AGUA_INEXISTENTE             category\n",
       "IN_ESGOTO_INEXISTENTE           category\n",
       "IN_ENERGIA_INEXISTENTE          category\n",
       "IN_LABORATORIO_INFORMATICA      category\n",
       "IN_LABORATORIO_CIENCIAS         category\n",
       "IN_SALA_ATENDIMENTO_ESPECIAL    category\n",
       "IN_BIBLIOTECA                   category\n",
       "IN_SALA_LEITURA                 category\n",
       "IN_BANHEIRO_FORA_PREDIO         category\n",
       "IN_BANHEIRO_PNE                 category\n",
       "IN_DEPENDENCIAS_PNE             category\n",
       "QT_SALAS_UTILIZADAS              float64\n",
       "QT_EQUIP_TV                     category\n",
       "QT_EQUIP_DVD                    category\n",
       "QT_EQUIP_COPIADORA              category\n",
       "QT_EQUIP_IMPRESSORA             category\n",
       "QT_COM_ADMINISTRATIVO            float64\n",
       "QT_COMP_ALUNO                    float64\n",
       "IN_INTERNET                     category\n",
       "IN_BANDA_LARGA                  category\n",
       "QT_FUNCIONARIOS                  float64\n",
       "IN_ALIMENTACAO                  category\n",
       "IN_ESPECIALIZACAO                  uint8\n",
       "IN_MESTRADO                        uint8\n",
       "IN_DOUTORADO                       uint8\n",
       "TITULACAO                        float64\n",
       "dtype: object"
      ]
     },
     "execution_count": 271,
     "metadata": {},
     "output_type": "execute_result"
    }
   ],
   "source": [
    "ENEM_CENSO_19.dtypes"
   ]
  },
  {
   "cell_type": "markdown",
   "metadata": {},
   "source": [
    "## SCHOOL GRAIN"
   ]
  },
  {
   "cell_type": "code",
   "execution_count": 272,
   "metadata": {
    "ExecuteTime": {
     "end_time": "2020-05-04T21:56:05.401840Z",
     "start_time": "2020-05-04T21:56:03.453521Z"
    }
   },
   "outputs": [],
   "source": [
    "fields = ['TP_SEXO', 'TP_COR_RACA', 'EDU_PAI', 'EDU_MAE','QT_PESSOAS_CASA', 'RENDA_MENSAL', 'NU_IDADE', 'NU_NOTA_CN',\n",
    "             'NU_NOTA_CH','NU_NOTA_LC','NU_NOTA_MT','NU_NOTA_REDACAO','NU_NOTA_GERAL' ]\n",
    "\n",
    "for i in fields:   \n",
    "    \n",
    "            ENEM[i] = ENEM.groupby('CO_ESCOLA')[i].transform('mean')\n",
    "            "
   ]
  },
  {
   "cell_type": "code",
   "execution_count": 273,
   "metadata": {
    "ExecuteTime": {
     "end_time": "2020-05-04T21:56:05.496066Z",
     "start_time": "2020-05-04T21:56:05.406867Z"
    }
   },
   "outputs": [
    {
     "name": "stdout",
     "output_type": "stream",
     "text": [
      "71.96535001665865 % lowers quartis\n"
     ]
    }
   ],
   "source": [
    "# SCHOOL GRAIN AND SHOW THE NEW NOTA DISTRIBUTION\n",
    "ENEM.drop_duplicates('CO_ESCOLA', inplace=True)\n",
    "print((ENEM.TARGET==0).sum()/(ENEM.TARGET.count())*100, '% lowers quartis')"
   ]
  },
  {
   "cell_type": "code",
   "execution_count": 274,
   "metadata": {
    "ExecuteTime": {
     "end_time": "2020-05-04T21:56:05.528451Z",
     "start_time": "2020-05-04T21:56:05.500692Z"
    }
   },
   "outputs": [
    {
     "name": "stdout",
     "output_type": "stream",
     "text": [
      "75.00092548032428 % lowers quartis\n"
     ]
    }
   ],
   "source": [
    "#recalculating target for new  Nota Geral distribution \n",
    "ENEM['TARGET'] = pd.qcut (ENEM.NU_NOTA_GERAL, 4, labels = [1,2,3,4]).map(lambda x : 0 if x!=4 else 1) \n",
    "print((ENEM.TARGET==0).sum()/(ENEM.TARGET.count())*100, '% lowers quartis')"
   ]
  },
  {
   "cell_type": "code",
   "execution_count": 275,
   "metadata": {
    "ExecuteTime": {
     "end_time": "2020-05-04T21:56:05.799266Z",
     "start_time": "2020-05-04T21:56:05.532750Z"
    }
   },
   "outputs": [
    {
     "name": "stdout",
     "output_type": "stream",
     "text": [
      "censo before (194695, 30)\n",
      "enem_school before (27013, 17)\n",
      "(26408, 46)\n"
     ]
    }
   ],
   "source": [
    "print('censo before',CENSO19.shape)\n",
    "print('enem_school before', ENEM.shape)\n",
    "CENSO_ENEM_19 = pd.merge(CENSO19, ENEM, on='CO_ESCOLA', how='inner')\n",
    "print(CENSO_ENEM_19.shape)\n",
    "\n",
    "CENSO_ENEM_19.to_feather('2009_SCHOOL.feather')\n"
   ]
  },
  {
   "cell_type": "code",
   "execution_count": 276,
   "metadata": {
    "ExecuteTime": {
     "end_time": "2020-05-04T21:56:05.942126Z",
     "start_time": "2020-05-04T21:56:05.803749Z"
    }
   },
   "outputs": [
    {
     "data": {
      "text/html": [
       "<div>\n",
       "<style scoped>\n",
       "    .dataframe tbody tr th:only-of-type {\n",
       "        vertical-align: middle;\n",
       "    }\n",
       "\n",
       "    .dataframe tbody tr th {\n",
       "        vertical-align: top;\n",
       "    }\n",
       "\n",
       "    .dataframe thead th {\n",
       "        text-align: right;\n",
       "    }\n",
       "</style>\n",
       "<table border=\"1\" class=\"dataframe\">\n",
       "  <thead>\n",
       "    <tr style=\"text-align: right;\">\n",
       "      <th></th>\n",
       "      <th>CO_ESCOLA</th>\n",
       "      <th>CO_MUNICIPIO</th>\n",
       "      <th>CO_UF</th>\n",
       "      <th>CO_DEPENDENCIA_ADM</th>\n",
       "      <th>IN_AGUA_INEXISTENTE</th>\n",
       "      <th>IN_ESGOTO_INEXISTENTE</th>\n",
       "      <th>IN_ENERGIA_INEXISTENTE</th>\n",
       "      <th>IN_LABORATORIO_INFORMATICA</th>\n",
       "      <th>IN_LABORATORIO_CIENCIAS</th>\n",
       "      <th>IN_SALA_ATENDIMENTO_ESPECIAL</th>\n",
       "      <th>IN_BIBLIOTECA</th>\n",
       "      <th>IN_SALA_LEITURA</th>\n",
       "      <th>IN_BANHEIRO_FORA_PREDIO</th>\n",
       "      <th>IN_BANHEIRO_PNE</th>\n",
       "      <th>IN_DEPENDENCIAS_PNE</th>\n",
       "      <th>QT_SALAS_UTILIZADAS</th>\n",
       "      <th>QT_EQUIP_TV</th>\n",
       "      <th>QT_EQUIP_DVD</th>\n",
       "      <th>QT_EQUIP_COPIADORA</th>\n",
       "      <th>QT_EQUIP_IMPRESSORA</th>\n",
       "      <th>QT_COM_ADMINISTRATIVO</th>\n",
       "      <th>QT_COMP_ALUNO</th>\n",
       "      <th>IN_INTERNET</th>\n",
       "      <th>IN_BANDA_LARGA</th>\n",
       "      <th>QT_FUNCIONARIOS</th>\n",
       "      <th>IN_ALIMENTACAO</th>\n",
       "      <th>IN_ESPECIALIZACAO</th>\n",
       "      <th>IN_MESTRADO</th>\n",
       "      <th>IN_DOUTORADO</th>\n",
       "      <th>TITULACAO</th>\n",
       "      <th>CO_ANO</th>\n",
       "      <th>NU_IDADE</th>\n",
       "      <th>TP_SEXO</th>\n",
       "      <th>TP_COR_RACA</th>\n",
       "      <th>TP_ST_CONCLUSAO</th>\n",
       "      <th>NU_NOTA_CN</th>\n",
       "      <th>NU_NOTA_CH</th>\n",
       "      <th>NU_NOTA_LC</th>\n",
       "      <th>NU_NOTA_MT</th>\n",
       "      <th>NU_NOTA_REDACAO</th>\n",
       "      <th>EDU_PAI</th>\n",
       "      <th>EDU_MAE</th>\n",
       "      <th>QT_PESSOAS_CASA</th>\n",
       "      <th>RENDA_MENSAL</th>\n",
       "      <th>NU_NOTA_GERAL</th>\n",
       "      <th>TARGET</th>\n",
       "    </tr>\n",
       "  </thead>\n",
       "  <tbody>\n",
       "    <tr>\n",
       "      <th>0</th>\n",
       "      <td>14005360</td>\n",
       "      <td>1400472</td>\n",
       "      <td>14</td>\n",
       "      <td>2</td>\n",
       "      <td>0.0</td>\n",
       "      <td>0.0</td>\n",
       "      <td>0.0</td>\n",
       "      <td>1</td>\n",
       "      <td>0</td>\n",
       "      <td>1</td>\n",
       "      <td>1</td>\n",
       "      <td>0</td>\n",
       "      <td>0</td>\n",
       "      <td>0</td>\n",
       "      <td>0</td>\n",
       "      <td>10.0</td>\n",
       "      <td>1</td>\n",
       "      <td>1</td>\n",
       "      <td>0</td>\n",
       "      <td>1</td>\n",
       "      <td>6.0</td>\n",
       "      <td>10.0</td>\n",
       "      <td>1.0</td>\n",
       "      <td>0.0</td>\n",
       "      <td>57.0</td>\n",
       "      <td>1.0</td>\n",
       "      <td>0</td>\n",
       "      <td>0</td>\n",
       "      <td>0</td>\n",
       "      <td>0.057971</td>\n",
       "      <td>2012</td>\n",
       "      <td>17.333333</td>\n",
       "      <td>0.333333</td>\n",
       "      <td>2.000000</td>\n",
       "      <td>2</td>\n",
       "      <td>466.766663</td>\n",
       "      <td>511.266663</td>\n",
       "      <td>515.733337</td>\n",
       "      <td>506.400024</td>\n",
       "      <td>573.333313</td>\n",
       "      <td>2.333333</td>\n",
       "      <td>2.666667</td>\n",
       "      <td>2.000000</td>\n",
       "      <td>2.666667</td>\n",
       "      <td>514.700012</td>\n",
       "      <td>0</td>\n",
       "    </tr>\n",
       "    <tr>\n",
       "      <th>1</th>\n",
       "      <td>14000814</td>\n",
       "      <td>1400100</td>\n",
       "      <td>14</td>\n",
       "      <td>4</td>\n",
       "      <td>0.0</td>\n",
       "      <td>0.0</td>\n",
       "      <td>0.0</td>\n",
       "      <td>1</td>\n",
       "      <td>1</td>\n",
       "      <td>0</td>\n",
       "      <td>1</td>\n",
       "      <td>0</td>\n",
       "      <td>0</td>\n",
       "      <td>1</td>\n",
       "      <td>0</td>\n",
       "      <td>21.0</td>\n",
       "      <td>1</td>\n",
       "      <td>1</td>\n",
       "      <td>1</td>\n",
       "      <td>1</td>\n",
       "      <td>22.0</td>\n",
       "      <td>59.0</td>\n",
       "      <td>1.0</td>\n",
       "      <td>1.0</td>\n",
       "      <td>55.0</td>\n",
       "      <td>0.0</td>\n",
       "      <td>0</td>\n",
       "      <td>0</td>\n",
       "      <td>0</td>\n",
       "      <td>0.027027</td>\n",
       "      <td>2012</td>\n",
       "      <td>17.428571</td>\n",
       "      <td>0.314286</td>\n",
       "      <td>2.085714</td>\n",
       "      <td>2</td>\n",
       "      <td>534.505737</td>\n",
       "      <td>570.488586</td>\n",
       "      <td>520.377136</td>\n",
       "      <td>603.719971</td>\n",
       "      <td>591.428589</td>\n",
       "      <td>3.485714</td>\n",
       "      <td>3.828571</td>\n",
       "      <td>1.714286</td>\n",
       "      <td>4.028571</td>\n",
       "      <td>564.104004</td>\n",
       "      <td>1</td>\n",
       "    </tr>\n",
       "    <tr>\n",
       "      <th>2</th>\n",
       "      <td>14324636</td>\n",
       "      <td>1400100</td>\n",
       "      <td>14</td>\n",
       "      <td>4</td>\n",
       "      <td>0.0</td>\n",
       "      <td>0.0</td>\n",
       "      <td>0.0</td>\n",
       "      <td>1</td>\n",
       "      <td>0</td>\n",
       "      <td>1</td>\n",
       "      <td>1</td>\n",
       "      <td>0</td>\n",
       "      <td>1</td>\n",
       "      <td>1</td>\n",
       "      <td>1</td>\n",
       "      <td>41.0</td>\n",
       "      <td>1</td>\n",
       "      <td>1</td>\n",
       "      <td>1</td>\n",
       "      <td>1</td>\n",
       "      <td>25.0</td>\n",
       "      <td>58.0</td>\n",
       "      <td>1.0</td>\n",
       "      <td>1.0</td>\n",
       "      <td>125.0</td>\n",
       "      <td>0.0</td>\n",
       "      <td>0</td>\n",
       "      <td>0</td>\n",
       "      <td>0</td>\n",
       "      <td>0.106996</td>\n",
       "      <td>2012</td>\n",
       "      <td>17.204545</td>\n",
       "      <td>0.454545</td>\n",
       "      <td>2.136364</td>\n",
       "      <td>2</td>\n",
       "      <td>500.375000</td>\n",
       "      <td>558.772705</td>\n",
       "      <td>525.474976</td>\n",
       "      <td>585.268188</td>\n",
       "      <td>546.363647</td>\n",
       "      <td>3.000000</td>\n",
       "      <td>3.590909</td>\n",
       "      <td>1.818182</td>\n",
       "      <td>2.977273</td>\n",
       "      <td>543.250916</td>\n",
       "      <td>1</td>\n",
       "    </tr>\n",
       "    <tr>\n",
       "      <th>3</th>\n",
       "      <td>14000776</td>\n",
       "      <td>1400100</td>\n",
       "      <td>14</td>\n",
       "      <td>2</td>\n",
       "      <td>0.0</td>\n",
       "      <td>0.0</td>\n",
       "      <td>0.0</td>\n",
       "      <td>1</td>\n",
       "      <td>0</td>\n",
       "      <td>1</td>\n",
       "      <td>1</td>\n",
       "      <td>1</td>\n",
       "      <td>0</td>\n",
       "      <td>0</td>\n",
       "      <td>0</td>\n",
       "      <td>10.0</td>\n",
       "      <td>1</td>\n",
       "      <td>1</td>\n",
       "      <td>1</td>\n",
       "      <td>1</td>\n",
       "      <td>4.0</td>\n",
       "      <td>11.0</td>\n",
       "      <td>1.0</td>\n",
       "      <td>1.0</td>\n",
       "      <td>100.0</td>\n",
       "      <td>1.0</td>\n",
       "      <td>1</td>\n",
       "      <td>0</td>\n",
       "      <td>0</td>\n",
       "      <td>0.176471</td>\n",
       "      <td>2012</td>\n",
       "      <td>17.750000</td>\n",
       "      <td>0.375000</td>\n",
       "      <td>2.562500</td>\n",
       "      <td>2</td>\n",
       "      <td>451.931244</td>\n",
       "      <td>502.518738</td>\n",
       "      <td>464.112488</td>\n",
       "      <td>476.143738</td>\n",
       "      <td>452.500000</td>\n",
       "      <td>1.562500</td>\n",
       "      <td>2.500000</td>\n",
       "      <td>1.875000</td>\n",
       "      <td>2.187500</td>\n",
       "      <td>469.441254</td>\n",
       "      <td>0</td>\n",
       "    </tr>\n",
       "    <tr>\n",
       "      <th>4</th>\n",
       "      <td>14000490</td>\n",
       "      <td>1400100</td>\n",
       "      <td>14</td>\n",
       "      <td>2</td>\n",
       "      <td>0.0</td>\n",
       "      <td>0.0</td>\n",
       "      <td>0.0</td>\n",
       "      <td>1</td>\n",
       "      <td>1</td>\n",
       "      <td>0</td>\n",
       "      <td>1</td>\n",
       "      <td>1</td>\n",
       "      <td>0</td>\n",
       "      <td>1</td>\n",
       "      <td>0</td>\n",
       "      <td>30.0</td>\n",
       "      <td>1</td>\n",
       "      <td>1</td>\n",
       "      <td>0</td>\n",
       "      <td>1</td>\n",
       "      <td>8.0</td>\n",
       "      <td>38.0</td>\n",
       "      <td>1.0</td>\n",
       "      <td>1.0</td>\n",
       "      <td>130.0</td>\n",
       "      <td>1.0</td>\n",
       "      <td>0</td>\n",
       "      <td>0</td>\n",
       "      <td>0</td>\n",
       "      <td>0.181818</td>\n",
       "      <td>2012</td>\n",
       "      <td>17.660793</td>\n",
       "      <td>0.374449</td>\n",
       "      <td>2.422907</td>\n",
       "      <td>2</td>\n",
       "      <td>445.065643</td>\n",
       "      <td>499.636993</td>\n",
       "      <td>472.570496</td>\n",
       "      <td>474.145386</td>\n",
       "      <td>488.898682</td>\n",
       "      <td>2.162996</td>\n",
       "      <td>2.784141</td>\n",
       "      <td>1.788546</td>\n",
       "      <td>2.185022</td>\n",
       "      <td>476.063446</td>\n",
       "      <td>0</td>\n",
       "    </tr>\n",
       "  </tbody>\n",
       "</table>\n",
       "</div>"
      ],
      "text/plain": [
       "   CO_ESCOLA  CO_MUNICIPIO  CO_UF CO_DEPENDENCIA_ADM IN_AGUA_INEXISTENTE  \\\n",
       "0   14005360       1400472     14                  2                 0.0   \n",
       "1   14000814       1400100     14                  4                 0.0   \n",
       "2   14324636       1400100     14                  4                 0.0   \n",
       "3   14000776       1400100     14                  2                 0.0   \n",
       "4   14000490       1400100     14                  2                 0.0   \n",
       "\n",
       "  IN_ESGOTO_INEXISTENTE IN_ENERGIA_INEXISTENTE IN_LABORATORIO_INFORMATICA  \\\n",
       "0                   0.0                    0.0                          1   \n",
       "1                   0.0                    0.0                          1   \n",
       "2                   0.0                    0.0                          1   \n",
       "3                   0.0                    0.0                          1   \n",
       "4                   0.0                    0.0                          1   \n",
       "\n",
       "  IN_LABORATORIO_CIENCIAS IN_SALA_ATENDIMENTO_ESPECIAL IN_BIBLIOTECA  \\\n",
       "0                       0                            1             1   \n",
       "1                       1                            0             1   \n",
       "2                       0                            1             1   \n",
       "3                       0                            1             1   \n",
       "4                       1                            0             1   \n",
       "\n",
       "  IN_SALA_LEITURA IN_BANHEIRO_FORA_PREDIO IN_BANHEIRO_PNE IN_DEPENDENCIAS_PNE  \\\n",
       "0               0                       0               0                   0   \n",
       "1               0                       0               1                   0   \n",
       "2               0                       1               1                   1   \n",
       "3               1                       0               0                   0   \n",
       "4               1                       0               1                   0   \n",
       "\n",
       "   QT_SALAS_UTILIZADAS QT_EQUIP_TV QT_EQUIP_DVD QT_EQUIP_COPIADORA  \\\n",
       "0                 10.0           1            1                  0   \n",
       "1                 21.0           1            1                  1   \n",
       "2                 41.0           1            1                  1   \n",
       "3                 10.0           1            1                  1   \n",
       "4                 30.0           1            1                  0   \n",
       "\n",
       "  QT_EQUIP_IMPRESSORA  QT_COM_ADMINISTRATIVO  QT_COMP_ALUNO IN_INTERNET  \\\n",
       "0                   1                    6.0           10.0         1.0   \n",
       "1                   1                   22.0           59.0         1.0   \n",
       "2                   1                   25.0           58.0         1.0   \n",
       "3                   1                    4.0           11.0         1.0   \n",
       "4                   1                    8.0           38.0         1.0   \n",
       "\n",
       "  IN_BANDA_LARGA  QT_FUNCIONARIOS IN_ALIMENTACAO  IN_ESPECIALIZACAO  \\\n",
       "0            0.0             57.0            1.0                  0   \n",
       "1            1.0             55.0            0.0                  0   \n",
       "2            1.0            125.0            0.0                  0   \n",
       "3            1.0            100.0            1.0                  1   \n",
       "4            1.0            130.0            1.0                  0   \n",
       "\n",
       "   IN_MESTRADO  IN_DOUTORADO  TITULACAO  CO_ANO   NU_IDADE   TP_SEXO  \\\n",
       "0            0             0   0.057971    2012  17.333333  0.333333   \n",
       "1            0             0   0.027027    2012  17.428571  0.314286   \n",
       "2            0             0   0.106996    2012  17.204545  0.454545   \n",
       "3            0             0   0.176471    2012  17.750000  0.375000   \n",
       "4            0             0   0.181818    2012  17.660793  0.374449   \n",
       "\n",
       "   TP_COR_RACA  TP_ST_CONCLUSAO  NU_NOTA_CN  NU_NOTA_CH  NU_NOTA_LC  \\\n",
       "0     2.000000                2  466.766663  511.266663  515.733337   \n",
       "1     2.085714                2  534.505737  570.488586  520.377136   \n",
       "2     2.136364                2  500.375000  558.772705  525.474976   \n",
       "3     2.562500                2  451.931244  502.518738  464.112488   \n",
       "4     2.422907                2  445.065643  499.636993  472.570496   \n",
       "\n",
       "   NU_NOTA_MT  NU_NOTA_REDACAO   EDU_PAI   EDU_MAE  QT_PESSOAS_CASA  \\\n",
       "0  506.400024       573.333313  2.333333  2.666667         2.000000   \n",
       "1  603.719971       591.428589  3.485714  3.828571         1.714286   \n",
       "2  585.268188       546.363647  3.000000  3.590909         1.818182   \n",
       "3  476.143738       452.500000  1.562500  2.500000         1.875000   \n",
       "4  474.145386       488.898682  2.162996  2.784141         1.788546   \n",
       "\n",
       "   RENDA_MENSAL  NU_NOTA_GERAL  TARGET  \n",
       "0      2.666667     514.700012       0  \n",
       "1      4.028571     564.104004       1  \n",
       "2      2.977273     543.250916       1  \n",
       "3      2.187500     469.441254       0  \n",
       "4      2.185022     476.063446       0  "
      ]
     },
     "execution_count": 276,
     "metadata": {},
     "output_type": "execute_result"
    }
   ],
   "source": [
    "CENSO_ENEM_19.head()"
   ]
  },
  {
   "cell_type": "code",
   "execution_count": 277,
   "metadata": {
    "ExecuteTime": {
     "end_time": "2020-05-04T21:56:05.982982Z",
     "start_time": "2020-05-04T21:56:05.948189Z"
    }
   },
   "outputs": [
    {
     "data": {
      "text/plain": [
       "CO_ESCOLA                          0\n",
       "CO_MUNICIPIO                       0\n",
       "CO_UF                              0\n",
       "CO_DEPENDENCIA_ADM                 0\n",
       "IN_AGUA_INEXISTENTE                0\n",
       "IN_ESGOTO_INEXISTENTE              0\n",
       "IN_ENERGIA_INEXISTENTE             0\n",
       "IN_LABORATORIO_INFORMATICA         0\n",
       "IN_LABORATORIO_CIENCIAS            0\n",
       "IN_SALA_ATENDIMENTO_ESPECIAL       0\n",
       "IN_BIBLIOTECA                      0\n",
       "IN_SALA_LEITURA                    0\n",
       "IN_BANHEIRO_FORA_PREDIO            0\n",
       "IN_BANHEIRO_PNE                    0\n",
       "IN_DEPENDENCIAS_PNE                0\n",
       "QT_SALAS_UTILIZADAS                0\n",
       "QT_EQUIP_TV                        0\n",
       "QT_EQUIP_DVD                       0\n",
       "QT_EQUIP_COPIADORA                 0\n",
       "QT_EQUIP_IMPRESSORA                0\n",
       "QT_COM_ADMINISTRATIVO            476\n",
       "QT_COMP_ALUNO                   1941\n",
       "IN_INTERNET                      338\n",
       "IN_BANDA_LARGA                  1145\n",
       "QT_FUNCIONARIOS                    0\n",
       "IN_ALIMENTACAO                     0\n",
       "IN_ESPECIALIZACAO                  0\n",
       "IN_MESTRADO                        0\n",
       "IN_DOUTORADO                       0\n",
       "TITULACAO                          0\n",
       "CO_ANO                             0\n",
       "NU_IDADE                           0\n",
       "TP_SEXO                            0\n",
       "TP_COR_RACA                        0\n",
       "TP_ST_CONCLUSAO                    0\n",
       "NU_NOTA_CN                         0\n",
       "NU_NOTA_CH                         0\n",
       "NU_NOTA_LC                         0\n",
       "NU_NOTA_MT                         0\n",
       "NU_NOTA_REDACAO                    0\n",
       "EDU_PAI                            0\n",
       "EDU_MAE                            0\n",
       "QT_PESSOAS_CASA                    0\n",
       "RENDA_MENSAL                       0\n",
       "NU_NOTA_GERAL                      0\n",
       "TARGET                             0\n",
       "dtype: int64"
      ]
     },
     "execution_count": 277,
     "metadata": {},
     "output_type": "execute_result"
    }
   ],
   "source": [
    "CENSO_ENEM_19.isnull().sum()\n"
   ]
  },
  {
   "cell_type": "code",
   "execution_count": null,
   "metadata": {},
   "outputs": [],
   "source": []
  }
 ],
 "metadata": {
  "kernelspec": {
   "display_name": "Python 3",
   "language": "python",
   "name": "python3"
  },
  "language_info": {
   "codemirror_mode": {
    "name": "ipython",
    "version": 3
   },
   "file_extension": ".py",
   "mimetype": "text/x-python",
   "name": "python",
   "nbconvert_exporter": "python",
   "pygments_lexer": "ipython3",
   "version": "3.7.6"
  }
 },
 "nbformat": 4,
 "nbformat_minor": 4
}
