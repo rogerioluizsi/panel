{
 "cells": [
  {
   "cell_type": "code",
   "execution_count": 1,
   "metadata": {
    "ExecuteTime": {
     "end_time": "2020-05-02T11:59:06.811583Z",
     "start_time": "2020-05-02T11:59:06.062884Z"
    }
   },
   "outputs": [],
   "source": [
    "import time\n",
    "import pandas as pd\n",
    "import warnings\n",
    "import feather\n",
    "warnings.filterwarnings('ignore')\n",
    "from pandas.api.types import is_string_dtype\n",
    "from pandas.api.types import is_numeric_dtype\n",
    "pd.set_option('display.max_columns', None)"
   ]
  },
  {
   "cell_type": "code",
   "execution_count": 2,
   "metadata": {
    "ExecuteTime": {
     "end_time": "2020-05-02T11:59:07.119270Z",
     "start_time": "2020-05-02T11:59:06.816811Z"
    }
   },
   "outputs": [],
   "source": [
    "DF_09 = pd.read_feather('2009/2009_FULL.feather')\n",
    "DF_10 = pd.read_feather('2010/2010_FULL.feather')\n",
    "DF_11 = pd.read_feather('2011/2011_FULL.feather')\n",
    "DF_12 = pd.read_feather('2012/2012_FULL.feather')\n",
    "DF_13 = pd.read_feather('2013/2013_FULL.feather')\n",
    "DF_14 = pd.read_feather('2014/2014_FULL.feather')\n",
    "DF_15 = pd.read_feather('2015/2015_FULL.feather')\n",
    "DF_16 = pd.read_feather('2016/2016_FULL.feather')\n",
    "DF_17 = pd.read_feather('2017/2017_FULL.feather')\n",
    "DF_18 = pd.read_feather('2018/2018_FULL.feather')"
   ]
  },
  {
   "cell_type": "code",
   "execution_count": 3,
   "metadata": {
    "ExecuteTime": {
     "end_time": "2020-05-02T11:59:08.902688Z",
     "start_time": "2020-05-02T11:59:08.288505Z"
    }
   },
   "outputs": [],
   "source": [
    "DF = pd.concat([DF_09,DF_10,DF_11,DF_12,DF_13,DF_14,DF_15,DF_16,DF_17,DF_18])"
   ]
  },
  {
   "cell_type": "code",
   "execution_count": null,
   "metadata": {},
   "outputs": [],
   "source": [
    "d.INF"
   ]
  },
  {
   "cell_type": "code",
   "execution_count": 67,
   "metadata": {
    "ExecuteTime": {
     "end_time": "2020-04-27T17:33:15.433014Z",
     "start_time": "2020-04-27T17:33:14.627810Z"
    }
   },
   "outputs": [
    {
     "data": {
      "text/html": [
       "<div>\n",
       "<style scoped>\n",
       "    .dataframe tbody tr th:only-of-type {\n",
       "        vertical-align: middle;\n",
       "    }\n",
       "\n",
       "    .dataframe tbody tr th {\n",
       "        vertical-align: top;\n",
       "    }\n",
       "\n",
       "    .dataframe thead th {\n",
       "        text-align: right;\n",
       "    }\n",
       "</style>\n",
       "<table border=\"1\" class=\"dataframe\">\n",
       "  <thead>\n",
       "    <tr style=\"text-align: right;\">\n",
       "      <th></th>\n",
       "      <th>CO_ANO</th>\n",
       "      <th>CO_ESCOLA</th>\n",
       "      <th>CO_INSCRICAO</th>\n",
       "      <th>NU_IDADE</th>\n",
       "      <th>TP_COR_RACA</th>\n",
       "      <th>NU_NOTA_CN</th>\n",
       "      <th>NU_NOTA_CH</th>\n",
       "      <th>NU_NOTA_LC</th>\n",
       "      <th>NU_NOTA_MT</th>\n",
       "      <th>NU_NOTA_REDACAO</th>\n",
       "      <th>EDU_PAI</th>\n",
       "      <th>EDU_MAE</th>\n",
       "      <th>OCU_MAE</th>\n",
       "      <th>OCU_PAI</th>\n",
       "      <th>QT_PESSOAS_CASA</th>\n",
       "      <th>RENDA_MENSAL</th>\n",
       "      <th>QT_CARRO</th>\n",
       "      <th>QT_MAQUINA_LAVAR</th>\n",
       "      <th>QT_TELEVISAO_CORES</th>\n",
       "      <th>QT_TV_ASSINATURA</th>\n",
       "      <th>QT_CELULAR</th>\n",
       "      <th>QT_TELEFONE_FIXO</th>\n",
       "      <th>QT_COMPUTADOR</th>\n",
       "      <th>QT_INTERNET</th>\n",
       "      <th>QT_CURSOU_EM</th>\n",
       "      <th>TP_ESCOLA_EF</th>\n",
       "      <th>QT_CURSOU_EF</th>\n",
       "      <th>TP_SEXO</th>\n",
       "      <th>TITULACAO</th>\n",
       "      <th>CO_DEPENDENCIA_ADM</th>\n",
       "      <th>CO_UF</th>\n",
       "      <th>CO_MUNICIPIO</th>\n",
       "      <th>IN_AGUA_INEXISTENTE</th>\n",
       "      <th>IN_ESGOTO_INEXISTENTE</th>\n",
       "      <th>IN_ENERGIA_INEXISTENTE</th>\n",
       "      <th>IN_LABORATORIO_INFORMATICA</th>\n",
       "      <th>IN_LABORATORIO_CIENCIAS</th>\n",
       "      <th>IN_SALA_ATENDIMENTO_ESPECIAL</th>\n",
       "      <th>IN_QUADRA_ESPORTES</th>\n",
       "      <th>IN_BIBLIOTECA</th>\n",
       "      <th>IN_SALA_LEITURA</th>\n",
       "      <th>IN_BANHEIRO_FORA_PREDIO</th>\n",
       "      <th>IN_BANHEIRO_PNE</th>\n",
       "      <th>IN_DEPENDENCIAS_PNE</th>\n",
       "      <th>QT_SALAS_UTILIZADAS</th>\n",
       "      <th>QT_EQUIP_TV</th>\n",
       "      <th>QT_EQUIP_DVD</th>\n",
       "      <th>QT_EQUIP_COPIADORA</th>\n",
       "      <th>QT_EQUIP_IMPRESSORA</th>\n",
       "      <th>QT_COMP_ALUNO</th>\n",
       "      <th>IN_INTERNET</th>\n",
       "      <th>IN_BANDA_LARGA</th>\n",
       "      <th>QT_FUNCIONARIOS</th>\n",
       "      <th>IN_ALIMENTACAO</th>\n",
       "      <th>NU_NOTA_GERAL</th>\n",
       "      <th>TARGET</th>\n",
       "      <th>TP_PRESENCA_CN</th>\n",
       "      <th>TP_PRESENCA_CH</th>\n",
       "      <th>TP_PRESENCA_LC</th>\n",
       "      <th>TP_PRESENCA_MT</th>\n",
       "      <th>TP_LINGUA</th>\n",
       "      <th>QT_BANHEIRO</th>\n",
       "      <th>QT_FREEZER</th>\n",
       "      <th>QT_ASPIRADOR</th>\n",
       "      <th>QT_TV _ASSINATURA</th>\n",
       "      <th>IN_INTERNET_x</th>\n",
       "      <th>TP_STATUS_REDACAO</th>\n",
       "      <th>COD_MUNICIPIO</th>\n",
       "      <th>IN_QUADRA_ESPORTES_COBERTA</th>\n",
       "      <th>IN_QUADRA_ESPORTES_DESCOBERTA</th>\n",
       "      <th>IN_INTERNET_y</th>\n",
       "      <th>IN_BANHEIRO_CHUVEIRO</th>\n",
       "      <th>IN_REFEITORIO</th>\n",
       "      <th>IN_DESPENSA</th>\n",
       "      <th>IN_ALMOXARIFADO</th>\n",
       "      <th>IN_AUDITORIO</th>\n",
       "      <th>IN_PATIO_COBERTO</th>\n",
       "      <th>IN_PATIO_DESCOBERTO</th>\n",
       "      <th>IN_AREA_VERDE</th>\n",
       "      <th>QT_EQUIP_SOM</th>\n",
       "      <th>QT_EQUIP_MULTIMIDIA</th>\n",
       "      <th>QT_EQUIP_FOTO</th>\n",
       "      <th>NUM_FUNCIONARIOS</th>\n",
       "      <th>ID_ALIMENTACAO</th>\n",
       "      <th>TP_NACIONALIDADE</th>\n",
       "      <th>IN_TREINEIRO</th>\n",
       "      <th>QT_MAQUINA_SECAR</th>\n",
       "      <th>QT_MICRO-ONDAS</th>\n",
       "      <th>QT_EQUIP_IMPRESSORA_MULT</th>\n",
       "      <th>QT_FUNCIOARIOS</th>\n",
       "    </tr>\n",
       "  </thead>\n",
       "  <tbody>\n",
       "    <tr>\n",
       "      <th>miss</th>\n",
       "      <td>0</td>\n",
       "      <td>0</td>\n",
       "      <td>0</td>\n",
       "      <td>0</td>\n",
       "      <td>0</td>\n",
       "      <td>0</td>\n",
       "      <td>0</td>\n",
       "      <td>0</td>\n",
       "      <td>0</td>\n",
       "      <td>0</td>\n",
       "      <td>0</td>\n",
       "      <td>0</td>\n",
       "      <td>0.553356</td>\n",
       "      <td>0.553356</td>\n",
       "      <td>0</td>\n",
       "      <td>0</td>\n",
       "      <td>0.0798844</td>\n",
       "      <td>0.0798844</td>\n",
       "      <td>0.0798844</td>\n",
       "      <td>0.930507</td>\n",
       "      <td>0.0798844</td>\n",
       "      <td>0.0798844</td>\n",
       "      <td>0.0798844</td>\n",
       "      <td>0.930507</td>\n",
       "      <td>0.377152</td>\n",
       "      <td>0.278672</td>\n",
       "      <td>0.377152</td>\n",
       "      <td>0</td>\n",
       "      <td>0</td>\n",
       "      <td>0</td>\n",
       "      <td>0</td>\n",
       "      <td>0.850623</td>\n",
       "      <td>0</td>\n",
       "      <td>0</td>\n",
       "      <td>0</td>\n",
       "      <td>0</td>\n",
       "      <td>0</td>\n",
       "      <td>0</td>\n",
       "      <td>0.473471</td>\n",
       "      <td>0</td>\n",
       "      <td>0</td>\n",
       "      <td>0</td>\n",
       "      <td>0</td>\n",
       "      <td>0</td>\n",
       "      <td>0</td>\n",
       "      <td>0</td>\n",
       "      <td>0</td>\n",
       "      <td>0</td>\n",
       "      <td>0</td>\n",
       "      <td>0</td>\n",
       "      <td>0.850623</td>\n",
       "      <td>0</td>\n",
       "      <td>0.67331</td>\n",
       "      <td>0.386937</td>\n",
       "      <td>0</td>\n",
       "      <td>0</td>\n",
       "      <td>0.149377</td>\n",
       "      <td>0.149377</td>\n",
       "      <td>0.149377</td>\n",
       "      <td>0.149377</td>\n",
       "      <td>0.149377</td>\n",
       "      <td>0.149377</td>\n",
       "      <td>0.149377</td>\n",
       "      <td>0.149377</td>\n",
       "      <td>0.149377</td>\n",
       "      <td>0.149377</td>\n",
       "      <td>0.149377</td>\n",
       "      <td>0.149377</td>\n",
       "      <td>0.149377</td>\n",
       "      <td>0.149377</td>\n",
       "      <td>0.149377</td>\n",
       "      <td>0.235912</td>\n",
       "      <td>0.235912</td>\n",
       "      <td>0.235912</td>\n",
       "      <td>0.235912</td>\n",
       "      <td>0.235912</td>\n",
       "      <td>0.235912</td>\n",
       "      <td>0.235912</td>\n",
       "      <td>0.235912</td>\n",
       "      <td>0.235912</td>\n",
       "      <td>0.235912</td>\n",
       "      <td>0.235912</td>\n",
       "      <td>0.613063</td>\n",
       "      <td>0.613063</td>\n",
       "      <td>0.437351</td>\n",
       "      <td>0.622848</td>\n",
       "      <td>0.622848</td>\n",
       "      <td>0.622848</td>\n",
       "      <td>0.622848</td>\n",
       "      <td>0.713627</td>\n",
       "    </tr>\n",
       "    <tr>\n",
       "      <th>type</th>\n",
       "      <td>uint16</td>\n",
       "      <td>float64</td>\n",
       "      <td>float64</td>\n",
       "      <td>float32</td>\n",
       "      <td>object</td>\n",
       "      <td>float64</td>\n",
       "      <td>float64</td>\n",
       "      <td>float64</td>\n",
       "      <td>float64</td>\n",
       "      <td>float64</td>\n",
       "      <td>int64</td>\n",
       "      <td>int64</td>\n",
       "      <td>object</td>\n",
       "      <td>object</td>\n",
       "      <td>int64</td>\n",
       "      <td>int64</td>\n",
       "      <td>float64</td>\n",
       "      <td>float64</td>\n",
       "      <td>object</td>\n",
       "      <td>float64</td>\n",
       "      <td>object</td>\n",
       "      <td>object</td>\n",
       "      <td>object</td>\n",
       "      <td>float64</td>\n",
       "      <td>float64</td>\n",
       "      <td>object</td>\n",
       "      <td>object</td>\n",
       "      <td>float64</td>\n",
       "      <td>float64</td>\n",
       "      <td>int64</td>\n",
       "      <td>int64</td>\n",
       "      <td>float64</td>\n",
       "      <td>float64</td>\n",
       "      <td>float64</td>\n",
       "      <td>float64</td>\n",
       "      <td>float64</td>\n",
       "      <td>float64</td>\n",
       "      <td>float64</td>\n",
       "      <td>object</td>\n",
       "      <td>float64</td>\n",
       "      <td>float64</td>\n",
       "      <td>float64</td>\n",
       "      <td>float64</td>\n",
       "      <td>float64</td>\n",
       "      <td>float64</td>\n",
       "      <td>float64</td>\n",
       "      <td>float64</td>\n",
       "      <td>float64</td>\n",
       "      <td>float64</td>\n",
       "      <td>float64</td>\n",
       "      <td>object</td>\n",
       "      <td>float64</td>\n",
       "      <td>float64</td>\n",
       "      <td>object</td>\n",
       "      <td>float64</td>\n",
       "      <td>int64</td>\n",
       "      <td>float32</td>\n",
       "      <td>float32</td>\n",
       "      <td>float32</td>\n",
       "      <td>float32</td>\n",
       "      <td>float64</td>\n",
       "      <td>float64</td>\n",
       "      <td>float64</td>\n",
       "      <td>object</td>\n",
       "      <td>object</td>\n",
       "      <td>object</td>\n",
       "      <td>float64</td>\n",
       "      <td>float64</td>\n",
       "      <td>object</td>\n",
       "      <td>object</td>\n",
       "      <td>object</td>\n",
       "      <td>object</td>\n",
       "      <td>object</td>\n",
       "      <td>object</td>\n",
       "      <td>object</td>\n",
       "      <td>object</td>\n",
       "      <td>object</td>\n",
       "      <td>object</td>\n",
       "      <td>object</td>\n",
       "      <td>object</td>\n",
       "      <td>object</td>\n",
       "      <td>object</td>\n",
       "      <td>float64</td>\n",
       "      <td>object</td>\n",
       "      <td>float64</td>\n",
       "      <td>float64</td>\n",
       "      <td>object</td>\n",
       "      <td>object</td>\n",
       "      <td>float64</td>\n",
       "      <td>float64</td>\n",
       "    </tr>\n",
       "  </tbody>\n",
       "</table>\n",
       "</div>"
      ],
      "text/plain": [
       "      CO_ANO CO_ESCOLA CO_INSCRICAO NU_IDADE TP_COR_RACA NU_NOTA_CN  \\\n",
       "miss       0         0            0        0           0          0   \n",
       "type  uint16   float64      float64  float32      object    float64   \n",
       "\n",
       "     NU_NOTA_CH NU_NOTA_LC NU_NOTA_MT NU_NOTA_REDACAO EDU_PAI EDU_MAE  \\\n",
       "miss          0          0          0               0       0       0   \n",
       "type    float64    float64    float64         float64   int64   int64   \n",
       "\n",
       "       OCU_MAE   OCU_PAI QT_PESSOAS_CASA RENDA_MENSAL   QT_CARRO  \\\n",
       "miss  0.553356  0.553356               0            0  0.0798844   \n",
       "type    object    object           int64        int64    float64   \n",
       "\n",
       "     QT_MAQUINA_LAVAR QT_TELEVISAO_CORES QT_TV_ASSINATURA QT_CELULAR  \\\n",
       "miss        0.0798844          0.0798844         0.930507  0.0798844   \n",
       "type          float64             object          float64     object   \n",
       "\n",
       "     QT_TELEFONE_FIXO QT_COMPUTADOR QT_INTERNET QT_CURSOU_EM TP_ESCOLA_EF  \\\n",
       "miss        0.0798844     0.0798844    0.930507     0.377152     0.278672   \n",
       "type           object        object     float64      float64       object   \n",
       "\n",
       "     QT_CURSOU_EF  TP_SEXO TITULACAO CO_DEPENDENCIA_ADM  CO_UF CO_MUNICIPIO  \\\n",
       "miss     0.377152        0         0                  0      0     0.850623   \n",
       "type       object  float64   float64              int64  int64      float64   \n",
       "\n",
       "     IN_AGUA_INEXISTENTE IN_ESGOTO_INEXISTENTE IN_ENERGIA_INEXISTENTE  \\\n",
       "miss                   0                     0                      0   \n",
       "type             float64               float64                float64   \n",
       "\n",
       "     IN_LABORATORIO_INFORMATICA IN_LABORATORIO_CIENCIAS  \\\n",
       "miss                          0                       0   \n",
       "type                    float64                 float64   \n",
       "\n",
       "     IN_SALA_ATENDIMENTO_ESPECIAL IN_QUADRA_ESPORTES IN_BIBLIOTECA  \\\n",
       "miss                            0           0.473471             0   \n",
       "type                      float64             object       float64   \n",
       "\n",
       "     IN_SALA_LEITURA IN_BANHEIRO_FORA_PREDIO IN_BANHEIRO_PNE  \\\n",
       "miss               0                       0               0   \n",
       "type         float64                 float64         float64   \n",
       "\n",
       "     IN_DEPENDENCIAS_PNE QT_SALAS_UTILIZADAS QT_EQUIP_TV QT_EQUIP_DVD  \\\n",
       "miss                   0                   0           0            0   \n",
       "type             float64             float64     float64      float64   \n",
       "\n",
       "     QT_EQUIP_COPIADORA QT_EQUIP_IMPRESSORA QT_COMP_ALUNO IN_INTERNET  \\\n",
       "miss                  0                   0             0    0.850623   \n",
       "type            float64             float64       float64      object   \n",
       "\n",
       "     IN_BANDA_LARGA QT_FUNCIONARIOS IN_ALIMENTACAO NU_NOTA_GERAL TARGET  \\\n",
       "miss              0         0.67331       0.386937             0      0   \n",
       "type        float64         float64         object       float64  int64   \n",
       "\n",
       "     TP_PRESENCA_CN TP_PRESENCA_CH TP_PRESENCA_LC TP_PRESENCA_MT TP_LINGUA  \\\n",
       "miss       0.149377       0.149377       0.149377       0.149377  0.149377   \n",
       "type        float32        float32        float32        float32   float64   \n",
       "\n",
       "     QT_BANHEIRO QT_FREEZER QT_ASPIRADOR QT_TV _ASSINATURA IN_INTERNET_x  \\\n",
       "miss    0.149377   0.149377     0.149377          0.149377      0.149377   \n",
       "type     float64    float64       object            object        object   \n",
       "\n",
       "     TP_STATUS_REDACAO COD_MUNICIPIO IN_QUADRA_ESPORTES_COBERTA  \\\n",
       "miss          0.149377      0.149377                   0.149377   \n",
       "type           float64       float64                     object   \n",
       "\n",
       "     IN_QUADRA_ESPORTES_DESCOBERTA IN_INTERNET_y IN_BANHEIRO_CHUVEIRO  \\\n",
       "miss                      0.149377      0.149377             0.235912   \n",
       "type                        object        object               object   \n",
       "\n",
       "     IN_REFEITORIO IN_DESPENSA IN_ALMOXARIFADO IN_AUDITORIO IN_PATIO_COBERTO  \\\n",
       "miss      0.235912    0.235912        0.235912     0.235912         0.235912   \n",
       "type        object      object          object       object           object   \n",
       "\n",
       "     IN_PATIO_DESCOBERTO IN_AREA_VERDE QT_EQUIP_SOM QT_EQUIP_MULTIMIDIA  \\\n",
       "miss            0.235912      0.235912     0.235912            0.235912   \n",
       "type              object        object       object              object   \n",
       "\n",
       "     QT_EQUIP_FOTO NUM_FUNCIONARIOS ID_ALIMENTACAO TP_NACIONALIDADE  \\\n",
       "miss      0.235912         0.613063       0.613063         0.437351   \n",
       "type        object          float64         object          float64   \n",
       "\n",
       "     IN_TREINEIRO QT_MAQUINA_SECAR QT_MICRO-ONDAS QT_EQUIP_IMPRESSORA_MULT  \\\n",
       "miss     0.622848         0.622848       0.622848                 0.622848   \n",
       "type      float64           object         object                  float64   \n",
       "\n",
       "     QT_FUNCIOARIOS  \n",
       "miss       0.713627  \n",
       "type        float64  "
      ]
     },
     "execution_count": 67,
     "metadata": {},
     "output_type": "execute_result"
    }
   ],
   "source": [
    "k= pd.DataFrame()\n",
    "k['miss'] = DF.isnull().sum()/DF.shape[0]\n",
    "k['type'] = DF.dtypes\n",
    "k.T"
   ]
  },
  {
   "cell_type": "code",
   "execution_count": 68,
   "metadata": {
    "ExecuteTime": {
     "end_time": "2020-04-27T17:33:37.034476Z",
     "start_time": "2020-04-27T17:33:36.805681Z"
    }
   },
   "outputs": [],
   "source": [
    "fields = ['IN_AGUA_INEXISTENTE', 'IN_ESGOTO_INEXISTENTE', 'IN_ENERGIA_INEXISTENTE', 'QT_EQUIP_TV','QT_EQUIP_DVD', \n",
    "          'QT_COMPUTADOR','QT_EQUIP_IMPRESSORA','QT_EQUIP_COPIADORA', 'IN_BANDA_LARGA', 'IN_BIBLIOTECA', \n",
    "          'IN_LABORATORIO_INFORMATICA']\n",
    "\n",
    "DF['IN_INFRA_ELEMENTAR'] = 1\n",
    "DF['IN_INFRA_BASICA'] = 1\n",
    "DF['IN_INFRA_ADEQUADA'] = 1\n",
    "\n",
    "infra_elementar = (DF.IN_AGUA_INEXISTENTE==1) | (DF.IN_ESGOTO_INEXISTENTE==1)|(DF.IN_ENERGIA_INEXISTENTE ==1)\n",
    "infra_basica = (DF.QT_EQUIP_TV==0) | (DF.QT_EQUIP_DVD ==0) | (DF.QT_COMPUTADOR==0) | (DF.QT_EQUIP_IMPRESSORA==0)\n",
    "infra_adequada = (DF.QT_EQUIP_COPIADORA == 0)|(DF.IN_BANDA_LARGA == 0)|(DF.IN_BIBLIOTECA==0)|(DF.IN_LABORATORIO_INFORMATICA==0) \n",
    "\n",
    "\n",
    "DF.loc[(infra_elementar), 'IN_INFRA_ELEMENTAR'] = 0\n",
    "DF.loc[((infra_elementar) & (infra_basica)), 'IN_INFRA_BASICA'] = 0\n",
    "DF.loc[((infra_elementar)& (infra_basica) & (infra_adequada)), 'IN_INFRA_ADEQUADA'] = 0\n",
    "\n",
    "\n",
    "DF['IN_TP_ESCOLA'] = \"\"\n",
    "DF.loc[(DF.CO_DEPENDENCIA_ADM== 2) | (DF.CO_DEPENDENCIA_ADM == 3), 'IN_TP_ESCOLA']= 'PUBLICA'\n",
    "DF.loc[(DF.CO_DEPENDENCIA_ADM == 4), 'IN_TP_ESCOLA'] = 'PRIVADA'\n",
    "DF.loc[(DF.CO_DEPENDENCIA_ADM == 1), 'IN_TP_ESCOLA'] = 'FEDERAL'\n"
   ]
  },
  {
   "cell_type": "code",
   "execution_count": 76,
   "metadata": {
    "ExecuteTime": {
     "end_time": "2020-04-27T17:38:06.305626Z",
     "start_time": "2020-04-27T17:38:06.293022Z"
    }
   },
   "outputs": [
    {
     "data": {
      "text/plain": [
       "<pandas.core.groupby.generic.SeriesGroupBy object at 0x7f28a0f1d950>"
      ]
     },
     "execution_count": 76,
     "metadata": {},
     "output_type": "execute_result"
    }
   ],
   "source": [
    "DF.groupby(['CO_ANO', 'IN_TP_ESCOLA', 'CO_UF'])['IN_INFRA_ELEMENTAR']"
   ]
  },
  {
   "cell_type": "code",
   "execution_count": 71,
   "metadata": {
    "ExecuteTime": {
     "end_time": "2020-04-27T17:34:28.352719Z",
     "start_time": "2020-04-27T17:34:28.335866Z"
    }
   },
   "outputs": [
    {
     "data": {
      "text/plain": [
       "1    105036\n",
       "0       529\n",
       "Name: IN_INFRA_ELEMENTAR, dtype: int64"
      ]
     },
     "execution_count": 71,
     "metadata": {},
     "output_type": "execute_result"
    }
   ],
   "source": [
    "DF['IN_INFRA_ELEMENTAR'].value_counts()"
   ]
  },
  {
   "cell_type": "code",
   "execution_count": 72,
   "metadata": {
    "ExecuteTime": {
     "end_time": "2020-04-27T17:34:43.952046Z",
     "start_time": "2020-04-27T17:34:43.934640Z"
    }
   },
   "outputs": [
    {
     "data": {
      "text/plain": [
       "1    105249\n",
       "0       316\n",
       "Name: IN_INFRA_BASICA, dtype: int64"
      ]
     },
     "execution_count": 72,
     "metadata": {},
     "output_type": "execute_result"
    }
   ],
   "source": [
    "DF['IN_INFRA_BASICA'].value_counts()"
   ]
  },
  {
   "cell_type": "code",
   "execution_count": 73,
   "metadata": {
    "ExecuteTime": {
     "end_time": "2020-04-27T17:35:01.129719Z",
     "start_time": "2020-04-27T17:35:01.112256Z"
    }
   },
   "outputs": [
    {
     "data": {
      "text/plain": [
       "1    105319\n",
       "0       246\n",
       "Name: IN_INFRA_ADEQUADA, dtype: int64"
      ]
     },
     "execution_count": 73,
     "metadata": {},
     "output_type": "execute_result"
    }
   ],
   "source": [
    "DF['IN_INFRA_ADEQUADA'].value_counts()"
   ]
  },
  {
   "cell_type": "code",
   "execution_count": 74,
   "metadata": {
    "ExecuteTime": {
     "end_time": "2020-04-27T17:35:32.663222Z",
     "start_time": "2020-04-27T17:35:19.594856Z"
    }
   },
   "outputs": [],
   "source": [
    "DF.to_csv('ALL_YEARS.csv')"
   ]
  },
  {
   "cell_type": "code",
   "execution_count": 19,
   "metadata": {
    "ExecuteTime": {
     "end_time": "2020-04-24T23:39:07.379593Z",
     "start_time": "2020-04-24T23:39:06.603371Z"
    }
   },
   "outputs": [
    {
     "data": {
      "text/plain": [
       "<matplotlib.axes._subplots.AxesSubplot at 0x7f37e20a3e10>"
      ]
     },
     "execution_count": 19,
     "metadata": {},
     "output_type": "execute_result"
    },
    {
     "data": {
      "image/png": "[encoded data removed]",
      "text/plain": [
       "<Figure size 432x288 with 1 Axes>"
      ]
     },
     "metadata": {
      "needs_background": "light"
     },
     "output_type": "display_data"
    }
   ],
   "source": [
    "DF[DF['IN_TP_ESCOLA']==1].groupby(['CO_ANO'])['NU_NOTA_GERAL'].mean().plot()\n",
    "DF[DF['CO_DEPENDENCIA_ADM']==2].groupby(['CO_ANO'])['NU_NOTA_GERAL'].mean().plot()\n",
    "DF[DF['CO_DEPENDENCIA_ADM']==3].groupby(['CO_ANO'])['NU_NOTA_GERAL'].mean().plot()\n",
    "DF[DF['CO_DEPENDENCIA_ADM']==4].groupby(['CO_ANO'])['NU_NOTA_GERAL'].mean().plot()"
   ]
  },
  {
   "cell_type": "code",
   "execution_count": null,
   "metadata": {},
   "outputs": [],
   "source": [
    "DF.groupby(['CO_DEPENDENCIA'])"
   ]
  }
 ],
 "metadata": {
  "kernelspec": {
   "display_name": "Python 3",
   "language": "python",
   "name": "python3"
  },
  "language_info": {
   "codemirror_mode": {
    "name": "ipython",
    "version": 3
   },
   "file_extension": ".py",
   "mimetype": "text/x-python",
   "name": "python",
   "nbconvert_exporter": "python",
   "pygments_lexer": "ipython3",
   "version": "3.7.6"
  }
 },
 "nbformat": 4,
 "nbformat_minor": 4
}
