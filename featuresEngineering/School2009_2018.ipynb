{
 "cells": [
  {
   "cell_type": "code",
   "execution_count": 1,
   "metadata": {
    "ExecuteTime": {
     "end_time": "2020-07-05T18:41:42.813763Z",
     "start_time": "2020-07-05T18:41:38.664560Z"
    }
   },
   "outputs": [],
   "source": [
    "import time\n",
    "import pandas as pd\n",
    "import warnings\n",
    "import feather\n",
    "warnings.filterwarnings('ignore')\n",
    "from pandas.api.types import is_string_dtype\n",
    "from pandas.api.types import is_numeric_dtype\n",
    "pd.set_option('display.max_columns', None)"
   ]
  },
  {
   "cell_type": "code",
   "execution_count": 2,
   "metadata": {
    "ExecuteTime": {
     "end_time": "2020-07-05T18:41:48.095884Z",
     "start_time": "2020-07-05T18:41:42.819783Z"
    }
   },
   "outputs": [],
   "source": [
    "DF_09 = pd.read_csv('2009/SCHOOL.csv')\n",
    "DF_10 = pd.read_csv('2010/SCHOOL.csv')\n",
    "DF_11 = pd.read_csv('2011/SCHOOL.csv')\n",
    "DF_12 = pd.read_csv('2012/SCHOOL.csv')\n",
    "DF_13 = pd.read_csv('2013/SCHOOL.csv')\n",
    "DF_14 = pd.read_csv('2014/SCHOOL.csv')\n",
    "DF_15 = pd.read_csv('2015/SCHOOL.csv')\n",
    "DF_16 = pd.read_csv('2016/SCHOOL.csv')\n",
    "DF_17 = pd.read_csv('2017/SCHOOL.csv')\n",
    "DF_18 = pd.read_csv('2018/SCHOOL.csv')"
   ]
  },
  {
   "cell_type": "code",
   "execution_count": 3,
   "metadata": {
    "ExecuteTime": {
     "end_time": "2020-07-05T18:41:48.515901Z",
     "start_time": "2020-07-05T18:41:48.101882Z"
    }
   },
   "outputs": [],
   "source": [
    "DF = pd.concat([DF_09,DF_10,DF_11,DF_12,DF_13,DF_14,DF_15,DF_16,DF_17,DF_18])"
   ]
  },
  {
   "cell_type": "code",
   "execution_count": 4,
   "metadata": {
    "ExecuteTime": {
     "end_time": "2020-07-05T18:41:49.064939Z",
     "start_time": "2020-07-05T18:41:48.521072Z"
    }
   },
   "outputs": [
    {
     "data": {
      "text/html": [
       "<div>\n",
       "<style scoped>\n",
       "    .dataframe tbody tr th:only-of-type {\n",
       "        vertical-align: middle;\n",
       "    }\n",
       "\n",
       "    .dataframe tbody tr th {\n",
       "        vertical-align: top;\n",
       "    }\n",
       "\n",
       "    .dataframe thead th {\n",
       "        text-align: right;\n",
       "    }\n",
       "</style>\n",
       "<table border=\"1\" class=\"dataframe\">\n",
       "  <thead>\n",
       "    <tr style=\"text-align: right;\">\n",
       "      <th></th>\n",
       "      <th>CO_ESCOLA</th>\n",
       "      <th>CO_MUNICIPIO</th>\n",
       "      <th>CO_UF</th>\n",
       "      <th>CO_DEPENDENCIA_ADM</th>\n",
       "      <th>IN_AGUA_INEXISTENTE</th>\n",
       "      <th>IN_ESGOTO_INEXISTENTE</th>\n",
       "      <th>IN_ENERGIA_INEXISTENTE</th>\n",
       "      <th>IN_LABORATORIO_INFORMATICA</th>\n",
       "      <th>IN_LABORATORIO_CIENCIAS</th>\n",
       "      <th>IN_SALA_ATENDIMENTO_ESPECIAL</th>\n",
       "      <th>IN_BIBLIOTECA</th>\n",
       "      <th>IN_SALA_LEITURA</th>\n",
       "      <th>IN_BANHEIRO_FORA_PREDIO</th>\n",
       "      <th>IN_BANHEIRO_PNE</th>\n",
       "      <th>IN_DEPENDENCIAS_PNE</th>\n",
       "      <th>QT_SALAS_UTILIZADAS</th>\n",
       "      <th>QT_EQUIP_TV</th>\n",
       "      <th>QT_EQUIP_DVD</th>\n",
       "      <th>QT_EQUIP_COPIADORA</th>\n",
       "      <th>QT_EQUIP_IMPRESSORA</th>\n",
       "      <th>QT_COM_ADMINISTRATIVO</th>\n",
       "      <th>QT_COMP_ALUNO</th>\n",
       "      <th>IN_INTERNET</th>\n",
       "      <th>IN_BANDA_LARGA</th>\n",
       "      <th>QT_FUNCIONARIOS</th>\n",
       "      <th>IN_ALIMENTACAO</th>\n",
       "      <th>IN_ESPECIALIZACAO</th>\n",
       "      <th>IN_MESTRADO</th>\n",
       "      <th>IN_DOUTORADO</th>\n",
       "      <th>TITULACAO</th>\n",
       "      <th>NU_GRADUACAO</th>\n",
       "      <th>NU_ESPECIALIZACAO</th>\n",
       "      <th>NU_MESTRADO</th>\n",
       "      <th>NU_DOUTORADO</th>\n",
       "      <th>CO_ANO</th>\n",
       "      <th>NU_IDADE</th>\n",
       "      <th>TP_SEXO</th>\n",
       "      <th>TP_COR_RACA</th>\n",
       "      <th>TP_ST_CONCLUSAO</th>\n",
       "      <th>NU_NOTA_CN</th>\n",
       "      <th>NU_NOTA_CH</th>\n",
       "      <th>NU_NOTA_LC</th>\n",
       "      <th>NU_NOTA_MT</th>\n",
       "      <th>NU_NOTA_REDACAO</th>\n",
       "      <th>EDU_PAI</th>\n",
       "      <th>EDU_MAE</th>\n",
       "      <th>QT_PESSOAS_CASA</th>\n",
       "      <th>RENDA_MENSAL</th>\n",
       "      <th>NU_NOTA_GERAL</th>\n",
       "      <th>TARGET</th>\n",
       "      <th>TP_COR_RACA_TEMP</th>\n",
       "    </tr>\n",
       "  </thead>\n",
       "  <tbody>\n",
       "    <tr>\n",
       "      <th>miss</th>\n",
       "      <td>0</td>\n",
       "      <td>0</td>\n",
       "      <td>0</td>\n",
       "      <td>0</td>\n",
       "      <td>0</td>\n",
       "      <td>0</td>\n",
       "      <td>0</td>\n",
       "      <td>0</td>\n",
       "      <td>0</td>\n",
       "      <td>0</td>\n",
       "      <td>0</td>\n",
       "      <td>0</td>\n",
       "      <td>0</td>\n",
       "      <td>0</td>\n",
       "      <td>0</td>\n",
       "      <td>0</td>\n",
       "      <td>0</td>\n",
       "      <td>0</td>\n",
       "      <td>0</td>\n",
       "      <td>0</td>\n",
       "      <td>0.0119045</td>\n",
       "      <td>0.0460471</td>\n",
       "      <td>0.00420071</td>\n",
       "      <td>0.0224282</td>\n",
       "      <td>0</td>\n",
       "      <td>0</td>\n",
       "      <td>0</td>\n",
       "      <td>0</td>\n",
       "      <td>0</td>\n",
       "      <td>0</td>\n",
       "      <td>0</td>\n",
       "      <td>0</td>\n",
       "      <td>0</td>\n",
       "      <td>0</td>\n",
       "      <td>0</td>\n",
       "      <td>0</td>\n",
       "      <td>0</td>\n",
       "      <td>0</td>\n",
       "      <td>0.105507</td>\n",
       "      <td>0</td>\n",
       "      <td>0</td>\n",
       "      <td>0</td>\n",
       "      <td>0</td>\n",
       "      <td>0</td>\n",
       "      <td>0</td>\n",
       "      <td>0</td>\n",
       "      <td>0</td>\n",
       "      <td>0</td>\n",
       "      <td>0</td>\n",
       "      <td>0</td>\n",
       "      <td>0.894493</td>\n",
       "    </tr>\n",
       "    <tr>\n",
       "      <th>type</th>\n",
       "      <td>int64</td>\n",
       "      <td>int64</td>\n",
       "      <td>int64</td>\n",
       "      <td>int64</td>\n",
       "      <td>float64</td>\n",
       "      <td>float64</td>\n",
       "      <td>float64</td>\n",
       "      <td>float64</td>\n",
       "      <td>float64</td>\n",
       "      <td>float64</td>\n",
       "      <td>float64</td>\n",
       "      <td>float64</td>\n",
       "      <td>float64</td>\n",
       "      <td>float64</td>\n",
       "      <td>float64</td>\n",
       "      <td>float64</td>\n",
       "      <td>float64</td>\n",
       "      <td>float64</td>\n",
       "      <td>float64</td>\n",
       "      <td>float64</td>\n",
       "      <td>float64</td>\n",
       "      <td>float64</td>\n",
       "      <td>float64</td>\n",
       "      <td>float64</td>\n",
       "      <td>float64</td>\n",
       "      <td>float64</td>\n",
       "      <td>float64</td>\n",
       "      <td>float64</td>\n",
       "      <td>float64</td>\n",
       "      <td>float64</td>\n",
       "      <td>int64</td>\n",
       "      <td>int64</td>\n",
       "      <td>int64</td>\n",
       "      <td>int64</td>\n",
       "      <td>int64</td>\n",
       "      <td>float64</td>\n",
       "      <td>float64</td>\n",
       "      <td>float64</td>\n",
       "      <td>float64</td>\n",
       "      <td>float64</td>\n",
       "      <td>float64</td>\n",
       "      <td>float64</td>\n",
       "      <td>float64</td>\n",
       "      <td>float64</td>\n",
       "      <td>float64</td>\n",
       "      <td>float64</td>\n",
       "      <td>float64</td>\n",
       "      <td>float64</td>\n",
       "      <td>float64</td>\n",
       "      <td>int64</td>\n",
       "      <td>float64</td>\n",
       "    </tr>\n",
       "  </tbody>\n",
       "</table>\n",
       "</div>"
      ],
      "text/plain": [
       "     CO_ESCOLA CO_MUNICIPIO  CO_UF CO_DEPENDENCIA_ADM IN_AGUA_INEXISTENTE  \\\n",
       "miss         0            0      0                  0                   0   \n",
       "type     int64        int64  int64              int64             float64   \n",
       "\n",
       "     IN_ESGOTO_INEXISTENTE IN_ENERGIA_INEXISTENTE IN_LABORATORIO_INFORMATICA  \\\n",
       "miss                     0                      0                          0   \n",
       "type               float64                float64                    float64   \n",
       "\n",
       "     IN_LABORATORIO_CIENCIAS IN_SALA_ATENDIMENTO_ESPECIAL IN_BIBLIOTECA  \\\n",
       "miss                       0                            0             0   \n",
       "type                 float64                      float64       float64   \n",
       "\n",
       "     IN_SALA_LEITURA IN_BANHEIRO_FORA_PREDIO IN_BANHEIRO_PNE  \\\n",
       "miss               0                       0               0   \n",
       "type         float64                 float64         float64   \n",
       "\n",
       "     IN_DEPENDENCIAS_PNE QT_SALAS_UTILIZADAS QT_EQUIP_TV QT_EQUIP_DVD  \\\n",
       "miss                   0                   0           0            0   \n",
       "type             float64             float64     float64      float64   \n",
       "\n",
       "     QT_EQUIP_COPIADORA QT_EQUIP_IMPRESSORA QT_COM_ADMINISTRATIVO  \\\n",
       "miss                  0                   0             0.0119045   \n",
       "type            float64             float64               float64   \n",
       "\n",
       "     QT_COMP_ALUNO IN_INTERNET IN_BANDA_LARGA QT_FUNCIONARIOS IN_ALIMENTACAO  \\\n",
       "miss     0.0460471  0.00420071      0.0224282               0              0   \n",
       "type       float64     float64        float64         float64        float64   \n",
       "\n",
       "     IN_ESPECIALIZACAO IN_MESTRADO IN_DOUTORADO TITULACAO NU_GRADUACAO  \\\n",
       "miss                 0           0            0         0            0   \n",
       "type           float64     float64      float64   float64        int64   \n",
       "\n",
       "     NU_ESPECIALIZACAO NU_MESTRADO NU_DOUTORADO CO_ANO NU_IDADE  TP_SEXO  \\\n",
       "miss                 0           0            0      0        0        0   \n",
       "type             int64       int64        int64  int64  float64  float64   \n",
       "\n",
       "     TP_COR_RACA TP_ST_CONCLUSAO NU_NOTA_CN NU_NOTA_CH NU_NOTA_LC NU_NOTA_MT  \\\n",
       "miss           0        0.105507          0          0          0          0   \n",
       "type     float64         float64    float64    float64    float64    float64   \n",
       "\n",
       "     NU_NOTA_REDACAO  EDU_PAI  EDU_MAE QT_PESSOAS_CASA RENDA_MENSAL  \\\n",
       "miss               0        0        0               0            0   \n",
       "type         float64  float64  float64         float64      float64   \n",
       "\n",
       "     NU_NOTA_GERAL TARGET TP_COR_RACA_TEMP  \n",
       "miss             0      0         0.894493  \n",
       "type       float64  int64          float64  "
      ]
     },
     "execution_count": 4,
     "metadata": {},
     "output_type": "execute_result"
    }
   ],
   "source": [
    "k= pd.DataFrame()\n",
    "k['miss'] = DF.isnull().sum()/DF.shape[0]\n",
    "k['type'] = DF.dtypes\n",
    "k.T"
   ]
  },
  {
   "cell_type": "code",
   "execution_count": 5,
   "metadata": {
    "ExecuteTime": {
     "end_time": "2020-07-05T18:42:32.169236Z",
     "start_time": "2020-07-05T18:42:32.084656Z"
    }
   },
   "outputs": [
    {
     "data": {
      "text/html": [
       "<div>\n",
       "<style scoped>\n",
       "    .dataframe tbody tr th:only-of-type {\n",
       "        vertical-align: middle;\n",
       "    }\n",
       "\n",
       "    .dataframe tbody tr th {\n",
       "        vertical-align: top;\n",
       "    }\n",
       "\n",
       "    .dataframe thead th {\n",
       "        text-align: right;\n",
       "    }\n",
       "</style>\n",
       "<table border=\"1\" class=\"dataframe\">\n",
       "  <thead>\n",
       "    <tr style=\"text-align: right;\">\n",
       "      <th></th>\n",
       "      <th>CO_ESCOLA</th>\n",
       "      <th>CO_MUNICIPIO</th>\n",
       "      <th>CO_UF</th>\n",
       "      <th>CO_DEPENDENCIA_ADM</th>\n",
       "      <th>IN_AGUA_INEXISTENTE</th>\n",
       "      <th>IN_ESGOTO_INEXISTENTE</th>\n",
       "      <th>IN_ENERGIA_INEXISTENTE</th>\n",
       "      <th>IN_LABORATORIO_INFORMATICA</th>\n",
       "      <th>IN_LABORATORIO_CIENCIAS</th>\n",
       "      <th>IN_SALA_ATENDIMENTO_ESPECIAL</th>\n",
       "      <th>IN_BIBLIOTECA</th>\n",
       "      <th>IN_SALA_LEITURA</th>\n",
       "      <th>IN_BANHEIRO_FORA_PREDIO</th>\n",
       "      <th>IN_BANHEIRO_PNE</th>\n",
       "      <th>IN_DEPENDENCIAS_PNE</th>\n",
       "      <th>QT_SALAS_UTILIZADAS</th>\n",
       "      <th>QT_EQUIP_TV</th>\n",
       "      <th>QT_EQUIP_DVD</th>\n",
       "      <th>QT_EQUIP_COPIADORA</th>\n",
       "      <th>QT_EQUIP_IMPRESSORA</th>\n",
       "      <th>QT_COM_ADMINISTRATIVO</th>\n",
       "      <th>QT_COMP_ALUNO</th>\n",
       "      <th>IN_INTERNET</th>\n",
       "      <th>IN_BANDA_LARGA</th>\n",
       "      <th>QT_FUNCIONARIOS</th>\n",
       "      <th>IN_ALIMENTACAO</th>\n",
       "      <th>IN_ESPECIALIZACAO</th>\n",
       "      <th>IN_MESTRADO</th>\n",
       "      <th>IN_DOUTORADO</th>\n",
       "      <th>TITULACAO</th>\n",
       "      <th>NU_GRADUACAO</th>\n",
       "      <th>NU_ESPECIALIZACAO</th>\n",
       "      <th>NU_MESTRADO</th>\n",
       "      <th>NU_DOUTORADO</th>\n",
       "      <th>CO_ANO</th>\n",
       "      <th>NU_IDADE</th>\n",
       "      <th>TP_SEXO</th>\n",
       "      <th>TP_COR_RACA</th>\n",
       "      <th>TP_ST_CONCLUSAO</th>\n",
       "      <th>NU_NOTA_CN</th>\n",
       "      <th>NU_NOTA_CH</th>\n",
       "      <th>NU_NOTA_LC</th>\n",
       "      <th>NU_NOTA_MT</th>\n",
       "      <th>NU_NOTA_REDACAO</th>\n",
       "      <th>EDU_PAI</th>\n",
       "      <th>EDU_MAE</th>\n",
       "      <th>QT_PESSOAS_CASA</th>\n",
       "      <th>RENDA_MENSAL</th>\n",
       "      <th>NU_NOTA_GERAL</th>\n",
       "      <th>TARGET</th>\n",
       "      <th>TP_COR_RACA_TEMP</th>\n",
       "    </tr>\n",
       "  </thead>\n",
       "  <tbody>\n",
       "  </tbody>\n",
       "</table>\n",
       "</div>"
      ],
      "text/plain": [
       "Empty DataFrame\n",
       "Columns: [CO_ESCOLA, CO_MUNICIPIO, CO_UF, CO_DEPENDENCIA_ADM, IN_AGUA_INEXISTENTE, IN_ESGOTO_INEXISTENTE, IN_ENERGIA_INEXISTENTE, IN_LABORATORIO_INFORMATICA, IN_LABORATORIO_CIENCIAS, IN_SALA_ATENDIMENTO_ESPECIAL, IN_BIBLIOTECA, IN_SALA_LEITURA, IN_BANHEIRO_FORA_PREDIO, IN_BANHEIRO_PNE, IN_DEPENDENCIAS_PNE, QT_SALAS_UTILIZADAS, QT_EQUIP_TV, QT_EQUIP_DVD, QT_EQUIP_COPIADORA, QT_EQUIP_IMPRESSORA, QT_COM_ADMINISTRATIVO, QT_COMP_ALUNO, IN_INTERNET, IN_BANDA_LARGA, QT_FUNCIONARIOS, IN_ALIMENTACAO, IN_ESPECIALIZACAO, IN_MESTRADO, IN_DOUTORADO, TITULACAO, NU_GRADUACAO, NU_ESPECIALIZACAO, NU_MESTRADO, NU_DOUTORADO, CO_ANO, NU_IDADE, TP_SEXO, TP_COR_RACA, TP_ST_CONCLUSAO, NU_NOTA_CN, NU_NOTA_CH, NU_NOTA_LC, NU_NOTA_MT, NU_NOTA_REDACAO, EDU_PAI, EDU_MAE, QT_PESSOAS_CASA, RENDA_MENSAL, NU_NOTA_GERAL, TARGET, TP_COR_RACA_TEMP]\n",
       "Index: []"
      ]
     },
     "execution_count": 5,
     "metadata": {},
     "output_type": "execute_result"
    }
   ],
   "source": [
    "#There are not schools with high speed internet and no internet, as expected.\n",
    "DF[(DF.IN_BANDA_LARGA == 1)&(DF.IN_BANDA_LARGA.isnull())]"
   ]
  },
  {
   "cell_type": "code",
   "execution_count": 6,
   "metadata": {
    "ExecuteTime": {
     "end_time": "2020-07-05T18:42:35.755307Z",
     "start_time": "2020-07-05T18:42:35.696880Z"
    }
   },
   "outputs": [],
   "source": [
    "#by context, lets fill it with 0\n",
    "DF.fillna(0, inplace=True,)"
   ]
  },
  {
   "cell_type": "code",
   "execution_count": 7,
   "metadata": {
    "ExecuteTime": {
     "end_time": "2020-07-05T18:42:37.206322Z",
     "start_time": "2020-07-05T18:42:36.261356Z"
    }
   },
   "outputs": [],
   "source": [
    "fields = ['IN_AGUA_INEXISTENTE', 'IN_ESGOTO_INEXISTENTE', 'IN_ENERGIA_INEXISTENTE', 'QT_EQUIP_TV','QT_EQUIP_DVD', \n",
    "          'QT_COM_ADMINISTRATIVO','QT_EQUIP_IMPRESSORA','QT_EQUIP_COPIADORA', 'IN_BANDA_LARGA', 'IN_BIBLIOTECA', \n",
    "          'IN_LABORATORIO_INFORMATICA', 'IN_LABORATORIO_CIENCIAS',]\n",
    "\n",
    "DF['IN_INFRA_NENHUMA'] = 1\n",
    "\n",
    "\n",
    "infra_elementar = (DF.IN_AGUA_INEXISTENTE==0) & (DF.IN_ESGOTO_INEXISTENTE==0)&(DF.IN_ENERGIA_INEXISTENTE ==0)\n",
    "infra_basica = (DF.QT_EQUIP_TV!=0) & (DF.QT_EQUIP_DVD !=0) & (DF.QT_COM_ADMINISTRATIVO!=0) & (\n",
    "    DF.QT_EQUIP_IMPRESSORA!=0)\n",
    "\n",
    "infra_adequada = (DF.QT_EQUIP_COPIADORA != 0)&(DF.IN_BANDA_LARGA != 0)|(DF.IN_BIBLIOTECA!=0)&(\n",
    "    DF.IN_LABORATORIO_INFORMATICA!=0) \n",
    "\n",
    "infra_avancada = (DF.IN_LABORATORIO_CIENCIAS!=0)\n",
    "\n",
    "DF.loc[(infra_elementar), 'IN_INFRA_ELEMENTAR'] = 1\n",
    "DF.loc[((infra_elementar) & (infra_basica)), 'IN_INFRA_BASICA'] = 1\n",
    "DF.loc[((infra_elementar)& (infra_basica) & (infra_adequada)), 'IN_INFRA_ADEQUADA'] = 1\n",
    "DF.loc[((infra_elementar)& (infra_basica) & (infra_adequada) & (infra_avancada)), 'IN_INFRA_AVANCADA'] = 1\n",
    "\n",
    "DF.loc[DF['IN_INFRA_ELEMENTAR']==1, 'IN_INFRA_NENHUMA']=0\n",
    "DF.loc[(DF.IN_INFRA_ELEMENTAR==1) & (DF.IN_INFRA_BASICA==1), 'IN_INFRA_ELEMENTAR'] = 0\n",
    "DF.loc[(DF.IN_INFRA_BASICA==1) & (DF.IN_INFRA_ADEQUADA==1), 'IN_INFRA_BASICA'] = 0\n",
    "DF.loc[(DF.IN_INFRA_ADEQUADA==1) & (DF.IN_INFRA_AVANCADA==1), 'IN_INFRA_ADEQUADA'] = 0\n",
    "\n",
    "DF['IN_TP_ESCOLA'] = \"\"\n",
    "DF.loc[(DF.CO_DEPENDENCIA_ADM== 2) | (DF.CO_DEPENDENCIA_ADM == 3), 'IN_TP_ESCOLA']= 'Municipal+Estadual'\n",
    "DF.loc[(DF.CO_DEPENDENCIA_ADM == 4), 'IN_TP_ESCOLA'] = 'Privada'\n",
    "DF.loc[(DF.CO_DEPENDENCIA_ADM == 1), 'IN_TP_ESCOLA'] = 'Federal'\n",
    "\n",
    "\n",
    "\n",
    "#((DF.IN_INFRA_BASICA==1)| (DF.IN_INFRA_ADEQUADA==1)|(DF.IN_INFRA_AVANCADA==1))"
   ]
  },
  {
   "cell_type": "code",
   "execution_count": 8,
   "metadata": {
    "ExecuteTime": {
     "end_time": "2020-07-05T18:42:42.303350Z",
     "start_time": "2020-07-05T18:42:42.266142Z"
    }
   },
   "outputs": [],
   "source": [
    "DF[['IN_INFRA_ELEMENTAR', 'IN_INFRA_BASICA', 'IN_INFRA_ADEQUADA', \n",
    "    'IN_INFRA_AVANCADA']] = DF[['IN_INFRA_ELEMENTAR', 'IN_INFRA_BASICA', 'IN_INFRA_ADEQUADA', \n",
    "                                'IN_INFRA_AVANCADA']].fillna(0)"
   ]
  },
  {
   "cell_type": "code",
   "execution_count": 9,
   "metadata": {
    "ExecuteTime": {
     "end_time": "2020-07-05T18:42:46.203132Z",
     "start_time": "2020-07-05T18:42:43.523392Z"
    }
   },
   "outputs": [
    {
     "data": {
      "text/plain": [
       "<matplotlib.axes._subplots.AxesSubplot at 0x7f8adba3e250>"
      ]
     },
     "execution_count": 9,
     "metadata": {},
     "output_type": "execute_result"
    },
    {
     "data": {
      "image/png": "[encoded data removed]",
      "text/plain": [
       "<Figure size 432x288 with 1 Axes>"
      ]
     },
     "metadata": {
      "needs_background": "light"
     },
     "output_type": "display_data"
    }
   ],
   "source": [
    "DF[DF['CO_DEPENDENCIA_ADM']==1].groupby(['CO_ANO'])['NU_NOTA_GERAL'].mean().plot()\n",
    "DF[DF['CO_DEPENDENCIA_ADM']==2].groupby(['CO_ANO'])['NU_NOTA_GERAL'].mean().plot()\n",
    "DF[DF['CO_DEPENDENCIA_ADM']==3].groupby(['CO_ANO'])['NU_NOTA_GERAL'].mean().plot()\n",
    "DF[DF['CO_DEPENDENCIA_ADM']==4].groupby(['CO_ANO'])['NU_NOTA_GERAL'].mean().plot()"
   ]
  },
  {
   "cell_type": "code",
   "execution_count": 11,
   "metadata": {
    "ExecuteTime": {
     "end_time": "2020-07-05T18:43:28.235787Z",
     "start_time": "2020-07-05T18:42:52.676434Z"
    }
   },
   "outputs": [],
   "source": [
    "DF.to_csv('ALL_SCHOOLS.csv', index =False)"
   ]
  },
  {
   "cell_type": "code",
   "execution_count": 10,
   "metadata": {
    "ExecuteTime": {
     "end_time": "2020-07-05T18:42:46.225830Z",
     "start_time": "2020-07-05T18:42:46.209938Z"
    }
   },
   "outputs": [
    {
     "data": {
      "text/plain": [
       "Index(['CO_ESCOLA', 'CO_MUNICIPIO', 'CO_UF', 'CO_DEPENDENCIA_ADM',\n",
       "       'IN_AGUA_INEXISTENTE', 'IN_ESGOTO_INEXISTENTE',\n",
       "       'IN_ENERGIA_INEXISTENTE', 'IN_LABORATORIO_INFORMATICA',\n",
       "       'IN_LABORATORIO_CIENCIAS', 'IN_SALA_ATENDIMENTO_ESPECIAL',\n",
       "       'IN_BIBLIOTECA', 'IN_SALA_LEITURA', 'IN_BANHEIRO_FORA_PREDIO',\n",
       "       'IN_BANHEIRO_PNE', 'IN_DEPENDENCIAS_PNE', 'QT_SALAS_UTILIZADAS',\n",
       "       'QT_EQUIP_TV', 'QT_EQUIP_DVD', 'QT_EQUIP_COPIADORA',\n",
       "       'QT_EQUIP_IMPRESSORA', 'QT_COM_ADMINISTRATIVO', 'QT_COMP_ALUNO',\n",
       "       'IN_INTERNET', 'IN_BANDA_LARGA', 'QT_FUNCIONARIOS', 'IN_ALIMENTACAO',\n",
       "       'IN_ESPECIALIZACAO', 'IN_MESTRADO', 'IN_DOUTORADO', 'TITULACAO',\n",
       "       'NU_GRADUACAO', 'NU_ESPECIALIZACAO', 'NU_MESTRADO', 'NU_DOUTORADO',\n",
       "       'CO_ANO', 'NU_IDADE', 'TP_SEXO', 'TP_COR_RACA', 'TP_ST_CONCLUSAO',\n",
       "       'NU_NOTA_CN', 'NU_NOTA_CH', 'NU_NOTA_LC', 'NU_NOTA_MT',\n",
       "       'NU_NOTA_REDACAO', 'EDU_PAI', 'EDU_MAE', 'QT_PESSOAS_CASA',\n",
       "       'RENDA_MENSAL', 'NU_NOTA_GERAL', 'TARGET', 'TP_COR_RACA_TEMP',\n",
       "       'IN_INFRA_NENHUMA', 'IN_INFRA_ELEMENTAR', 'IN_INFRA_BASICA',\n",
       "       'IN_INFRA_ADEQUADA', 'IN_INFRA_AVANCADA', 'IN_TP_ESCOLA'],\n",
       "      dtype='object')"
      ]
     },
     "execution_count": 10,
     "metadata": {},
     "output_type": "execute_result"
    }
   ],
   "source": [
    "DF.columns"
   ]
  },
  {
   "cell_type": "code",
   "execution_count": null,
   "metadata": {},
   "outputs": [],
   "source": []
  }
 ],
 "metadata": {
  "kernelspec": {
   "display_name": "Python 3",
   "language": "python",
   "name": "python3"
  },
  "language_info": {
   "codemirror_mode": {
    "name": "ipython",
    "version": 3
   },
   "file_extension": ".py",
   "mimetype": "text/x-python",
   "name": "python",
   "nbconvert_exporter": "python",
   "pygments_lexer": "ipython3",
   "version": "3.7.6"
  }
 },
 "nbformat": 4,
 "nbformat_minor": 4
}
