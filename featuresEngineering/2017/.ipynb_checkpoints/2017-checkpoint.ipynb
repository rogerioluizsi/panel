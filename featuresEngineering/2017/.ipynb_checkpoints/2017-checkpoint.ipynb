{
 "cells": [
  {
   "cell_type": "code",
   "execution_count": 1,
   "metadata": {
    "ExecuteTime": {
     "end_time": "2020-05-06T16:01:11.580503Z",
     "start_time": "2020-05-06T16:01:10.002300Z"
    }
   },
   "outputs": [],
   "source": [
    "import time\n",
    "import pandas as pd\n",
    "import numpy as np\n",
    "import warnings\n",
    "import feather\n",
    "warnings.filterwarnings('ignore')\n",
    "from pandas.api.types import is_string_dtype\n",
    "from pandas.api.types import is_numeric_dtype\n",
    "pd.set_option('display.max_columns', None)"
   ]
  },
  {
   "cell_type": "markdown",
   "metadata": {},
   "source": [
    "There are many insignificant features to our work, like codes, PK, FK and out of context. \n",
    "Based on prior works and experience of especialists, will be taken off nonsense features. \n",
    "A study was carried out on the evolution and correspondence of these resources in the ENEM and Census\n",
    "data for the period 2009-2018. See (featuresOrganisaton.xls)"
   ]
  },
  {
   "cell_type": "code",
   "execution_count": 2,
   "metadata": {
    "ExecuteTime": {
     "end_time": "2020-05-06T16:02:18.915476Z",
     "start_time": "2020-05-06T16:02:18.899949Z"
    }
   },
   "outputs": [],
   "source": [
    "teacher = ['CO_PESSOA_FISICA', 'CO_ENTIDADE','IN_ESPECIALIZACAO','IN_MESTRADO','IN_DOUTORADO']\n",
    "school = ['NU_ANO_CENSO','CO_ENTIDADE', 'CO_MUNICIPIO','CO_UF','TP_DEPENDENCIA','IN_AGUA_INEXISTENTE',\n",
    "                  'IN_ESGOTO_INEXISTENTE','IN_ENERGIA_INEXISTENTE',\n",
    "                   'IN_LABORATORIO_INFORMATICA','IN_LABORATORIO_CIENCIAS','IN_SALA_ATENDIMENTO_ESPECIAL',\n",
    "                   'IN_BIBLIOTECA','IN_SALA_LEITURA','IN_BANHEIRO_FORA_PREDIO',\n",
    "                   'IN_BANHEIRO_PNE','IN_DEPENDENCIAS_PNE','NU_SALAS_UTILIZADAS','NU_EQUIP_TV',\n",
    "                   'NU_EQUIP_DVD','NU_EQUIP_COPIADORA','NU_EQUIP_IMPRESSORA','NU_COMP_ADMINISTRATIVO',\n",
    "                   'NU_COMP_ALUNO','IN_INTERNET','IN_BANDA_LARGA','NU_FUNCIONARIOS','IN_ALIMENTACAO']\n",
    "enem = ['NU_ANO','CO_ESCOLA','TP_ENSINO','NU_IDADE','TP_SEXO','TP_COR_RACA','TP_ST_CONCLUSAO','NU_NOTA_CN',\n",
    "        'NU_NOTA_CH','NU_NOTA_LC','NU_NOTA_MT','NU_NOTA_REDACAO','Q001','Q002','Q005','Q006'\n",
    "]\n"
   ]
  },
  {
   "cell_type": "code",
   "execution_count": 3,
   "metadata": {
    "ExecuteTime": {
     "end_time": "2020-05-06T16:05:26.250172Z",
     "start_time": "2020-05-06T16:02:22.718881Z"
    }
   },
   "outputs": [],
   "source": [
    "#Students of ENEM\n",
    "E = pd.read_csv('~/data/enem/2017/DADOS/MICRODADOS_ENEM_2017.csv', sep=';', encoding=\"iso-8859-2\", usecols = enem)"
   ]
  },
  {
   "cell_type": "code",
   "execution_count": 4,
   "metadata": {
    "ExecuteTime": {
     "end_time": "2020-05-06T16:05:31.069207Z",
     "start_time": "2020-05-06T16:05:26.252859Z"
    }
   },
   "outputs": [],
   "source": [
    "#School census data\n",
    "CE =pd.read_csv(\"~/data/censo/2017/DADOS/ESCOLAS.CSV\", sep='|', encoding=\"iso-8859-2\", usecols = school)"
   ]
  },
  {
   "cell_type": "code",
   "execution_count": 5,
   "metadata": {
    "ExecuteTime": {
     "end_time": "2020-05-06T16:08:06.154593Z",
     "start_time": "2020-05-06T16:05:31.074858Z"
    }
   },
   "outputs": [],
   "source": [
    "#Teacher census data by Braazilian mesoregion\n",
    "CD_CO = pd.read_csv(\"~/data/censo/2017/DADOS/DOCENTES_CO.CSV\", sep='|', encoding=\"iso-8859-2\", usecols = teacher)\n",
    "CD_NE = pd.read_csv(\"~/data/censo/2017/DADOS/DOCENTES_NORDESTE.CSV\", sep='|', encoding=\"iso-8859-2\", usecols = teacher)\n",
    "CD_N =  pd.read_csv(\"~/data/censo/2017/DADOS/DOCENTES_NORTE.CSV\", sep='|', encoding=\"iso-8859-2\",usecols = teacher)\n",
    "CD_SE = pd.read_csv(\"~/data/censo/2017/DADOS/DOCENTES_SUDESTE.CSV\", sep='|', encoding=\"iso-8859-2\", usecols = teacher)\n",
    "CD_S =  pd.read_csv(\"~/data/censo/2017/DADOS/DOCENTES_SUL.CSV\", sep='|', encoding=\"iso-8859-2\", usecols = teacher)\n",
    "\n",
    "#All teacher census data\n",
    "CT = pd.concat([CD_CO, CD_NE, CD_N, CD_SE, CD_S])"
   ]
  },
  {
   "cell_type": "code",
   "execution_count": 22,
   "metadata": {
    "ExecuteTime": {
     "end_time": "2020-05-06T16:14:22.567827Z",
     "start_time": "2020-05-06T16:14:20.832256Z"
    }
   },
   "outputs": [],
   "source": [
    "ENEM = E.copy()\n",
    "C_SCHOOL = CE.copy()\n",
    "C_TEACHER = CT.copy()"
   ]
  },
  {
   "cell_type": "code",
   "execution_count": 23,
   "metadata": {
    "ExecuteTime": {
     "end_time": "2020-05-06T16:14:24.025453Z",
     "start_time": "2020-05-06T16:14:22.570501Z"
    }
   },
   "outputs": [
    {
     "name": "stdout",
     "output_type": "stream",
     "text": [
      "checking year [2017]\n",
      "checking key float64\n"
     ]
    }
   ],
   "source": [
    "#ordering\n",
    "ENEM = ENEM[enem]\n",
    "\n",
    "newNames = [\n",
    "'CO_ANO',\n",
    "'CO_ESCOLA',\n",
    "'TP_ENSINO',\n",
    "'NU_IDADE',\n",
    "'TP_SEXO',\n",
    "'TP_COR_RACA',\n",
    "'TP_ST_CONCLUSAO',\n",
    "'NU_NOTA_CN',\n",
    "'NU_NOTA_CH',\n",
    "'NU_NOTA_LC',\n",
    "'NU_NOTA_MT',\n",
    "'NU_NOTA_REDACAO',\n",
    "'EDU_PAI',\n",
    "'EDU_MAE',\n",
    "'QT_PESSOAS_CASA',\n",
    "'RENDA_MENSAL'\n",
    "]\n",
    "\n",
    "#Rename\n",
    "ENEM.columns = newNames\n",
    "\n",
    "print('checking year',ENEM.CO_ANO.unique())\n",
    "print('checking key',ENEM.CO_ESCOLA.dtypes)"
   ]
  },
  {
   "cell_type": "code",
   "execution_count": 24,
   "metadata": {
    "ExecuteTime": {
     "end_time": "2020-05-06T16:14:24.144280Z",
     "start_time": "2020-05-06T16:14:24.031682Z"
    }
   },
   "outputs": [
    {
     "name": "stdout",
     "output_type": "stream",
     "text": [
      "Checking year of censo [2017]\n",
      "checking key int64\n"
     ]
    }
   ],
   "source": [
    "C_SCHOOL = C_SCHOOL[school]\n",
    "\n",
    "newNames = ['ANO_CENSO',\n",
    "'CO_ESCOLA',\n",
    " 'CO_MUNICIPIO',\n",
    " 'CO_UF',\n",
    " 'CO_DEPENDENCIA_ADM',\n",
    " 'IN_AGUA_INEXISTENTE',\n",
    " 'IN_ESGOTO_INEXISTENTE',\n",
    " 'IN_ENERGIA_INEXISTENTE',\n",
    " 'IN_LABORATORIO_INFORMATICA',\n",
    " 'IN_LABORATORIO_CIENCIAS',\n",
    " 'IN_SALA_ATENDIMENTO_ESPECIAL',\n",
    " 'IN_BIBLIOTECA',\n",
    " 'IN_SALA_LEITURA',\n",
    " 'IN_BANHEIRO_FORA_PREDIO',\n",
    " 'IN_BANHEIRO_PNE',\n",
    " 'IN_DEPENDENCIAS_PNE',\n",
    " 'QT_SALAS_UTILIZADAS',\n",
    " 'QT_EQUIP_TV',\n",
    " 'QT_EQUIP_DVD',\n",
    " 'QT_EQUIP_COPIADORA',\n",
    " 'QT_EQUIP_IMPRESSORA',\n",
    " 'QT_COM_ADMINISTRATIVO',\n",
    " 'QT_COMP_ALUNO',\n",
    " 'IN_INTERNET',\n",
    " 'IN_BANDA_LARGA',\n",
    " 'QT_FUNCIONARIOS',\n",
    " 'IN_ALIMENTACAO'\n",
    "]\n",
    "\n",
    "#Rename \n",
    "C_SCHOOL.columns =  newNames\n",
    "\n",
    "print('Checking year of censo',C_SCHOOL.ANO_CENSO.unique())\n",
    "C_SCHOOL.drop('ANO_CENSO', axis=1, inplace=True)\n",
    "print('checking key',C_SCHOOL.CO_ESCOLA.dtypes)"
   ]
  },
  {
   "cell_type": "code",
   "execution_count": 25,
   "metadata": {
    "ExecuteTime": {
     "end_time": "2020-05-06T16:14:29.481022Z",
     "start_time": "2020-05-06T16:14:24.149209Z"
    }
   },
   "outputs": [
    {
     "name": "stdout",
     "output_type": "stream",
     "text": [
      "checking key int64\n"
     ]
    }
   ],
   "source": [
    "\n",
    "C_TEACHER = C_TEACHER[teacher]\n",
    "\n",
    "# New default column names for all Datasets\n",
    "newNames = [\n",
    "'CO_PROFESSOR',\n",
    "'CO_ESCOLA',  \n",
    "'IN_ESPECIALIZACAO',\n",
    "'IN_MESTRADO',\n",
    "'IN_DOUTORADO'\n",
    "]\n",
    "#It's necessary drop duplicates whose are teachers in the same school but in different classes. \n",
    "#This way, the teacher appear just one time in each school. \n",
    "C_TEACHER.columns = newNames\n",
    "C_TEACHER.drop_duplicates(subset=['CO_PROFESSOR', 'CO_ESCOLA'], inplace=True)\n",
    "C_TEACHER.drop('CO_PROFESSOR', axis=1, inplace = True)\n",
    "\n",
    "print('checking key',C_TEACHER.CO_ESCOLA.dtypes)"
   ]
  },
  {
   "cell_type": "markdown",
   "metadata": {
    "ExecuteTime": {
     "end_time": "2020-04-24T01:55:56.204316Z",
     "start_time": "2020-04-24T01:55:55.856628Z"
    }
   },
   "source": [
    "### Minimum Scope Definition\n"
   ]
  },
  {
   "cell_type": "code",
   "execution_count": 26,
   "metadata": {
    "ExecuteTime": {
     "end_time": "2020-05-06T16:14:30.315430Z",
     "start_time": "2020-05-06T16:14:29.485750Z"
    }
   },
   "outputs": [],
   "source": [
    "ENEM.dropna(inplace = True, axis=0, subset = ['CO_ESCOLA'])"
   ]
  },
  {
   "cell_type": "code",
   "execution_count": 27,
   "metadata": {
    "ExecuteTime": {
     "end_time": "2020-05-06T16:14:30.370838Z",
     "start_time": "2020-05-06T16:14:30.322154Z"
    }
   },
   "outputs": [
    {
     "data": {
      "text/plain": [
       "TP_ST_CONCLUSAO     0\n",
       "TP_ENSINO          16\n",
       "dtype: int64"
      ]
     },
     "execution_count": 27,
     "metadata": {},
     "output_type": "execute_result"
    }
   ],
   "source": [
    "#should care about the nulls into scope filter features?\n",
    "filters = (['TP_ST_CONCLUSAO', 'TP_ENSINO'])\n",
    "ENEM[filters].isnull().sum()\n",
    "#NO, IT'S LOWER"
   ]
  },
  {
   "cell_type": "code",
   "execution_count": 28,
   "metadata": {
    "ExecuteTime": {
     "end_time": "2020-05-06T16:14:31.065198Z",
     "start_time": "2020-05-06T16:14:30.375745Z"
    }
   },
   "outputs": [
    {
     "name": "stdout",
     "output_type": "stream",
     "text": [
      "drop out 1785921 who not attend regular and prof approachs schools\n"
     ]
    }
   ],
   "source": [
    "print('drop out',((ENEM.TP_ENSINO!= 1)|(ENEM.TP_ENSINO!= 3)).sum(), 'who not attend regular and prof approachs schools')\n",
    "ENEM = ENEM.loc[((ENEM.TP_ENSINO== 1)|(ENEM.TP_ENSINO== 3))]\n",
    "ENEM.drop('TP_ENSINO', inplace = True, axis =1)\n"
   ]
  },
  {
   "cell_type": "code",
   "execution_count": 29,
   "metadata": {
    "ExecuteTime": {
     "end_time": "2020-05-06T16:14:31.167787Z",
     "start_time": "2020-05-06T16:14:31.069496Z"
    }
   },
   "outputs": [
    {
     "name": "stdout",
     "output_type": "stream",
     "text": [
      "null: NU_NOTA_CN 394832\n",
      "zero: NU_NOTA_CN 129\n",
      "null: NU_NOTA_CH 324895\n",
      "zero: NU_NOTA_CH 2327\n",
      "null: NU_NOTA_LC 324895\n",
      "zero: NU_NOTA_LC 955\n",
      "null: NU_NOTA_MT 394832\n",
      "zero: NU_NOTA_MT 195\n",
      "null: NU_NOTA_REDACAO 324895\n",
      "zero: NU_NOTA_REDACAO 89363\n"
     ]
    }
   ],
   "source": [
    "fields = (['NU_NOTA_CN', 'NU_NOTA_CH','NU_NOTA_LC','NU_NOTA_MT', 'NU_NOTA_REDACAO'])\n",
    "for i in fields:\n",
    "    print ('null:', i, ENEM[i].isnull().sum())\n",
    "    print ('zero:', i, (ENEM[i]== 0).sum())\n",
    "\n",
    "    \n",
    "    #, \"and\", ENEM.I==0)"
   ]
  },
  {
   "cell_type": "code",
   "execution_count": 30,
   "metadata": {
    "ExecuteTime": {
     "end_time": "2020-05-06T16:14:31.927059Z",
     "start_time": "2020-05-06T16:14:31.172499Z"
    }
   },
   "outputs": [],
   "source": [
    "ENEM.dropna(inplace = True, axis=0, subset=fields)\n",
    "ENEM = ENEM.loc[~(ENEM[fields] == 0).any(axis=1)]"
   ]
  },
  {
   "cell_type": "code",
   "execution_count": 31,
   "metadata": {
    "ExecuteTime": {
     "end_time": "2020-05-06T16:14:52.231582Z",
     "start_time": "2020-05-06T16:14:31.933069Z"
    }
   },
   "outputs": [
    {
     "name": "stdout",
     "output_type": "stream",
     "text": [
      "null 29\n",
      "taking off 154716\n"
     ]
    },
    {
     "data": {
      "text/plain": [
       "17    635548\n",
       "18    404782\n",
       "19    108165\n",
       "Name: NU_IDADE, dtype: int64"
      ]
     },
     "execution_count": 31,
     "metadata": {},
     "output_type": "execute_result"
    }
   ],
   "source": [
    "#ONLY STUDENTS AT  17 -19 YEAR OLD. WE WANT TO GET ONLY REGULAR STUDENTS THAT ARE IN LAST YEAR OF SECONDARY SCHOOL. \n",
    "#THE MICRODADOS HAVE A FIELD TO CONTROL IT. BUT IT IS NOT CONFIDENCE,DUE A TURN OUT TEAACHERS THAT EXTEND ACADEMIC YEAR\n",
    "print('null', ENEM.NU_IDADE.isnull().sum())\n",
    "#firts, fill NA with the mean of student school\n",
    "ENEM.NU_IDADE = ENEM.groupby(ENEM['CO_ESCOLA'])['NU_IDADE'].apply(lambda x: x.fillna(round(x.mean())))\n",
    "ENEM.NU_IDADE = ENEM.NU_IDADE.astype('int32')\n",
    "print('taking off',((ENEM.NU_IDADE <17)|(ENEM.NU_IDADE>19)).sum())\n",
    "ENEM = ENEM.loc[(ENEM.NU_IDADE >16) &  (ENEM.NU_IDADE<20)]\n",
    "ENEM.NU_IDADE.value_counts()"
   ]
  },
  {
   "cell_type": "code",
   "execution_count": 32,
   "metadata": {
    "ExecuteTime": {
     "end_time": "2020-05-06T16:14:52.755482Z",
     "start_time": "2020-05-06T16:14:52.236683Z"
    }
   },
   "outputs": [
    {
     "data": {
      "text/html": [
       "<div>\n",
       "<style scoped>\n",
       "    .dataframe tbody tr th:only-of-type {\n",
       "        vertical-align: middle;\n",
       "    }\n",
       "\n",
       "    .dataframe tbody tr th {\n",
       "        vertical-align: top;\n",
       "    }\n",
       "\n",
       "    .dataframe thead th {\n",
       "        text-align: right;\n",
       "    }\n",
       "</style>\n",
       "<table border=\"1\" class=\"dataframe\">\n",
       "  <thead>\n",
       "    <tr style=\"text-align: right;\">\n",
       "      <th></th>\n",
       "      <th>NU_NOTA_CN</th>\n",
       "      <th>NU_NOTA_CH</th>\n",
       "      <th>NU_NOTA_LC</th>\n",
       "      <th>NU_NOTA_MT</th>\n",
       "      <th>NU_NOTA_REDACAO</th>\n",
       "    </tr>\n",
       "  </thead>\n",
       "  <tbody>\n",
       "    <tr>\n",
       "      <th>count</th>\n",
       "      <td>1.148495e+06</td>\n",
       "      <td>1.148495e+06</td>\n",
       "      <td>1.148495e+06</td>\n",
       "      <td>1.148495e+06</td>\n",
       "      <td>1.148495e+06</td>\n",
       "    </tr>\n",
       "    <tr>\n",
       "      <th>mean</th>\n",
       "      <td>5.112920e+02</td>\n",
       "      <td>5.235768e+02</td>\n",
       "      <td>5.124222e+02</td>\n",
       "      <td>5.269813e+02</td>\n",
       "      <td>5.718784e+02</td>\n",
       "    </tr>\n",
       "    <tr>\n",
       "      <th>std</th>\n",
       "      <td>7.243617e+01</td>\n",
       "      <td>8.019560e+01</td>\n",
       "      <td>6.422432e+01</td>\n",
       "      <td>1.062575e+02</td>\n",
       "      <td>1.323502e+02</td>\n",
       "    </tr>\n",
       "    <tr>\n",
       "      <th>min</th>\n",
       "      <td>3.000000e+02</td>\n",
       "      <td>3.172000e+02</td>\n",
       "      <td>2.996000e+02</td>\n",
       "      <td>3.204000e+02</td>\n",
       "      <td>4.000000e+01</td>\n",
       "    </tr>\n",
       "    <tr>\n",
       "      <th>25%</th>\n",
       "      <td>4.545000e+02</td>\n",
       "      <td>4.617000e+02</td>\n",
       "      <td>4.718000e+02</td>\n",
       "      <td>4.434000e+02</td>\n",
       "      <td>4.800000e+02</td>\n",
       "    </tr>\n",
       "    <tr>\n",
       "      <th>50%</th>\n",
       "      <td>5.063000e+02</td>\n",
       "      <td>5.261000e+02</td>\n",
       "      <td>5.159000e+02</td>\n",
       "      <td>5.121000e+02</td>\n",
       "      <td>5.600000e+02</td>\n",
       "    </tr>\n",
       "    <tr>\n",
       "      <th>75%</th>\n",
       "      <td>5.628000e+02</td>\n",
       "      <td>5.843000e+02</td>\n",
       "      <td>5.574000e+02</td>\n",
       "      <td>5.943000e+02</td>\n",
       "      <td>6.400000e+02</td>\n",
       "    </tr>\n",
       "    <tr>\n",
       "      <th>max</th>\n",
       "      <td>8.564000e+02</td>\n",
       "      <td>8.683000e+02</td>\n",
       "      <td>7.682000e+02</td>\n",
       "      <td>9.939000e+02</td>\n",
       "      <td>1.000000e+03</td>\n",
       "    </tr>\n",
       "  </tbody>\n",
       "</table>\n",
       "</div>"
      ],
      "text/plain": [
       "         NU_NOTA_CN    NU_NOTA_CH    NU_NOTA_LC    NU_NOTA_MT  NU_NOTA_REDACAO\n",
       "count  1.148495e+06  1.148495e+06  1.148495e+06  1.148495e+06     1.148495e+06\n",
       "mean   5.112920e+02  5.235768e+02  5.124222e+02  5.269813e+02     5.718784e+02\n",
       "std    7.243617e+01  8.019560e+01  6.422432e+01  1.062575e+02     1.323502e+02\n",
       "min    3.000000e+02  3.172000e+02  2.996000e+02  3.204000e+02     4.000000e+01\n",
       "25%    4.545000e+02  4.617000e+02  4.718000e+02  4.434000e+02     4.800000e+02\n",
       "50%    5.063000e+02  5.261000e+02  5.159000e+02  5.121000e+02     5.600000e+02\n",
       "75%    5.628000e+02  5.843000e+02  5.574000e+02  5.943000e+02     6.400000e+02\n",
       "max    8.564000e+02  8.683000e+02  7.682000e+02  9.939000e+02     1.000000e+03"
      ]
     },
     "execution_count": 32,
     "metadata": {},
     "output_type": "execute_result"
    }
   ],
   "source": [
    "ENEM[fields].describe()"
   ]
  },
  {
   "cell_type": "markdown",
   "metadata": {},
   "source": [
    "### Transform features to default categories"
   ]
  },
  {
   "cell_type": "code",
   "execution_count": 33,
   "metadata": {
    "ExecuteTime": {
     "end_time": "2020-05-06T16:14:53.254640Z",
     "start_time": "2020-05-06T16:14:52.760664Z"
    }
   },
   "outputs": [
    {
     "data": {
      "text/plain": [
       "TP_SEXO            0\n",
       "TP_COR_RACA        0\n",
       "EDU_PAI            0\n",
       "EDU_MAE            0\n",
       "QT_PESSOAS_CASA    1\n",
       "RENDA_MENSAL       1\n",
       "dtype: int64"
      ]
     },
     "execution_count": 33,
     "metadata": {},
     "output_type": "execute_result"
    }
   ],
   "source": [
    "fields = ['TP_SEXO', 'TP_COR_RACA', 'EDU_PAI', 'EDU_MAE','QT_PESSOAS_CASA', 'RENDA_MENSAL']\n",
    "ENEM[fields].isnull().sum()\n",
    "\n"
   ]
  },
  {
   "cell_type": "code",
   "execution_count": 34,
   "metadata": {
    "ExecuteTime": {
     "end_time": "2020-05-06T16:14:53.494658Z",
     "start_time": "2020-05-06T16:14:53.259177Z"
    }
   },
   "outputs": [],
   "source": [
    "ENEM.QT_PESSOAS_CASA.fillna(ENEM.QT_PESSOAS_CASA.mode()[0], inplace=True)\n",
    "ENEM.QT_PESSOAS_CASA = ENEM.QT_PESSOAS_CASA.astype('int32')\n",
    "\n",
    "ENEM.RENDA_MENSAL.fillna(ENEM.RENDA_MENSAL.mode()[0], inplace=True)\n"
   ]
  },
  {
   "cell_type": "code",
   "execution_count": 35,
   "metadata": {
    "ExecuteTime": {
     "end_time": "2020-05-06T16:14:53.994771Z",
     "start_time": "2020-05-06T16:14:53.497311Z"
    }
   },
   "outputs": [
    {
     "name": "stdout",
     "output_type": "stream",
     "text": [
      "TP_SEXO Index(['F', 'M'], dtype='object')\n",
      "TP_COR_RACA Int64Index([3, 1, 2, 4, 0, 5], dtype='int64')\n",
      "EDU_PAI Index(['E', 'B', 'C', 'D', 'H', 'F', 'G', 'A'], dtype='object')\n",
      "EDU_MAE Index(['E', 'D', 'C', 'F', 'B', 'G', 'H', 'A'], dtype='object')\n",
      "QT_PESSOAS_CASA Int64Index([4, 3, 5, 2, 6, 7, 8, 9, 10, 1, 11, 12, 13, 20, 14, 15, 18, 17, 16,\n",
      "            19],\n",
      "           dtype='int64')\n",
      "RENDA_MENSAL Index(['B', 'C', 'D', 'E', 'G', 'F', 'H', 'I', 'A', 'J', 'Q', 'N', 'K', 'L',\n",
      "       'O', 'M', 'P'],\n",
      "      dtype='object')\n"
     ]
    }
   ],
   "source": [
    "for i in fields:\n",
    "    print(i,ENEM[i].value_counts().index)"
   ]
  },
  {
   "cell_type": "code",
   "execution_count": 36,
   "metadata": {
    "ExecuteTime": {
     "end_time": "2020-05-06T16:16:24.722744Z",
     "start_time": "2020-05-06T16:16:24.106549Z"
    }
   },
   "outputs": [],
   "source": [
    "#Order relation, is better for numeric categories.\n",
    "categorical = ['TP_SEXO','EDU_PAI', 'EDU_MAE', 'RENDA_MENSAL']\n",
    "for i in categorical:\n",
    "    codes, uniques = pd.factorize(ENEM[i], sort=True)\n",
    "    ENEM[i] = codes"
   ]
  },
  {
   "cell_type": "code",
   "execution_count": 37,
   "metadata": {
    "ExecuteTime": {
     "end_time": "2020-05-06T16:16:27.425385Z",
     "start_time": "2020-05-06T16:16:27.392235Z"
    }
   },
   "outputs": [],
   "source": [
    "ENEM['EDU_PAI_TEMP'] = ENEM['EDU_PAI']\n",
    "ENEM['EDU_MAE_TEMP'] = ENEM['EDU_MAE']\n",
    "ENEM['QT_PESSOAS_CASA_TEMP'] = ENEM['QT_PESSOAS_CASA']\n",
    "ENEM['RENDA_MENSAL_TEMP'] = ENEM['RENDA_MENSAL']"
   ]
  },
  {
   "cell_type": "code",
   "execution_count": 38,
   "metadata": {
    "ExecuteTime": {
     "end_time": "2020-05-06T16:16:29.803142Z",
     "start_time": "2020-05-06T16:16:28.627097Z"
    }
   },
   "outputs": [],
   "source": [
    "# Paring with default categories\n",
    "\n",
    "ENEM.loc[ENEM['EDU_PAI']==0, 'EDU_PAI_TEMP']=0\n",
    "ENEM.loc[ENEM['EDU_PAI']==1, 'EDU_PAI_TEMP']=0\n",
    "ENEM.loc[ENEM['EDU_PAI']==2, 'EDU_PAI_TEMP']=1\n",
    "ENEM.loc[ENEM['EDU_PAI']==3, 'EDU_PAI_TEMP']=2\n",
    "ENEM.loc[ENEM['EDU_PAI']==4, 'EDU_PAI_TEMP']=3\n",
    "ENEM.loc[ENEM['EDU_PAI']==5, 'EDU_PAI_TEMP']=4\n",
    "ENEM.loc[ENEM['EDU_PAI']==6, 'EDU_PAI_TEMP']=5\n",
    "ENEM.loc[ENEM['EDU_PAI']==7, 'EDU_PAI_TEMP']=0\n",
    "\n",
    "ENEM.loc[ENEM['EDU_MAE']==0, 'EDU_MAE_TEMP']=0\n",
    "ENEM.loc[ENEM['EDU_MAE']==1, 'EDU_MAE_TEMP']=0\n",
    "ENEM.loc[ENEM['EDU_MAE']==2, 'EDU_MAE_TEMP']=1\n",
    "ENEM.loc[ENEM['EDU_MAE']==3, 'EDU_MAE_TEMP']=2\n",
    "ENEM.loc[ENEM['EDU_MAE']==4, 'EDU_MAE_TEMP']=3\n",
    "ENEM.loc[ENEM['EDU_MAE']==5, 'EDU_MAE_TEMP']=4\n",
    "ENEM.loc[ENEM['EDU_MAE']==6, 'EDU_MAE_TEMP']=5\n",
    "ENEM.loc[ENEM['EDU_MAE']==7, 'EDU_MAE_TEMP']=0\n",
    "\n",
    "\n",
    "\n",
    "ENEM.loc[ENEM['QT_PESSOAS_CASA']==1, 'QT_PESSOAS_CASA_TEMP']=0\n",
    "ENEM.loc[ENEM['QT_PESSOAS_CASA']==2, 'QT_PESSOAS_CASA_TEMP']=1\n",
    "ENEM.loc[ENEM['QT_PESSOAS_CASA']==3, 'QT_PESSOAS_CASA_TEMP']=1\n",
    "ENEM.loc[ENEM['QT_PESSOAS_CASA']==4, 'QT_PESSOAS_CASA_TEMP']=2\n",
    "ENEM.loc[ENEM['QT_PESSOAS_CASA']==5, 'QT_PESSOAS_CASA_TEMP']=2\n",
    "ENEM.loc[ENEM['QT_PESSOAS_CASA']==6, 'QT_PESSOAS_CASA_TEMP']=2\n",
    "ENEM.loc[ENEM['QT_PESSOAS_CASA']==7, 'QT_PESSOAS_CASA_TEMP']=2\n",
    "ENEM.loc[ENEM['QT_PESSOAS_CASA']>7, 'QT_PESSOAS_CASA_TEMP']=3\n",
    "\n",
    "ENEM.loc[ENEM['RENDA_MENSAL']==0, 'RENDA_MENSAL_TEMP']=0\n",
    "ENEM.loc[ENEM['RENDA_MENSAL']==1, 'RENDA_MENSAL_TEMP']=1\n",
    "ENEM.loc[ENEM['RENDA_MENSAL']==2, 'RENDA_MENSAL_TEMP']=2\n",
    "ENEM.loc[ENEM['RENDA_MENSAL']==3, 'RENDA_MENSAL_TEMP']=2\n",
    "ENEM.loc[(ENEM['RENDA_MENSAL']>3) & (ENEM['RENDA_MENSAL']<8), 'RENDA_MENSAL_TEMP']=3\n",
    "ENEM.loc[(ENEM['RENDA_MENSAL']>7) & (ENEM['RENDA_MENSAL']<13), 'RENDA_MENSAL_TEMP']=4\n",
    "ENEM.loc[ENEM['RENDA_MENSAL']>12, 'RENDA_MENSAL_TEMP']=5\n"
   ]
  },
  {
   "cell_type": "code",
   "execution_count": 39,
   "metadata": {
    "ExecuteTime": {
     "end_time": "2020-05-06T16:16:45.893352Z",
     "start_time": "2020-05-06T16:16:45.842682Z"
    }
   },
   "outputs": [],
   "source": [
    "#back to original columns\n",
    "ENEM['EDU_PAI'] = ENEM['EDU_PAI_TEMP']\n",
    "ENEM['EDU_MAE'] = ENEM['EDU_MAE_TEMP']\n",
    "ENEM['QT_PESSOAS_CASA'] = ENEM['QT_PESSOAS_CASA_TEMP']\n",
    "ENEM['RENDA_MENSAL'] = ENEM['RENDA_MENSAL_TEMP']\n"
   ]
  },
  {
   "cell_type": "code",
   "execution_count": 40,
   "metadata": {
    "ExecuteTime": {
     "end_time": "2020-05-06T16:16:58.060508Z",
     "start_time": "2020-05-06T16:16:57.959469Z"
    }
   },
   "outputs": [],
   "source": [
    "#drop temps\n",
    "\n",
    "ENEM.drop(['EDU_PAI_TEMP', 'EDU_MAE_TEMP', 'QT_PESSOAS_CASA_TEMP','RENDA_MENSAL_TEMP'], axis=1, inplace=True)"
   ]
  },
  {
   "cell_type": "code",
   "execution_count": 41,
   "metadata": {
    "ExecuteTime": {
     "end_time": "2020-05-06T16:17:14.691266Z",
     "start_time": "2020-05-06T16:17:03.719866Z"
    }
   },
   "outputs": [
    {
     "name": "stdout",
     "output_type": "stream",
     "text": [
      "Total Students at ENEM: 1148495 of 30363 schools\n",
      "Total Schools at Census: 282362\n",
      "########### Only about Schools at ENEM:\n",
      "Schools at ENEM out of School Census 125\n",
      "Schools at ENEM out of Teacher Census 777\n",
      "Schools at ENEM and School Census out of Teacher Census 0\n",
      "Students Wasted***** 1184\n"
     ]
    }
   ],
   "source": [
    "print('Total Students at ENEM:', ENEM.shape[0], 'of', ENEM.drop_duplicates('CO_ESCOLA').shape[0], 'schools')\n",
    "print('Total Schools at Census:', C_SCHOOL.shape[0])\n",
    "\n",
    "       \n",
    "            \n",
    "\n",
    "#######################################\n",
    "print('########### Only about Schools at ENEM:')\n",
    "\n",
    "schoolsEnem = ENEM['CO_ESCOLA'].dropna().unique()\n",
    "schoolsCenso = C_SCHOOL['CO_ESCOLA'].dropna().unique()\n",
    "schoolsTeacher = C_TEACHER['CO_ESCOLA'].dropna().unique()\n",
    "schoolsEnem2 = ENEM['CO_ESCOLA'].dropna()\n",
    "\n",
    "enem_censo = np.setdiff1d(schoolsEnem ,schoolsCenso)\n",
    "print('Schools at ENEM out of School Census', sum(np.isin(schoolsEnem, schoolsCenso, invert=True)))\n",
    "\n",
    "print('Schools at ENEM out of Teacher Census', sum(np.isin(schoolsEnem, schoolsTeacher, invert=True)))\n",
    "print('Schools at ENEM and School Census out of Teacher Census', sum(np.isin(enem_censo, schoolsTeacher)))\n",
    "\n",
    "print('Students Wasted*****', sum(np.isin(schoolsEnem2, schoolsCenso, invert=True)))"
   ]
  },
  {
   "cell_type": "markdown",
   "metadata": {},
   "source": [
    "### New Features"
   ]
  },
  {
   "cell_type": "markdown",
   "metadata": {
    "ExecuteTime": {
     "end_time": "2020-04-24T01:56:13.834541Z",
     "start_time": "2020-04-24T01:56:13.638347Z"
    }
   },
   "source": [
    "ENEM"
   ]
  },
  {
   "cell_type": "code",
   "execution_count": 42,
   "metadata": {
    "ExecuteTime": {
     "end_time": "2020-05-06T16:17:40.254703Z",
     "start_time": "2020-05-06T16:17:39.856137Z"
    }
   },
   "outputs": [
    {
     "name": "stdout",
     "output_type": "stream",
     "text": [
      "75.00441882637713 % lowers quartis\n"
     ]
    }
   ],
   "source": [
    "#Final Media, Target\n",
    "ENEM['NU_NOTA_GERAL'] = (ENEM.NU_NOTA_CN + ENEM.NU_NOTA_CH + ENEM.NU_NOTA_LC + ENEM.NU_NOTA_MT + ENEM.NU_NOTA_REDACAO)/5"
   ]
  },
  {
   "cell_type": "markdown",
   "metadata": {},
   "source": [
    "SCHOOL CENSUS - Itś better include after merge all datasets years."
   ]
  },
  {
   "cell_type": "markdown",
   "metadata": {},
   "source": [
    "TEACHER CENSUS"
   ]
  },
  {
   "cell_type": "code",
   "execution_count": 43,
   "metadata": {
    "ExecuteTime": {
     "end_time": "2020-05-06T16:17:44.887846Z",
     "start_time": "2020-05-06T16:17:44.811296Z"
    }
   },
   "outputs": [
    {
     "data": {
      "text/plain": [
       "CO_ESCOLA                 0\n",
       "IN_ESPECIALIZACAO    843534\n",
       "IN_MESTRADO          843534\n",
       "IN_DOUTORADO         843534\n",
       "dtype: int64"
      ]
     },
     "execution_count": 43,
     "metadata": {},
     "output_type": "execute_result"
    }
   ],
   "source": [
    "C_TEACHER.isnull().sum()"
   ]
  },
  {
   "cell_type": "code",
   "execution_count": 44,
   "metadata": {
    "ExecuteTime": {
     "end_time": "2020-05-06T16:17:56.003778Z",
     "start_time": "2020-05-06T16:17:54.865604Z"
    }
   },
   "outputs": [
    {
     "name": "stdout",
     "output_type": "stream",
     "text": [
      "number of teacher who work at an school listed at ENEM and do not have study level assigned: 1046693\n"
     ]
    }
   ],
   "source": [
    "print('number of teacher who work at an school listed at ENEM and do not have study level assigned:',\n",
    "      C_TEACHER['CO_ESCOLA'].isin(ENEM['CO_ESCOLA']).sum())\n",
    "\n",
    "#lets fill with lower level\n",
    "\n",
    "C_TEACHER['IN_ESPECIALIZACAO'].fillna(0, inplace = True)\n",
    "C_TEACHER['IN_MESTRADO'].fillna(0, inplace = True)\n",
    "C_TEACHER['IN_DOUTORADO'].fillna(0, inplace = True)"
   ]
  },
  {
   "cell_type": "code",
   "execution_count": 46,
   "metadata": {
    "ExecuteTime": {
     "end_time": "2020-05-06T16:18:21.671842Z",
     "start_time": "2020-05-06T16:18:20.324983Z"
    }
   },
   "outputs": [],
   "source": [
    "C_TEACHER['TITULACAO'] = 0\n",
    "\n",
    "\n",
    "C_TEACHER.loc[(C_TEACHER.IN_ESPECIALIZACAO==1.0) & (C_TEACHER.IN_MESTRADO==0.0)& \n",
    "             (C_TEACHER.IN_DOUTORADO ==0.0), 'TITULACAO'] = 1\n",
    "\n",
    "C_TEACHER.loc[(C_TEACHER.IN_ESPECIALIZACAO==1.0) & (C_TEACHER.IN_MESTRADO==1.0)& \n",
    "             (C_TEACHER.IN_DOUTORADO ==0.0), 'TITULACAO'] = 2\n",
    "\n",
    "C_TEACHER.loc[(C_TEACHER.IN_ESPECIALIZACAO==0.0) & (C_TEACHER.IN_MESTRADO==1.0)& \n",
    "             (C_TEACHER.IN_DOUTORADO ==0.0), 'TITULACAO'] = 2\n",
    "\n",
    "C_TEACHER.loc[(C_TEACHER.IN_DOUTORADO ==1.0), 'TITULACAO'] = 3\n",
    "\n",
    "SUM= C_TEACHER.groupby('CO_ESCOLA')['TITULACAO'].transform(sum)\n",
    "COUNT =  C_TEACHER.groupby('CO_ESCOLA')['TITULACAO'].transform('count')\n",
    "C_TEACHER['TITULACAO'] = (SUM)/(COUNT*3)   \n",
    "\n",
    "#transformin to school grain\n",
    "C_TEACHER.drop_duplicates('CO_ESCOLA', inplace = True)"
   ]
  },
  {
   "cell_type": "markdown",
   "metadata": {
    "ExecuteTime": {
     "end_time": "2020-04-24T01:57:54.620465Z",
     "start_time": "2020-04-24T01:57:54.535290Z"
    }
   },
   "source": [
    "## STUDENT GRAIN "
   ]
  },
  {
   "cell_type": "code",
   "execution_count": 47,
   "metadata": {
    "ExecuteTime": {
     "end_time": "2020-05-06T16:19:49.155365Z",
     "start_time": "2020-05-06T16:18:42.727879Z"
    }
   },
   "outputs": [
    {
     "name": "stdout",
     "output_type": "stream",
     "text": [
      "C_SCHOOL (282362, 26)\n",
      "C_TEACHER (185925, 5)\n",
      "C_SCHOOL + C_TEACHER (185925, 30)\n",
      "ENEM (1148495, 17)\n",
      "FINAL (1144513, 46)\n"
     ]
    }
   ],
   "source": [
    "# teacher to Schoool Grain\n",
    "print('C_SCHOOL',C_SCHOOL.shape)\n",
    "print('C_TEACHER',C_TEACHER.shape)\n",
    "CENSO19 = pd.merge(C_SCHOOL, C_TEACHER, on = 'CO_ESCOLA', how = 'inner')\n",
    "print('C_SCHOOL + C_TEACHER',CENSO19.shape)\n",
    "\n",
    "#Now, all to Student Grain\n",
    "print('ENEM',ENEM.shape)\n",
    "ENEM_CENSO_19 = pd.merge(ENEM, CENSO19, on = 'CO_ESCOLA', how = 'inner')\n",
    "print('FINAL',ENEM_CENSO_19.shape)\n",
    "\n",
    "ENEM_CENSO_19.to_csv('STUDENT.csv')\n"
   ]
  },
  {
   "cell_type": "code",
   "execution_count": 48,
   "metadata": {
    "ExecuteTime": {
     "end_time": "2020-05-06T16:19:49.221215Z",
     "start_time": "2020-05-06T16:19:49.158798Z"
    }
   },
   "outputs": [
    {
     "data": {
      "text/html": [
       "<div>\n",
       "<style scoped>\n",
       "    .dataframe tbody tr th:only-of-type {\n",
       "        vertical-align: middle;\n",
       "    }\n",
       "\n",
       "    .dataframe tbody tr th {\n",
       "        vertical-align: top;\n",
       "    }\n",
       "\n",
       "    .dataframe thead th {\n",
       "        text-align: right;\n",
       "    }\n",
       "</style>\n",
       "<table border=\"1\" class=\"dataframe\">\n",
       "  <thead>\n",
       "    <tr style=\"text-align: right;\">\n",
       "      <th></th>\n",
       "      <th>CO_ANO</th>\n",
       "      <th>CO_ESCOLA</th>\n",
       "      <th>NU_IDADE</th>\n",
       "      <th>TP_SEXO</th>\n",
       "      <th>TP_COR_RACA</th>\n",
       "      <th>TP_ST_CONCLUSAO</th>\n",
       "      <th>NU_NOTA_CN</th>\n",
       "      <th>NU_NOTA_CH</th>\n",
       "      <th>NU_NOTA_LC</th>\n",
       "      <th>NU_NOTA_MT</th>\n",
       "      <th>NU_NOTA_REDACAO</th>\n",
       "      <th>EDU_PAI</th>\n",
       "      <th>EDU_MAE</th>\n",
       "      <th>QT_PESSOAS_CASA</th>\n",
       "      <th>RENDA_MENSAL</th>\n",
       "      <th>NU_NOTA_GERAL</th>\n",
       "      <th>TARGET</th>\n",
       "      <th>CO_MUNICIPIO</th>\n",
       "      <th>CO_UF</th>\n",
       "      <th>CO_DEPENDENCIA_ADM</th>\n",
       "      <th>IN_AGUA_INEXISTENTE</th>\n",
       "      <th>IN_ESGOTO_INEXISTENTE</th>\n",
       "      <th>IN_ENERGIA_INEXISTENTE</th>\n",
       "      <th>IN_LABORATORIO_INFORMATICA</th>\n",
       "      <th>IN_LABORATORIO_CIENCIAS</th>\n",
       "      <th>IN_SALA_ATENDIMENTO_ESPECIAL</th>\n",
       "      <th>IN_BIBLIOTECA</th>\n",
       "      <th>IN_SALA_LEITURA</th>\n",
       "      <th>IN_BANHEIRO_FORA_PREDIO</th>\n",
       "      <th>IN_BANHEIRO_PNE</th>\n",
       "      <th>IN_DEPENDENCIAS_PNE</th>\n",
       "      <th>QT_SALAS_UTILIZADAS</th>\n",
       "      <th>QT_EQUIP_TV</th>\n",
       "      <th>QT_EQUIP_DVD</th>\n",
       "      <th>QT_EQUIP_COPIADORA</th>\n",
       "      <th>QT_EQUIP_IMPRESSORA</th>\n",
       "      <th>QT_COM_ADMINISTRATIVO</th>\n",
       "      <th>QT_COMP_ALUNO</th>\n",
       "      <th>IN_INTERNET</th>\n",
       "      <th>IN_BANDA_LARGA</th>\n",
       "      <th>QT_FUNCIONARIOS</th>\n",
       "      <th>IN_ALIMENTACAO</th>\n",
       "      <th>IN_ESPECIALIZACAO</th>\n",
       "      <th>IN_MESTRADO</th>\n",
       "      <th>IN_DOUTORADO</th>\n",
       "      <th>TITULACAO</th>\n",
       "    </tr>\n",
       "  </thead>\n",
       "  <tbody>\n",
       "    <tr>\n",
       "      <th>0</th>\n",
       "      <td>2017</td>\n",
       "      <td>13079220.0</td>\n",
       "      <td>17</td>\n",
       "      <td>1</td>\n",
       "      <td>3</td>\n",
       "      <td>2</td>\n",
       "      <td>540.7</td>\n",
       "      <td>583.0</td>\n",
       "      <td>472.9</td>\n",
       "      <td>405.1</td>\n",
       "      <td>580.0</td>\n",
       "      <td>3</td>\n",
       "      <td>5</td>\n",
       "      <td>2</td>\n",
       "      <td>5</td>\n",
       "      <td>516.34</td>\n",
       "      <td>0</td>\n",
       "      <td>1301902</td>\n",
       "      <td>13</td>\n",
       "      <td>4</td>\n",
       "      <td>0.0</td>\n",
       "      <td>0.0</td>\n",
       "      <td>0.0</td>\n",
       "      <td>0.0</td>\n",
       "      <td>0.0</td>\n",
       "      <td>0.0</td>\n",
       "      <td>1.0</td>\n",
       "      <td>0.0</td>\n",
       "      <td>0.0</td>\n",
       "      <td>1.0</td>\n",
       "      <td>1.0</td>\n",
       "      <td>10.0</td>\n",
       "      <td>2.0</td>\n",
       "      <td>1.0</td>\n",
       "      <td>3.0</td>\n",
       "      <td>5.0</td>\n",
       "      <td>5.0</td>\n",
       "      <td>0.0</td>\n",
       "      <td>1.0</td>\n",
       "      <td>0.0</td>\n",
       "      <td>42.0</td>\n",
       "      <td>0.0</td>\n",
       "      <td>1.0</td>\n",
       "      <td>0.0</td>\n",
       "      <td>0.0</td>\n",
       "      <td>0.142857</td>\n",
       "    </tr>\n",
       "    <tr>\n",
       "      <th>1</th>\n",
       "      <td>2017</td>\n",
       "      <td>13079220.0</td>\n",
       "      <td>17</td>\n",
       "      <td>0</td>\n",
       "      <td>3</td>\n",
       "      <td>2</td>\n",
       "      <td>579.5</td>\n",
       "      <td>568.4</td>\n",
       "      <td>550.7</td>\n",
       "      <td>534.3</td>\n",
       "      <td>560.0</td>\n",
       "      <td>0</td>\n",
       "      <td>4</td>\n",
       "      <td>1</td>\n",
       "      <td>3</td>\n",
       "      <td>558.58</td>\n",
       "      <td>0</td>\n",
       "      <td>1301902</td>\n",
       "      <td>13</td>\n",
       "      <td>4</td>\n",
       "      <td>0.0</td>\n",
       "      <td>0.0</td>\n",
       "      <td>0.0</td>\n",
       "      <td>0.0</td>\n",
       "      <td>0.0</td>\n",
       "      <td>0.0</td>\n",
       "      <td>1.0</td>\n",
       "      <td>0.0</td>\n",
       "      <td>0.0</td>\n",
       "      <td>1.0</td>\n",
       "      <td>1.0</td>\n",
       "      <td>10.0</td>\n",
       "      <td>2.0</td>\n",
       "      <td>1.0</td>\n",
       "      <td>3.0</td>\n",
       "      <td>5.0</td>\n",
       "      <td>5.0</td>\n",
       "      <td>0.0</td>\n",
       "      <td>1.0</td>\n",
       "      <td>0.0</td>\n",
       "      <td>42.0</td>\n",
       "      <td>0.0</td>\n",
       "      <td>1.0</td>\n",
       "      <td>0.0</td>\n",
       "      <td>0.0</td>\n",
       "      <td>0.142857</td>\n",
       "    </tr>\n",
       "    <tr>\n",
       "      <th>2</th>\n",
       "      <td>2017</td>\n",
       "      <td>13079220.0</td>\n",
       "      <td>17</td>\n",
       "      <td>0</td>\n",
       "      <td>1</td>\n",
       "      <td>2</td>\n",
       "      <td>644.3</td>\n",
       "      <td>634.4</td>\n",
       "      <td>563.9</td>\n",
       "      <td>685.3</td>\n",
       "      <td>760.0</td>\n",
       "      <td>5</td>\n",
       "      <td>5</td>\n",
       "      <td>1</td>\n",
       "      <td>4</td>\n",
       "      <td>657.58</td>\n",
       "      <td>1</td>\n",
       "      <td>1301902</td>\n",
       "      <td>13</td>\n",
       "      <td>4</td>\n",
       "      <td>0.0</td>\n",
       "      <td>0.0</td>\n",
       "      <td>0.0</td>\n",
       "      <td>0.0</td>\n",
       "      <td>0.0</td>\n",
       "      <td>0.0</td>\n",
       "      <td>1.0</td>\n",
       "      <td>0.0</td>\n",
       "      <td>0.0</td>\n",
       "      <td>1.0</td>\n",
       "      <td>1.0</td>\n",
       "      <td>10.0</td>\n",
       "      <td>2.0</td>\n",
       "      <td>1.0</td>\n",
       "      <td>3.0</td>\n",
       "      <td>5.0</td>\n",
       "      <td>5.0</td>\n",
       "      <td>0.0</td>\n",
       "      <td>1.0</td>\n",
       "      <td>0.0</td>\n",
       "      <td>42.0</td>\n",
       "      <td>0.0</td>\n",
       "      <td>1.0</td>\n",
       "      <td>0.0</td>\n",
       "      <td>0.0</td>\n",
       "      <td>0.142857</td>\n",
       "    </tr>\n",
       "    <tr>\n",
       "      <th>3</th>\n",
       "      <td>2017</td>\n",
       "      <td>13079220.0</td>\n",
       "      <td>17</td>\n",
       "      <td>0</td>\n",
       "      <td>3</td>\n",
       "      <td>2</td>\n",
       "      <td>599.1</td>\n",
       "      <td>583.5</td>\n",
       "      <td>516.4</td>\n",
       "      <td>425.1</td>\n",
       "      <td>620.0</td>\n",
       "      <td>3</td>\n",
       "      <td>3</td>\n",
       "      <td>1</td>\n",
       "      <td>1</td>\n",
       "      <td>548.82</td>\n",
       "      <td>0</td>\n",
       "      <td>1301902</td>\n",
       "      <td>13</td>\n",
       "      <td>4</td>\n",
       "      <td>0.0</td>\n",
       "      <td>0.0</td>\n",
       "      <td>0.0</td>\n",
       "      <td>0.0</td>\n",
       "      <td>0.0</td>\n",
       "      <td>0.0</td>\n",
       "      <td>1.0</td>\n",
       "      <td>0.0</td>\n",
       "      <td>0.0</td>\n",
       "      <td>1.0</td>\n",
       "      <td>1.0</td>\n",
       "      <td>10.0</td>\n",
       "      <td>2.0</td>\n",
       "      <td>1.0</td>\n",
       "      <td>3.0</td>\n",
       "      <td>5.0</td>\n",
       "      <td>5.0</td>\n",
       "      <td>0.0</td>\n",
       "      <td>1.0</td>\n",
       "      <td>0.0</td>\n",
       "      <td>42.0</td>\n",
       "      <td>0.0</td>\n",
       "      <td>1.0</td>\n",
       "      <td>0.0</td>\n",
       "      <td>0.0</td>\n",
       "      <td>0.142857</td>\n",
       "    </tr>\n",
       "    <tr>\n",
       "      <th>4</th>\n",
       "      <td>2017</td>\n",
       "      <td>13079220.0</td>\n",
       "      <td>17</td>\n",
       "      <td>1</td>\n",
       "      <td>1</td>\n",
       "      <td>2</td>\n",
       "      <td>630.9</td>\n",
       "      <td>630.5</td>\n",
       "      <td>610.4</td>\n",
       "      <td>786.8</td>\n",
       "      <td>600.0</td>\n",
       "      <td>5</td>\n",
       "      <td>4</td>\n",
       "      <td>2</td>\n",
       "      <td>5</td>\n",
       "      <td>651.72</td>\n",
       "      <td>1</td>\n",
       "      <td>1301902</td>\n",
       "      <td>13</td>\n",
       "      <td>4</td>\n",
       "      <td>0.0</td>\n",
       "      <td>0.0</td>\n",
       "      <td>0.0</td>\n",
       "      <td>0.0</td>\n",
       "      <td>0.0</td>\n",
       "      <td>0.0</td>\n",
       "      <td>1.0</td>\n",
       "      <td>0.0</td>\n",
       "      <td>0.0</td>\n",
       "      <td>1.0</td>\n",
       "      <td>1.0</td>\n",
       "      <td>10.0</td>\n",
       "      <td>2.0</td>\n",
       "      <td>1.0</td>\n",
       "      <td>3.0</td>\n",
       "      <td>5.0</td>\n",
       "      <td>5.0</td>\n",
       "      <td>0.0</td>\n",
       "      <td>1.0</td>\n",
       "      <td>0.0</td>\n",
       "      <td>42.0</td>\n",
       "      <td>0.0</td>\n",
       "      <td>1.0</td>\n",
       "      <td>0.0</td>\n",
       "      <td>0.0</td>\n",
       "      <td>0.142857</td>\n",
       "    </tr>\n",
       "  </tbody>\n",
       "</table>\n",
       "</div>"
      ],
      "text/plain": [
       "   CO_ANO   CO_ESCOLA  NU_IDADE  TP_SEXO  TP_COR_RACA  TP_ST_CONCLUSAO  \\\n",
       "0    2017  13079220.0        17        1            3                2   \n",
       "1    2017  13079220.0        17        0            3                2   \n",
       "2    2017  13079220.0        17        0            1                2   \n",
       "3    2017  13079220.0        17        0            3                2   \n",
       "4    2017  13079220.0        17        1            1                2   \n",
       "\n",
       "   NU_NOTA_CN  NU_NOTA_CH  NU_NOTA_LC  NU_NOTA_MT  NU_NOTA_REDACAO  EDU_PAI  \\\n",
       "0       540.7       583.0       472.9       405.1            580.0        3   \n",
       "1       579.5       568.4       550.7       534.3            560.0        0   \n",
       "2       644.3       634.4       563.9       685.3            760.0        5   \n",
       "3       599.1       583.5       516.4       425.1            620.0        3   \n",
       "4       630.9       630.5       610.4       786.8            600.0        5   \n",
       "\n",
       "   EDU_MAE  QT_PESSOAS_CASA  RENDA_MENSAL  NU_NOTA_GERAL  TARGET  \\\n",
       "0        5                2             5         516.34       0   \n",
       "1        4                1             3         558.58       0   \n",
       "2        5                1             4         657.58       1   \n",
       "3        3                1             1         548.82       0   \n",
       "4        4                2             5         651.72       1   \n",
       "\n",
       "   CO_MUNICIPIO  CO_UF  CO_DEPENDENCIA_ADM  IN_AGUA_INEXISTENTE  \\\n",
       "0       1301902     13                   4                  0.0   \n",
       "1       1301902     13                   4                  0.0   \n",
       "2       1301902     13                   4                  0.0   \n",
       "3       1301902     13                   4                  0.0   \n",
       "4       1301902     13                   4                  0.0   \n",
       "\n",
       "   IN_ESGOTO_INEXISTENTE  IN_ENERGIA_INEXISTENTE  IN_LABORATORIO_INFORMATICA  \\\n",
       "0                    0.0                     0.0                         0.0   \n",
       "1                    0.0                     0.0                         0.0   \n",
       "2                    0.0                     0.0                         0.0   \n",
       "3                    0.0                     0.0                         0.0   \n",
       "4                    0.0                     0.0                         0.0   \n",
       "\n",
       "   IN_LABORATORIO_CIENCIAS  IN_SALA_ATENDIMENTO_ESPECIAL  IN_BIBLIOTECA  \\\n",
       "0                      0.0                           0.0            1.0   \n",
       "1                      0.0                           0.0            1.0   \n",
       "2                      0.0                           0.0            1.0   \n",
       "3                      0.0                           0.0            1.0   \n",
       "4                      0.0                           0.0            1.0   \n",
       "\n",
       "   IN_SALA_LEITURA  IN_BANHEIRO_FORA_PREDIO  IN_BANHEIRO_PNE  \\\n",
       "0              0.0                      0.0              1.0   \n",
       "1              0.0                      0.0              1.0   \n",
       "2              0.0                      0.0              1.0   \n",
       "3              0.0                      0.0              1.0   \n",
       "4              0.0                      0.0              1.0   \n",
       "\n",
       "   IN_DEPENDENCIAS_PNE  QT_SALAS_UTILIZADAS  QT_EQUIP_TV  QT_EQUIP_DVD  \\\n",
       "0                  1.0                 10.0          2.0           1.0   \n",
       "1                  1.0                 10.0          2.0           1.0   \n",
       "2                  1.0                 10.0          2.0           1.0   \n",
       "3                  1.0                 10.0          2.0           1.0   \n",
       "4                  1.0                 10.0          2.0           1.0   \n",
       "\n",
       "   QT_EQUIP_COPIADORA  QT_EQUIP_IMPRESSORA  QT_COM_ADMINISTRATIVO  \\\n",
       "0                 3.0                  5.0                    5.0   \n",
       "1                 3.0                  5.0                    5.0   \n",
       "2                 3.0                  5.0                    5.0   \n",
       "3                 3.0                  5.0                    5.0   \n",
       "4                 3.0                  5.0                    5.0   \n",
       "\n",
       "   QT_COMP_ALUNO  IN_INTERNET  IN_BANDA_LARGA  QT_FUNCIONARIOS  \\\n",
       "0            0.0          1.0             0.0             42.0   \n",
       "1            0.0          1.0             0.0             42.0   \n",
       "2            0.0          1.0             0.0             42.0   \n",
       "3            0.0          1.0             0.0             42.0   \n",
       "4            0.0          1.0             0.0             42.0   \n",
       "\n",
       "   IN_ALIMENTACAO  IN_ESPECIALIZACAO  IN_MESTRADO  IN_DOUTORADO  TITULACAO  \n",
       "0             0.0                1.0          0.0           0.0   0.142857  \n",
       "1             0.0                1.0          0.0           0.0   0.142857  \n",
       "2             0.0                1.0          0.0           0.0   0.142857  \n",
       "3             0.0                1.0          0.0           0.0   0.142857  \n",
       "4             0.0                1.0          0.0           0.0   0.142857  "
      ]
     },
     "execution_count": 48,
     "metadata": {},
     "output_type": "execute_result"
    }
   ],
   "source": [
    "ENEM_CENSO_19.head()"
   ]
  },
  {
   "cell_type": "markdown",
   "metadata": {},
   "source": [
    "## SCHOOL GRAIN"
   ]
  },
  {
   "cell_type": "code",
   "execution_count": 49,
   "metadata": {
    "ExecuteTime": {
     "end_time": "2020-05-06T16:21:29.146618Z",
     "start_time": "2020-05-06T16:21:24.728309Z"
    }
   },
   "outputs": [],
   "source": [
    "fields = ['TP_SEXO', 'TP_COR_RACA', 'EDU_PAI', 'EDU_MAE','QT_PESSOAS_CASA', 'RENDA_MENSAL', 'NU_IDADE', 'NU_NOTA_CN',\n",
    "             'NU_NOTA_CH','NU_NOTA_LC','NU_NOTA_MT','NU_NOTA_REDACAO','NU_NOTA_GERAL' ]\n",
    "\n",
    "for i in fields:   \n",
    "    \n",
    "            ENEM[i] = ENEM.groupby('CO_ESCOLA')[i].transform('mean')"
   ]
  },
  {
   "cell_type": "code",
   "execution_count": 50,
   "metadata": {
    "ExecuteTime": {
     "end_time": "2020-05-06T16:21:29.323942Z",
     "start_time": "2020-05-06T16:21:29.151625Z"
    }
   },
   "outputs": [
    {
     "name": "stdout",
     "output_type": "stream",
     "text": [
      "72.07127095478049 % lowers quartis\n"
     ]
    }
   ],
   "source": [
    "# SCHOOL GRAIN AND SHOW THE NEW NOTA DISTRIBUTION\n",
    "ENEM.drop_duplicates('CO_ESCOLA', inplace=True)\n",
    "print((ENEM.TARGET==0).sum()/(ENEM.TARGET.count())*100, '% lowers quartis')"
   ]
  },
  {
   "cell_type": "code",
   "execution_count": 51,
   "metadata": {
    "ExecuteTime": {
     "end_time": "2020-05-06T16:21:31.937214Z",
     "start_time": "2020-05-06T16:21:31.905915Z"
    }
   },
   "outputs": [
    {
     "name": "stdout",
     "output_type": "stream",
     "text": [
      "74.99917662945032 % lowers quartis\n"
     ]
    }
   ],
   "source": [
    "#recalculating target for new  Nota Geral distribution \n",
    "ENEM['TARGET'] = pd.qcut (ENEM.NU_NOTA_GERAL, 4, labels = [1,2,3,4]).map(lambda x : 0 if x!=4 else 1) \n",
    "print((ENEM.TARGET==0).sum()/(ENEM.TARGET.count())*100, '% lowers quartis')"
   ]
  },
  {
   "cell_type": "code",
   "execution_count": 52,
   "metadata": {
    "ExecuteTime": {
     "end_time": "2020-05-06T16:21:44.859236Z",
     "start_time": "2020-05-06T16:21:42.593742Z"
    }
   },
   "outputs": [
    {
     "name": "stdout",
     "output_type": "stream",
     "text": [
      "censo before (185925, 30)\n",
      "enem_school before (30363, 17)\n",
      "(29586, 46)\n"
     ]
    }
   ],
   "source": [
    "print('censo before',CENSO19.shape)\n",
    "print('enem_school before', ENEM.shape)\n",
    "CENSO_ENEM_19 = pd.merge(CENSO19, ENEM, on='CO_ESCOLA', how='inner')\n",
    "print(CENSO_ENEM_19.shape)\n",
    "\n",
    "CENSO_ENEM_19.to_csv('SCHOOL.csv', index=False)"
   ]
  },
  {
   "cell_type": "code",
   "execution_count": 53,
   "metadata": {
    "ExecuteTime": {
     "end_time": "2020-05-06T16:21:51.070013Z",
     "start_time": "2020-05-06T16:21:50.942696Z"
    }
   },
   "outputs": [
    {
     "data": {
      "text/html": [
       "<div>\n",
       "<style scoped>\n",
       "    .dataframe tbody tr th:only-of-type {\n",
       "        vertical-align: middle;\n",
       "    }\n",
       "\n",
       "    .dataframe tbody tr th {\n",
       "        vertical-align: top;\n",
       "    }\n",
       "\n",
       "    .dataframe thead th {\n",
       "        text-align: right;\n",
       "    }\n",
       "</style>\n",
       "<table border=\"1\" class=\"dataframe\">\n",
       "  <thead>\n",
       "    <tr style=\"text-align: right;\">\n",
       "      <th></th>\n",
       "      <th>CO_ESCOLA</th>\n",
       "      <th>CO_MUNICIPIO</th>\n",
       "      <th>CO_UF</th>\n",
       "      <th>CO_DEPENDENCIA_ADM</th>\n",
       "      <th>IN_AGUA_INEXISTENTE</th>\n",
       "      <th>IN_ESGOTO_INEXISTENTE</th>\n",
       "      <th>IN_ENERGIA_INEXISTENTE</th>\n",
       "      <th>IN_LABORATORIO_INFORMATICA</th>\n",
       "      <th>IN_LABORATORIO_CIENCIAS</th>\n",
       "      <th>IN_SALA_ATENDIMENTO_ESPECIAL</th>\n",
       "      <th>IN_BIBLIOTECA</th>\n",
       "      <th>IN_SALA_LEITURA</th>\n",
       "      <th>IN_BANHEIRO_FORA_PREDIO</th>\n",
       "      <th>IN_BANHEIRO_PNE</th>\n",
       "      <th>IN_DEPENDENCIAS_PNE</th>\n",
       "      <th>QT_SALAS_UTILIZADAS</th>\n",
       "      <th>QT_EQUIP_TV</th>\n",
       "      <th>QT_EQUIP_DVD</th>\n",
       "      <th>QT_EQUIP_COPIADORA</th>\n",
       "      <th>QT_EQUIP_IMPRESSORA</th>\n",
       "      <th>QT_COM_ADMINISTRATIVO</th>\n",
       "      <th>QT_COMP_ALUNO</th>\n",
       "      <th>IN_INTERNET</th>\n",
       "      <th>IN_BANDA_LARGA</th>\n",
       "      <th>QT_FUNCIONARIOS</th>\n",
       "      <th>IN_ALIMENTACAO</th>\n",
       "      <th>IN_ESPECIALIZACAO</th>\n",
       "      <th>IN_MESTRADO</th>\n",
       "      <th>IN_DOUTORADO</th>\n",
       "      <th>TITULACAO</th>\n",
       "      <th>CO_ANO</th>\n",
       "      <th>NU_IDADE</th>\n",
       "      <th>TP_SEXO</th>\n",
       "      <th>TP_COR_RACA</th>\n",
       "      <th>TP_ST_CONCLUSAO</th>\n",
       "      <th>NU_NOTA_CN</th>\n",
       "      <th>NU_NOTA_CH</th>\n",
       "      <th>NU_NOTA_LC</th>\n",
       "      <th>NU_NOTA_MT</th>\n",
       "      <th>NU_NOTA_REDACAO</th>\n",
       "      <th>EDU_PAI</th>\n",
       "      <th>EDU_MAE</th>\n",
       "      <th>QT_PESSOAS_CASA</th>\n",
       "      <th>RENDA_MENSAL</th>\n",
       "      <th>NU_NOTA_GERAL</th>\n",
       "      <th>TARGET</th>\n",
       "    </tr>\n",
       "  </thead>\n",
       "  <tbody>\n",
       "    <tr>\n",
       "      <th>0</th>\n",
       "      <td>11016094</td>\n",
       "      <td>1100122</td>\n",
       "      <td>11</td>\n",
       "      <td>2</td>\n",
       "      <td>0.0</td>\n",
       "      <td>0.0</td>\n",
       "      <td>0.0</td>\n",
       "      <td>1.0</td>\n",
       "      <td>1.0</td>\n",
       "      <td>1.0</td>\n",
       "      <td>1.0</td>\n",
       "      <td>0.0</td>\n",
       "      <td>0.0</td>\n",
       "      <td>1.0</td>\n",
       "      <td>1.0</td>\n",
       "      <td>26.0</td>\n",
       "      <td>2.0</td>\n",
       "      <td>1.0</td>\n",
       "      <td>1.0</td>\n",
       "      <td>2.0</td>\n",
       "      <td>10.0</td>\n",
       "      <td>29.0</td>\n",
       "      <td>1.0</td>\n",
       "      <td>1.0</td>\n",
       "      <td>81.0</td>\n",
       "      <td>1.0</td>\n",
       "      <td>0.0</td>\n",
       "      <td>0.0</td>\n",
       "      <td>0.0</td>\n",
       "      <td>0.220000</td>\n",
       "      <td>2017</td>\n",
       "      <td>17.531915</td>\n",
       "      <td>0.340426</td>\n",
       "      <td>2.404255</td>\n",
       "      <td>2</td>\n",
       "      <td>484.246809</td>\n",
       "      <td>510.191489</td>\n",
       "      <td>488.968085</td>\n",
       "      <td>505.078723</td>\n",
       "      <td>548.085106</td>\n",
       "      <td>1.297872</td>\n",
       "      <td>1.659574</td>\n",
       "      <td>1.808511</td>\n",
       "      <td>1.744681</td>\n",
       "      <td>507.314043</td>\n",
       "      <td>0</td>\n",
       "    </tr>\n",
       "    <tr>\n",
       "      <th>1</th>\n",
       "      <td>50020854</td>\n",
       "      <td>5004700</td>\n",
       "      <td>50</td>\n",
       "      <td>2</td>\n",
       "      <td>0.0</td>\n",
       "      <td>0.0</td>\n",
       "      <td>0.0</td>\n",
       "      <td>1.0</td>\n",
       "      <td>0.0</td>\n",
       "      <td>1.0</td>\n",
       "      <td>1.0</td>\n",
       "      <td>0.0</td>\n",
       "      <td>0.0</td>\n",
       "      <td>1.0</td>\n",
       "      <td>1.0</td>\n",
       "      <td>12.0</td>\n",
       "      <td>2.0</td>\n",
       "      <td>1.0</td>\n",
       "      <td>0.0</td>\n",
       "      <td>2.0</td>\n",
       "      <td>5.0</td>\n",
       "      <td>35.0</td>\n",
       "      <td>1.0</td>\n",
       "      <td>1.0</td>\n",
       "      <td>88.0</td>\n",
       "      <td>1.0</td>\n",
       "      <td>0.0</td>\n",
       "      <td>0.0</td>\n",
       "      <td>0.0</td>\n",
       "      <td>0.133333</td>\n",
       "      <td>2017</td>\n",
       "      <td>18.058824</td>\n",
       "      <td>0.176471</td>\n",
       "      <td>2.058824</td>\n",
       "      <td>2</td>\n",
       "      <td>467.482353</td>\n",
       "      <td>461.435294</td>\n",
       "      <td>449.458824</td>\n",
       "      <td>448.411765</td>\n",
       "      <td>507.058824</td>\n",
       "      <td>1.000000</td>\n",
       "      <td>1.941176</td>\n",
       "      <td>1.588235</td>\n",
       "      <td>2.000000</td>\n",
       "      <td>466.769412</td>\n",
       "      <td>0</td>\n",
       "    </tr>\n",
       "    <tr>\n",
       "      <th>2</th>\n",
       "      <td>43023428</td>\n",
       "      <td>4302105</td>\n",
       "      <td>43</td>\n",
       "      <td>2</td>\n",
       "      <td>0.0</td>\n",
       "      <td>0.0</td>\n",
       "      <td>0.0</td>\n",
       "      <td>1.0</td>\n",
       "      <td>1.0</td>\n",
       "      <td>1.0</td>\n",
       "      <td>1.0</td>\n",
       "      <td>0.0</td>\n",
       "      <td>0.0</td>\n",
       "      <td>1.0</td>\n",
       "      <td>0.0</td>\n",
       "      <td>12.0</td>\n",
       "      <td>3.0</td>\n",
       "      <td>4.0</td>\n",
       "      <td>3.0</td>\n",
       "      <td>5.0</td>\n",
       "      <td>6.0</td>\n",
       "      <td>33.0</td>\n",
       "      <td>1.0</td>\n",
       "      <td>1.0</td>\n",
       "      <td>40.0</td>\n",
       "      <td>1.0</td>\n",
       "      <td>0.0</td>\n",
       "      <td>0.0</td>\n",
       "      <td>0.0</td>\n",
       "      <td>0.180556</td>\n",
       "      <td>2017</td>\n",
       "      <td>17.818182</td>\n",
       "      <td>0.181818</td>\n",
       "      <td>1.272727</td>\n",
       "      <td>2</td>\n",
       "      <td>495.718182</td>\n",
       "      <td>507.290909</td>\n",
       "      <td>514.481818</td>\n",
       "      <td>504.254545</td>\n",
       "      <td>472.727273</td>\n",
       "      <td>1.363636</td>\n",
       "      <td>1.000000</td>\n",
       "      <td>1.727273</td>\n",
       "      <td>2.454545</td>\n",
       "      <td>498.894545</td>\n",
       "      <td>0</td>\n",
       "    </tr>\n",
       "    <tr>\n",
       "      <th>3</th>\n",
       "      <td>21093350</td>\n",
       "      <td>2105302</td>\n",
       "      <td>21</td>\n",
       "      <td>2</td>\n",
       "      <td>0.0</td>\n",
       "      <td>0.0</td>\n",
       "      <td>0.0</td>\n",
       "      <td>1.0</td>\n",
       "      <td>1.0</td>\n",
       "      <td>1.0</td>\n",
       "      <td>1.0</td>\n",
       "      <td>0.0</td>\n",
       "      <td>0.0</td>\n",
       "      <td>1.0</td>\n",
       "      <td>0.0</td>\n",
       "      <td>8.0</td>\n",
       "      <td>10.0</td>\n",
       "      <td>3.0</td>\n",
       "      <td>0.0</td>\n",
       "      <td>6.0</td>\n",
       "      <td>2.0</td>\n",
       "      <td>1.0</td>\n",
       "      <td>0.0</td>\n",
       "      <td>0.0</td>\n",
       "      <td>77.0</td>\n",
       "      <td>1.0</td>\n",
       "      <td>1.0</td>\n",
       "      <td>0.0</td>\n",
       "      <td>0.0</td>\n",
       "      <td>0.105691</td>\n",
       "      <td>2017</td>\n",
       "      <td>17.806452</td>\n",
       "      <td>0.459677</td>\n",
       "      <td>2.459677</td>\n",
       "      <td>2</td>\n",
       "      <td>487.715323</td>\n",
       "      <td>478.412097</td>\n",
       "      <td>475.478226</td>\n",
       "      <td>479.254839</td>\n",
       "      <td>510.967742</td>\n",
       "      <td>1.508065</td>\n",
       "      <td>1.975806</td>\n",
       "      <td>1.846774</td>\n",
       "      <td>1.709677</td>\n",
       "      <td>486.365645</td>\n",
       "      <td>0</td>\n",
       "    </tr>\n",
       "    <tr>\n",
       "      <th>4</th>\n",
       "      <td>42016258</td>\n",
       "      <td>4202404</td>\n",
       "      <td>42</td>\n",
       "      <td>4</td>\n",
       "      <td>0.0</td>\n",
       "      <td>0.0</td>\n",
       "      <td>0.0</td>\n",
       "      <td>1.0</td>\n",
       "      <td>1.0</td>\n",
       "      <td>1.0</td>\n",
       "      <td>1.0</td>\n",
       "      <td>1.0</td>\n",
       "      <td>1.0</td>\n",
       "      <td>1.0</td>\n",
       "      <td>1.0</td>\n",
       "      <td>10.0</td>\n",
       "      <td>0.0</td>\n",
       "      <td>0.0</td>\n",
       "      <td>0.0</td>\n",
       "      <td>0.0</td>\n",
       "      <td>10.0</td>\n",
       "      <td>10.0</td>\n",
       "      <td>1.0</td>\n",
       "      <td>1.0</td>\n",
       "      <td>10.0</td>\n",
       "      <td>0.0</td>\n",
       "      <td>0.0</td>\n",
       "      <td>0.0</td>\n",
       "      <td>0.0</td>\n",
       "      <td>0.000000</td>\n",
       "      <td>2017</td>\n",
       "      <td>19.000000</td>\n",
       "      <td>0.500000</td>\n",
       "      <td>1.000000</td>\n",
       "      <td>2</td>\n",
       "      <td>523.000000</td>\n",
       "      <td>541.250000</td>\n",
       "      <td>552.800000</td>\n",
       "      <td>627.550000</td>\n",
       "      <td>580.000000</td>\n",
       "      <td>3.500000</td>\n",
       "      <td>2.500000</td>\n",
       "      <td>1.500000</td>\n",
       "      <td>3.000000</td>\n",
       "      <td>564.920000</td>\n",
       "      <td>1</td>\n",
       "    </tr>\n",
       "  </tbody>\n",
       "</table>\n",
       "</div>"
      ],
      "text/plain": [
       "   CO_ESCOLA  CO_MUNICIPIO  CO_UF  CO_DEPENDENCIA_ADM  IN_AGUA_INEXISTENTE  \\\n",
       "0   11016094       1100122     11                   2                  0.0   \n",
       "1   50020854       5004700     50                   2                  0.0   \n",
       "2   43023428       4302105     43                   2                  0.0   \n",
       "3   21093350       2105302     21                   2                  0.0   \n",
       "4   42016258       4202404     42                   4                  0.0   \n",
       "\n",
       "   IN_ESGOTO_INEXISTENTE  IN_ENERGIA_INEXISTENTE  IN_LABORATORIO_INFORMATICA  \\\n",
       "0                    0.0                     0.0                         1.0   \n",
       "1                    0.0                     0.0                         1.0   \n",
       "2                    0.0                     0.0                         1.0   \n",
       "3                    0.0                     0.0                         1.0   \n",
       "4                    0.0                     0.0                         1.0   \n",
       "\n",
       "   IN_LABORATORIO_CIENCIAS  IN_SALA_ATENDIMENTO_ESPECIAL  IN_BIBLIOTECA  \\\n",
       "0                      1.0                           1.0            1.0   \n",
       "1                      0.0                           1.0            1.0   \n",
       "2                      1.0                           1.0            1.0   \n",
       "3                      1.0                           1.0            1.0   \n",
       "4                      1.0                           1.0            1.0   \n",
       "\n",
       "   IN_SALA_LEITURA  IN_BANHEIRO_FORA_PREDIO  IN_BANHEIRO_PNE  \\\n",
       "0              0.0                      0.0              1.0   \n",
       "1              0.0                      0.0              1.0   \n",
       "2              0.0                      0.0              1.0   \n",
       "3              0.0                      0.0              1.0   \n",
       "4              1.0                      1.0              1.0   \n",
       "\n",
       "   IN_DEPENDENCIAS_PNE  QT_SALAS_UTILIZADAS  QT_EQUIP_TV  QT_EQUIP_DVD  \\\n",
       "0                  1.0                 26.0          2.0           1.0   \n",
       "1                  1.0                 12.0          2.0           1.0   \n",
       "2                  0.0                 12.0          3.0           4.0   \n",
       "3                  0.0                  8.0         10.0           3.0   \n",
       "4                  1.0                 10.0          0.0           0.0   \n",
       "\n",
       "   QT_EQUIP_COPIADORA  QT_EQUIP_IMPRESSORA  QT_COM_ADMINISTRATIVO  \\\n",
       "0                 1.0                  2.0                   10.0   \n",
       "1                 0.0                  2.0                    5.0   \n",
       "2                 3.0                  5.0                    6.0   \n",
       "3                 0.0                  6.0                    2.0   \n",
       "4                 0.0                  0.0                   10.0   \n",
       "\n",
       "   QT_COMP_ALUNO  IN_INTERNET  IN_BANDA_LARGA  QT_FUNCIONARIOS  \\\n",
       "0           29.0          1.0             1.0             81.0   \n",
       "1           35.0          1.0             1.0             88.0   \n",
       "2           33.0          1.0             1.0             40.0   \n",
       "3            1.0          0.0             0.0             77.0   \n",
       "4           10.0          1.0             1.0             10.0   \n",
       "\n",
       "   IN_ALIMENTACAO  IN_ESPECIALIZACAO  IN_MESTRADO  IN_DOUTORADO  TITULACAO  \\\n",
       "0             1.0                0.0          0.0           0.0   0.220000   \n",
       "1             1.0                0.0          0.0           0.0   0.133333   \n",
       "2             1.0                0.0          0.0           0.0   0.180556   \n",
       "3             1.0                1.0          0.0           0.0   0.105691   \n",
       "4             0.0                0.0          0.0           0.0   0.000000   \n",
       "\n",
       "   CO_ANO   NU_IDADE   TP_SEXO  TP_COR_RACA  TP_ST_CONCLUSAO  NU_NOTA_CN  \\\n",
       "0    2017  17.531915  0.340426     2.404255                2  484.246809   \n",
       "1    2017  18.058824  0.176471     2.058824                2  467.482353   \n",
       "2    2017  17.818182  0.181818     1.272727                2  495.718182   \n",
       "3    2017  17.806452  0.459677     2.459677                2  487.715323   \n",
       "4    2017  19.000000  0.500000     1.000000                2  523.000000   \n",
       "\n",
       "   NU_NOTA_CH  NU_NOTA_LC  NU_NOTA_MT  NU_NOTA_REDACAO   EDU_PAI   EDU_MAE  \\\n",
       "0  510.191489  488.968085  505.078723       548.085106  1.297872  1.659574   \n",
       "1  461.435294  449.458824  448.411765       507.058824  1.000000  1.941176   \n",
       "2  507.290909  514.481818  504.254545       472.727273  1.363636  1.000000   \n",
       "3  478.412097  475.478226  479.254839       510.967742  1.508065  1.975806   \n",
       "4  541.250000  552.800000  627.550000       580.000000  3.500000  2.500000   \n",
       "\n",
       "   QT_PESSOAS_CASA  RENDA_MENSAL  NU_NOTA_GERAL  TARGET  \n",
       "0         1.808511      1.744681     507.314043       0  \n",
       "1         1.588235      2.000000     466.769412       0  \n",
       "2         1.727273      2.454545     498.894545       0  \n",
       "3         1.846774      1.709677     486.365645       0  \n",
       "4         1.500000      3.000000     564.920000       1  "
      ]
     },
     "execution_count": 53,
     "metadata": {},
     "output_type": "execute_result"
    }
   ],
   "source": [
    "CENSO_ENEM_19.head()\n"
   ]
  },
  {
   "cell_type": "code",
   "execution_count": 54,
   "metadata": {
    "ExecuteTime": {
     "end_time": "2020-05-06T16:21:57.230692Z",
     "start_time": "2020-05-06T16:21:57.198605Z"
    }
   },
   "outputs": [
    {
     "data": {
      "text/plain": [
       "CO_ESCOLA                       0\n",
       "CO_MUNICIPIO                    0\n",
       "CO_UF                           0\n",
       "CO_DEPENDENCIA_ADM              0\n",
       "IN_AGUA_INEXISTENTE             0\n",
       "IN_ESGOTO_INEXISTENTE           0\n",
       "IN_ENERGIA_INEXISTENTE          0\n",
       "IN_LABORATORIO_INFORMATICA      0\n",
       "IN_LABORATORIO_CIENCIAS         0\n",
       "IN_SALA_ATENDIMENTO_ESPECIAL    0\n",
       "IN_BIBLIOTECA                   0\n",
       "IN_SALA_LEITURA                 0\n",
       "IN_BANHEIRO_FORA_PREDIO         0\n",
       "IN_BANHEIRO_PNE                 0\n",
       "IN_DEPENDENCIAS_PNE             0\n",
       "QT_SALAS_UTILIZADAS             0\n",
       "QT_EQUIP_TV                     0\n",
       "QT_EQUIP_DVD                    0\n",
       "QT_EQUIP_COPIADORA              0\n",
       "QT_EQUIP_IMPRESSORA             0\n",
       "QT_COM_ADMINISTRATIVO           0\n",
       "QT_COMP_ALUNO                   0\n",
       "IN_INTERNET                     0\n",
       "IN_BANDA_LARGA                  0\n",
       "QT_FUNCIONARIOS                 0\n",
       "IN_ALIMENTACAO                  0\n",
       "IN_ESPECIALIZACAO               0\n",
       "IN_MESTRADO                     0\n",
       "IN_DOUTORADO                    0\n",
       "TITULACAO                       0\n",
       "CO_ANO                          0\n",
       "NU_IDADE                        0\n",
       "TP_SEXO                         0\n",
       "TP_COR_RACA                     0\n",
       "TP_ST_CONCLUSAO                 0\n",
       "NU_NOTA_CN                      0\n",
       "NU_NOTA_CH                      0\n",
       "NU_NOTA_LC                      0\n",
       "NU_NOTA_MT                      0\n",
       "NU_NOTA_REDACAO                 0\n",
       "EDU_PAI                         0\n",
       "EDU_MAE                         0\n",
       "QT_PESSOAS_CASA                 0\n",
       "RENDA_MENSAL                    0\n",
       "NU_NOTA_GERAL                   0\n",
       "TARGET                          0\n",
       "dtype: int64"
      ]
     },
     "execution_count": 54,
     "metadata": {},
     "output_type": "execute_result"
    }
   ],
   "source": [
    "CENSO_ENEM_19.isnull().sum()"
   ]
  },
  {
   "cell_type": "code",
   "execution_count": null,
   "metadata": {},
   "outputs": [],
   "source": []
  }
 ],
 "metadata": {
  "kernelspec": {
   "display_name": "Python 3",
   "language": "python",
   "name": "python3"
  },
  "language_info": {
   "codemirror_mode": {
    "name": "ipython",
    "version": 3
   },
   "file_extension": ".py",
   "mimetype": "text/x-python",
   "name": "python",
   "nbconvert_exporter": "python",
   "pygments_lexer": "ipython3",
   "version": "3.7.6"
  }
 },
 "nbformat": 4,
 "nbformat_minor": 4
}
