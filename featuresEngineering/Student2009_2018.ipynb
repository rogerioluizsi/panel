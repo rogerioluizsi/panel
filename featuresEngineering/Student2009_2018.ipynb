{
 "cells": [
  {
   "cell_type": "code",
   "execution_count": 1,
   "metadata": {
    "ExecuteTime": {
     "end_time": "2020-07-19T02:52:01.503187Z",
     "start_time": "2020-07-19T02:51:57.507736Z"
    }
   },
   "outputs": [],
   "source": [
    "import time\n",
    "import pandas as pd\n",
    "import warnings\n",
    "import feather\n",
    "warnings.filterwarnings('ignore')\n",
    "from pandas.api.types import is_string_dtype\n",
    "from pandas.api.types import is_numeric_dtype\n",
    "pd.set_option('display.max_columns', None)"
   ]
  },
  {
   "cell_type": "code",
   "execution_count": 2,
   "metadata": {
    "ExecuteTime": {
     "end_time": "2020-07-19T02:54:02.189517Z",
     "start_time": "2020-07-19T02:52:01.507912Z"
    }
   },
   "outputs": [],
   "source": [
    "DF_09 = pd.read_csv('2009/STUDENT.csv')\n",
    "DF_10 = pd.read_csv('2010/STUDENT.csv')\n",
    "DF_11 = pd.read_csv('2011/STUDENT.csv')\n",
    "DF_12 = pd.read_csv('2012/STUDENT.csv')\n",
    "DF_13 = pd.read_csv('2013/STUDENT.csv')\n",
    "DF_14 = pd.read_csv('2014/STUDENT.csv')\n",
    "DF_15 = pd.read_csv('2015/STUDENT.csv')\n",
    "DF_16 = pd.read_csv('2016/STUDENT.csv')\n",
    "DF_17 = pd.read_csv('2017/STUDENT.csv')\n",
    "DF_18 = pd.read_csv('2018/STUDENT.csv')"
   ]
  },
  {
   "cell_type": "code",
   "execution_count": 27,
   "metadata": {
    "ExecuteTime": {
     "end_time": "2020-07-19T02:54:08.534531Z",
     "start_time": "2020-07-19T02:54:02.196037Z"
    }
   },
   "outputs": [],
   "source": [
    "DF = pd.concat([DF_09,DF_10,DF_11,DF_12,DF_13,DF_14,DF_15,DF_16,DF_17,DF_18])"
   ]
  },
  {
   "cell_type": "code",
   "execution_count": 28,
   "metadata": {
    "ExecuteTime": {
     "end_time": "2020-07-19T02:54:47.170869Z",
     "start_time": "2020-07-19T02:54:08.538252Z"
    }
   },
   "outputs": [],
   "source": [
    "fields = ['IN_AGUA_INEXISTENTE', 'IN_ESGOTO_INEXISTENTE', 'IN_ENERGIA_INEXISTENTE', 'QT_EQUIP_TV','QT_EQUIP_DVD', \n",
    "          'QT_COM_ADMINISTRATIVO','QT_EQUIP_IMPRESSORA','QT_EQUIP_COPIADORA', 'IN_BANDA_LARGA', 'IN_BIBLIOTECA', \n",
    "          'IN_LABORATORIO_INFORMATICA', 'IN_LABORATORIO_CIENCIAS',]\n",
    "\n",
    "DF['IN_INFRA_NENHUMA'] = 1\n",
    "\n",
    "\n",
    "infra_elementar = (DF.IN_AGUA_INEXISTENTE==0) & (DF.IN_ESGOTO_INEXISTENTE==0)&(DF.IN_ENERGIA_INEXISTENTE ==0)\n",
    "infra_basica = (DF.QT_EQUIP_TV!=0) & (DF.QT_EQUIP_DVD !=0) & (DF.QT_COM_ADMINISTRATIVO!=0) & (\n",
    "    DF.QT_EQUIP_IMPRESSORA!=0)\n",
    "\n",
    "infra_adequada = (DF.QT_EQUIP_COPIADORA != 0)&(DF.IN_BANDA_LARGA != 0)|(DF.IN_BIBLIOTECA!=0)&(\n",
    "    DF.IN_LABORATORIO_INFORMATICA!=0) \n",
    "\n",
    "infra_avancada = (DF.IN_LABORATORIO_CIENCIAS!=0)\n",
    "\n",
    "DF.loc[(infra_elementar), 'IN_INFRA_ELEMENTAR'] = 1\n",
    "DF.loc[((infra_elementar) & (infra_basica)), 'IN_INFRA_BASICA'] = 1\n",
    "DF.loc[((infra_elementar)& (infra_basica) & (infra_adequada)), 'IN_INFRA_ADEQUADA'] = 1\n",
    "DF.loc[((infra_elementar)& (infra_basica) & (infra_adequada) & (infra_avancada)), 'IN_INFRA_AVANCADA'] = 1\n",
    "\n",
    "DF.loc[DF['IN_INFRA_ELEMENTAR']==1, 'IN_INFRA_NENHUMA']=0\n",
    "DF.loc[(DF.IN_INFRA_ELEMENTAR==1) & (DF.IN_INFRA_BASICA==1), 'IN_INFRA_ELEMENTAR'] = 0\n",
    "DF.loc[(DF.IN_INFRA_BASICA==1) & (DF.IN_INFRA_ADEQUADA==1), 'IN_INFRA_BASICA'] = 0\n",
    "DF.loc[(DF.IN_INFRA_ADEQUADA==1) & (DF.IN_INFRA_AVANCADA==1), 'IN_INFRA_ADEQUADA'] = 0\n",
    "\n",
    "DF[['IN_INFRA_ELEMENTAR', 'IN_INFRA_BASICA', 'IN_INFRA_ADEQUADA', \n",
    "    'IN_INFRA_AVANCADA']] = DF[['IN_INFRA_ELEMENTAR', 'IN_INFRA_BASICA', 'IN_INFRA_ADEQUADA', \n",
    "                                'IN_INFRA_AVANCADA']].fillna(0)\n",
    "\n",
    "DF['IN_TP_ESCOLA'] = \"\"\n",
    "DF.loc[(DF.CO_DEPENDENCIA_ADM== 2) | (DF.CO_DEPENDENCIA_ADM == 3), 'IN_TP_ESCOLA']= 'Municipal+Estadual'\n",
    "DF.loc[(DF.CO_DEPENDENCIA_ADM == 4), 'IN_TP_ESCOLA'] = 'Privada'\n",
    "DF.loc[(DF.CO_DEPENDENCIA_ADM == 1), 'IN_TP_ESCOLA'] = 'Federal'"
   ]
  },
  {
   "cell_type": "code",
   "execution_count": 29,
   "metadata": {
    "ExecuteTime": {
     "end_time": "2020-07-19T02:54:48.602785Z",
     "start_time": "2020-07-19T02:54:47.175754Z"
    }
   },
   "outputs": [],
   "source": [
    "enem = [\n",
    "'CO_ANO',\n",
    "'CO_ESCOLA',\n",
    "'CO_UF',\n",
    "'CO_MUNICIPIO',\n",
    "'TP_ENSINO',\n",
    "'NU_IDADE',\n",
    "'TP_SEXO',\n",
    "'TP_COR_RACA',\n",
    "'TP_ST_CONCLUSAO',\n",
    "'NU_NOTA_CN',\n",
    "'NU_NOTA_CH',\n",
    "'NU_NOTA_LC',\n",
    "'NU_NOTA_MT',\n",
    "'NU_NOTA_REDACAO',\n",
    "'EDU_PAI',\n",
    "'EDU_MAE',\n",
    "'QT_PESSOAS_CASA',\n",
    "'RENDA_MENSAL',\n",
    "'CO_DEPENDENCIA_ADM',\n",
    "'NU_NOTA_GERAL', \n",
    "'TARGET',\n",
    "'IN_TP_ESCOLA',\n",
    "'IN_INFRA_ELEMENTAR',\n",
    "'IN_INFRA_BASICA', \n",
    "'IN_INFRA_ADEQUADA', \n",
    "'IN_INFRA_AVANCADA',\n",
    "'IN_INFRA_NENHUMA'\n",
    "    \n",
    "]\n",
    "DF = DF.filter(items = enem )"
   ]
  },
  {
   "cell_type": "code",
   "execution_count": 30,
   "metadata": {
    "ExecuteTime": {
     "end_time": "2020-07-19T02:54:51.184911Z",
     "start_time": "2020-07-19T02:54:48.607987Z"
    }
   },
   "outputs": [
    {
     "data": {
      "text/html": [
       "<div>\n",
       "<style scoped>\n",
       "    .dataframe tbody tr th:only-of-type {\n",
       "        vertical-align: middle;\n",
       "    }\n",
       "\n",
       "    .dataframe tbody tr th {\n",
       "        vertical-align: top;\n",
       "    }\n",
       "\n",
       "    .dataframe thead th {\n",
       "        text-align: right;\n",
       "    }\n",
       "</style>\n",
       "<table border=\"1\" class=\"dataframe\">\n",
       "  <thead>\n",
       "    <tr style=\"text-align: right;\">\n",
       "      <th></th>\n",
       "      <th>CO_ANO</th>\n",
       "      <th>CO_ESCOLA</th>\n",
       "      <th>CO_UF</th>\n",
       "      <th>CO_MUNICIPIO</th>\n",
       "      <th>NU_IDADE</th>\n",
       "      <th>TP_SEXO</th>\n",
       "      <th>TP_COR_RACA</th>\n",
       "      <th>TP_ST_CONCLUSAO</th>\n",
       "      <th>NU_NOTA_CN</th>\n",
       "      <th>NU_NOTA_CH</th>\n",
       "      <th>NU_NOTA_LC</th>\n",
       "      <th>NU_NOTA_MT</th>\n",
       "      <th>NU_NOTA_REDACAO</th>\n",
       "      <th>EDU_PAI</th>\n",
       "      <th>EDU_MAE</th>\n",
       "      <th>QT_PESSOAS_CASA</th>\n",
       "      <th>RENDA_MENSAL</th>\n",
       "      <th>CO_DEPENDENCIA_ADM</th>\n",
       "      <th>NU_NOTA_GERAL</th>\n",
       "      <th>IN_TP_ESCOLA</th>\n",
       "      <th>IN_INFRA_ELEMENTAR</th>\n",
       "      <th>IN_INFRA_BASICA</th>\n",
       "      <th>IN_INFRA_ADEQUADA</th>\n",
       "      <th>IN_INFRA_AVANCADA</th>\n",
       "      <th>IN_INFRA_NENHUMA</th>\n",
       "    </tr>\n",
       "  </thead>\n",
       "  <tbody>\n",
       "    <tr>\n",
       "      <th>miss</th>\n",
       "      <td>0</td>\n",
       "      <td>0</td>\n",
       "      <td>0</td>\n",
       "      <td>0</td>\n",
       "      <td>0</td>\n",
       "      <td>0</td>\n",
       "      <td>0</td>\n",
       "      <td>0.0964968</td>\n",
       "      <td>0</td>\n",
       "      <td>0</td>\n",
       "      <td>0</td>\n",
       "      <td>0</td>\n",
       "      <td>0</td>\n",
       "      <td>0</td>\n",
       "      <td>0</td>\n",
       "      <td>0</td>\n",
       "      <td>0</td>\n",
       "      <td>0</td>\n",
       "      <td>0</td>\n",
       "      <td>0</td>\n",
       "      <td>0</td>\n",
       "      <td>0</td>\n",
       "      <td>0</td>\n",
       "      <td>0</td>\n",
       "      <td>0</td>\n",
       "    </tr>\n",
       "    <tr>\n",
       "      <th>type</th>\n",
       "      <td>int64</td>\n",
       "      <td>float64</td>\n",
       "      <td>int64</td>\n",
       "      <td>int64</td>\n",
       "      <td>float64</td>\n",
       "      <td>int64</td>\n",
       "      <td>float64</td>\n",
       "      <td>float64</td>\n",
       "      <td>float64</td>\n",
       "      <td>float64</td>\n",
       "      <td>float64</td>\n",
       "      <td>float64</td>\n",
       "      <td>float64</td>\n",
       "      <td>int64</td>\n",
       "      <td>int64</td>\n",
       "      <td>float64</td>\n",
       "      <td>int64</td>\n",
       "      <td>int64</td>\n",
       "      <td>float64</td>\n",
       "      <td>object</td>\n",
       "      <td>float64</td>\n",
       "      <td>float64</td>\n",
       "      <td>float64</td>\n",
       "      <td>float64</td>\n",
       "      <td>int64</td>\n",
       "    </tr>\n",
       "  </tbody>\n",
       "</table>\n",
       "</div>"
      ],
      "text/plain": [
       "     CO_ANO CO_ESCOLA  CO_UF CO_MUNICIPIO NU_IDADE TP_SEXO TP_COR_RACA  \\\n",
       "miss      0         0      0            0        0       0           0   \n",
       "type  int64   float64  int64        int64  float64   int64     float64   \n",
       "\n",
       "     TP_ST_CONCLUSAO NU_NOTA_CN NU_NOTA_CH NU_NOTA_LC NU_NOTA_MT  \\\n",
       "miss       0.0964968          0          0          0          0   \n",
       "type         float64    float64    float64    float64    float64   \n",
       "\n",
       "     NU_NOTA_REDACAO EDU_PAI EDU_MAE QT_PESSOAS_CASA RENDA_MENSAL  \\\n",
       "miss               0       0       0               0            0   \n",
       "type         float64   int64   int64         float64        int64   \n",
       "\n",
       "     CO_DEPENDENCIA_ADM NU_NOTA_GERAL IN_TP_ESCOLA IN_INFRA_ELEMENTAR  \\\n",
       "miss                  0             0            0                  0   \n",
       "type              int64       float64       object            float64   \n",
       "\n",
       "     IN_INFRA_BASICA IN_INFRA_ADEQUADA IN_INFRA_AVANCADA IN_INFRA_NENHUMA  \n",
       "miss               0                 0                 0                0  \n",
       "type         float64           float64           float64            int64  "
      ]
     },
     "execution_count": 30,
     "metadata": {},
     "output_type": "execute_result"
    }
   ],
   "source": [
    "k= pd.DataFrame()\n",
    "k['miss'] = DF.isnull().sum()/DF.shape[0]\n",
    "k['type'] = DF.dtypes\n",
    "k.T"
   ]
  },
  {
   "cell_type": "code",
   "execution_count": 31,
   "metadata": {
    "ExecuteTime": {
     "end_time": "2020-07-19T02:54:52.744629Z",
     "start_time": "2020-07-19T02:54:51.189385Z"
    }
   },
   "outputs": [],
   "source": [
    "#by context, lets fill it with 0\n",
    "DF.fillna(0, inplace=True,)"
   ]
  },
  {
   "cell_type": "code",
   "execution_count": 32,
   "metadata": {
    "ExecuteTime": {
     "end_time": "2020-07-19T02:54:53.038550Z",
     "start_time": "2020-07-19T02:54:52.753525Z"
    }
   },
   "outputs": [
    {
     "data": {
      "text/plain": [
       "2    7515288\n",
       "4    2411583\n",
       "1     251243\n",
       "3      97007\n",
       "Name: CO_DEPENDENCIA_ADM, dtype: int64"
      ]
     },
     "execution_count": 32,
     "metadata": {},
     "output_type": "execute_result"
    }
   ],
   "source": [
    "DF.CO_DEPENDENCIA_ADM.value_counts()"
   ]
  },
  {
   "cell_type": "code",
   "execution_count": 33,
   "metadata": {
    "ExecuteTime": {
     "end_time": "2020-07-19T02:56:02.754220Z",
     "start_time": "2020-07-19T02:54:53.044687Z"
    }
   },
   "outputs": [],
   "source": [
    "DF.loc[(DF.CO_DEPENDENCIA_ADM== 2) | (DF.CO_DEPENDENCIA_ADM == 3), 'CO_DEPENDENCIA_ADM']= 'Municipal+Estadual'\n",
    "DF.loc[(DF.CO_DEPENDENCIA_ADM == 4), 'CO_DEPENDENCIA_ADM'] = 'Privada'\n",
    "DF.loc[(DF.CO_DEPENDENCIA_ADM == 1), 'CO_DEPENDENCIA_ADM'] = 'Federal'\n",
    "\n",
    "\n",
    "DF.loc[(DF.TP_COR_RACA == 0), 'TP_COR_RACA'] = 'Não declarada'\n",
    "DF.loc[(DF.TP_COR_RACA == 1), 'TP_COR_RACA'] = 'Branca'\n",
    "DF.loc[(DF.TP_COR_RACA == 2), 'TP_COR_RACA'] = 'Preta'\n",
    "DF.loc[(DF.TP_COR_RACA == 3), 'TP_COR_RACA'] = 'Parda'\n",
    "DF.loc[(DF.TP_COR_RACA == 4), 'TP_COR_RACA'] = 'Amarela'\n",
    "DF.loc[(DF.TP_COR_RACA == 5), 'TP_COR_RACA'] = 'Indígena'\n",
    "\n",
    "DF.loc[(DF.TP_SEXO == 0), 'TP_SEXO'] = 'Feminino'\n",
    "DF.loc[(DF.TP_SEXO == 1), 'TP_SEXO'] = 'Masculino'\n",
    "\n",
    "DF.loc[(DF.EDU_PAI == 0), 'EDU_PAI'] = '< 4ªSérie/Não sei'\n",
    "DF.loc[(DF.EDU_PAI == 1), 'EDU_PAI'] = '4ª Série'\n",
    "DF.loc[(DF.EDU_PAI == 2), 'EDU_PAI'] = '8ª Série'\n",
    "DF.loc[(DF.EDU_PAI == 3), 'EDU_PAI'] = 'Ens. Médio'\n",
    "DF.loc[(DF.EDU_PAI == 4), 'EDU_PAI'] = 'Faculdade'\n",
    "DF.loc[(DF.EDU_PAI == 5), 'EDU_PAI'] = 'Pós-Gradução'\n",
    "\n",
    "\n",
    "DF.loc[(DF.EDU_MAE == 0), 'EDU_MAE'] = '< 4ªSérie/Não sei'\n",
    "DF.loc[(DF.EDU_MAE == 1), 'EDU_MAE'] = '4ª Série'\n",
    "DF.loc[(DF.EDU_MAE == 2), 'EDU_MAE'] = '8ª Série'\n",
    "DF.loc[(DF.EDU_MAE == 3), 'EDU_MAE'] = 'Ens. Médio'\n",
    "DF.loc[(DF.EDU_MAE == 4), 'EDU_MAE'] = 'Faculdade'\n",
    "DF.loc[(DF.EDU_MAE == 5), 'EDU_MAE'] = 'Pós-Gradução'\n",
    "\n",
    "\n",
    "DF.loc[(DF.RENDA_MENSAL == 0), 'RENDA_MENSAL'] = 'Nenhuma'\n",
    "DF.loc[(DF.RENDA_MENSAL == 1), 'RENDA_MENSAL'] = 'Até 1 sal.'\n",
    "DF.loc[(DF.RENDA_MENSAL == 2), 'RENDA_MENSAL'] = '1 a 2 sal.'\n",
    "DF.loc[(DF.RENDA_MENSAL == 3), 'RENDA_MENSAL'] = '2 a 5 sal.'\n",
    "DF.loc[(DF.RENDA_MENSAL == 4), 'RENDA_MENSAL'] = '5 a 10 sal.'\n",
    "DF.loc[(DF.RENDA_MENSAL == 5), 'RENDA_MENSAL'] = 'Acima de 10 sal.'\n",
    "\n"
   ]
  },
  {
   "cell_type": "code",
   "execution_count": 34,
   "metadata": {
    "ExecuteTime": {
     "end_time": "2020-07-19T02:56:04.846366Z",
     "start_time": "2020-07-19T02:56:02.759225Z"
    }
   },
   "outputs": [],
   "source": [
    "DF['STD_MEAN'] = DF.groupby(['CO_ANO','CO_ESCOLA'])['NU_NOTA_GERAL'].transform('std')"
   ]
  },
  {
   "cell_type": "code",
   "execution_count": 35,
   "metadata": {},
   "outputs": [],
   "source": [
    "#renda percapita based 2020\n",
    "\n",
    "DF.loc[DF['RENDA_MENSAL']=='Nenhuma', 'RENDA_NUM']=0\n",
    "DF.loc[DF['RENDA_MENSAL']=='Até 1 sal.', 'RENDA_NUM']= 1039/2\n",
    "DF.loc[DF['RENDA_MENSAL']=='1 a 2 sal.', 'RENDA_NUM']= ((1039*2 - 1039)/2)+1039\n",
    "DF.loc[DF['RENDA_MENSAL']=='2 a 5 sal.', 'RENDA_NUM']=((1039*5 - 1039*2)/2)+1039*2\n",
    "DF.loc[DF['RENDA_MENSAL']=='5 a 10 sal.', 'RENDA_NUM']=((1039*10 - 1039*5)/2)+1039*5\n",
    "DF.loc[DF['RENDA_MENSAL']=='Acima de 10 sal.', 'RENDA_NUM']=1039*10\n",
    "\n",
    "DF['RENDA_PERCAPITA'] = DF.RENDA_NUM/DF.QT_PESSOAS_CASA\n",
    "\n"
   ]
  },
  {
   "cell_type": "code",
   "execution_count": 37,
   "metadata": {},
   "outputs": [
    {
     "data": {
      "text/plain": [
       "Index(['CO_ANO', 'CO_ESCOLA', 'CO_UF', 'CO_MUNICIPIO', 'NU_IDADE', 'TP_SEXO',\n",
       "       'TP_COR_RACA', 'TP_ST_CONCLUSAO', 'NU_NOTA_CN', 'NU_NOTA_CH',\n",
       "       'NU_NOTA_LC', 'NU_NOTA_MT', 'NU_NOTA_REDACAO', 'EDU_PAI', 'EDU_MAE',\n",
       "       'QT_PESSOAS_CASA', 'RENDA_MENSAL', 'CO_DEPENDENCIA_ADM',\n",
       "       'NU_NOTA_GERAL', 'IN_TP_ESCOLA', 'IN_INFRA_ELEMENTAR',\n",
       "       'IN_INFRA_BASICA', 'IN_INFRA_ADEQUADA', 'IN_INFRA_AVANCADA',\n",
       "       'IN_INFRA_NENHUMA', 'STD_MEAN', 'RENDA_NUM', 'RENDA_PERCAPITA'],\n",
       "      dtype='object')"
      ]
     },
     "execution_count": 37,
     "metadata": {},
     "output_type": "execute_result"
    }
   ],
   "source": [
    "DF.columns"
   ]
  },
  {
   "cell_type": "code",
   "execution_count": 36,
   "metadata": {
    "ExecuteTime": {
     "end_time": "2020-07-19T03:01:59.006102Z",
     "start_time": "2020-07-19T02:56:04.851312Z"
    }
   },
   "outputs": [],
   "source": [
    "DF.to_csv('ALL_STUDENTS.csv', index =False)"
   ]
  }
 ],
 "metadata": {
  "kernelspec": {
   "display_name": "Python 3",
   "language": "python",
   "name": "python3"
  },
  "language_info": {
   "codemirror_mode": {
    "name": "ipython",
    "version": 3
   },
   "file_extension": ".py",
   "mimetype": "text/x-python",
   "name": "python",
   "nbconvert_exporter": "python",
   "pygments_lexer": "ipython3",
   "version": "3.7.6"
  }
 },
 "nbformat": 4,
 "nbformat_minor": 4
}
