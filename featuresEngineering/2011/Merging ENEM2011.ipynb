{
 "cells": [
  {
   "cell_type": "code",
   "execution_count": 1,
   "metadata": {
    "ExecuteTime": {
     "end_time": "2020-05-06T19:08:45.488858Z",
     "start_time": "2020-05-06T19:08:37.153027Z"
    }
   },
   "outputs": [],
   "source": [
    "import pandas as pd\n"
   ]
  },
  {
   "cell_type": "code",
   "execution_count": 9,
   "metadata": {
    "ExecuteTime": {
     "end_time": "2020-05-06T19:15:52.014033Z",
     "start_time": "2020-05-06T19:15:07.666983Z"
    }
   },
   "outputs": [],
   "source": [
    "#ENEM 2011 was in SAS and TXT data type. I split them to open in low hardware SAS system and converted to CSV. \n",
    "#Now, I merging the splitted parts.\n",
    "enem = ['NU_INSCRICAO','NU_ANO','PK_COD_ENTIDADE','IN_TP_ENSINO','IDADE','TP_SEXO','TP_COR_RACA','ST_CONCLUSAO','NU_NT_CN',\n",
    "        'NU_NT_CH','NU_NT_LC','NU_NT_MT','NU_NOTA_REDACAO']\n",
    "\n",
    "e1=pd.read_csv(\"~/data/enem/2011/DADOS/ENEM_2011_1.csv\")\n",
    "e2a=pd.read_csv(\"~/data/enem/2011/DADOS/ENEM_2011_2A.csv\")\n",
    "e2b1=pd.read_csv(\"~/data/enem/2011/DADOS/ENEM_2011_2b1.csv\")\n",
    "e2b2=pd.read_csv(\"~/data/enem/2011/DADOS/ENEM_2011_2b2.csv\")\n",
    "e3=pd.read_csv(\"~/data/enem/2011/DADOS/ENEM_2011_3.csv\")\n"
   ]
  },
  {
   "cell_type": "code",
   "execution_count": 13,
   "metadata": {
    "ExecuteTime": {
     "end_time": "2020-05-06T19:17:44.323139Z",
     "start_time": "2020-05-06T19:17:28.367221Z"
    }
   },
   "outputs": [],
   "source": [
    "e2b = pd.merge(e2b1, e2b2, left_on='NU_INSCRICAO', right_on='NU_INSCRICAO', how='inner')\n",
    "e2 = pd.merge(e2b, e2a, left_on='NU_INSCRICAO', right_on='NU_INSCRICAO', how='inner')"
   ]
  },
  {
   "cell_type": "code",
   "execution_count": 14,
   "metadata": {
    "ExecuteTime": {
     "end_time": "2020-05-06T19:24:29.902169Z",
     "start_time": "2020-05-06T19:23:56.742273Z"
    }
   },
   "outputs": [],
   "source": [
    "#merging the rest of the data parts\n",
    "e12 = pd.merge(e1, e2, left_on='NU_INSCRICAO', right_on='NU_INSCRICAO', how='inner')\n",
    "e = pd.merge(e12, e3, left_on='NU_INSCRICAO', right_on='NU_INSCRICAO', how='inner')"
   ]
  },
  {
   "cell_type": "code",
   "execution_count": 15,
   "metadata": {
    "ExecuteTime": {
     "end_time": "2020-05-06T19:24:32.985997Z",
     "start_time": "2020-05-06T19:24:32.896538Z"
    }
   },
   "outputs": [
    {
     "data": {
      "text/html": [
       "<div>\n",
       "<style scoped>\n",
       "    .dataframe tbody tr th:only-of-type {\n",
       "        vertical-align: middle;\n",
       "    }\n",
       "\n",
       "    .dataframe tbody tr th {\n",
       "        vertical-align: top;\n",
       "    }\n",
       "\n",
       "    .dataframe thead th {\n",
       "        text-align: right;\n",
       "    }\n",
       "</style>\n",
       "<table border=\"1\" class=\"dataframe\">\n",
       "  <thead>\n",
       "    <tr style=\"text-align: right;\">\n",
       "      <th></th>\n",
       "      <th>NU_INSCRICAO</th>\n",
       "      <th>NU_ANO</th>\n",
       "      <th>IDADE</th>\n",
       "      <th>TP_SEXO</th>\n",
       "      <th>COD_MUNICIPIO_INSC</th>\n",
       "      <th>NO_MUNICIPIO_INSC</th>\n",
       "      <th>UF_INSC</th>\n",
       "      <th>ST_CONCLUSAO</th>\n",
       "      <th>IN_TP_ENSINO</th>\n",
       "      <th>IN_CERTIFICADO</th>\n",
       "      <th>...</th>\n",
       "      <th>NU_NOTA_COMP5</th>\n",
       "      <th>NU_NOTA_REDACAO</th>\n",
       "      <th>IN_CONCLUINTE_CENSO</th>\n",
       "      <th>COD_ETAPA_ENSINO_CENSO</th>\n",
       "      <th>COD_ENTIDADE_CENSO</th>\n",
       "      <th>COD_MUNICIPIO_ESC_CENSO</th>\n",
       "      <th>UF_ESC_CENSO</th>\n",
       "      <th>ID_DEPENDENCIA_ADM_CENSO</th>\n",
       "      <th>ID_LOCALIZACAO_CENSO</th>\n",
       "      <th>SIT_FUNC_CENSO</th>\n",
       "    </tr>\n",
       "  </thead>\n",
       "  <tbody>\n",
       "    <tr>\n",
       "      <th>0</th>\n",
       "      <td>300000000001</td>\n",
       "      <td>2011</td>\n",
       "      <td>28</td>\n",
       "      <td>0</td>\n",
       "      <td>3548708</td>\n",
       "      <td>SAO BERNARDO DO CAMPO</td>\n",
       "      <td>SP</td>\n",
       "      <td>1</td>\n",
       "      <td>1.0</td>\n",
       "      <td>0</td>\n",
       "      <td>...</td>\n",
       "      <td>60</td>\n",
       "      <td>620.0</td>\n",
       "      <td>0</td>\n",
       "      <td>NaN</td>\n",
       "      <td>NaN</td>\n",
       "      <td>NaN</td>\n",
       "      <td>NaN</td>\n",
       "      <td>NaN</td>\n",
       "      <td>NaN</td>\n",
       "      <td>NaN</td>\n",
       "    </tr>\n",
       "    <tr>\n",
       "      <th>1</th>\n",
       "      <td>300000000002</td>\n",
       "      <td>2011</td>\n",
       "      <td>22</td>\n",
       "      <td>1</td>\n",
       "      <td>4125506</td>\n",
       "      <td>SAO JOSE DOS PINHAIS</td>\n",
       "      <td>PR</td>\n",
       "      <td>1</td>\n",
       "      <td>1.0</td>\n",
       "      <td>0</td>\n",
       "      <td>...</td>\n",
       "      <td>0</td>\n",
       "      <td>0.0</td>\n",
       "      <td>0</td>\n",
       "      <td>NaN</td>\n",
       "      <td>NaN</td>\n",
       "      <td>NaN</td>\n",
       "      <td>NaN</td>\n",
       "      <td>NaN</td>\n",
       "      <td>NaN</td>\n",
       "      <td>NaN</td>\n",
       "    </tr>\n",
       "    <tr>\n",
       "      <th>2</th>\n",
       "      <td>300000000003</td>\n",
       "      <td>2011</td>\n",
       "      <td>33</td>\n",
       "      <td>0</td>\n",
       "      <td>4314902</td>\n",
       "      <td>PORTO ALEGRE</td>\n",
       "      <td>RS</td>\n",
       "      <td>1</td>\n",
       "      <td>1.0</td>\n",
       "      <td>0</td>\n",
       "      <td>...</td>\n",
       "      <td>100</td>\n",
       "      <td>540.0</td>\n",
       "      <td>0</td>\n",
       "      <td>NaN</td>\n",
       "      <td>NaN</td>\n",
       "      <td>NaN</td>\n",
       "      <td>NaN</td>\n",
       "      <td>NaN</td>\n",
       "      <td>NaN</td>\n",
       "      <td>NaN</td>\n",
       "    </tr>\n",
       "    <tr>\n",
       "      <th>3</th>\n",
       "      <td>300000000004</td>\n",
       "      <td>2011</td>\n",
       "      <td>24</td>\n",
       "      <td>0</td>\n",
       "      <td>3300456</td>\n",
       "      <td>BELFORD ROXO</td>\n",
       "      <td>RJ</td>\n",
       "      <td>1</td>\n",
       "      <td>1.0</td>\n",
       "      <td>0</td>\n",
       "      <td>...</td>\n",
       "      <td>40</td>\n",
       "      <td>420.0</td>\n",
       "      <td>0</td>\n",
       "      <td>NaN</td>\n",
       "      <td>NaN</td>\n",
       "      <td>NaN</td>\n",
       "      <td>NaN</td>\n",
       "      <td>NaN</td>\n",
       "      <td>NaN</td>\n",
       "      <td>NaN</td>\n",
       "    </tr>\n",
       "    <tr>\n",
       "      <th>4</th>\n",
       "      <td>300000000005</td>\n",
       "      <td>2011</td>\n",
       "      <td>25</td>\n",
       "      <td>0</td>\n",
       "      <td>2304400</td>\n",
       "      <td>FORTALEZA</td>\n",
       "      <td>CE</td>\n",
       "      <td>1</td>\n",
       "      <td>1.0</td>\n",
       "      <td>0</td>\n",
       "      <td>...</td>\n",
       "      <td>60</td>\n",
       "      <td>500.0</td>\n",
       "      <td>0</td>\n",
       "      <td>NaN</td>\n",
       "      <td>NaN</td>\n",
       "      <td>NaN</td>\n",
       "      <td>NaN</td>\n",
       "      <td>NaN</td>\n",
       "      <td>NaN</td>\n",
       "      <td>NaN</td>\n",
       "    </tr>\n",
       "  </tbody>\n",
       "</table>\n",
       "<p>5 rows × 65 columns</p>\n",
       "</div>"
      ],
      "text/plain": [
       "   NU_INSCRICAO  NU_ANO  IDADE  TP_SEXO  COD_MUNICIPIO_INSC  \\\n",
       "0  300000000001    2011     28        0             3548708   \n",
       "1  300000000002    2011     22        1             4125506   \n",
       "2  300000000003    2011     33        0             4314902   \n",
       "3  300000000004    2011     24        0             3300456   \n",
       "4  300000000005    2011     25        0             2304400   \n",
       "\n",
       "       NO_MUNICIPIO_INSC UF_INSC  ST_CONCLUSAO  IN_TP_ENSINO  IN_CERTIFICADO  \\\n",
       "0  SAO BERNARDO DO CAMPO      SP             1           1.0               0   \n",
       "1   SAO JOSE DOS PINHAIS      PR             1           1.0               0   \n",
       "2           PORTO ALEGRE      RS             1           1.0               0   \n",
       "3           BELFORD ROXO      RJ             1           1.0               0   \n",
       "4              FORTALEZA      CE             1           1.0               0   \n",
       "\n",
       "   ...  NU_NOTA_COMP5  NU_NOTA_REDACAO  IN_CONCLUINTE_CENSO  \\\n",
       "0  ...             60            620.0                    0   \n",
       "1  ...              0              0.0                    0   \n",
       "2  ...            100            540.0                    0   \n",
       "3  ...             40            420.0                    0   \n",
       "4  ...             60            500.0                    0   \n",
       "\n",
       "   COD_ETAPA_ENSINO_CENSO  COD_ENTIDADE_CENSO COD_MUNICIPIO_ESC_CENSO  \\\n",
       "0                     NaN                 NaN                     NaN   \n",
       "1                     NaN                 NaN                     NaN   \n",
       "2                     NaN                 NaN                     NaN   \n",
       "3                     NaN                 NaN                     NaN   \n",
       "4                     NaN                 NaN                     NaN   \n",
       "\n",
       "  UF_ESC_CENSO  ID_DEPENDENCIA_ADM_CENSO  ID_LOCALIZACAO_CENSO  SIT_FUNC_CENSO  \n",
       "0          NaN                       NaN                   NaN             NaN  \n",
       "1          NaN                       NaN                   NaN             NaN  \n",
       "2          NaN                       NaN                   NaN             NaN  \n",
       "3          NaN                       NaN                   NaN             NaN  \n",
       "4          NaN                       NaN                   NaN             NaN  \n",
       "\n",
       "[5 rows x 65 columns]"
      ]
     },
     "execution_count": 15,
     "metadata": {},
     "output_type": "execute_result"
    }
   ],
   "source": [
    "e.head()"
   ]
  },
  {
   "cell_type": "code",
   "execution_count": 17,
   "metadata": {
    "ExecuteTime": {
     "end_time": "2020-05-06T19:30:27.061597Z",
     "start_time": "2020-05-06T19:25:37.493943Z"
    }
   },
   "outputs": [],
   "source": [
    "e.to_csv('~/data/enem/2011/DADOS/MICRODADOS_ENEM_2011.csv')"
   ]
  },
  {
   "cell_type": "code",
   "execution_count": null,
   "metadata": {},
   "outputs": [],
   "source": []
  }
 ],
 "metadata": {
  "kernelspec": {
   "display_name": "Python 3",
   "language": "python",
   "name": "python3"
  },
  "language_info": {
   "codemirror_mode": {
    "name": "ipython",
    "version": 3
   },
   "file_extension": ".py",
   "mimetype": "text/x-python",
   "name": "python",
   "nbconvert_exporter": "python",
   "pygments_lexer": "ipython3",
   "version": "3.7.6"
  }
 },
 "nbformat": 4,
 "nbformat_minor": 2
}
