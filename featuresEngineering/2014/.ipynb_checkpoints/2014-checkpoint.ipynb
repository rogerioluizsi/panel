{
 "cells": [
  {
   "cell_type": "code",
   "execution_count": 1,
   "metadata": {
    "ExecuteTime": {
     "end_time": "2020-07-05T17:41:42.338198Z",
     "start_time": "2020-07-05T17:41:39.442146Z"
    }
   },
   "outputs": [],
   "source": [
    "import time\n",
    "import pandas as pd\n",
    "import numpy as np\n",
    "import warnings\n",
    "import feather\n",
    "warnings.filterwarnings('ignore')\n",
    "from pandas.api.types import is_string_dtype\n",
    "from pandas.api.types import is_numeric_dtype\n",
    "pd.set_option('display.max_columns', None)\n"
   ]
  },
  {
   "cell_type": "markdown",
   "metadata": {},
   "source": [
    "There are many insignificant features to our work, like codes, PK, FK and out of context. \n",
    "Based on prior works and experience of especialists, will be taken off nonsense features. \n",
    "A study was carried out on the evolution and correspondence of these resources in the ENEM and Census\n",
    "data for the period 2009-2018. See (featuresOrganisaton.xls)"
   ]
  },
  {
   "cell_type": "code",
   "execution_count": 2,
   "metadata": {
    "ExecuteTime": {
     "end_time": "2020-07-05T17:41:42.358807Z",
     "start_time": "2020-07-05T17:41:42.343928Z"
    }
   },
   "outputs": [],
   "source": [
    "teacher = ['FK_COD_DOCENTE', 'PK_COD_ENTIDADE','ID_ESPECIALIZACAO','ID_MESTRADO','ID_DOUTORADO']\n",
    "school = ['ANO_CENSO','PK_COD_ENTIDADE', 'FK_COD_MUNICIPIO','FK_COD_ESTADO','ID_DEPENDENCIA_ADM','ID_AGUA_INEXISTENTE',\n",
    "                  'ID_ESGOTO_INEXISTENTE','ID_ENERGIA_INEXISTENTE',\n",
    "                   'ID_LABORATORIO_INFORMATICA','ID_LABORATORIO_CIENCIAS','ID_SALA_ATENDIMENTO_ESPECIAL',\n",
    "                   'ID_BIBLIOTECA','ID_SALA_LEITURA','ID_SANITARIO_FORA_PREDIO',\n",
    "                   'ID_SANITARIO_PNE','ID_DEPENDENCIAS_PNE','NUM_SALAS_UTILIZADAS','NUM_EQUIP_TV',\n",
    "                   'NUM_EQUIP_DVD','NUM_EQUIP_COPIADORA','NUM_EQUIP_IMPRESSORA','NUM_COMP_ADMINISTRATIVOS',\n",
    "                   'NUM_COMP_ALUNOS','ID_INTERNET','ID_BANDA_LARGA','NUM_FUNCIONARIOS','ID_ALIMENTACAO']\n",
    "\n",
    "enem = ['NU_ANO','COD_ESCOLA','IN_TP_ENSINO','IDADE','TP_SEXO','TP_COR_RACA','ST_CONCLUSAO','NOTA_CN',\n",
    "        'NOTA_CH','NOTA_LC','NOTA_MT','NU_NOTA_REDACAO','Q001','Q002','Q004','Q003'\n",
    "]\n"
   ]
  },
  {
   "cell_type": "code",
   "execution_count": 3,
   "metadata": {
    "ExecuteTime": {
     "end_time": "2020-07-05T17:48:11.435424Z",
     "start_time": "2020-07-05T17:41:42.364805Z"
    }
   },
   "outputs": [],
   "source": [
    "#Students of ENEM\n",
    "E = pd.read_csv('~/data/enem/2014/DADOS/MICRODADOS_ENEM_2014.csv', sep=',', encoding=\"iso-8859-2\", usecols = enem)\n"
   ]
  },
  {
   "cell_type": "code",
   "execution_count": 4,
   "metadata": {
    "ExecuteTime": {
     "end_time": "2020-07-05T17:48:17.846856Z",
     "start_time": "2020-07-05T17:48:11.443135Z"
    }
   },
   "outputs": [],
   "source": [
    "#School census data\n",
    "CE =    pd.read_csv(\"~/data/censo/2014/DADOS/ESCOLAS.CSV\", sep='|', encoding=\"iso-8859-2\", usecols = school)"
   ]
  },
  {
   "cell_type": "code",
   "execution_count": 5,
   "metadata": {
    "ExecuteTime": {
     "end_time": "2020-07-05T17:52:54.000525Z",
     "start_time": "2020-07-05T17:48:17.854167Z"
    }
   },
   "outputs": [],
   "source": [
    "#Teacher census data by Braazilian mesoregion\n",
    "CD_CO = pd.read_csv(\"~/data/censo/2014/DADOS/DOCENTES_CO.CSV\", sep='|', encoding=\"iso-8859-2\", usecols = teacher)\n",
    "CD_NE = pd.read_csv(\"~/data/censo/2014/DADOS/DOCENTES_NORDESTE.CSV\", sep='|', encoding=\"iso-8859-2\", usecols = teacher)\n",
    "CD_N =  pd.read_csv(\"~/data/censo/2014/DADOS/DOCENTES_NORTE.CSV\", sep='|', encoding=\"iso-8859-2\", usecols = teacher)\n",
    "CD_SE = pd.read_csv(\"~/data/censo/2014/DADOS/DOCENTES_SUDESTE.CSV\", sep='|', encoding=\"iso-8859-2\", usecols = teacher)\n",
    "CD_S =  pd.read_csv(\"~/data/censo/2014/DADOS/DOCENTES_SUL.CSV\", sep='|', encoding=\"iso-8859-2\", usecols = teacher)\n",
    "\n",
    "#All teacher census data\n",
    "CT = pd.concat([CD_CO, CD_NE, CD_N, CD_SE, CD_S])"
   ]
  },
  {
   "cell_type": "code",
   "execution_count": 6,
   "metadata": {
    "ExecuteTime": {
     "end_time": "2020-07-05T17:53:40.229357Z",
     "start_time": "2020-07-05T17:52:54.007719Z"
    }
   },
   "outputs": [],
   "source": [
    "ENEM = E.copy()\n",
    "C_SCHOOL = CE.copy()\n",
    "C_TEACHER = CT.copy()"
   ]
  },
  {
   "cell_type": "code",
   "execution_count": 7,
   "metadata": {
    "ExecuteTime": {
     "end_time": "2020-07-05T17:54:22.982009Z",
     "start_time": "2020-07-05T17:53:40.238249Z"
    }
   },
   "outputs": [
    {
     "name": "stdout",
     "output_type": "stream",
     "text": [
      "checking year [2014]\n",
      "checking key float64\n"
     ]
    }
   ],
   "source": [
    "#ordering\n",
    "ENEM = ENEM[enem]\n",
    "\n",
    "newNames = [\n",
    "'CO_ANO',\n",
    "'CO_ESCOLA',\n",
    "'TP_ENSINO',\n",
    "'NU_IDADE',\n",
    "'TP_SEXO',\n",
    "'TP_COR_RACA',\n",
    "'TP_ST_CONCLUSAO',\n",
    "'NU_NOTA_CN',\n",
    "'NU_NOTA_CH',\n",
    "'NU_NOTA_LC',\n",
    "'NU_NOTA_MT',\n",
    "'NU_NOTA_REDACAO',\n",
    "'EDU_PAI',\n",
    "'EDU_MAE',\n",
    "'QT_PESSOAS_CASA',\n",
    "'RENDA_MENSAL'\n",
    "]\n",
    "\n",
    "#Rename\n",
    "ENEM.columns = newNames\n",
    "\n",
    "print('checking year',ENEM.CO_ANO.unique())\n",
    "print('checking key',ENEM.CO_ESCOLA.dtypes)"
   ]
  },
  {
   "cell_type": "code",
   "execution_count": 8,
   "metadata": {
    "ExecuteTime": {
     "end_time": "2020-07-05T17:54:23.078557Z",
     "start_time": "2020-07-05T17:54:22.994958Z"
    }
   },
   "outputs": [
    {
     "name": "stdout",
     "output_type": "stream",
     "text": [
      "Checking year of censo [2014]\n",
      "checking key int64\n"
     ]
    }
   ],
   "source": [
    "C_SCHOOL = C_SCHOOL[school]\n",
    "\n",
    "newNames = ['ANO_CENSO',\n",
    "'CO_ESCOLA',\n",
    " 'CO_MUNICIPIO',\n",
    " 'CO_UF',\n",
    " 'CO_DEPENDENCIA_ADM',\n",
    " 'IN_AGUA_INEXISTENTE',\n",
    " 'IN_ESGOTO_INEXISTENTE',\n",
    " 'IN_ENERGIA_INEXISTENTE',\n",
    " 'IN_LABORATORIO_INFORMATICA',\n",
    " 'IN_LABORATORIO_CIENCIAS',\n",
    " 'IN_SALA_ATENDIMENTO_ESPECIAL',\n",
    " 'IN_BIBLIOTECA',\n",
    " 'IN_SALA_LEITURA',\n",
    " 'IN_BANHEIRO_FORA_PREDIO',\n",
    " 'IN_BANHEIRO_PNE',\n",
    " 'IN_DEPENDENCIAS_PNE',\n",
    " 'QT_SALAS_UTILIZADAS',\n",
    " 'QT_EQUIP_TV',\n",
    " 'QT_EQUIP_DVD',\n",
    " 'QT_EQUIP_COPIADORA',\n",
    " 'QT_EQUIP_IMPRESSORA',\n",
    " 'QT_COM_ADMINISTRATIVO',\n",
    " 'QT_COMP_ALUNO',\n",
    " 'IN_INTERNET',\n",
    " 'IN_BANDA_LARGA',\n",
    " 'QT_FUNCIONARIOS',\n",
    " 'IN_ALIMENTACAO'\n",
    "]\n",
    "\n",
    "#Rename \n",
    "C_SCHOOL.columns =  newNames\n",
    "\n",
    "print('Checking year of censo',C_SCHOOL.ANO_CENSO.unique())\n",
    "C_SCHOOL.drop('ANO_CENSO', axis=1, inplace=True)\n",
    "print('checking key',C_SCHOOL.CO_ESCOLA.dtypes)"
   ]
  },
  {
   "cell_type": "code",
   "execution_count": 9,
   "metadata": {
    "ExecuteTime": {
     "end_time": "2020-07-05T17:54:30.013933Z",
     "start_time": "2020-07-05T17:54:23.091576Z"
    }
   },
   "outputs": [
    {
     "name": "stdout",
     "output_type": "stream",
     "text": [
      "checking key int64\n"
     ]
    }
   ],
   "source": [
    "C_TEACHER = C_TEACHER[teacher]\n",
    "\n",
    "# New default column names for all Datasets\n",
    "newNames = [\n",
    "'CO_PROFESSOR',\n",
    "'CO_ESCOLA',  \n",
    "'IN_ESPECIALIZACAO',\n",
    "'IN_MESTRADO',\n",
    "'IN_DOUTORADO'\n",
    "]\n",
    "#It's necessary drop duplicates whose are teachers in the same school but in different classes. \n",
    "#This way, the teacher appear just one time in each school. \n",
    "C_TEACHER.columns = newNames\n",
    "C_TEACHER.drop_duplicates(subset=['CO_PROFESSOR', 'CO_ESCOLA'], inplace=True)\n",
    "C_TEACHER.drop('CO_PROFESSOR', axis=1, inplace = True)\n",
    "\n",
    "print('checking key',C_TEACHER.CO_ESCOLA.dtypes)"
   ]
  },
  {
   "cell_type": "markdown",
   "metadata": {
    "ExecuteTime": {
     "end_time": "2020-04-23T20:30:22.367316Z",
     "start_time": "2020-04-23T20:30:21.959067Z"
    }
   },
   "source": [
    "### Minimum Scope Definition"
   ]
  },
  {
   "cell_type": "code",
   "execution_count": 10,
   "metadata": {
    "ExecuteTime": {
     "end_time": "2020-07-05T17:54:31.096047Z",
     "start_time": "2020-07-05T17:54:30.021839Z"
    }
   },
   "outputs": [],
   "source": [
    "ENEM.dropna(inplace = True, axis=0, subset = ['CO_ESCOLA'])\n"
   ]
  },
  {
   "cell_type": "code",
   "execution_count": 11,
   "metadata": {
    "ExecuteTime": {
     "end_time": "2020-07-05T17:54:31.166406Z",
     "start_time": "2020-07-05T17:54:31.101442Z"
    }
   },
   "outputs": [
    {
     "data": {
      "text/plain": [
       "TP_ST_CONCLUSAO       0\n",
       "TP_ENSINO          7942\n",
       "dtype: int64"
      ]
     },
     "execution_count": 11,
     "metadata": {},
     "output_type": "execute_result"
    }
   ],
   "source": [
    "#should care about the nulls into scope filter features?\n",
    "filters = (['TP_ST_CONCLUSAO', 'TP_ENSINO'])\n",
    "ENEM[filters].isnull().sum()\n",
    "#NO, IT'S LOWER"
   ]
  },
  {
   "cell_type": "code",
   "execution_count": 12,
   "metadata": {
    "ExecuteTime": {
     "end_time": "2020-07-05T17:54:31.794694Z",
     "start_time": "2020-07-05T17:54:31.171461Z"
    }
   },
   "outputs": [
    {
     "name": "stdout",
     "output_type": "stream",
     "text": [
      "drop out 1758351 who not attend regular and prof approachs schools\n"
     ]
    }
   ],
   "source": [
    "print('drop out',((ENEM.TP_ENSINO!= 1)|(ENEM.TP_ENSINO!= 3)).sum(), 'who not attend regular and prof approachs schools')\n",
    "ENEM = ENEM.loc[((ENEM.TP_ENSINO== 1)|(ENEM.TP_ENSINO== 3))]\n",
    "ENEM.drop('TP_ENSINO', inplace = True, axis =1)\n"
   ]
  },
  {
   "cell_type": "code",
   "execution_count": 13,
   "metadata": {
    "ExecuteTime": {
     "end_time": "2020-07-05T17:54:31.874832Z",
     "start_time": "2020-07-05T17:54:31.799633Z"
    }
   },
   "outputs": [
    {
     "name": "stdout",
     "output_type": "stream",
     "text": [
      "null: NU_NOTA_CN 200506\n",
      "zero: NU_NOTA_CN 376\n",
      "null: NU_NOTA_CH 200506\n",
      "zero: NU_NOTA_CH 137\n",
      "null: NU_NOTA_LC 220600\n",
      "zero: NU_NOTA_LC 761\n",
      "null: NU_NOTA_MT 220600\n",
      "zero: NU_NOTA_MT 1209\n",
      "null: NU_NOTA_REDACAO 0\n",
      "zero: NU_NOTA_REDACAO 279478\n"
     ]
    }
   ],
   "source": [
    "fields = (['NU_NOTA_CN', 'NU_NOTA_CH','NU_NOTA_LC','NU_NOTA_MT', 'NU_NOTA_REDACAO'])\n",
    "for i in fields:\n",
    "    print ('null:', i, ENEM[i].isnull().sum())\n",
    "    print ('zero:', i, (ENEM[i]== 0).sum())\n",
    "    #, \"and\", ENEM.I==0)"
   ]
  },
  {
   "cell_type": "code",
   "execution_count": 14,
   "metadata": {
    "ExecuteTime": {
     "end_time": "2020-07-05T17:54:32.308811Z",
     "start_time": "2020-07-05T17:54:31.877407Z"
    }
   },
   "outputs": [],
   "source": [
    "ENEM.dropna(inplace = True, axis=0, subset=fields)\n",
    "ENEM = ENEM.loc[~(ENEM[fields] == 0).any(axis=1)]"
   ]
  },
  {
   "cell_type": "code",
   "execution_count": 15,
   "metadata": {
    "ExecuteTime": {
     "end_time": "2020-07-05T17:55:00.953563Z",
     "start_time": "2020-07-05T17:54:32.311549Z"
    }
   },
   "outputs": [
    {
     "name": "stdout",
     "output_type": "stream",
     "text": [
      "null 64\n",
      "taking off 133566\n"
     ]
    },
    {
     "data": {
      "text/plain": [
       "17    668457\n",
       "18    365770\n",
       "19    102991\n",
       "Name: NU_IDADE, dtype: int64"
      ]
     },
     "execution_count": 15,
     "metadata": {},
     "output_type": "execute_result"
    }
   ],
   "source": [
    "#ONLY STUDENTS AT  17 -19 YEAR OLD. WE WANT TO GET ONLY REGULAR STUDENTS THAT ARE IN LAST YEAR OF SECONDARY SCHOOL. \n",
    "#THE MICRODADOS HAVE A FIELD TO CONTROL IT. BUT IT IS NOT CONFIDENCE,DUE A TURN OUT TEAACHERS THAT EXTEND ACADEMIC YEAR\n",
    "print('null', ENEM.NU_IDADE.isnull().sum())\n",
    "#firts, fill NA with the mean of student school\n",
    "ENEM.NU_IDADE = ENEM.groupby(ENEM['CO_ESCOLA'])['NU_IDADE'].apply(lambda x: x.fillna(round(x.mean())))\n",
    "ENEM.NU_IDADE = ENEM.NU_IDADE.astype('int32')\n",
    "print('taking off',((ENEM.NU_IDADE <17)|(ENEM.NU_IDADE>19)).sum())\n",
    "ENEM = ENEM.loc[(ENEM.NU_IDADE >16) &  (ENEM.NU_IDADE<20)]\n",
    "ENEM.NU_IDADE.value_counts()"
   ]
  },
  {
   "cell_type": "code",
   "execution_count": 16,
   "metadata": {
    "ExecuteTime": {
     "end_time": "2020-07-05T17:55:01.540742Z",
     "start_time": "2020-07-05T17:55:00.962894Z"
    }
   },
   "outputs": [
    {
     "data": {
      "text/html": [
       "<div>\n",
       "<style scoped>\n",
       "    .dataframe tbody tr th:only-of-type {\n",
       "        vertical-align: middle;\n",
       "    }\n",
       "\n",
       "    .dataframe tbody tr th {\n",
       "        vertical-align: top;\n",
       "    }\n",
       "\n",
       "    .dataframe thead th {\n",
       "        text-align: right;\n",
       "    }\n",
       "</style>\n",
       "<table border=\"1\" class=\"dataframe\">\n",
       "  <thead>\n",
       "    <tr style=\"text-align: right;\">\n",
       "      <th></th>\n",
       "      <th>NU_NOTA_CN</th>\n",
       "      <th>NU_NOTA_CH</th>\n",
       "      <th>NU_NOTA_LC</th>\n",
       "      <th>NU_NOTA_MT</th>\n",
       "      <th>NU_NOTA_REDACAO</th>\n",
       "    </tr>\n",
       "  </thead>\n",
       "  <tbody>\n",
       "    <tr>\n",
       "      <th>count</th>\n",
       "      <td>1.137218e+06</td>\n",
       "      <td>1.137218e+06</td>\n",
       "      <td>1.137218e+06</td>\n",
       "      <td>1.137218e+06</td>\n",
       "      <td>1.137218e+06</td>\n",
       "    </tr>\n",
       "    <tr>\n",
       "      <th>mean</th>\n",
       "      <td>4.924933e+02</td>\n",
       "      <td>5.528157e+02</td>\n",
       "      <td>5.179764e+02</td>\n",
       "      <td>4.878535e+02</td>\n",
       "      <td>5.199815e+02</td>\n",
       "    </tr>\n",
       "    <tr>\n",
       "      <th>std</th>\n",
       "      <td>7.522545e+01</td>\n",
       "      <td>7.166336e+01</td>\n",
       "      <td>6.689689e+01</td>\n",
       "      <td>1.108958e+02</td>\n",
       "      <td>1.531279e+02</td>\n",
       "    </tr>\n",
       "    <tr>\n",
       "      <th>min</th>\n",
       "      <td>3.420000e+02</td>\n",
       "      <td>3.302000e+02</td>\n",
       "      <td>3.062000e+02</td>\n",
       "      <td>3.185000e+02</td>\n",
       "      <td>4.000000e+01</td>\n",
       "    </tr>\n",
       "    <tr>\n",
       "      <th>25%</th>\n",
       "      <td>4.358000e+02</td>\n",
       "      <td>5.071000e+02</td>\n",
       "      <td>4.772000e+02</td>\n",
       "      <td>4.037000e+02</td>\n",
       "      <td>4.000000e+02</td>\n",
       "    </tr>\n",
       "    <tr>\n",
       "      <th>50%</th>\n",
       "      <td>4.849000e+02</td>\n",
       "      <td>5.582000e+02</td>\n",
       "      <td>5.222000e+02</td>\n",
       "      <td>4.652000e+02</td>\n",
       "      <td>5.200000e+02</td>\n",
       "    </tr>\n",
       "    <tr>\n",
       "      <th>75%</th>\n",
       "      <td>5.419000e+02</td>\n",
       "      <td>6.008000e+02</td>\n",
       "      <td>5.633000e+02</td>\n",
       "      <td>5.527000e+02</td>\n",
       "      <td>6.200000e+02</td>\n",
       "    </tr>\n",
       "    <tr>\n",
       "      <th>max</th>\n",
       "      <td>8.764000e+02</td>\n",
       "      <td>8.621000e+02</td>\n",
       "      <td>8.090000e+02</td>\n",
       "      <td>9.736000e+02</td>\n",
       "      <td>1.000000e+03</td>\n",
       "    </tr>\n",
       "  </tbody>\n",
       "</table>\n",
       "</div>"
      ],
      "text/plain": [
       "         NU_NOTA_CN    NU_NOTA_CH    NU_NOTA_LC    NU_NOTA_MT  NU_NOTA_REDACAO\n",
       "count  1.137218e+06  1.137218e+06  1.137218e+06  1.137218e+06     1.137218e+06\n",
       "mean   4.924933e+02  5.528157e+02  5.179764e+02  4.878535e+02     5.199815e+02\n",
       "std    7.522545e+01  7.166336e+01  6.689689e+01  1.108958e+02     1.531279e+02\n",
       "min    3.420000e+02  3.302000e+02  3.062000e+02  3.185000e+02     4.000000e+01\n",
       "25%    4.358000e+02  5.071000e+02  4.772000e+02  4.037000e+02     4.000000e+02\n",
       "50%    4.849000e+02  5.582000e+02  5.222000e+02  4.652000e+02     5.200000e+02\n",
       "75%    5.419000e+02  6.008000e+02  5.633000e+02  5.527000e+02     6.200000e+02\n",
       "max    8.764000e+02  8.621000e+02  8.090000e+02  9.736000e+02     1.000000e+03"
      ]
     },
     "execution_count": 16,
     "metadata": {},
     "output_type": "execute_result"
    }
   ],
   "source": [
    "ENEM[fields].describe()"
   ]
  },
  {
   "cell_type": "markdown",
   "metadata": {
    "ExecuteTime": {
     "end_time": "2020-04-23T20:30:27.741047Z",
     "start_time": "2020-04-23T20:30:27.291594Z"
    }
   },
   "source": [
    "### Transform features to default categories"
   ]
  },
  {
   "cell_type": "code",
   "execution_count": 17,
   "metadata": {
    "ExecuteTime": {
     "end_time": "2020-07-05T17:55:02.146016Z",
     "start_time": "2020-07-05T17:55:01.550153Z"
    }
   },
   "outputs": [
    {
     "data": {
      "text/plain": [
       "TP_SEXO            0\n",
       "TP_COR_RACA        0\n",
       "EDU_PAI            0\n",
       "EDU_MAE            0\n",
       "QT_PESSOAS_CASA    0\n",
       "RENDA_MENSAL       0\n",
       "dtype: int64"
      ]
     },
     "execution_count": 17,
     "metadata": {},
     "output_type": "execute_result"
    }
   ],
   "source": [
    "fields = ['TP_SEXO', 'TP_COR_RACA', 'EDU_PAI', 'EDU_MAE','QT_PESSOAS_CASA', 'RENDA_MENSAL']\n",
    "ENEM[fields].isnull().sum()\n",
    "\n"
   ]
  },
  {
   "cell_type": "code",
   "execution_count": 18,
   "metadata": {
    "ExecuteTime": {
     "end_time": "2020-07-05T17:55:03.317241Z",
     "start_time": "2020-07-05T17:55:02.156445Z"
    }
   },
   "outputs": [
    {
     "name": "stdout",
     "output_type": "stream",
     "text": [
      "TP_SEXO Index(['F', 'M'], dtype='object')\n",
      "TP_COR_RACA Int64Index([1, 3, 2, 4, 0, 5], dtype='int64')\n",
      "EDU_PAI Index(['E', 'B', 'C', 'G', 'I', 'D', 'F', 'H', 'A'], dtype='object')\n",
      "EDU_MAE Index(['E', 'C', 'B', 'G', 'D', 'H', 'F', 'I', 'A'], dtype='object')\n",
      "QT_PESSOAS_CASA Int64Index([4, 3, 5, 6, 2, 7, 8, 1, 9, 10, 11, 12, 13, 14, 15, 20, 16, 17, 18,\n",
      "            19],\n",
      "           dtype='int64')\n",
      "RENDA_MENSAL Index(['B', 'C', 'D', 'E', 'F', 'G', 'H', 'I', 'J', 'Q', 'A', 'K', 'O', 'L',\n",
      "       'N', 'M', 'P'],\n",
      "      dtype='object')\n"
     ]
    }
   ],
   "source": [
    "for i in fields:\n",
    "    print(i,ENEM[i].value_counts().index)"
   ]
  },
  {
   "cell_type": "code",
   "execution_count": 19,
   "metadata": {
    "ExecuteTime": {
     "end_time": "2020-07-05T17:55:03.959153Z",
     "start_time": "2020-07-05T17:55:03.322890Z"
    }
   },
   "outputs": [],
   "source": [
    "#Order relation, is better for numeric categories.\n",
    "categorical = ['TP_SEXO','EDU_PAI', 'EDU_MAE', 'RENDA_MENSAL']\n",
    "for i in categorical:\n",
    "    codes, uniques = pd.factorize(ENEM[i], sort=True)\n",
    "    ENEM[i] = codes"
   ]
  },
  {
   "cell_type": "code",
   "execution_count": 20,
   "metadata": {
    "ExecuteTime": {
     "end_time": "2020-07-05T17:55:04.007002Z",
     "start_time": "2020-07-05T17:55:03.964109Z"
    }
   },
   "outputs": [],
   "source": [
    "ENEM['EDU_PAI_TEMP'] = ENEM['EDU_PAI']\n",
    "ENEM['EDU_MAE_TEMP'] = ENEM['EDU_MAE']\n",
    "ENEM['QT_PESSOAS_CASA_TEMP'] = ENEM['QT_PESSOAS_CASA']\n",
    "ENEM['RENDA_MENSAL_TEMP'] = ENEM['RENDA_MENSAL']"
   ]
  },
  {
   "cell_type": "code",
   "execution_count": 21,
   "metadata": {
    "ExecuteTime": {
     "end_time": "2020-07-05T17:55:05.305414Z",
     "start_time": "2020-07-05T17:55:04.011901Z"
    }
   },
   "outputs": [],
   "source": [
    "# Paring with default categories\n",
    "\n",
    "ENEM.loc[ENEM['EDU_PAI']==0, 'EDU_PAI_TEMP']=0\n",
    "ENEM.loc[ENEM['EDU_PAI']==1, 'EDU_PAI_TEMP']=1\n",
    "ENEM.loc[ENEM['EDU_PAI']==2, 'EDU_PAI_TEMP']=2\n",
    "ENEM.loc[ENEM['EDU_PAI']==3, 'EDU_PAI_TEMP']=2\n",
    "ENEM.loc[ENEM['EDU_PAI']==4, 'EDU_PAI_TEMP']=3\n",
    "ENEM.loc[ENEM['EDU_PAI']==5, 'EDU_PAI_TEMP']=3\n",
    "ENEM.loc[ENEM['EDU_PAI']==6, 'EDU_PAI_TEMP']=4\n",
    "ENEM.loc[ENEM['EDU_PAI']==7, 'EDU_PAI_TEMP']=5\n",
    "ENEM.loc[ENEM['EDU_PAI']==8, 'EDU_PAI_TEMP']=0\n",
    "\n",
    "\n",
    "ENEM.loc[ENEM['EDU_MAE']==0, 'EDU_MAE_TEMP']=0\n",
    "ENEM.loc[ENEM['EDU_MAE']==1, 'EDU_MAE_TEMP']=1\n",
    "ENEM.loc[ENEM['EDU_MAE']==2, 'EDU_MAE_TEMP']=2\n",
    "ENEM.loc[ENEM['EDU_MAE']==3, 'EDU_MAE_TEMP']=2\n",
    "ENEM.loc[ENEM['EDU_MAE']==4, 'EDU_MAE_TEMP']=3\n",
    "ENEM.loc[ENEM['EDU_MAE']==5, 'EDU_MAE_TEMP']=3\n",
    "ENEM.loc[ENEM['EDU_MAE']==6, 'EDU_MAE_TEMP']=4\n",
    "ENEM.loc[ENEM['EDU_MAE']==7, 'EDU_MAE_TEMP']=5\n",
    "ENEM.loc[ENEM['EDU_MAE']==8, 'EDU_MAE_TEMP']=0\n",
    "\n",
    "\n",
    "ENEM.loc[ENEM['QT_PESSOAS_CASA']==1, 'QT_PESSOAS_CASA_TEMP']=0\n",
    "ENEM.loc[ENEM['QT_PESSOAS_CASA']==2, 'QT_PESSOAS_CASA_TEMP']=1\n",
    "ENEM.loc[ENEM['QT_PESSOAS_CASA']==3, 'QT_PESSOAS_CASA_TEMP']=1\n",
    "ENEM.loc[ENEM['QT_PESSOAS_CASA']==4, 'QT_PESSOAS_CASA_TEMP']=2\n",
    "ENEM.loc[ENEM['QT_PESSOAS_CASA']==5, 'QT_PESSOAS_CASA_TEMP']=2\n",
    "ENEM.loc[ENEM['QT_PESSOAS_CASA']==6, 'QT_PESSOAS_CASA_TEMP']=2\n",
    "ENEM.loc[ENEM['QT_PESSOAS_CASA']==7, 'QT_PESSOAS_CASA_TEMP']=2\n",
    "ENEM.loc[ENEM['QT_PESSOAS_CASA']>7, 'QT_PESSOAS_CASA_TEMP']=3\n",
    "\n",
    "ENEM.loc[ENEM['RENDA_MENSAL']==0, 'RENDA_MENSAL_TEMP']=0\n",
    "ENEM.loc[ENEM['RENDA_MENSAL']==1, 'RENDA_MENSAL_TEMP']=1\n",
    "ENEM.loc[ENEM['RENDA_MENSAL']==2, 'RENDA_MENSAL_TEMP']=2\n",
    "ENEM.loc[ENEM['RENDA_MENSAL']==3, 'RENDA_MENSAL_TEMP']=2\n",
    "ENEM.loc[(ENEM['RENDA_MENSAL']>3) & (ENEM['RENDA_MENSAL']<8), 'RENDA_MENSAL_TEMP']=3\n",
    "ENEM.loc[(ENEM['RENDA_MENSAL']>7) & (ENEM['RENDA_MENSAL']<13), 'RENDA_MENSAL_TEMP']=4\n",
    "ENEM.loc[ENEM['RENDA_MENSAL']>12, 'RENDA_MENSAL_TEMP']=5"
   ]
  },
  {
   "cell_type": "code",
   "execution_count": 22,
   "metadata": {
    "ExecuteTime": {
     "end_time": "2020-07-05T17:55:05.367366Z",
     "start_time": "2020-07-05T17:55:05.309219Z"
    }
   },
   "outputs": [],
   "source": [
    "#back to original columns\n",
    "ENEM['EDU_PAI'] = ENEM['EDU_PAI_TEMP']\n",
    "ENEM['EDU_MAE'] = ENEM['EDU_MAE_TEMP']\n",
    "ENEM['QT_PESSOAS_CASA'] = ENEM['QT_PESSOAS_CASA_TEMP']\n",
    "ENEM['RENDA_MENSAL'] = ENEM['RENDA_MENSAL_TEMP']\n"
   ]
  },
  {
   "cell_type": "code",
   "execution_count": 23,
   "metadata": {
    "ExecuteTime": {
     "end_time": "2020-07-05T17:55:05.450787Z",
     "start_time": "2020-07-05T17:55:05.381752Z"
    }
   },
   "outputs": [],
   "source": [
    "#drop temps\n",
    "\n",
    "ENEM.drop(['EDU_PAI_TEMP', 'EDU_MAE_TEMP', 'QT_PESSOAS_CASA_TEMP','RENDA_MENSAL_TEMP'], axis=1, inplace=True)"
   ]
  },
  {
   "cell_type": "code",
   "execution_count": 24,
   "metadata": {
    "ExecuteTime": {
     "end_time": "2020-07-05T17:55:17.753061Z",
     "start_time": "2020-07-05T17:55:05.457546Z"
    }
   },
   "outputs": [
    {
     "name": "stdout",
     "output_type": "stream",
     "text": [
      "Total Students at ENEM: 1137218 of 28022 schools\n",
      "Total Schools at Census: 272440\n",
      "########### Only about Schools at ENEM:\n",
      "Schools at ENEM out of School Census 161\n",
      "Schools at ENEM out of Teacher Census 647\n",
      "Schools at ENEM and School Census out of Teacher Census 0\n",
      "Students Wasted***** 30187\n"
     ]
    }
   ],
   "source": [
    "print('Total Students at ENEM:', ENEM.shape[0], 'of', ENEM.drop_duplicates('CO_ESCOLA').shape[0], 'schools')\n",
    "print('Total Schools at Census:', C_SCHOOL.shape[0])\n",
    "\n",
    "       \n",
    "            \n",
    "\n",
    "#######################################\n",
    "print('########### Only about Schools at ENEM:')\n",
    "\n",
    "schoolsEnem = ENEM['CO_ESCOLA'].dropna().unique()\n",
    "schoolsCenso = C_SCHOOL['CO_ESCOLA'].dropna().unique()\n",
    "schoolsTeacher = C_TEACHER['CO_ESCOLA'].dropna().unique()\n",
    "schoolsEnem2 = ENEM['CO_ESCOLA'].dropna()\n",
    "\n",
    "enem_censo = np.setdiff1d(schoolsEnem ,schoolsCenso)\n",
    "print('Schools at ENEM out of School Census', sum(np.isin(schoolsEnem, schoolsCenso, invert=True)))\n",
    "\n",
    "print('Schools at ENEM out of Teacher Census', sum(np.isin(schoolsEnem, schoolsTeacher, invert=True)))\n",
    "print('Schools at ENEM and School Census out of Teacher Census', sum(np.isin(enem_censo, schoolsTeacher)))\n",
    "\n",
    "print('Students Wasted*****', sum(np.isin(schoolsEnem2, schoolsCenso, invert=True)))"
   ]
  },
  {
   "cell_type": "code",
   "execution_count": 25,
   "metadata": {
    "ExecuteTime": {
     "end_time": "2020-07-05T17:55:18.673997Z",
     "start_time": "2020-07-05T17:55:17.758539Z"
    }
   },
   "outputs": [
    {
     "name": "stdout",
     "output_type": "stream",
     "text": [
      "number of teacher who work at an school listed at ENEM and do not have study level assigned: 1025508\n"
     ]
    }
   ],
   "source": [
    "print('number of teacher who work at an school listed at ENEM and do not have study level assigned:',\n",
    "      C_TEACHER['CO_ESCOLA'].isin(ENEM['CO_ESCOLA']).sum())\n",
    "\n",
    "#lets fill with lower level\n",
    "\n",
    "C_TEACHER['IN_ESPECIALIZACAO'].fillna(0, inplace = True)\n",
    "C_TEACHER['IN_MESTRADO'].fillna(0, inplace = True)\n",
    "C_TEACHER['IN_DOUTORADO'].fillna(0, inplace = True)"
   ]
  },
  {
   "cell_type": "markdown",
   "metadata": {},
   "source": [
    "### New Features"
   ]
  },
  {
   "cell_type": "markdown",
   "metadata": {},
   "source": [
    "ENEM"
   ]
  },
  {
   "cell_type": "code",
   "execution_count": 26,
   "metadata": {
    "ExecuteTime": {
     "end_time": "2020-07-05T17:55:18.734769Z",
     "start_time": "2020-07-05T17:55:18.678174Z"
    }
   },
   "outputs": [],
   "source": [
    "#Final Media, Target\n",
    "ENEM['NU_NOTA_GERAL'] = (ENEM.NU_NOTA_CN + ENEM.NU_NOTA_CH + ENEM.NU_NOTA_LC + ENEM.NU_NOTA_MT + ENEM.NU_NOTA_REDACAO)/5"
   ]
  },
  {
   "cell_type": "markdown",
   "metadata": {
    "ExecuteTime": {
     "end_time": "2020-04-05T22:45:54.337752Z",
     "start_time": "2020-04-05T22:45:54.067919Z"
    }
   },
   "source": [
    "SCHOOL CENSUS - Itś better include after merge all datasets years.\n"
   ]
  },
  {
   "cell_type": "markdown",
   "metadata": {},
   "source": [
    "TEACHER CENSUS"
   ]
  },
  {
   "cell_type": "code",
   "execution_count": 27,
   "metadata": {
    "ExecuteTime": {
     "end_time": "2020-07-05T17:55:18.791263Z",
     "start_time": "2020-07-05T17:55:18.739977Z"
    }
   },
   "outputs": [
    {
     "data": {
      "text/plain": [
       "CO_ESCOLA            0\n",
       "IN_ESPECIALIZACAO    0\n",
       "IN_MESTRADO          0\n",
       "IN_DOUTORADO         0\n",
       "dtype: int64"
      ]
     },
     "execution_count": 27,
     "metadata": {},
     "output_type": "execute_result"
    }
   ],
   "source": [
    "C_TEACHER.isnull().sum()"
   ]
  },
  {
   "cell_type": "code",
   "execution_count": 28,
   "metadata": {
    "ExecuteTime": {
     "end_time": "2020-07-05T17:55:19.345391Z",
     "start_time": "2020-07-05T17:55:18.798311Z"
    }
   },
   "outputs": [
    {
     "name": "stdout",
     "output_type": "stream",
     "text": [
      "number of teacher who work at an school listed at ENEM and do not have study level assigned: 1025508\n"
     ]
    }
   ],
   "source": [
    "print('number of teacher who work at an school listed at ENEM and do not have study level assigned:',\n",
    "      C_TEACHER['CO_ESCOLA'].isin(ENEM['CO_ESCOLA']).sum())\n",
    "\n",
    "#lets fill with lower level\n",
    "\n",
    "C_TEACHER['IN_ESPECIALIZACAO'].fillna(0, inplace = True)\n",
    "C_TEACHER['IN_MESTRADO'].fillna(0, inplace = True)\n",
    "C_TEACHER['IN_DOUTORADO'].fillna(0, inplace = True)"
   ]
  },
  {
   "cell_type": "code",
   "execution_count": 29,
   "metadata": {
    "ExecuteTime": {
     "end_time": "2020-07-05T17:55:22.447885Z",
     "start_time": "2020-07-05T17:55:19.351800Z"
    }
   },
   "outputs": [],
   "source": [
    "C_TEACHER['TITULACAO'] = 0\n",
    "\n",
    "C_TEACHER.loc[(C_TEACHER.IN_ESPECIALIZACAO==0.0) & (C_TEACHER.IN_MESTRADO==0.0)& \n",
    "             (C_TEACHER.IN_DOUTORADO ==0.0), 'TITULACAO'] = 0\n",
    "\n",
    "C_TEACHER.loc[(C_TEACHER.IN_ESPECIALIZACAO==1.0) & (C_TEACHER.IN_MESTRADO==0.0)& \n",
    "             (C_TEACHER.IN_DOUTORADO ==0.0), 'TITULACAO'] = 1\n",
    "\n",
    "C_TEACHER.loc[(C_TEACHER.IN_ESPECIALIZACAO==1.0) & (C_TEACHER.IN_MESTRADO==1.0)& \n",
    "             (C_TEACHER.IN_DOUTORADO ==0.0), 'TITULACAO'] = 2\n",
    "\n",
    "C_TEACHER.loc[(C_TEACHER.IN_ESPECIALIZACAO==0.0) & (C_TEACHER.IN_MESTRADO==1.0)& \n",
    "             (C_TEACHER.IN_DOUTORADO ==0.0), 'TITULACAO'] = 2\n",
    "\n",
    "C_TEACHER.loc[(C_TEACHER.IN_DOUTORADO ==1.0), 'TITULACAO'] = 3\n",
    "\n",
    "#Rebuild level education information as indicator of unique level.\n",
    "C_TEACHER['NU_GRADUACAO'] = 0\n",
    "C_TEACHER['NU_ESPECIALIZACAO'] = 0\n",
    "C_TEACHER['NU_MESTRADO'] = 0\n",
    "C_TEACHER['NU_DOUTORADO'] = 0\n",
    "\n",
    "C_TEACHER.loc[C_TEACHER.TITULACAO == 0, 'NU_GRADUACAO']= 1\n",
    "C_TEACHER.loc[C_TEACHER.TITULACAO == 1, 'NU_ESPECIALIZACAO']= 1\n",
    "C_TEACHER.loc[C_TEACHER.TITULACAO == 2, 'NU_MESTRADO']= 1\n",
    "C_TEACHER.loc[C_TEACHER.TITULACAO == 3, 'NU_DOUTORADO']= 1\n",
    "\n",
    "\n",
    "C_TEACHER['NU_GRADUACAO'] = C_TEACHER.groupby('CO_ESCOLA')['NU_GRADUACAO'].transform(sum)\n",
    "C_TEACHER['NU_ESPECIALIZACAO'] = C_TEACHER.groupby('CO_ESCOLA')['NU_ESPECIALIZACAO'].transform(sum)\n",
    "C_TEACHER['NU_MESTRADO'] = C_TEACHER.groupby('CO_ESCOLA')['NU_MESTRADO'].transform(sum)\n",
    "C_TEACHER['NU_DOUTORADO'] = C_TEACHER.groupby('CO_ESCOLA')['NU_DOUTORADO'].transform(sum)\n",
    "\n",
    "\n",
    "\n",
    "#Calculating weighted indice of teacher education\n",
    "SUM= C_TEACHER.groupby('CO_ESCOLA')['TITULACAO'].transform(sum)\n",
    "COUNT =  C_TEACHER.groupby('CO_ESCOLA')['TITULACAO'].transform('count')\n",
    "C_TEACHER['TITULACAO'] = (SUM)/(COUNT*3)  \n",
    "\n",
    "##arranjar isso dai\n",
    "\n",
    "\n",
    "\n",
    "#transformin to school grain\n",
    "C_TEACHER.drop_duplicates('CO_ESCOLA', inplace = True)"
   ]
  },
  {
   "cell_type": "markdown",
   "metadata": {},
   "source": [
    "## STUDENT GRAIN \n"
   ]
  },
  {
   "cell_type": "code",
   "execution_count": 30,
   "metadata": {
    "ExecuteTime": {
     "end_time": "2020-07-05T17:56:27.210471Z",
     "start_time": "2020-07-05T17:55:22.451518Z"
    }
   },
   "outputs": [
    {
     "name": "stdout",
     "output_type": "stream",
     "text": [
      "C_SCHOOL (272440, 26)\n",
      "C_TEACHER (190553, 9)\n",
      "C_SCHOOL + C_TEACHER (190553, 34)\n",
      "ENEM (1137218, 16)\n",
      "FINAL (1104576, 49)\n"
     ]
    }
   ],
   "source": [
    "# teacher to Schoool Grain\n",
    "print('C_SCHOOL',C_SCHOOL.shape)\n",
    "print('C_TEACHER',C_TEACHER.shape)\n",
    "CENSO19 = pd.merge(C_SCHOOL, C_TEACHER, on = 'CO_ESCOLA', how = 'inner')\n",
    "print('C_SCHOOL + C_TEACHER',CENSO19.shape)\n",
    "\n",
    "#Now, all to Student Grain\n",
    "print('ENEM',ENEM.shape)\n",
    "ENEM_CENSO_19 = pd.merge(ENEM, CENSO19, on = 'CO_ESCOLA', how = 'inner')\n",
    "print('FINAL',ENEM_CENSO_19.shape)\n",
    "\n",
    "ENEM_CENSO_19.to_csv('STUDENT.csv')"
   ]
  },
  {
   "cell_type": "code",
   "execution_count": 31,
   "metadata": {
    "ExecuteTime": {
     "end_time": "2020-07-05T17:56:27.357392Z",
     "start_time": "2020-07-05T17:56:27.222031Z"
    }
   },
   "outputs": [
    {
     "data": {
      "text/html": [
       "<div>\n",
       "<style scoped>\n",
       "    .dataframe tbody tr th:only-of-type {\n",
       "        vertical-align: middle;\n",
       "    }\n",
       "\n",
       "    .dataframe tbody tr th {\n",
       "        vertical-align: top;\n",
       "    }\n",
       "\n",
       "    .dataframe thead th {\n",
       "        text-align: right;\n",
       "    }\n",
       "</style>\n",
       "<table border=\"1\" class=\"dataframe\">\n",
       "  <thead>\n",
       "    <tr style=\"text-align: right;\">\n",
       "      <th></th>\n",
       "      <th>CO_ANO</th>\n",
       "      <th>CO_ESCOLA</th>\n",
       "      <th>NU_IDADE</th>\n",
       "      <th>TP_SEXO</th>\n",
       "      <th>TP_COR_RACA</th>\n",
       "      <th>TP_ST_CONCLUSAO</th>\n",
       "      <th>NU_NOTA_CN</th>\n",
       "      <th>NU_NOTA_CH</th>\n",
       "      <th>NU_NOTA_LC</th>\n",
       "      <th>NU_NOTA_MT</th>\n",
       "      <th>NU_NOTA_REDACAO</th>\n",
       "      <th>EDU_PAI</th>\n",
       "      <th>EDU_MAE</th>\n",
       "      <th>QT_PESSOAS_CASA</th>\n",
       "      <th>RENDA_MENSAL</th>\n",
       "      <th>NU_NOTA_GERAL</th>\n",
       "      <th>CO_MUNICIPIO</th>\n",
       "      <th>CO_UF</th>\n",
       "      <th>CO_DEPENDENCIA_ADM</th>\n",
       "      <th>IN_AGUA_INEXISTENTE</th>\n",
       "      <th>IN_ESGOTO_INEXISTENTE</th>\n",
       "      <th>IN_ENERGIA_INEXISTENTE</th>\n",
       "      <th>IN_LABORATORIO_INFORMATICA</th>\n",
       "      <th>IN_LABORATORIO_CIENCIAS</th>\n",
       "      <th>IN_SALA_ATENDIMENTO_ESPECIAL</th>\n",
       "      <th>IN_BIBLIOTECA</th>\n",
       "      <th>IN_SALA_LEITURA</th>\n",
       "      <th>IN_BANHEIRO_FORA_PREDIO</th>\n",
       "      <th>IN_BANHEIRO_PNE</th>\n",
       "      <th>IN_DEPENDENCIAS_PNE</th>\n",
       "      <th>QT_SALAS_UTILIZADAS</th>\n",
       "      <th>QT_EQUIP_TV</th>\n",
       "      <th>QT_EQUIP_DVD</th>\n",
       "      <th>QT_EQUIP_COPIADORA</th>\n",
       "      <th>QT_EQUIP_IMPRESSORA</th>\n",
       "      <th>QT_COM_ADMINISTRATIVO</th>\n",
       "      <th>QT_COMP_ALUNO</th>\n",
       "      <th>IN_INTERNET</th>\n",
       "      <th>IN_BANDA_LARGA</th>\n",
       "      <th>QT_FUNCIONARIOS</th>\n",
       "      <th>IN_ALIMENTACAO</th>\n",
       "      <th>IN_ESPECIALIZACAO</th>\n",
       "      <th>IN_MESTRADO</th>\n",
       "      <th>IN_DOUTORADO</th>\n",
       "      <th>TITULACAO</th>\n",
       "      <th>NU_GRADUACAO</th>\n",
       "      <th>NU_ESPECIALIZACAO</th>\n",
       "      <th>NU_MESTRADO</th>\n",
       "      <th>NU_DOUTORADO</th>\n",
       "    </tr>\n",
       "  </thead>\n",
       "  <tbody>\n",
       "    <tr>\n",
       "      <th>0</th>\n",
       "      <td>2014</td>\n",
       "      <td>26165112.0</td>\n",
       "      <td>17</td>\n",
       "      <td>1</td>\n",
       "      <td>2</td>\n",
       "      <td>2</td>\n",
       "      <td>504.9</td>\n",
       "      <td>587.3</td>\n",
       "      <td>513.0</td>\n",
       "      <td>442.1</td>\n",
       "      <td>460</td>\n",
       "      <td>2</td>\n",
       "      <td>2</td>\n",
       "      <td>1</td>\n",
       "      <td>2</td>\n",
       "      <td>501.46</td>\n",
       "      <td>2603454</td>\n",
       "      <td>26</td>\n",
       "      <td>2</td>\n",
       "      <td>0.0</td>\n",
       "      <td>0.0</td>\n",
       "      <td>0.0</td>\n",
       "      <td>1</td>\n",
       "      <td>0</td>\n",
       "      <td>0</td>\n",
       "      <td>1</td>\n",
       "      <td>0</td>\n",
       "      <td>0</td>\n",
       "      <td>0</td>\n",
       "      <td>0</td>\n",
       "      <td>12.0</td>\n",
       "      <td>0</td>\n",
       "      <td>0</td>\n",
       "      <td>0</td>\n",
       "      <td>0</td>\n",
       "      <td>1.0</td>\n",
       "      <td>10.0</td>\n",
       "      <td>1.0</td>\n",
       "      <td>1.0</td>\n",
       "      <td>50.0</td>\n",
       "      <td>1.0</td>\n",
       "      <td>1</td>\n",
       "      <td>0</td>\n",
       "      <td>0</td>\n",
       "      <td>0.052632</td>\n",
       "      <td>32</td>\n",
       "      <td>6</td>\n",
       "      <td>0</td>\n",
       "      <td>0</td>\n",
       "    </tr>\n",
       "    <tr>\n",
       "      <th>1</th>\n",
       "      <td>2014</td>\n",
       "      <td>26165112.0</td>\n",
       "      <td>18</td>\n",
       "      <td>0</td>\n",
       "      <td>3</td>\n",
       "      <td>2</td>\n",
       "      <td>413.6</td>\n",
       "      <td>457.4</td>\n",
       "      <td>464.5</td>\n",
       "      <td>338.5</td>\n",
       "      <td>380</td>\n",
       "      <td>3</td>\n",
       "      <td>4</td>\n",
       "      <td>1</td>\n",
       "      <td>2</td>\n",
       "      <td>410.80</td>\n",
       "      <td>2603454</td>\n",
       "      <td>26</td>\n",
       "      <td>2</td>\n",
       "      <td>0.0</td>\n",
       "      <td>0.0</td>\n",
       "      <td>0.0</td>\n",
       "      <td>1</td>\n",
       "      <td>0</td>\n",
       "      <td>0</td>\n",
       "      <td>1</td>\n",
       "      <td>0</td>\n",
       "      <td>0</td>\n",
       "      <td>0</td>\n",
       "      <td>0</td>\n",
       "      <td>12.0</td>\n",
       "      <td>0</td>\n",
       "      <td>0</td>\n",
       "      <td>0</td>\n",
       "      <td>0</td>\n",
       "      <td>1.0</td>\n",
       "      <td>10.0</td>\n",
       "      <td>1.0</td>\n",
       "      <td>1.0</td>\n",
       "      <td>50.0</td>\n",
       "      <td>1.0</td>\n",
       "      <td>1</td>\n",
       "      <td>0</td>\n",
       "      <td>0</td>\n",
       "      <td>0.052632</td>\n",
       "      <td>32</td>\n",
       "      <td>6</td>\n",
       "      <td>0</td>\n",
       "      <td>0</td>\n",
       "    </tr>\n",
       "    <tr>\n",
       "      <th>2</th>\n",
       "      <td>2014</td>\n",
       "      <td>26165112.0</td>\n",
       "      <td>18</td>\n",
       "      <td>0</td>\n",
       "      <td>2</td>\n",
       "      <td>2</td>\n",
       "      <td>374.3</td>\n",
       "      <td>373.9</td>\n",
       "      <td>366.9</td>\n",
       "      <td>510.0</td>\n",
       "      <td>260</td>\n",
       "      <td>1</td>\n",
       "      <td>2</td>\n",
       "      <td>2</td>\n",
       "      <td>1</td>\n",
       "      <td>377.02</td>\n",
       "      <td>2603454</td>\n",
       "      <td>26</td>\n",
       "      <td>2</td>\n",
       "      <td>0.0</td>\n",
       "      <td>0.0</td>\n",
       "      <td>0.0</td>\n",
       "      <td>1</td>\n",
       "      <td>0</td>\n",
       "      <td>0</td>\n",
       "      <td>1</td>\n",
       "      <td>0</td>\n",
       "      <td>0</td>\n",
       "      <td>0</td>\n",
       "      <td>0</td>\n",
       "      <td>12.0</td>\n",
       "      <td>0</td>\n",
       "      <td>0</td>\n",
       "      <td>0</td>\n",
       "      <td>0</td>\n",
       "      <td>1.0</td>\n",
       "      <td>10.0</td>\n",
       "      <td>1.0</td>\n",
       "      <td>1.0</td>\n",
       "      <td>50.0</td>\n",
       "      <td>1.0</td>\n",
       "      <td>1</td>\n",
       "      <td>0</td>\n",
       "      <td>0</td>\n",
       "      <td>0.052632</td>\n",
       "      <td>32</td>\n",
       "      <td>6</td>\n",
       "      <td>0</td>\n",
       "      <td>0</td>\n",
       "    </tr>\n",
       "    <tr>\n",
       "      <th>3</th>\n",
       "      <td>2014</td>\n",
       "      <td>26165112.0</td>\n",
       "      <td>18</td>\n",
       "      <td>0</td>\n",
       "      <td>1</td>\n",
       "      <td>2</td>\n",
       "      <td>496.1</td>\n",
       "      <td>575.9</td>\n",
       "      <td>522.0</td>\n",
       "      <td>456.9</td>\n",
       "      <td>800</td>\n",
       "      <td>2</td>\n",
       "      <td>3</td>\n",
       "      <td>2</td>\n",
       "      <td>2</td>\n",
       "      <td>570.18</td>\n",
       "      <td>2603454</td>\n",
       "      <td>26</td>\n",
       "      <td>2</td>\n",
       "      <td>0.0</td>\n",
       "      <td>0.0</td>\n",
       "      <td>0.0</td>\n",
       "      <td>1</td>\n",
       "      <td>0</td>\n",
       "      <td>0</td>\n",
       "      <td>1</td>\n",
       "      <td>0</td>\n",
       "      <td>0</td>\n",
       "      <td>0</td>\n",
       "      <td>0</td>\n",
       "      <td>12.0</td>\n",
       "      <td>0</td>\n",
       "      <td>0</td>\n",
       "      <td>0</td>\n",
       "      <td>0</td>\n",
       "      <td>1.0</td>\n",
       "      <td>10.0</td>\n",
       "      <td>1.0</td>\n",
       "      <td>1.0</td>\n",
       "      <td>50.0</td>\n",
       "      <td>1.0</td>\n",
       "      <td>1</td>\n",
       "      <td>0</td>\n",
       "      <td>0</td>\n",
       "      <td>0.052632</td>\n",
       "      <td>32</td>\n",
       "      <td>6</td>\n",
       "      <td>0</td>\n",
       "      <td>0</td>\n",
       "    </tr>\n",
       "    <tr>\n",
       "      <th>4</th>\n",
       "      <td>2014</td>\n",
       "      <td>26165112.0</td>\n",
       "      <td>17</td>\n",
       "      <td>0</td>\n",
       "      <td>3</td>\n",
       "      <td>2</td>\n",
       "      <td>408.6</td>\n",
       "      <td>516.5</td>\n",
       "      <td>491.0</td>\n",
       "      <td>354.6</td>\n",
       "      <td>460</td>\n",
       "      <td>1</td>\n",
       "      <td>3</td>\n",
       "      <td>1</td>\n",
       "      <td>1</td>\n",
       "      <td>446.14</td>\n",
       "      <td>2603454</td>\n",
       "      <td>26</td>\n",
       "      <td>2</td>\n",
       "      <td>0.0</td>\n",
       "      <td>0.0</td>\n",
       "      <td>0.0</td>\n",
       "      <td>1</td>\n",
       "      <td>0</td>\n",
       "      <td>0</td>\n",
       "      <td>1</td>\n",
       "      <td>0</td>\n",
       "      <td>0</td>\n",
       "      <td>0</td>\n",
       "      <td>0</td>\n",
       "      <td>12.0</td>\n",
       "      <td>0</td>\n",
       "      <td>0</td>\n",
       "      <td>0</td>\n",
       "      <td>0</td>\n",
       "      <td>1.0</td>\n",
       "      <td>10.0</td>\n",
       "      <td>1.0</td>\n",
       "      <td>1.0</td>\n",
       "      <td>50.0</td>\n",
       "      <td>1.0</td>\n",
       "      <td>1</td>\n",
       "      <td>0</td>\n",
       "      <td>0</td>\n",
       "      <td>0.052632</td>\n",
       "      <td>32</td>\n",
       "      <td>6</td>\n",
       "      <td>0</td>\n",
       "      <td>0</td>\n",
       "    </tr>\n",
       "  </tbody>\n",
       "</table>\n",
       "</div>"
      ],
      "text/plain": [
       "   CO_ANO   CO_ESCOLA  NU_IDADE  TP_SEXO  TP_COR_RACA  TP_ST_CONCLUSAO  \\\n",
       "0    2014  26165112.0        17        1            2                2   \n",
       "1    2014  26165112.0        18        0            3                2   \n",
       "2    2014  26165112.0        18        0            2                2   \n",
       "3    2014  26165112.0        18        0            1                2   \n",
       "4    2014  26165112.0        17        0            3                2   \n",
       "\n",
       "   NU_NOTA_CN  NU_NOTA_CH  NU_NOTA_LC  NU_NOTA_MT  NU_NOTA_REDACAO  EDU_PAI  \\\n",
       "0       504.9       587.3       513.0       442.1              460        2   \n",
       "1       413.6       457.4       464.5       338.5              380        3   \n",
       "2       374.3       373.9       366.9       510.0              260        1   \n",
       "3       496.1       575.9       522.0       456.9              800        2   \n",
       "4       408.6       516.5       491.0       354.6              460        1   \n",
       "\n",
       "   EDU_MAE  QT_PESSOAS_CASA  RENDA_MENSAL  NU_NOTA_GERAL  CO_MUNICIPIO  CO_UF  \\\n",
       "0        2                1             2         501.46       2603454     26   \n",
       "1        4                1             2         410.80       2603454     26   \n",
       "2        2                2             1         377.02       2603454     26   \n",
       "3        3                2             2         570.18       2603454     26   \n",
       "4        3                1             1         446.14       2603454     26   \n",
       "\n",
       "   CO_DEPENDENCIA_ADM  IN_AGUA_INEXISTENTE  IN_ESGOTO_INEXISTENTE  \\\n",
       "0                   2                  0.0                    0.0   \n",
       "1                   2                  0.0                    0.0   \n",
       "2                   2                  0.0                    0.0   \n",
       "3                   2                  0.0                    0.0   \n",
       "4                   2                  0.0                    0.0   \n",
       "\n",
       "   IN_ENERGIA_INEXISTENTE  IN_LABORATORIO_INFORMATICA  \\\n",
       "0                     0.0                           1   \n",
       "1                     0.0                           1   \n",
       "2                     0.0                           1   \n",
       "3                     0.0                           1   \n",
       "4                     0.0                           1   \n",
       "\n",
       "   IN_LABORATORIO_CIENCIAS  IN_SALA_ATENDIMENTO_ESPECIAL  IN_BIBLIOTECA  \\\n",
       "0                        0                             0              1   \n",
       "1                        0                             0              1   \n",
       "2                        0                             0              1   \n",
       "3                        0                             0              1   \n",
       "4                        0                             0              1   \n",
       "\n",
       "   IN_SALA_LEITURA  IN_BANHEIRO_FORA_PREDIO  IN_BANHEIRO_PNE  \\\n",
       "0                0                        0                0   \n",
       "1                0                        0                0   \n",
       "2                0                        0                0   \n",
       "3                0                        0                0   \n",
       "4                0                        0                0   \n",
       "\n",
       "   IN_DEPENDENCIAS_PNE  QT_SALAS_UTILIZADAS  QT_EQUIP_TV  QT_EQUIP_DVD  \\\n",
       "0                    0                 12.0            0             0   \n",
       "1                    0                 12.0            0             0   \n",
       "2                    0                 12.0            0             0   \n",
       "3                    0                 12.0            0             0   \n",
       "4                    0                 12.0            0             0   \n",
       "\n",
       "   QT_EQUIP_COPIADORA  QT_EQUIP_IMPRESSORA  QT_COM_ADMINISTRATIVO  \\\n",
       "0                   0                    0                    1.0   \n",
       "1                   0                    0                    1.0   \n",
       "2                   0                    0                    1.0   \n",
       "3                   0                    0                    1.0   \n",
       "4                   0                    0                    1.0   \n",
       "\n",
       "   QT_COMP_ALUNO  IN_INTERNET  IN_BANDA_LARGA  QT_FUNCIONARIOS  \\\n",
       "0           10.0          1.0             1.0             50.0   \n",
       "1           10.0          1.0             1.0             50.0   \n",
       "2           10.0          1.0             1.0             50.0   \n",
       "3           10.0          1.0             1.0             50.0   \n",
       "4           10.0          1.0             1.0             50.0   \n",
       "\n",
       "   IN_ALIMENTACAO  IN_ESPECIALIZACAO  IN_MESTRADO  IN_DOUTORADO  TITULACAO  \\\n",
       "0             1.0                  1            0             0   0.052632   \n",
       "1             1.0                  1            0             0   0.052632   \n",
       "2             1.0                  1            0             0   0.052632   \n",
       "3             1.0                  1            0             0   0.052632   \n",
       "4             1.0                  1            0             0   0.052632   \n",
       "\n",
       "   NU_GRADUACAO  NU_ESPECIALIZACAO  NU_MESTRADO  NU_DOUTORADO  \n",
       "0            32                  6            0             0  \n",
       "1            32                  6            0             0  \n",
       "2            32                  6            0             0  \n",
       "3            32                  6            0             0  \n",
       "4            32                  6            0             0  "
      ]
     },
     "execution_count": 31,
     "metadata": {},
     "output_type": "execute_result"
    }
   ],
   "source": [
    "ENEM_CENSO_19.head()"
   ]
  },
  {
   "cell_type": "markdown",
   "metadata": {},
   "source": [
    "## SCHOOL GRAIN"
   ]
  },
  {
   "cell_type": "code",
   "execution_count": 32,
   "metadata": {
    "ExecuteTime": {
     "end_time": "2020-07-05T17:56:31.930477Z",
     "start_time": "2020-07-05T17:56:27.364437Z"
    }
   },
   "outputs": [],
   "source": [
    "fields = ['TP_SEXO', 'TP_COR_RACA', 'EDU_PAI', 'EDU_MAE','QT_PESSOAS_CASA', 'RENDA_MENSAL', 'NU_IDADE', 'NU_NOTA_CN',\n",
    "             'NU_NOTA_CH','NU_NOTA_LC','NU_NOTA_MT','NU_NOTA_REDACAO','NU_NOTA_GERAL' ]\n",
    "\n",
    "for i in fields:   \n",
    "    \n",
    "            ENEM[i] = ENEM.groupby('CO_ESCOLA')[i].transform('mean')"
   ]
  },
  {
   "cell_type": "code",
   "execution_count": 33,
   "metadata": {
    "ExecuteTime": {
     "end_time": "2020-07-05T17:56:32.125486Z",
     "start_time": "2020-07-05T17:56:31.936013Z"
    }
   },
   "outputs": [],
   "source": [
    "# SCHOOL GRAIN AND SHOW THE NEW NOTA DISTRIBUTION\n",
    "ENEM.drop_duplicates('CO_ESCOLA', inplace=True)\n",
    "#print((ENEM.TARGET==0).sum()/(ENEM.TARGET.count())*100, '% lowers quartis')"
   ]
  },
  {
   "cell_type": "code",
   "execution_count": 34,
   "metadata": {
    "ExecuteTime": {
     "end_time": "2020-07-05T17:56:32.166722Z",
     "start_time": "2020-07-05T17:56:32.130320Z"
    }
   },
   "outputs": [
    {
     "name": "stdout",
     "output_type": "stream",
     "text": [
      "74.99821568767398 % lowers quartis\n"
     ]
    }
   ],
   "source": [
    "#recalculating target for new  Nota Geral distribution \n",
    "ENEM['TARGET'] = pd.qcut (ENEM.NU_NOTA_GERAL, 4, labels = [1,2,3,4]).map(lambda x : 0 if x!=4 else 1) \n",
    "print((ENEM.TARGET==0).sum()/(ENEM.TARGET.count())*100, '% lowers quartis')"
   ]
  },
  {
   "cell_type": "code",
   "execution_count": 35,
   "metadata": {
    "ExecuteTime": {
     "end_time": "2020-07-05T17:56:35.806434Z",
     "start_time": "2020-07-05T17:56:32.171622Z"
    }
   },
   "outputs": [
    {
     "name": "stdout",
     "output_type": "stream",
     "text": [
      "censo before (190553, 34)\n",
      "enem_school before (28022, 17)\n",
      "(27375, 50)\n"
     ]
    }
   ],
   "source": [
    "print('censo before',CENSO19.shape)\n",
    "print('enem_school before', ENEM.shape)\n",
    "CENSO_ENEM_19 = pd.merge(CENSO19, ENEM, on='CO_ESCOLA', how='inner')\n",
    "print(CENSO_ENEM_19.shape)\n",
    "\n",
    "CENSO_ENEM_19.to_csv('SCHOOL.csv', index=False)"
   ]
  },
  {
   "cell_type": "code",
   "execution_count": 36,
   "metadata": {
    "ExecuteTime": {
     "end_time": "2020-07-05T17:56:35.845337Z",
     "start_time": "2020-07-05T17:56:35.811590Z"
    }
   },
   "outputs": [
    {
     "data": {
      "text/plain": [
       "CO_ESCOLA                          0\n",
       "CO_MUNICIPIO                       0\n",
       "CO_UF                              0\n",
       "CO_DEPENDENCIA_ADM                 0\n",
       "IN_AGUA_INEXISTENTE                0\n",
       "IN_ESGOTO_INEXISTENTE              0\n",
       "IN_ENERGIA_INEXISTENTE             0\n",
       "IN_LABORATORIO_INFORMATICA         0\n",
       "IN_LABORATORIO_CIENCIAS            0\n",
       "IN_SALA_ATENDIMENTO_ESPECIAL       0\n",
       "IN_BIBLIOTECA                      0\n",
       "IN_SALA_LEITURA                    0\n",
       "IN_BANHEIRO_FORA_PREDIO            0\n",
       "IN_BANHEIRO_PNE                    0\n",
       "IN_DEPENDENCIAS_PNE                0\n",
       "QT_SALAS_UTILIZADAS                0\n",
       "QT_EQUIP_TV                        0\n",
       "QT_EQUIP_DVD                       0\n",
       "QT_EQUIP_COPIADORA                 0\n",
       "QT_EQUIP_IMPRESSORA                0\n",
       "QT_COM_ADMINISTRATIVO            483\n",
       "QT_COMP_ALUNO                   1895\n",
       "IN_INTERNET                      218\n",
       "IN_BANDA_LARGA                  1250\n",
       "QT_FUNCIONARIOS                    0\n",
       "IN_ALIMENTACAO                     0\n",
       "IN_ESPECIALIZACAO                  0\n",
       "IN_MESTRADO                        0\n",
       "IN_DOUTORADO                       0\n",
       "TITULACAO                          0\n",
       "NU_GRADUACAO                       0\n",
       "NU_ESPECIALIZACAO                  0\n",
       "NU_MESTRADO                        0\n",
       "NU_DOUTORADO                       0\n",
       "CO_ANO                             0\n",
       "NU_IDADE                           0\n",
       "TP_SEXO                            0\n",
       "TP_COR_RACA                        0\n",
       "TP_ST_CONCLUSAO                    0\n",
       "NU_NOTA_CN                         0\n",
       "NU_NOTA_CH                         0\n",
       "NU_NOTA_LC                         0\n",
       "NU_NOTA_MT                         0\n",
       "NU_NOTA_REDACAO                    0\n",
       "EDU_PAI                            0\n",
       "EDU_MAE                            0\n",
       "QT_PESSOAS_CASA                    0\n",
       "RENDA_MENSAL                       0\n",
       "NU_NOTA_GERAL                      0\n",
       "TARGET                             0\n",
       "dtype: int64"
      ]
     },
     "execution_count": 36,
     "metadata": {},
     "output_type": "execute_result"
    }
   ],
   "source": [
    "CENSO_ENEM_19.isnull().sum()"
   ]
  },
  {
   "cell_type": "code",
   "execution_count": null,
   "metadata": {},
   "outputs": [],
   "source": []
  }
 ],
 "metadata": {
  "kernelspec": {
   "display_name": "Python 3",
   "language": "python",
   "name": "python3"
  },
  "language_info": {
   "codemirror_mode": {
    "name": "ipython",
    "version": 3
   },
   "file_extension": ".py",
   "mimetype": "text/x-python",
   "name": "python",
   "nbconvert_exporter": "python",
   "pygments_lexer": "ipython3",
   "version": "3.7.6"
  }
 },
 "nbformat": 4,
 "nbformat_minor": 4
}
